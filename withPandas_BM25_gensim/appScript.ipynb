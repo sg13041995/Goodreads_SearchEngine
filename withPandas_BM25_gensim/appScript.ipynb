{
 "cells": [
  {
   "cell_type": "markdown",
   "metadata": {},
   "source": [
    "## Search Engine Development => BM25 gensim"
   ]
  },
  {
   "cell_type": "markdown",
   "metadata": {},
   "source": [
    "### Importing Modules"
   ]
  },
  {
   "cell_type": "code",
   "execution_count": 1,
   "metadata": {},
   "outputs": [],
   "source": [
    "import pandas as pd\n",
    "import numpy as np\n",
    "import re\n",
    "\n",
    "from nltk.tokenize import word_tokenize\n",
    "\n",
    "from gensim.corpora import Dictionary\n",
    "from gensim.models import TfidfModel, OkapiBM25Model\n",
    "from gensim.similarities import SparseMatrixSimilarity\n",
    "\n",
    "import pickle"
   ]
  },
  {
   "cell_type": "markdown",
   "metadata": {},
   "source": [
    "### Import Data"
   ]
  },
  {
   "cell_type": "code",
   "execution_count": 2,
   "metadata": {},
   "outputs": [],
   "source": [
    "items = pd.read_parquet('../../../Datasets/Processed/books_SE_v3.parquet')"
   ]
  },
  {
   "cell_type": "code",
   "execution_count": 3,
   "metadata": {},
   "outputs": [
    {
     "data": {
      "text/plain": [
       "(2113033, 6)"
      ]
     },
     "execution_count": 3,
     "metadata": {},
     "output_type": "execute_result"
    }
   ],
   "source": [
    "items.shape"
   ]
  },
  {
   "cell_type": "code",
   "execution_count": 4,
   "metadata": {},
   "outputs": [
    {
     "data": {
      "text/html": [
       "<div>\n",
       "<style scoped>\n",
       "    .dataframe tbody tr th:only-of-type {\n",
       "        vertical-align: middle;\n",
       "    }\n",
       "\n",
       "    .dataframe tbody tr th {\n",
       "        vertical-align: top;\n",
       "    }\n",
       "\n",
       "    .dataframe thead th {\n",
       "        text-align: right;\n",
       "    }\n",
       "</style>\n",
       "<table border=\"1\" class=\"dataframe\">\n",
       "  <thead>\n",
       "    <tr style=\"text-align: right;\">\n",
       "      <th></th>\n",
       "      <th>book_id</th>\n",
       "      <th>title_without_series</th>\n",
       "      <th>title</th>\n",
       "      <th>language_code</th>\n",
       "      <th>mod_title</th>\n",
       "      <th>mod_title_without_series</th>\n",
       "    </tr>\n",
       "  </thead>\n",
       "  <tbody>\n",
       "    <tr>\n",
       "      <th>0</th>\n",
       "      <td>5333265</td>\n",
       "      <td>W.C. Fields: A Life on Film</td>\n",
       "      <td>W.C. Fields: A Life on Film</td>\n",
       "      <td></td>\n",
       "      <td>wc fields a life on film</td>\n",
       "      <td>wc fields a life on film</td>\n",
       "    </tr>\n",
       "    <tr>\n",
       "      <th>1</th>\n",
       "      <td>1333909</td>\n",
       "      <td>Good Harbor</td>\n",
       "      <td>Good Harbor</td>\n",
       "      <td></td>\n",
       "      <td>good harbor</td>\n",
       "      <td>good harbor</td>\n",
       "    </tr>\n",
       "    <tr>\n",
       "      <th>2</th>\n",
       "      <td>7327624</td>\n",
       "      <td>The Unschooled Wizard (Sun Wolf and Starhawk, ...</td>\n",
       "      <td>The Unschooled Wizard (Sun Wolf and Starhawk, ...</td>\n",
       "      <td>eng</td>\n",
       "      <td>the unschooled wizard sun wolf and starhawk 12</td>\n",
       "      <td>the unschooled wizard sun wolf and starhawk 12</td>\n",
       "    </tr>\n",
       "    <tr>\n",
       "      <th>3</th>\n",
       "      <td>6066819</td>\n",
       "      <td>Best Friends Forever</td>\n",
       "      <td>Best Friends Forever</td>\n",
       "      <td>eng</td>\n",
       "      <td>best friends forever</td>\n",
       "      <td>best friends forever</td>\n",
       "    </tr>\n",
       "    <tr>\n",
       "      <th>4</th>\n",
       "      <td>287140</td>\n",
       "      <td>Runic Astrology: Starcraft and Timekeeping in ...</td>\n",
       "      <td>Runic Astrology: Starcraft and Timekeeping in ...</td>\n",
       "      <td></td>\n",
       "      <td>runic astrology starcraft and timekeeping in t...</td>\n",
       "      <td>runic astrology starcraft and timekeeping in t...</td>\n",
       "    </tr>\n",
       "  </tbody>\n",
       "</table>\n",
       "</div>"
      ],
      "text/plain": [
       "   book_id                               title_without_series  \\\n",
       "0  5333265                        W.C. Fields: A Life on Film   \n",
       "1  1333909                                        Good Harbor   \n",
       "2  7327624  The Unschooled Wizard (Sun Wolf and Starhawk, ...   \n",
       "3  6066819                               Best Friends Forever   \n",
       "4   287140  Runic Astrology: Starcraft and Timekeeping in ...   \n",
       "\n",
       "                                               title language_code  \\\n",
       "0                        W.C. Fields: A Life on Film                 \n",
       "1                                        Good Harbor                 \n",
       "2  The Unschooled Wizard (Sun Wolf and Starhawk, ...           eng   \n",
       "3                               Best Friends Forever           eng   \n",
       "4  Runic Astrology: Starcraft and Timekeeping in ...                 \n",
       "\n",
       "                                           mod_title  \\\n",
       "0                           wc fields a life on film   \n",
       "1                                        good harbor   \n",
       "2     the unschooled wizard sun wolf and starhawk 12   \n",
       "3                               best friends forever   \n",
       "4  runic astrology starcraft and timekeeping in t...   \n",
       "\n",
       "                            mod_title_without_series  \n",
       "0                           wc fields a life on film  \n",
       "1                                        good harbor  \n",
       "2     the unschooled wizard sun wolf and starhawk 12  \n",
       "3                               best friends forever  \n",
       "4  runic astrology starcraft and timekeeping in t...  "
      ]
     },
     "execution_count": 4,
     "metadata": {},
     "output_type": "execute_result"
    }
   ],
   "source": [
    "items.head()"
   ]
  },
  {
   "cell_type": "code",
   "execution_count": null,
   "metadata": {},
   "outputs": [],
   "source": [
    "# stop code here\n",
    "\n",
    "10/0"
   ]
  },
  {
   "cell_type": "markdown",
   "metadata": {},
   "source": [
    "### Tokenize The `mod_title` Data to Feed that into BM25"
   ]
  },
  {
   "cell_type": "markdown",
   "metadata": {},
   "source": [
    "**We already have the tokenized documents**"
   ]
  },
  {
   "cell_type": "code",
   "execution_count": 5,
   "metadata": {},
   "outputs": [],
   "source": [
    "with open('./Resources/tokenized_documents.pkl', 'rb') as file:\n",
    "    tokenized_documents = pickle.load(file)"
   ]
  },
  {
   "cell_type": "code",
   "execution_count": 6,
   "metadata": {},
   "outputs": [
    {
     "data": {
      "text/plain": [
       "[['wc', 'fields', 'a', 'life', 'on', 'film'],\n",
       " ['good', 'harbor'],\n",
       " ['the', 'unschooled', 'wizard', 'sun', 'wolf', 'and', 'starhawk', '12'],\n",
       " ['best', 'friends', 'forever'],\n",
       " ['runic',\n",
       "  'astrology',\n",
       "  'starcraft',\n",
       "  'and',\n",
       "  'timekeeping',\n",
       "  'in',\n",
       "  'the',\n",
       "  'northern',\n",
       "  'tradition']]"
      ]
     },
     "execution_count": 6,
     "metadata": {},
     "output_type": "execute_result"
    }
   ],
   "source": [
    "tokenized_documents[:5]"
   ]
  },
  {
   "cell_type": "markdown",
   "metadata": {},
   "source": [
    "### `dictionary = Dictionary` -> `bm25_model = OkapiBM25Model` -> `bm25_corpus = bm25_model` -> `bm25_index = SparseMatrixSimilarity`"
   ]
  },
  {
   "cell_type": "code",
   "execution_count": 7,
   "metadata": {},
   "outputs": [],
   "source": [
    "dictionary = Dictionary(tokenized_documents)"
   ]
  },
  {
   "cell_type": "code",
   "execution_count": 16,
   "metadata": {},
   "outputs": [
    {
     "data": {
      "text/plain": [
       "313890"
      ]
     },
     "execution_count": 16,
     "metadata": {},
     "output_type": "execute_result"
    }
   ],
   "source": [
    "len(dictionary)"
   ]
  },
  {
   "cell_type": "code",
   "execution_count": 8,
   "metadata": {},
   "outputs": [],
   "source": [
    "bm25_model = OkapiBM25Model(dictionary=dictionary)"
   ]
  },
  {
   "cell_type": "code",
   "execution_count": 10,
   "metadata": {},
   "outputs": [],
   "source": [
    "bm25_corpus = bm25_model[list(map(dictionary.doc2bow, tokenized_documents))]"
   ]
  },
  {
   "cell_type": "code",
   "execution_count": 17,
   "metadata": {},
   "outputs": [
    {
     "data": {
      "text/plain": [
       "2113033"
      ]
     },
     "execution_count": 17,
     "metadata": {},
     "output_type": "execute_result"
    }
   ],
   "source": [
    "len(bm25_corpus)"
   ]
  },
  {
   "cell_type": "code",
   "execution_count": 11,
   "metadata": {},
   "outputs": [],
   "source": [
    "bm25_index = SparseMatrixSimilarity(bm25_corpus, num_docs=len(tokenized_documents), num_terms=len(dictionary),\n",
    "                                   normalize_queries=False, normalize_documents=False)"
   ]
  },
  {
   "cell_type": "code",
   "execution_count": 15,
   "metadata": {},
   "outputs": [
    {
     "data": {
      "text/plain": [
       "2113033"
      ]
     },
     "execution_count": 15,
     "metadata": {},
     "output_type": "execute_result"
    }
   ],
   "source": [
    "len(bm25_index)"
   ]
  },
  {
   "cell_type": "markdown",
   "metadata": {},
   "source": [
    "### Testing with Query"
   ]
  },
  {
   "cell_type": "code",
   "execution_count": 30,
   "metadata": {},
   "outputs": [],
   "source": [
    "query_str = \"goblet fire\""
   ]
  },
  {
   "cell_type": "markdown",
   "metadata": {},
   "source": [
    "**Function to get the top_n matching indices**"
   ]
  },
  {
   "cell_type": "code",
   "execution_count": 29,
   "metadata": {},
   "outputs": [],
   "source": [
    "def bm25_top_hits(query, dictionary, n=50):\n",
    "    processed = re.sub(\"\\s+\", \" \", re.sub(\"[^a-zA-Z0-9 ]\", \"\", query.lower()))\n",
    "    tokenized_query = word_tokenize(processed)\n",
    "    \n",
    "    tfidf_model = TfidfModel(dictionary=dictionary, smartirs='bnn') # Enforce binary weighting of queries\n",
    "    tfidf_query = tfidf_model[dictionary.doc2bow(tokenized_query)]\n",
    "    similarities = bm25_index[tfidf_query]\n",
    "\n",
    "    # getting document indices based on BM25 top scores in descending order\n",
    "    top_n = np.argsort(similarities, axis=0)[::-1]\n",
    "\n",
    "    return top_n[:n]\n"
   ]
  },
  {
   "cell_type": "markdown",
   "metadata": {},
   "source": [
    "**Top matches**"
   ]
  },
  {
   "cell_type": "code",
   "execution_count": 32,
   "metadata": {},
   "outputs": [
    {
     "data": {
      "text/plain": [
       "array([1670906, 1594931,  499730, 1137525, 1395430,  994462, 2087727,\n",
       "       1621211,   30632, 1096035,   75469, 1351653,  802741, 1898515,\n",
       "        398865, 1184607, 1660454, 1665462, 2057184,  638491,  662040,\n",
       "         31694, 1834823, 2065707,  624086, 2015401,  179139, 1617513,\n",
       "       1825842,  416477], dtype=int64)"
      ]
     },
     "execution_count": 32,
     "metadata": {},
     "output_type": "execute_result"
    }
   ],
   "source": [
    "indices = bm25_top_hits(query=query_str, dictionary=dictionary, n=30)\n",
    "indices"
   ]
  },
  {
   "cell_type": "code",
   "execution_count": 33,
   "metadata": {},
   "outputs": [
    {
     "data": {
      "text/html": [
       "<div>\n",
       "<style scoped>\n",
       "    .dataframe tbody tr th:only-of-type {\n",
       "        vertical-align: middle;\n",
       "    }\n",
       "\n",
       "    .dataframe tbody tr th {\n",
       "        vertical-align: top;\n",
       "    }\n",
       "\n",
       "    .dataframe thead th {\n",
       "        text-align: right;\n",
       "    }\n",
       "</style>\n",
       "<table border=\"1\" class=\"dataframe\">\n",
       "  <thead>\n",
       "    <tr style=\"text-align: right;\">\n",
       "      <th></th>\n",
       "      <th>book_id</th>\n",
       "      <th>title_without_series</th>\n",
       "      <th>title</th>\n",
       "      <th>language_code</th>\n",
       "      <th>mod_title</th>\n",
       "      <th>mod_title_without_series</th>\n",
       "    </tr>\n",
       "  </thead>\n",
       "  <tbody>\n",
       "    <tr>\n",
       "      <th>1866086</th>\n",
       "      <td>17125270</td>\n",
       "      <td>The Goblet</td>\n",
       "      <td>The Goblet</td>\n",
       "      <td></td>\n",
       "      <td>the goblet</td>\n",
       "      <td>the goblet</td>\n",
       "    </tr>\n",
       "    <tr>\n",
       "      <th>1781268</th>\n",
       "      <td>17861465</td>\n",
       "      <td>Harry Potter and the Goblet of Fire</td>\n",
       "      <td>Harry Potter and the Goblet of Fire</td>\n",
       "      <td>eng</td>\n",
       "      <td>harry potter and the goblet of fire</td>\n",
       "      <td>harry potter and the goblet of fire</td>\n",
       "    </tr>\n",
       "    <tr>\n",
       "      <th>557862</th>\n",
       "      <td>28754622</td>\n",
       "      <td>Harry Potter and the Goblet of Fire</td>\n",
       "      <td>Harry Potter and the Goblet of Fire</td>\n",
       "      <td>eng</td>\n",
       "      <td>harry potter and the goblet of fire</td>\n",
       "      <td>harry potter and the goblet of fire</td>\n",
       "    </tr>\n",
       "    <tr>\n",
       "      <th>1270755</th>\n",
       "      <td>29411410</td>\n",
       "      <td>Harry Potter and the Goblet of Fire</td>\n",
       "      <td>Harry Potter and the Goblet of Fire</td>\n",
       "      <td>eng</td>\n",
       "      <td>harry potter and the goblet of fire</td>\n",
       "      <td>harry potter and the goblet of fire</td>\n",
       "    </tr>\n",
       "    <tr>\n",
       "      <th>1558509</th>\n",
       "      <td>23784313</td>\n",
       "      <td>Harry Potter and the Goblet of Fire</td>\n",
       "      <td>Harry Potter and the Goblet of Fire</td>\n",
       "      <td>eng</td>\n",
       "      <td>harry potter and the goblet of fire</td>\n",
       "      <td>harry potter and the goblet of fire</td>\n",
       "    </tr>\n",
       "    <tr>\n",
       "      <th>1110909</th>\n",
       "      <td>13612286</td>\n",
       "      <td>Harry Potter and the Goblet of Fire</td>\n",
       "      <td>Harry Potter and the Goblet of Fire</td>\n",
       "      <td>eng</td>\n",
       "      <td>harry potter and the goblet of fire</td>\n",
       "      <td>harry potter and the goblet of fire</td>\n",
       "    </tr>\n",
       "    <tr>\n",
       "      <th>2332334</th>\n",
       "      <td>31844151</td>\n",
       "      <td>Harry Potter and the Goblet of Fire</td>\n",
       "      <td>Harry Potter and the Goblet of Fire</td>\n",
       "      <td>eng</td>\n",
       "      <td>harry potter and the goblet of fire</td>\n",
       "      <td>harry potter and the goblet of fire</td>\n",
       "    </tr>\n",
       "    <tr>\n",
       "      <th>1810678</th>\n",
       "      <td>7292005</td>\n",
       "      <td>Harry Potter and the Goblet of Fire</td>\n",
       "      <td>Harry Potter and the Goblet of Fire</td>\n",
       "      <td></td>\n",
       "      <td>harry potter and the goblet of fire</td>\n",
       "      <td>harry potter and the goblet of fire</td>\n",
       "    </tr>\n",
       "    <tr>\n",
       "      <th>34126</th>\n",
       "      <td>20330423</td>\n",
       "      <td>Harry Potter and the Goblet of Fire</td>\n",
       "      <td>Harry Potter and the Goblet of Fire</td>\n",
       "      <td>eng</td>\n",
       "      <td>harry potter and the goblet of fire</td>\n",
       "      <td>harry potter and the goblet of fire</td>\n",
       "    </tr>\n",
       "    <tr>\n",
       "      <th>1224392</th>\n",
       "      <td>29538441</td>\n",
       "      <td>Harry Potter and the Goblet of Fire</td>\n",
       "      <td>Harry Potter and the Goblet of Fire</td>\n",
       "      <td>eng</td>\n",
       "      <td>harry potter and the goblet of fire</td>\n",
       "      <td>harry potter and the goblet of fire</td>\n",
       "    </tr>\n",
       "    <tr>\n",
       "      <th>84016</th>\n",
       "      <td>21385207</td>\n",
       "      <td>Harry Potter and the Goblet of Fire</td>\n",
       "      <td>Harry Potter and the Goblet of Fire</td>\n",
       "      <td>eng</td>\n",
       "      <td>harry potter and the goblet of fire</td>\n",
       "      <td>harry potter and the goblet of fire</td>\n",
       "    </tr>\n",
       "    <tr>\n",
       "      <th>1509695</th>\n",
       "      <td>1071182</td>\n",
       "      <td>Harry Potter and the Goblet of Fire</td>\n",
       "      <td>Harry Potter and the Goblet of Fire</td>\n",
       "      <td>eng</td>\n",
       "      <td>harry potter and the goblet of fire</td>\n",
       "      <td>harry potter and the goblet of fire</td>\n",
       "    </tr>\n",
       "    <tr>\n",
       "      <th>896740</th>\n",
       "      <td>17987098</td>\n",
       "      <td>Harry Potter and the Goblet of Fire</td>\n",
       "      <td>Harry Potter and the Goblet of Fire</td>\n",
       "      <td>eng</td>\n",
       "      <td>harry potter and the goblet of fire</td>\n",
       "      <td>harry potter and the goblet of fire</td>\n",
       "    </tr>\n",
       "    <tr>\n",
       "      <th>2120714</th>\n",
       "      <td>714807</td>\n",
       "      <td>The Golden Goblet</td>\n",
       "      <td>The Golden Goblet</td>\n",
       "      <td>eng</td>\n",
       "      <td>the golden goblet</td>\n",
       "      <td>the golden goblet</td>\n",
       "    </tr>\n",
       "    <tr>\n",
       "      <th>445120</th>\n",
       "      <td>6033848</td>\n",
       "      <td>The Golden Goblet</td>\n",
       "      <td>The Golden Goblet</td>\n",
       "      <td></td>\n",
       "      <td>the golden goblet</td>\n",
       "      <td>the golden goblet</td>\n",
       "    </tr>\n",
       "    <tr>\n",
       "      <th>1323307</th>\n",
       "      <td>9351802</td>\n",
       "      <td>The Golden Goblet</td>\n",
       "      <td>The Golden Goblet</td>\n",
       "      <td>eng</td>\n",
       "      <td>the golden goblet</td>\n",
       "      <td>the golden goblet</td>\n",
       "    </tr>\n",
       "    <tr>\n",
       "      <th>1854434</th>\n",
       "      <td>3406842</td>\n",
       "      <td>The Golden Goblet</td>\n",
       "      <td>The Golden Goblet</td>\n",
       "      <td></td>\n",
       "      <td>the golden goblet</td>\n",
       "      <td>the golden goblet</td>\n",
       "    </tr>\n",
       "    <tr>\n",
       "      <th>1859980</th>\n",
       "      <td>305216</td>\n",
       "      <td>The Golden Goblet</td>\n",
       "      <td>The Golden Goblet</td>\n",
       "      <td></td>\n",
       "      <td>the golden goblet</td>\n",
       "      <td>the golden goblet</td>\n",
       "    </tr>\n",
       "    <tr>\n",
       "      <th>2298151</th>\n",
       "      <td>6929046</td>\n",
       "      <td>The Goblet Club</td>\n",
       "      <td>The Goblet Club</td>\n",
       "      <td></td>\n",
       "      <td>the goblet club</td>\n",
       "      <td>the goblet club</td>\n",
       "    </tr>\n",
       "    <tr>\n",
       "      <th>712883</th>\n",
       "      <td>26104336</td>\n",
       "      <td>Harry Potter &amp; the Goblet of Fire (Harry Potte...</td>\n",
       "      <td>Harry Potter &amp; the Goblet of Fire (Harry Potte...</td>\n",
       "      <td>eng</td>\n",
       "      <td>harry potter the goblet of fire harry potter 4</td>\n",
       "      <td>harry potter the goblet of fire harry potter 4</td>\n",
       "    </tr>\n",
       "    <tr>\n",
       "      <th>739165</th>\n",
       "      <td>15739954</td>\n",
       "      <td>Mark Reads Harry Potter and the Goblet of Fire</td>\n",
       "      <td>Mark Reads Harry Potter and the Goblet of Fire</td>\n",
       "      <td>eng</td>\n",
       "      <td>mark reads harry potter and the goblet of fire</td>\n",
       "      <td>mark reads harry potter and the goblet of fire</td>\n",
       "    </tr>\n",
       "    <tr>\n",
       "      <th>35312</th>\n",
       "      <td>49835</td>\n",
       "      <td>Harry Potter and the Goblet of Fire (Harry Pot...</td>\n",
       "      <td>Harry Potter and the Goblet of Fire (Harry Pot...</td>\n",
       "      <td>eng</td>\n",
       "      <td>harry potter and the goblet of fire harry pott...</td>\n",
       "      <td>harry potter and the goblet of fire harry pott...</td>\n",
       "    </tr>\n",
       "    <tr>\n",
       "      <th>2049385</th>\n",
       "      <td>2160454</td>\n",
       "      <td>Harry Potter and the Goblet of Fire (Harry Pot...</td>\n",
       "      <td>Harry Potter and the Goblet of Fire (Harry Pot...</td>\n",
       "      <td></td>\n",
       "      <td>harry potter and the goblet of fire harry pott...</td>\n",
       "      <td>harry potter and the goblet of fire harry pott...</td>\n",
       "    </tr>\n",
       "    <tr>\n",
       "      <th>2307715</th>\n",
       "      <td>13607581</td>\n",
       "      <td>Harry Potter and the Goblet of Fire (Harry Pot...</td>\n",
       "      <td>Harry Potter and the Goblet of Fire (Harry Pot...</td>\n",
       "      <td>eng</td>\n",
       "      <td>harry potter and the goblet of fire harry pott...</td>\n",
       "      <td>harry potter and the goblet of fire harry pott...</td>\n",
       "    </tr>\n",
       "    <tr>\n",
       "      <th>696777</th>\n",
       "      <td>17347382</td>\n",
       "      <td>Harry Potter and the Goblet of Fire (Harry Pot...</td>\n",
       "      <td>Harry Potter and the Goblet of Fire (Harry Pot...</td>\n",
       "      <td>eng</td>\n",
       "      <td>harry potter and the goblet of fire harry pott...</td>\n",
       "      <td>harry potter and the goblet of fire harry pott...</td>\n",
       "    </tr>\n",
       "    <tr>\n",
       "      <th>2251360</th>\n",
       "      <td>6</td>\n",
       "      <td>Harry Potter and the Goblet of Fire (Harry Pot...</td>\n",
       "      <td>Harry Potter and the Goblet of Fire (Harry Pot...</td>\n",
       "      <td>eng</td>\n",
       "      <td>harry potter and the goblet of fire harry pott...</td>\n",
       "      <td>harry potter and the goblet of fire harry pott...</td>\n",
       "    </tr>\n",
       "    <tr>\n",
       "      <th>199718</th>\n",
       "      <td>7979788</td>\n",
       "      <td>Harry Potter and the Goblet of Fire (Harry Pot...</td>\n",
       "      <td>Harry Potter and the Goblet of Fire (Harry Pot...</td>\n",
       "      <td>eng</td>\n",
       "      <td>harry potter and the goblet of fire harry pott...</td>\n",
       "      <td>harry potter and the goblet of fire harry pott...</td>\n",
       "    </tr>\n",
       "    <tr>\n",
       "      <th>1806559</th>\n",
       "      <td>29917298</td>\n",
       "      <td>Harry Potter and the Goblet of Fire (Harry Pot...</td>\n",
       "      <td>Harry Potter and the Goblet of Fire (Harry Pot...</td>\n",
       "      <td>eng</td>\n",
       "      <td>harry potter and the goblet of fire harry pott...</td>\n",
       "      <td>harry potter and the goblet of fire harry pott...</td>\n",
       "    </tr>\n",
       "    <tr>\n",
       "      <th>2039295</th>\n",
       "      <td>20334472</td>\n",
       "      <td>Harry Potter and the Goblet of Fire (Harry Pot...</td>\n",
       "      <td>Harry Potter and the Goblet of Fire (Harry Pot...</td>\n",
       "      <td>eng</td>\n",
       "      <td>harry potter and the goblet of fire harry pott...</td>\n",
       "      <td>harry potter and the goblet of fire harry pott...</td>\n",
       "    </tr>\n",
       "    <tr>\n",
       "      <th>464751</th>\n",
       "      <td>793306</td>\n",
       "      <td>Harry Potter and the Goblet of Fire (Harry Pot...</td>\n",
       "      <td>Harry Potter and the Goblet of Fire (Harry Pot...</td>\n",
       "      <td></td>\n",
       "      <td>harry potter and the goblet of fire harry pott...</td>\n",
       "      <td>harry potter and the goblet of fire harry pott...</td>\n",
       "    </tr>\n",
       "  </tbody>\n",
       "</table>\n",
       "</div>"
      ],
      "text/plain": [
       "          book_id                               title_without_series  \\\n",
       "1866086  17125270                                         The Goblet   \n",
       "1781268  17861465                Harry Potter and the Goblet of Fire   \n",
       "557862   28754622                Harry Potter and the Goblet of Fire   \n",
       "1270755  29411410                Harry Potter and the Goblet of Fire   \n",
       "1558509  23784313                Harry Potter and the Goblet of Fire   \n",
       "1110909  13612286                Harry Potter and the Goblet of Fire   \n",
       "2332334  31844151                Harry Potter and the Goblet of Fire   \n",
       "1810678   7292005                Harry Potter and the Goblet of Fire   \n",
       "34126    20330423                Harry Potter and the Goblet of Fire   \n",
       "1224392  29538441                Harry Potter and the Goblet of Fire   \n",
       "84016    21385207                Harry Potter and the Goblet of Fire   \n",
       "1509695   1071182                Harry Potter and the Goblet of Fire   \n",
       "896740   17987098                Harry Potter and the Goblet of Fire   \n",
       "2120714    714807                                  The Golden Goblet   \n",
       "445120    6033848                                  The Golden Goblet   \n",
       "1323307   9351802                                  The Golden Goblet   \n",
       "1854434   3406842                                  The Golden Goblet   \n",
       "1859980    305216                                  The Golden Goblet   \n",
       "2298151   6929046                                    The Goblet Club   \n",
       "712883   26104336  Harry Potter & the Goblet of Fire (Harry Potte...   \n",
       "739165   15739954     Mark Reads Harry Potter and the Goblet of Fire   \n",
       "35312       49835  Harry Potter and the Goblet of Fire (Harry Pot...   \n",
       "2049385   2160454  Harry Potter and the Goblet of Fire (Harry Pot...   \n",
       "2307715  13607581  Harry Potter and the Goblet of Fire (Harry Pot...   \n",
       "696777   17347382  Harry Potter and the Goblet of Fire (Harry Pot...   \n",
       "2251360         6  Harry Potter and the Goblet of Fire (Harry Pot...   \n",
       "199718    7979788  Harry Potter and the Goblet of Fire (Harry Pot...   \n",
       "1806559  29917298  Harry Potter and the Goblet of Fire (Harry Pot...   \n",
       "2039295  20334472  Harry Potter and the Goblet of Fire (Harry Pot...   \n",
       "464751     793306  Harry Potter and the Goblet of Fire (Harry Pot...   \n",
       "\n",
       "                                                     title language_code  \\\n",
       "1866086                                         The Goblet                 \n",
       "1781268                Harry Potter and the Goblet of Fire           eng   \n",
       "557862                 Harry Potter and the Goblet of Fire           eng   \n",
       "1270755                Harry Potter and the Goblet of Fire           eng   \n",
       "1558509                Harry Potter and the Goblet of Fire           eng   \n",
       "1110909                Harry Potter and the Goblet of Fire           eng   \n",
       "2332334                Harry Potter and the Goblet of Fire           eng   \n",
       "1810678                Harry Potter and the Goblet of Fire                 \n",
       "34126                  Harry Potter and the Goblet of Fire           eng   \n",
       "1224392                Harry Potter and the Goblet of Fire           eng   \n",
       "84016                  Harry Potter and the Goblet of Fire           eng   \n",
       "1509695                Harry Potter and the Goblet of Fire           eng   \n",
       "896740                 Harry Potter and the Goblet of Fire           eng   \n",
       "2120714                                  The Golden Goblet           eng   \n",
       "445120                                   The Golden Goblet                 \n",
       "1323307                                  The Golden Goblet           eng   \n",
       "1854434                                  The Golden Goblet                 \n",
       "1859980                                  The Golden Goblet                 \n",
       "2298151                                    The Goblet Club                 \n",
       "712883   Harry Potter & the Goblet of Fire (Harry Potte...           eng   \n",
       "739165      Mark Reads Harry Potter and the Goblet of Fire           eng   \n",
       "35312    Harry Potter and the Goblet of Fire (Harry Pot...           eng   \n",
       "2049385  Harry Potter and the Goblet of Fire (Harry Pot...                 \n",
       "2307715  Harry Potter and the Goblet of Fire (Harry Pot...           eng   \n",
       "696777   Harry Potter and the Goblet of Fire (Harry Pot...           eng   \n",
       "2251360  Harry Potter and the Goblet of Fire (Harry Pot...           eng   \n",
       "199718   Harry Potter and the Goblet of Fire (Harry Pot...           eng   \n",
       "1806559  Harry Potter and the Goblet of Fire (Harry Pot...           eng   \n",
       "2039295  Harry Potter and the Goblet of Fire (Harry Pot...           eng   \n",
       "464751   Harry Potter and the Goblet of Fire (Harry Pot...                 \n",
       "\n",
       "                                                 mod_title  \\\n",
       "1866086                                         the goblet   \n",
       "1781268                harry potter and the goblet of fire   \n",
       "557862                 harry potter and the goblet of fire   \n",
       "1270755                harry potter and the goblet of fire   \n",
       "1558509                harry potter and the goblet of fire   \n",
       "1110909                harry potter and the goblet of fire   \n",
       "2332334                harry potter and the goblet of fire   \n",
       "1810678                harry potter and the goblet of fire   \n",
       "34126                  harry potter and the goblet of fire   \n",
       "1224392                harry potter and the goblet of fire   \n",
       "84016                  harry potter and the goblet of fire   \n",
       "1509695                harry potter and the goblet of fire   \n",
       "896740                 harry potter and the goblet of fire   \n",
       "2120714                                  the golden goblet   \n",
       "445120                                   the golden goblet   \n",
       "1323307                                  the golden goblet   \n",
       "1854434                                  the golden goblet   \n",
       "1859980                                  the golden goblet   \n",
       "2298151                                    the goblet club   \n",
       "712883      harry potter the goblet of fire harry potter 4   \n",
       "739165      mark reads harry potter and the goblet of fire   \n",
       "35312    harry potter and the goblet of fire harry pott...   \n",
       "2049385  harry potter and the goblet of fire harry pott...   \n",
       "2307715  harry potter and the goblet of fire harry pott...   \n",
       "696777   harry potter and the goblet of fire harry pott...   \n",
       "2251360  harry potter and the goblet of fire harry pott...   \n",
       "199718   harry potter and the goblet of fire harry pott...   \n",
       "1806559  harry potter and the goblet of fire harry pott...   \n",
       "2039295  harry potter and the goblet of fire harry pott...   \n",
       "464751   harry potter and the goblet of fire harry pott...   \n",
       "\n",
       "                                  mod_title_without_series  \n",
       "1866086                                         the goblet  \n",
       "1781268                harry potter and the goblet of fire  \n",
       "557862                 harry potter and the goblet of fire  \n",
       "1270755                harry potter and the goblet of fire  \n",
       "1558509                harry potter and the goblet of fire  \n",
       "1110909                harry potter and the goblet of fire  \n",
       "2332334                harry potter and the goblet of fire  \n",
       "1810678                harry potter and the goblet of fire  \n",
       "34126                  harry potter and the goblet of fire  \n",
       "1224392                harry potter and the goblet of fire  \n",
       "84016                  harry potter and the goblet of fire  \n",
       "1509695                harry potter and the goblet of fire  \n",
       "896740                 harry potter and the goblet of fire  \n",
       "2120714                                  the golden goblet  \n",
       "445120                                   the golden goblet  \n",
       "1323307                                  the golden goblet  \n",
       "1854434                                  the golden goblet  \n",
       "1859980                                  the golden goblet  \n",
       "2298151                                    the goblet club  \n",
       "712883      harry potter the goblet of fire harry potter 4  \n",
       "739165      mark reads harry potter and the goblet of fire  \n",
       "35312    harry potter and the goblet of fire harry pott...  \n",
       "2049385  harry potter and the goblet of fire harry pott...  \n",
       "2307715  harry potter and the goblet of fire harry pott...  \n",
       "696777   harry potter and the goblet of fire harry pott...  \n",
       "2251360  harry potter and the goblet of fire harry pott...  \n",
       "199718   harry potter and the goblet of fire harry pott...  \n",
       "1806559  harry potter and the goblet of fire harry pott...  \n",
       "2039295  harry potter and the goblet of fire harry pott...  \n",
       "464751   harry potter and the goblet of fire harry pott...  "
      ]
     },
     "execution_count": 33,
     "metadata": {},
     "output_type": "execute_result"
    }
   ],
   "source": [
    "results = items.iloc[indices]\n",
    "results"
   ]
  },
  {
   "cell_type": "markdown",
   "metadata": {},
   "source": [
    "**BM25 gensim vs BM25 okapi**"
   ]
  },
  {
   "cell_type": "code",
   "execution_count": 34,
   "metadata": {},
   "outputs": [
    {
     "data": {
      "text/plain": [
       "set()"
      ]
     },
     "execution_count": 34,
     "metadata": {},
     "output_type": "execute_result"
    }
   ],
   "source": [
    "set(\n",
    "    indices\n",
    "    ) - set(\n",
    "        [1670906, 1594931,  499730, 1137525, 1395430,  994462, 2087727,\n",
    "       1621211,   30632, 1096035,   75469, 1351653,  802741, 1898515,\n",
    "        398865, 1184607, 1660454, 1665462, 2057184,  638491,  662040,\n",
    "         31694, 1834823, 2065707,  624086, 2015401,  179139, 1617513,\n",
    "       1825842,  416477]\n",
    "    )"
   ]
  },
  {
   "cell_type": "markdown",
   "metadata": {},
   "source": [
    "- We can observe that there is no difference"
   ]
  }
 ],
 "metadata": {
  "kernelspec": {
   "display_name": "Python 3",
   "language": "python",
   "name": "python3"
  },
  "language_info": {
   "codemirror_mode": {
    "name": "ipython",
    "version": 3
   },
   "file_extension": ".py",
   "mimetype": "text/x-python",
   "name": "python",
   "nbconvert_exporter": "python",
   "pygments_lexer": "ipython3",
   "version": "3.10.11"
  }
 },
 "nbformat": 4,
 "nbformat_minor": 2
}
