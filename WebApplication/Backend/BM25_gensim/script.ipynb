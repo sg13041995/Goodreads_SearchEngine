{
 "cells": [
  {
   "cell_type": "markdown",
   "metadata": {},
   "source": [
    "**Modules**"
   ]
  },
  {
   "cell_type": "code",
   "execution_count": 1,
   "metadata": {},
   "outputs": [],
   "source": [
    "from API.semod import *"
   ]
  },
  {
   "cell_type": "markdown",
   "metadata": {},
   "source": [
    "**Connecting with the Database**"
   ]
  },
  {
   "cell_type": "code",
   "execution_count": 2,
   "metadata": {},
   "outputs": [
    {
     "name": "stdout",
     "output_type": "stream",
     "text": [
      "Connecting to MySQL database...\n",
      "Connection established\n"
     ]
    }
   ],
   "source": [
    "cn,cs=connect(creds=read(filename=\"./API/config.ini\",section=\"mysql\"))"
   ]
  },
  {
   "cell_type": "markdown",
   "metadata": {},
   "source": [
    "**Importing trained models and other data**"
   ]
  },
  {
   "cell_type": "code",
   "execution_count": 3,
   "metadata": {},
   "outputs": [],
   "source": [
    "dictionary = joblib.load(\"./ModelMemory/title_without_series_dictionary.joblib\")\n",
    "bm25_index = joblib.load(\"./ModelMemory/title_without_series_matrix.joblib\")\n",
    "tfidf_model = joblib.load(\"./ModelMemory/title_without_series_tfidf_bnn.joblib\")"
   ]
  },
  {
   "cell_type": "markdown",
   "metadata": {},
   "source": [
    "**Getting best match indices against a query**"
   ]
  },
  {
   "cell_type": "code",
   "execution_count": 4,
   "metadata": {},
   "outputs": [
    {
     "name": "stdout",
     "output_type": "stream",
     "text": [
      "[1611629  470709 2006110  516837  238369 1224195 1182769   83300 2090855\n",
      "  763013 1247447  287338 2046015 1977742   92745 1793312 1079057 1156805\n",
      " 1516846 1657768 1457866 1057279 1455550  378847  477643  666165 1535594\n",
      " 1535595  443224  789136]\n"
     ]
    }
   ],
   "source": [
    "query_str = \"libris\"\n",
    "\n",
    "indices = bm25_top_hits(query=query_str,\n",
    "                        tfidf_model=tfidf_model,\n",
    "                        bm25_index=bm25_index,\n",
    "                        dictionary=dictionary, \n",
    "                        n=30)\n",
    "print(indices)"
   ]
  },
  {
   "cell_type": "markdown",
   "metadata": {},
   "source": [
    "**Getting the records from the database using the indices**"
   ]
  },
  {
   "cell_type": "code",
   "execution_count": 5,
   "metadata": {},
   "outputs": [
    {
     "name": "stdout",
     "output_type": "stream",
     "text": [
      "[[(1611629, 7298864, 'Ex Libris', 'ex libris', 'Ex Libris', 'ex libris', '', 6, 4.15, 0, 0, 0, 0, '0788731130', '9780788731136', '', 'US', '', 'https://www.goodreads.com/book/show/7298864-ex-libris', 'https://images.gr-assets.com/books/1363649117m/7298864.jpg', 'https://www.goodreads.com/book/show/7298864-ex-libris'), (470709, 16112111, 'Ex libris', 'ex libris', 'Ex libris', 'ex libris', 'Lara es apodada como La nuevao Bicho raroen todos los institutos en los que se matricula. La principal razon de su marginacion es que Lara solo parece interesada por la literatura y no es nada habil en las relaciones sociales. Cuando ha conseguido tener alguna amiga, tampoco ha sabido conducir bien esa amistad.\\nLara vive en Paris, ciudad a la que sus padres han emigrado dos anos antes. Cuando tuvo que mudarse penso que ese cambio de lugar supondria para ella una oportunidad para recomenzar una vida que no le gustaba. Sin embargo, en su nuevo instituto continuan las risas, los murmullos y la actitud distante de sus companeros.\\nAgobiada por un suceso desagradable con los gamberros de su clase, se va a un parque cerca del cual descubre una extrana libreria, la libreria Blanchard. El cartel de la libreria es un libro abierto con las letras Ex Librisy dos interrogantes en el. Aunque la libreria parece muy antigua y cerrada al publico, llevada por su incansable curiosidad y para refugiarse de la lluvia, Lara decide entrar. El librero, un tipo extrano, la cita para dias mas tarde. A partir de ese momento, Lara comienza el fin de su solitaria existencia e inicia su propia aventura...', 290, 3.52, 396, 0, 11, 2012, '', '9788444148281', 'Everest', 'US', 'spa', 'https://www.goodreads.com/book/show/16112111-ex-libris', 'https://images.gr-assets.com/books/1351354466m/16112111.jpg', 'https://www.goodreads.com/book/show/16112111-ex-libris'), (2006110, 1855720, 'Ex Libris', 'ex libris', 'Ex Libris', 'ex libris', 'A gripping novel of love, murder and espionage. . . A cryptic summons from Lady Marchamont launches a London bookseller on an odessey through the back alleys and secret corridors of seventeenth-century Europe. Bibliophile Isaac Inchbold suddenly finds himself slipping from the surface of 1660s London and into an underworld of spies, smugglers, traitors, alchemists and mad priests. So begins a scholarly game: a game where forces are anonymous, motives inexplicable, but the outcome deadly.', 22, 3.25, 400, 4, 2, 1999, '0749395850', '9780749395858', 'Vintage', 'US', '', 'https://www.goodreads.com/book/show/1855720.Ex_Libris', 'https://s.gr-assets.com/assets/nophoto/book/111x148-bcc042a9c91a29c1d680899eff700a03.png', 'https://www.goodreads.com/book/show/1855720.Ex_Libris'), (516837, 5989753, 'Rex Libris #1', 'rex libris 1', 'Rex Libris #1', 'rex libris 1', 'The astonishing story of the incomparable Rex Libris, Head Librarian at Middleton Public Library, and his unending struggle against the forces of ignorance and darkness. Rex travels to the farthest reaches of the galaxy in search of overdue books. Wearing his super thick bottle glasses, and armed with an arsenal of high technology weapons, he strikes fear into recalcitrant borrowers, and can take on virtually any foe from zombies to renegade literary characters. In this first collection of Librarian adventures, Rex must confront the powerful Space Warlord Vaglox and retrieve the overdue Principia Mathematica while an energy manifestation of blood thirsty Vandals attempt to burn down Middleton Library, and all within, to the ground.', 106, 3.19, 0, 0, 0, 0, '1593620454', '9781593620455', '', 'US', '', 'https://www.goodreads.com/book/show/5989753-rex-libris-1', 'https://images.gr-assets.com/books/1341990497m/5989753.jpg', 'https://www.goodreads.com/book/show/5989753-rex-libris-1'), (238369, 22072815, 'Ex Libris Carissimis', 'ex libris carissimis', 'Ex Libris Carissimis', 'ex libris carissimis', '', 1, 3.56, 0, 0, 0, 0, '', '', '', 'US', '', 'https://www.goodreads.com/book/show/22072815-ex-libris-carissimis', 'https://s.gr-assets.com/assets/nophoto/book/111x148-bcc042a9c91a29c1d680899eff700a03.png', 'https://www.goodreads.com/book/show/22072815-ex-libris-carissimis'), (1224195, 17211588, 'Rex Libris, Volume I: I, Librarian (Rex Libris, #1-5)', 'rex libris volume i i librarian rex libris 15', 'Rex Libris, Volume I: I, Librarian (Rex Libris, #1-5)', 'rex libris volume i i librarian rex libris 15', \"Librarian's Note: this is an alternate cover edition - ISBN 13: 9781593620622\\nThe astonishing story of the incomparable Rex Libris, Head Librarian at Middleton Public Library, and his unending struggle against the forces of ignorance and darkness. Rex travels to the farthest reaches of the galaxy in search of overdue books. Wearing his super thick bottle glasses, and armed with an arsenal of high technology weapons, he strikes fear into recalcitrant borrowers, and can take on virtually any foe from zombies to renegade literary characters. In this first collection of Librarian adventures, Rex must confront the powerful Space Warlord Vaglox and retrieve the overdue Principia Mathematica while an energy manifestation of blood thirsty Vandals attempt to burn down Middleton Library, and all within, to the ground.\", 11, 3.36, 184, 17, 7, 2007, '', '', 'SLG Publishing', 'US', 'eng', 'https://www.goodreads.com/book/show/17211588-rex-libris-volume-i', 'https://images.gr-assets.com/books/1357442241m/17211588.jpg', 'https://www.goodreads.com/book/show/17211588-rex-libris-volume-i'), (1182769, 1000846, 'Rex Libris, Volume I: I, Librarian (Rex Libris, #1-5)', 'rex libris volume i i librarian rex libris 15', 'Rex Libris, Volume I: I, Librarian (Rex Libris, #1-5)', 'rex libris volume i i librarian rex libris 15', 'The astonishing story of the incomparable Rex Libris, Head Librarian at Middleton Public Library, and his unending struggle against the forces of ignorance and darkness. Rex travels to the farthest reaches of the galaxy in search of overdue books. Wearing his super thick bottle glasses, and armed with an arsenal of high technology weapons, he strikes fear into recalcitrant borrowers, and can take on virtually any foe from zombies to renegade literary characters. In this first collection of Librarian adventures, Rex must confront the powerful Space Warlord Vaglox and retrieve the overdue Principia Mathematica while an energy manifestation of blood thirsty Vandals attempt to burn down Middleton Library, and all within, to the ground.', 628, 3.36, 176, 17, 7, 2007, '1593620624', '9781593620622', 'SLG Publishing', 'US', 'eng', 'https://www.goodreads.com/book/show/1000846.Rex_Libris_Volume_I', 'https://s.gr-assets.com/assets/nophoto/book/111x148-bcc042a9c91a29c1d680899eff700a03.png', 'https://www.goodreads.com/book/show/1000846.Rex_Libris_Volume_I'), (83300, 7437865, 'Ex libris. Wyznania czytelnika', 'ex libris wyznania czytelnika', 'Ex libris. Wyznania czytelnika', 'ex libris wyznania czytelnika', '', 15, 4.15, 174, 0, 2, 2004, '838861259X', '9788388612596', 'Swiat Literacki', 'US', 'pol', 'https://www.goodreads.com/book/show/7437865-ex-libris-wyznania-czytelnika', 'https://s.gr-assets.com/assets/nophoto/book/111x148-bcc042a9c91a29c1d680899eff700a03.png', 'https://www.goodreads.com/book/show/7437865-ex-libris-wyznania-czytelnika'), (2090855, 24797648, 'The Island of Dr. Libris', 'the island of dr libris', 'The Island of Dr. Libris', 'the island of dr libris', \"Chris Grabenstein, author of the New York Timesbestselling Escape from Mr. Lemoncello's Library and coauthor of the I Funny series with James Patterson, celebrates the power of imagination with this action-packed adventure that shows that sometimes the realstory starts after you close the book!\\nWhat if your favorite characters came to life? Billy's spending the summer in a lakeside cabin that belongs to the mysterious Dr. Libris. But something strange is going on. Besides the security cameras everywhere, there's Dr. Libris's private bookcase. Whenever Billy opens the books inside, he can hear sounds coming from the island in the middle of the lake. The clash of swords. The twang of arrows. Sometimes he can even feel the ground shaking. It's almost as if the stories he's reading are coming to life! But that's impossible . . . isn't it?\", 244, 3.75, 0, 0, 0, 0, '', '', '', 'US', '', 'https://www.goodreads.com/book/show/24797648-the-island-of-dr-libris', 'https://s.gr-assets.com/assets/nophoto/book/111x148-bcc042a9c91a29c1d680899eff700a03.png', 'https://www.goodreads.com/book/show/24797648-the-island-of-dr-libris'), (763013, 22892781, 'The Island of Dr. Libris', 'the island of dr libris', 'The Island of Dr. Libris', 'the island of dr libris', 'New from the author of Escape from Mr. Lemoncello\\'s Library and coauthor of the I Funny series with James Patterson! Celebrate the power of imagination with this action-packed New York Timesbestseller that shows that sometimes the real story starts after you close the book! \\nWhat if your favorite characters came to life? Billy\\'s spending the summer in a lakeside cabin that belongs to the mysterious Dr. Libris. But something strange is going on. Besides the security cameras everywhere, there\\'s Dr. Libris\\'s private bookcase. Whenever Billy opens the books inside, he can hear sounds coming from the island in the middle of the lake. The clash of swords. The twang of arrows. Sometimes he can even feel the ground shaking. It\\'s almost as if the stories he\\'s reading are coming to life! But that\\'s impossible . . . isn\\'t it?\\n\"A wonderful tale. . . . This book is like no other I\\'ve read. It\\'s a complete original.\" --James Patterson\\n\"Kids will enjoy the cartoonish mayhem, especially given Grabenstein\\'s breezy narrative voiceand jaunty wit....as in \\'Lemoncello\\', there is a winning generosity and sweetness to the story\\'s telling.\"--The New York Times\\n\"Chris Grabenstein gleefully plunders great works of literature for his cast of secondary characters . . . a madcap mash-upthat 8-to-12 year olds will want to devour in big gulps.\"--The Wall Street Journal\\n\"Effortlessly readable and a whole lot of fun.\" -- Booklist Reviews\\nFrom the Hardcover edition.', 27, 3.75, 4, 24, 3, 2015, '0553552732', '9780553552737', 'Listening Library', 'US', '', 'https://www.goodreads.com/book/show/22892781-the-island-of-dr-libris', 'https://images.gr-assets.com/books/1422216214m/22892781.jpg', 'https://www.goodreads.com/book/show/22892781-the-island-of-dr-libris'), (1247447, 15733416, 'Libriomancer (Magic Ex Libris, #1)', 'libriomancer magic ex libris 1', 'Libriomancer (Magic Ex Libris, #1)', 'libriomancer magic ex libris 1', 'Isaac Vainio is a Libriomancer, a member of the secret organization founded five centuries ago by Johannes Gutenberg. Libriomancers are gifted with the ability to magically reachinto books and draw forth objects. When Isaac is attacked by vampires that leakedfrom the pages of books into our world, he barely manages to escape. To his horror he discovers that vampires have been attacking other magic-users as well, and Gutenberg has been kidnapped.\\nWith the help of a motorcycle-riding dryad who packs a pair of oak cudgels, Isaac finds himself hunting the unknown dark power that has been manipulating humans and vampires alike. And his search will uncover dangerous secrets about Libriomancy, Gutenberg, and the history of magic. . . .', 1109, 3.81, 321, 7, 8, 2012, '', '', 'DAW', 'US', 'en-US', 'https://www.goodreads.com/book/show/15733416-libriomancer', 'https://images.gr-assets.com/books/1341278512m/15733416.jpg', 'https://www.goodreads.com/book/show/15733416-libriomancer'), (287338, 25746564, 'Revisionary (Magic Ex Libris, #4)', 'revisionary magic ex libris 4', 'Revisionary (Magic Ex Libris, #4)', 'revisionary magic ex libris 4', 'The fourth installment in the popular Magic Ex Libris series.\\nWhen Isaac Vainio helped to reveal magic to the world, he dreamed of a new millennium of magical prosperity. One year later, things aren\\'t going quite as he\\'d hoped. A newly-formed magical organization wants open war with the mundane world. Isaac\\'s own government is incarcerating \"potential supernatural enemies\" in prisons and internment camps.\\nSurrounded by betrayal and political intrigue, Isaac and a ragtag group of allies must evade pursuit both magical and mundane, expose a conspiracy by some of the most powerful people in the world, and find a path to a better future. But the key to victory may lie with Isaac himself, as he struggles to incorporate everything he\\'s learned into a new, more powerful form of libriomancy.', 317, 4.18, 352, 0, 0, 0, '', '', '', 'US', 'en-GB', 'https://www.goodreads.com/book/show/25746564-revisionary', 'https://images.gr-assets.com/books/1442617758m/25746564.jpg', 'https://www.goodreads.com/book/show/25746564-revisionary'), (2046015, 18139127, 'Unbound (Magic Ex Libris, #3)', 'unbound magic ex libris 3', 'Unbound (Magic Ex Libris, #3)', 'unbound magic ex libris 3', \"For five hundred years, the Porters have concealed the existence of magic from the world. Now, old enemies have revealed the Porters' secrets, and an even greater threat lurks in the shadows. The would-be queen Meridiana, banished for a thousand years, has returned in the body of a girl named Jeneta Aboderin. She seeks an artifact created by Pope Sylvester II, a bronze prison that would grant her the power to command an army of the dead.\\nMichigan librarian Isaac Vainio is powerless to stop her, having been stripped of his power and his place among the Porters by Johannes Gutenberg himself. But Isaac is determined to regain his magic and to rescue his former student Jeneta. With no magic of his own, Isaac's must delve into the darker side of black-market magic, where he will confront beings better left undisturbed, including the sorcerer Juan Ponce de Leon.\\nWith his loyal fire-spider Smudge, dryad warrior Lena Greenwood, and psychiatrist Nidhi Shah, Isaac races to unravel a mystery more than a thousand years old as competing magical powers battle to shape the future of the world. He will be hunted by enemies and former allies alike, and it will take all his knowledge and resourcefulness to survive as magical war threatens to spread across the globe.\\nIsaac's choices will determine the fate of his friends, the Porters, the students of Bi Sheng, and the world. Only one thing is certain: even if he finds a way to restore his magic, he can't save them all...\", 1979, 4.13, 340, 6, 1, 2015, '0756409683', '9780756409685', 'DAW Hardcover', 'US', 'eng', 'https://www.goodreads.com/book/show/18139127-unbound', 'https://images.gr-assets.com/books/1403774033m/18139127.jpg', 'https://www.goodreads.com/book/show/18139127-unbound'), (1977742, 22856170, 'The Island of Dr. Libris', 'the island of dr libris', 'The Island of Dr. Libris', 'the island of dr libris', \"Chris Grabenstein, author of the New York Timesbestselling Escape from Mr. Lemoncello's Library and coauthor of the I Funny series with James Patterson, celebrates the power of imagination with this action-packed adventure that shows that sometimes the realstory starts after you close the book!\\nWhat if your favorite characters came to life? Billy's spending the summer in a lakeside cabin that belongs to the mysterious Dr. Libris. But something strange is going on. Besides the security cameras everywhere, there's Dr. Libris's private bookcase. Whenever Billy opens the books inside, he can hear sounds coming from the island in the middle of the lake. The clash of swords. The twang of arrows. Sometimes he can even feel the ground shaking. It's almost as if the stories he's reading are coming to life! But that's impossible . . . isn't it?\", 15, 3.75, 4, 24, 3, 2015, '0553552716', '9780553552713', 'Listening Library (Audio)', 'US', 'eng', 'https://www.goodreads.com/book/show/22856170-the-island-of-dr-libris', 'https://images.gr-assets.com/books/1422215531m/22856170.jpg', 'https://www.goodreads.com/book/show/22856170-the-island-of-dr-libris'), (92745, 46892, 'Ex Libris: Ralph Gibson Photographs', 'ex libris ralph gibson photographs', 'Ex Libris: Ralph Gibson Photographs', 'ex libris ralph gibson photographs', '', 16, 4.31, 0, 1, 4, 2001, '1576871002', '9781576871003', '', 'US', '', 'https://www.goodreads.com/book/show/46892.Ex_Libris', 'https://s.gr-assets.com/assets/nophoto/book/111x148-bcc042a9c91a29c1d680899eff700a03.png', 'https://www.goodreads.com/book/show/46892.Ex_Libris'), (1793312, 17259169, 'Libriomancer (Magic Ex Libris, #1)', 'libriomancer magic ex libris 1', 'Libriomancer (Magic Ex Libris, #1)', 'libriomancer magic ex libris 1', 'Isaac Vainio is a Libriomancer, a member of the secret organization founded five centuries ago by Johannes Gutenberg. Libriomancers are gifted with the ability to magically reach into books and draw forth objects. When Isaac is attacked by vampires that leaked from the pages of books into our world, he barely manages to escape. To his horror he discovers that vampires have been attacking other magic-users as well, and Gutenberg has been kidnapped.\\nWith the help of a motorcycle-riding dryad who packs a pair of oak cudgels, Isaac finds himself hunting the unknown dark power that has been manipulating humans and vampires alike. And his search will uncover dangerous secrets about Libriomancy, Gutenberg, and the history of magic....', 49, 3.81, 12, 3, 1, 2013, '', '', 'Audible Frontiers', 'US', 'eng', 'https://www.goodreads.com/book/show/17259169-libriomancer', 'https://images.gr-assets.com/books/1358644247m/17259169.jpg', 'https://www.goodreads.com/book/show/17259169-libriomancer'), (1079057, 25893549, 'The Island of Dr. Libris', 'the island of dr libris', 'The Island of Dr. Libris', 'the island of dr libris', 'Chris Grabenstein, author of the New York Timesbestselling Escape from Mr. Lemoncello\\'s Libraryand coauthor of the I Funny series with James Patterson, celebrates the power of imagination with this action-packed adventure that shows that sometimes the real story starts after you close the book!\\nWhat if your favorite characters came to life? Billy\\'s spending the summer in a lakeside cabin that belongs to the mysterious Dr. Libris. But something strange is going on. Besides the security cameras everywhere, there\\'s Dr. Libris\\'s private bookcase. Whenever Billy opens the books inside, he can hear sounds coming from the island in the middle of the lake. The clash of swords. The twang of arrows. Sometimes he can even feel the ground shaking. It\\'s almost as if the stories he\\'s reading are coming to life! But that\\'s impossible . . . isn\\'t it? Look for brand-new BONUS material in the paperback, including a GALLERY of literary characters, a discussion guide, a behind-the-scenes look at Chris\\'s process, and more!\\n\"A wonderful tale. . . . A complete original.\" --James Patterson\\n\"Effortlessly readable and a whole lot of fun.\" --Booklist\\n\"A science-based variation on the theme of fictional characters being brought to life. [A] satisfying read.\" --Publishers Weekly', 53, 3.75, 272, 5, 4, 2016, '0385388454', '9780385388450', 'Yearling', 'US', '', 'https://www.goodreads.com/book/show/25893549-the-island-of-dr-libris', 'https://images.gr-assets.com/books/1453059286m/25893549.jpg', 'https://www.goodreads.com/book/show/25893549-the-island-of-dr-libris'), (1156805, 18889554, 'Libriomancer (Magic Ex Libris 1)', 'libriomancer magic ex libris 1', 'Libriomancer (Magic Ex Libris 1)', 'libriomancer magic ex libris 1', 'Isaac Vainio is a Libriomancer, a member of the secret organization founded five centuries ago by Johannes Gutenberg. Libriomancers are gifted with the ability to magically reach into books and draw forth objects. When Isaac is attacked by vampires that leaked from the pages of books into our world, he barely manages to escape. To his horror he discovers that vampires have been attacking other magic-users as well, and Gutenberg has been kidnapped.\\nWith the help of a motorcycle-riding dryad who packs a pair of oak cudgels, Isaac finds himself hunting the unknown dark power that has been manipulating humans and vampires alike. And his search will uncover dangerous secrets about Libriomancy, Gutenberg, and the history of magic. . . .', 98, 3.81, 0, 0, 0, 0, '', '', '', 'US', '', 'https://www.goodreads.com/book/show/18889554-libriomancer', 'https://s.gr-assets.com/assets/nophoto/book/111x148-bcc042a9c91a29c1d680899eff700a03.png', 'https://www.goodreads.com/book/show/18889554-libriomancer'), (1516846, 24316214, 'Revisionary (Magic Ex Libris, #4)', 'revisionary magic ex libris 4', 'Revisionary (Magic Ex Libris, #4)', 'revisionary magic ex libris 4', 'The fourth installment in the popular Magic Ex Libris series.\\nWhen Isaac Vainio helped to reveal magic to the world, he dreamed of a new millennium of magical prosperity. One year later, things aren\\'t going quite as he\\'d hoped. A newly-formed magical organization wants open war with the mundane world. Isaac\\'s own government is incarcerating \"potential supernatural enemies\" in prisons and internment camps.\\nSurrounded by betrayal and political intrigue, Isaac and a ragtag group of allies must evade pursuit both magical and mundane, expose a conspiracy by some of the most powerful people in the world, and find a path to a better future. But the key to victory may lie with Isaac himself, as he struggles to incorporate everything he\\'s learned into a new, more powerful form of libriomancy.', 1128, 4.18, 352, 2, 2, 2016, '0756409705', '9780756409708', 'DAW', 'US', 'eng', 'https://www.goodreads.com/book/show/24316214-revisionary', 'https://images.gr-assets.com/books/1442617685m/24316214.jpg', 'https://www.goodreads.com/book/show/24316214-revisionary'), (1657768, 15901916, 'Libriomancer (Magic Ex Libris, #1)', 'libriomancer magic ex libris 1', 'Libriomancer (Magic Ex Libris, #1)', 'libriomancer magic ex libris 1', 'Isaac Vainio is a Libriomancer, a member of the secret organization founded five centuries ago by Johannes Gutenberg. Libriomancers are gifted with the ability to magically reach into books and draw forth objects. When Isaac is attacked by vampires that leaked from the pages of books into our world, he barely manages to escape. To his horror he discovers that vampires have been attacking other magic-users as well, and Gutenberg has been kidnapped.\\nWith the help of a motorcycle-riding dryad who packs a pair of oak cudgels, Isaac finds himself hunting the unknown dark power that has been manipulating humans and vampires alike. And his search will uncover dangerous secrets about Libriomancy, Gutenberg, and the history of magic. . . .', 70, 3.81, 321, 7, 8, 2012, '1101597550', '9781101597552', 'Daw Books', 'US', '', 'https://www.goodreads.com/book/show/15901916-libriomancer', 'https://images.gr-assets.com/books/1346313879m/15901916.jpg', 'https://www.goodreads.com/book/show/15901916-libriomancer'), (1457866, 16115620, 'Libriomancer (Magic Ex Libris, #1)', 'libriomancer magic ex libris 1', 'Libriomancer (Magic Ex Libris, #1)', 'libriomancer magic ex libris 1', 'Isaac Vainio is a Libriomancer, a member of the secret organization founded five centuries ago by Johannes Gutenberg. Libriomancers are gifted with the ability to magically reach into books and draw forth objects. When Isaac is attacked by vampires that leaked from the pages of books into our world, he barely manages to escape. To his horror he discovers that vampires have been attacking other magic-users as well, and Gutenberg has been kidnapped.\\nWith the help of a motorcycle-riding dryad who packs a pair of oak cudgels, Isaac finds himself hunting the unknown dark power that has been manipulating humans and vampires alike. And his search will uncover dangerous secrets about Libriomancy, Gutenberg, and the history of magic. . . .', 232, 3.81, 348, 6, 8, 2013, '0756408172', '9780756408176', 'DAW', 'US', 'eng', 'https://www.goodreads.com/book/show/16115620-libriomancer', 'https://s.gr-assets.com/assets/nophoto/book/111x148-bcc042a9c91a29c1d680899eff700a03.png', 'https://www.goodreads.com/book/show/16115620-libriomancer'), (1057279, 22708696, 'Unbound (Magic Ex Libris, #3)', 'unbound magic ex libris 3', 'Unbound (Magic Ex Libris, #3)', 'unbound magic ex libris 3', \"For five hundred years, the Porters have concealed the existence of magic from the world.\\nNow, old enemies have revealed the Porters' secrets, and an even greater threat lurks in the shadows. The would-be queen Meridiana, banished for a thousand years, has returned in the body of a girl named Jeneta Aboderin. She seeks an artifact created by Pope Sylvester II, a bronze prison that would grant her the power to command an army of the dead. Michigan librarian Isaac Vainio is powerless to stop her, having been stripped of his power and his place among the Porters by Johannes Gutenberg himself. But Isaac is determined to regain his magic and to rescue his former student Jeneta. With no magic of his own, Isaac must delve into the darker side of black-market magic, where he will confront beings better left undisturbed, including the sorcerer Juan Ponce de Leon.\\nWith his loyal fire-spider Smudge, dryad warrior Lena Greenwood, and psychiatrist Nidhi Shah, Isaac races to unravel a mystery more than a thousand years old as competing magical powers battle to shape the future of the world. He will be hunted by enemies and former allies alike, and it will take all his knowledge and resourcefulness to survive as magical war threatens to spread across the globe. Isaac's choices will determine the fate of his friends, the Porters, the students of Bi Sheng, and the world.\\nOnly one thing is certain: even if he finds a way to restore his magic, he can't save them all...\", 471, 4.13, 347, 0, 0, 0, '', '', '', 'US', 'eng', 'https://www.goodreads.com/book/show/22708696-unbound', 'https://images.gr-assets.com/books/1420124513m/22708696.jpg', 'https://www.goodreads.com/book/show/22708696-unbound'), (1455550, 17613025, 'Libriomancer (Magic Ex Libris #1)', 'libriomancer magic ex libris 1', 'Libriomancer (Magic Ex Libris #1)', 'libriomancer magic ex libris 1', 'Isaac Vainio is a Libriomancer, a member of a secret society founded five centuries ago by Johannes Gutenberg. As such, he is gifted with the magical ability to reach into books and draw forth objects.\\nBut when Gutenberg vanishes without a trace, Isaac finds himself pitted against everything from vampires to a sinister, nameless foe who is bent on revealing magic to the world at large... and at any cost.', 53, 3.81, 320, 22, 8, 2013, '0091953448', '9780091953447', 'Del Rey', 'US', 'eng', 'https://www.goodreads.com/book/show/17613025-libriomancer', 'https://s.gr-assets.com/assets/nophoto/book/111x148-bcc042a9c91a29c1d680899eff700a03.png', 'https://www.goodreads.com/book/show/17613025-libriomancer'), (378847, 12844699, 'Libriomancer (Magic Ex Libris, #1)', 'libriomancer magic ex libris 1', 'Libriomancer (Magic Ex Libris, #1)', 'libriomancer magic ex libris 1', 'Isaac Vainio is a Libriomancer, a member of the secret organization founded five centuries ago by Johannes Gutenberg. Libriomancers are gifted with the ability to magically reach into books and draw forth objects. When Isaac is attacked by vampires that leaked from the pages of books into our world, he barely manages to escape. To his horror he discovers that vampires have been attacking other magic-users as well, and Gutenberg has been kidnapped.\\nWith the help of a motorcycle-riding dryad who packs a pair of oak cudgels, Isaac finds himself hunting the unknown dark power that has been manipulating humans and vampires alike. And his search will uncover dangerous secrets about Libriomancy, Gutenberg, and the history of magic. . . .', 8413, 3.81, 308, 7, 8, 2012, '0756407397', '9780756407391', 'DAW', 'US', 'en-US', 'https://www.goodreads.com/book/show/12844699-libriomancer', 'https://images.gr-assets.com/books/1318277038m/12844699.jpg', 'https://www.goodreads.com/book/show/12844699-libriomancer'), (477643, 23568158, 'The Island of Dr. Libris', 'the island of dr libris', 'The Island of Dr. Libris', 'the island of dr libris', \"Chris Grabenstein, author of the New York Timesbestselling Escape from Mr. Lemoncello's Library and coauthor of the I Funny series with James Patterson, celebrates the power of imagination with this action-packed adventure that shows that sometimes the realstory starts after you close the book!\\nWhat if your favorite characters came to life? Billy's spending the summer in a lakeside cabin that belongs to the mysterious Dr. Libris. But something strange is going on. Besides the security cameras everywhere, there's Dr. Libris's private bookcase. Whenever Billy opens the books inside, he can hear sounds coming from the island in the middle of the lake. The clash of swords. The twang of arrows. Sometimes he can even feel the ground shaking. It's almost as if the stories he's reading are coming to life! But that's impossible . . . isn't it?\", 2, 3.75, 256, 24, 3, 2015, '0385388470', '9780385388474', 'Random House Books for Young Readers', 'US', '', 'https://www.goodreads.com/book/show/23568158-the-island-of-dr-libris', 'https://images.gr-assets.com/books/1428684458m/23568158.jpg', 'https://www.goodreads.com/book/show/23568158-the-island-of-dr-libris'), (666165, 24566014, 'Unbound (Magic Ex Libris, #3)', 'unbound magic ex libris 3', 'Unbound (Magic Ex Libris, #3)', 'unbound magic ex libris 3', \"For five hundred years, the Porters have concealed the existence of magic from the world. Now, old enemies have revealed the Porters' secrets, and an even greater threat lurks in the shadows. The would-be queen Meridiana, banished for a thousand years, has returned in the body of a girl named Jeneta Aboderin. She seeks an artifact created by Pope Sylvester II, a bronze prison that would grant her the power to command an army of the dead.\\nMichigan librarian Isaac Vainio is powerless to stop her, having been stripped of his power and his place among the Porters by Johannes Gutenberg himself. But Isaac is determined to regain his magic and to rescue his former student Jeneta. With no magic of his own, Isaac's must delve into the darker side of black-market magic, where he will confront beings better left undisturbed, including the sorcerer Juan Ponce de Leon.\\nWith his loyal fire-spider Smudge, dryad warrior Lena Greenwood, and psychiatrist Nidhi Shah, Isaac races to unravel a mystery more than a thousand years old as competing magical powers battle to shape the future of the world. He will be hunted by enemies and former allies alike, and it will take all his knowledge and resourcefulness to survive as magical war threatens to spread across the globe.\\nIsaac's choices will determine the fate of his friends, the Porters, the students of Bi Sheng, and the world. Only one thing is certain: even if he finds a way to restore his magic, he can't save them all...\", 8, 4.13, 320, 6, 1, 2015, '0698151984', '9780698151987', 'Penguin Group', 'US', 'eng', 'https://www.goodreads.com/book/show/24566014-unbound', 'https://images.gr-assets.com/books/1421615338m/24566014.jpg', 'https://www.goodreads.com/book/show/24566014-unbound'), (1535594, 22856146, 'The Island of Dr. Libris', 'the island of dr libris', 'The Island of Dr. Libris', 'the island of dr libris', \"Chris Grabenstein, author of the New York Timesbestselling Escape from Mr. Lemoncello's Library and coauthor of the I Funny series with James Patterson, celebrates the power of imagination with this action-packed adventure that shows that sometimes the realstory starts after you close the book!\\nWhat if your favorite characters came to life? Billy's spending the summer in a lakeside cabin that belongs to the mysterious Dr. Libris. But something strange is going on. Besides the security cameras everywhere, there's Dr. Libris's private bookcase. Whenever Billy opens the books inside, he can hear sounds coming from the island in the middle of the lake. The clash of swords. The twang of arrows. Sometimes he can even feel the ground shaking. It's almost as if the stories he's reading are coming to life! But that's impossible . . . isn't it?\", 3454, 3.75, 242, 0, 0, 0, '0385388446', '9780857988256', '', 'US', '', 'https://www.goodreads.com/book/show/22856146-the-island-of-dr-libris', 'https://images.gr-assets.com/books/1408923318m/22856146.jpg', 'https://www.goodreads.com/book/show/22856146-the-island-of-dr-libris'), (1535595, 22856147, 'The Island of Dr. Libris', 'the island of dr libris', 'The Island of Dr. Libris', 'the island of dr libris', \"Chris Grabenstein, author of the New York Timesbestselling Escape from Mr. Lemoncello's Library and coauthor of the I Funny series with James Patterson, celebrates the power of imagination with this action-packed adventure that shows that sometimes the realstory starts after you close the book!\\nWhat if your favorite characters came to life? Billy's spending the summer in a lakeside cabin that belongs to the mysterious Dr. Libris. But something strange is going on. Besides the security cameras everywhere, there's Dr. Libris's private bookcase. Whenever Billy opens the books inside, he can hear sounds coming from the island in the middle of the lake. The clash of swords. The twang of arrows. Sometimes he can even feel the ground shaking. It's almost as if the stories he's reading are coming to life! But that's impossible . . . isn't it?\", 11, 3.75, 256, 24, 3, 2015, '0385388462', '9780385388467', 'Random House Books for Young Readers', 'US', '', 'https://www.goodreads.com/book/show/22856147-the-island-of-dr-libris', 'https://images.gr-assets.com/books/1408312566m/22856147.jpg', 'https://www.goodreads.com/book/show/22856147-the-island-of-dr-libris'), (443224, 30154618, 'Le Bilbliomancien (Magic Ex Libris, #1)', 'le bilbliomancien magic ex libris 1', 'Le Bilbliomancien (Magic Ex Libris, #1)', 'le bilbliomancien magic ex libris 1', \"Isaac Vainio est un bibliomancien. Membre de Die Zwelf Portenaere, les Douze Gardiens des Portes, une organisation secrete fondee par Johannes Gutenberg, il dispose d'une magie tres particuliere : il peut puiser a volonte dans les livres et en tirer n'importe quel objet du recit. Et Isaac, en vrai fan de science-fiction et de fantasy, prefere par-dessus tout utiliser des pistolets laser, des ceintures-bouclier de Dune et des sabres laser de Star Wars quand les Gardiens l'envoient sur le terrain combattre les menaces magiques qui guettent la Terre.\\nSauf que, deux ans plus tot, manquant perdre la raison et la vie au cours d'une mission qui a mal tourne, Isaac a ete mis au placard. Reduit au rang de simple catalogueur, il ne conserve de son ancienne vie d'agent de terrain que Titache, sa fidele araignee-flamme, qui a la particularite de prendre feu en presence d'un danger.\\nSon existence rangee bascule le jour ou trois vampires debarquent dans sa bibliotheque pour le tuer. Les Gardiens auraient declare la guerre aux morts-vivants...\\n<>Patrick Rothfuss\", 5, 3.81, 384, 19, 5, 2016, '', '9782841727582', \"L'Atalante\", 'US', 'fre', 'https://www.goodreads.com/book/show/30154618-le-bilbliomancien', 'https://images.gr-assets.com/books/1462885359m/30154618.jpg', 'https://www.goodreads.com/book/show/30154618-le-bilbliomancien'), (789136, 23306537, 'Codex Born (Magic Ex Libris, #2)', 'codex born magic ex libris 2', 'Codex Born (Magic Ex Libris, #2)', 'codex born magic ex libris 2', \"Five hundred years ago, Johannes Gutenberg discovered the art of libriomancy, allowing him to reach into books to create things from their pages. Gutenberg's power brought him many enemies, and some of those enemies have waited centuries for revenge. Revenge which begins with the brutal slaughter of a wendigo in the northern Michigan town of Tamarack, a long-established werewolf territory. Libriomancer Isaac Vainio is part of Die Zwelf Portenre, better known as the Porters, the organization founded by Gutenberg to protect the world from magical threats. Isaac is called in to investigate the killing, along with Porter psychiatrist Nidhi Shah and their dryad bodyguard and lover, Lena Greenwood. Born decades ago from the pages of a pulp fantasy novel, Lena was created to be the ultimate fantasy woman, strong and deadly, but shaped by the needs and desires of her companions. Her powers are unique, and Gutenberg's enemies hope to use those powers for themselves. But their plan could unleash a far darker evil....\", 18, 3.91, 11, 6, 8, 2013, '', '', 'Audible Studios', 'US', 'eng', 'https://www.goodreads.com/book/show/23306537-codex-born', 'https://images.gr-assets.com/books/1412458921m/23306537.jpg', 'https://www.goodreads.com/book/show/23306537-codex-born')]]\n"
     ]
    }
   ],
   "source": [
    "data  = book_alldetails_byindex(indices=indices,cs=cs)\n",
    "print(data)"
   ]
  },
  {
   "cell_type": "code",
   "execution_count": 6,
   "metadata": {},
   "outputs": [
    {
     "data": {
      "text/plain": [
       "30"
      ]
     },
     "execution_count": 6,
     "metadata": {},
     "output_type": "execute_result"
    }
   ],
   "source": [
    "len(data[0])"
   ]
  },
  {
   "cell_type": "code",
   "execution_count": 7,
   "metadata": {},
   "outputs": [
    {
     "name": "stdout",
     "output_type": "stream",
     "text": [
      "[\n",
      "    {\n",
      "        \"book_id\": 1611629,\n",
      "        \"gr_book_id\": 7298864,\n",
      "        \"title_without_series\": \"Ex Libris\",\n",
      "        \"mod_title\": \"ex libris\",\n",
      "        \"title\": \"Ex Libris\",\n",
      "        \"mod_title_without_series\": \"ex libris\",\n",
      "        \"description\": \"\",\n",
      "        \"ratings_count\": 6,\n",
      "        \"average_rating\": 4.15,\n",
      "        \"num_pages\": 0,\n",
      "        \"publication_day\": 0,\n",
      "        \"publication_month\": 0,\n",
      "        \"publication_year\": 0,\n",
      "        \"isbn\": \"0788731130\",\n",
      "        \"isbn13\": \"9780788731136\",\n",
      "        \"publisher\": \"\",\n",
      "        \"country_code\": \"US\",\n",
      "        \"language_code\": \"\",\n",
      "        \"url\": \"https://www.goodreads.com/book/show/7298864-ex-libris\",\n",
      "        \"image_url\": \"https://images.gr-assets.com/books/1363649117m/7298864.jpg\",\n",
      "        \"link\": \"https://www.goodreads.com/book/show/7298864-ex-libris\"\n",
      "    },\n",
      "    {\n",
      "        \"book_id\": 470709,\n",
      "        \"gr_book_id\": 16112111,\n",
      "        \"title_without_series\": \"Ex libris\",\n",
      "        \"mod_title\": \"ex libris\",\n",
      "        \"title\": \"Ex libris\",\n",
      "        \"mod_title_without_series\": \"ex libris\",\n",
      "        \"description\": \"Lara es apodada como La nuevao Bicho raroen todos los institutos en los que se matricula. La principal razon de su marginacion es que Lara solo parece interesada por la literatura y no es nada habil en las relaciones sociales. Cuando ha conseguido tener alguna amiga, tampoco ha sabido conducir bien esa amistad.\\nLara vive en Paris, ciudad a la que sus padres han emigrado dos anos antes. Cuando tuvo que mudarse penso que ese cambio de lugar supondria para ella una oportunidad para recomenzar una vida que no le gustaba. Sin embargo, en su nuevo instituto continuan las risas, los murmullos y la actitud distante de sus companeros.\\nAgobiada por un suceso desagradable con los gamberros de su clase, se va a un parque cerca del cual descubre una extrana libreria, la libreria Blanchard. El cartel de la libreria es un libro abierto con las letras Ex Librisy dos interrogantes en el. Aunque la libreria parece muy antigua y cerrada al publico, llevada por su incansable curiosidad y para refugiarse de la lluvia, Lara decide entrar. El librero, un tipo extrano, la cita para dias mas tarde. A partir de ese momento, Lara comienza el fin de su solitaria existencia e inicia su propia aventura...\",\n",
      "        \"ratings_count\": 290,\n",
      "        \"average_rating\": 3.52,\n",
      "        \"num_pages\": 396,\n",
      "        \"publication_day\": 0,\n",
      "        \"publication_month\": 11,\n",
      "        \"publication_year\": 2012,\n",
      "        \"isbn\": \"\",\n",
      "        \"isbn13\": \"9788444148281\",\n",
      "        \"publisher\": \"Everest\",\n",
      "        \"country_code\": \"US\",\n",
      "        \"language_code\": \"spa\",\n",
      "        \"url\": \"https://www.goodreads.com/book/show/16112111-ex-libris\",\n",
      "        \"image_url\": \"https://images.gr-assets.com/books/1351354466m/16112111.jpg\",\n",
      "        \"link\": \"https://www.goodreads.com/book/show/16112111-ex-libris\"\n",
      "    }\n",
      "]\n"
     ]
    }
   ],
   "source": [
    "print(book_alldetails_tojson(data[0][:2]))"
   ]
  },
  {
   "cell_type": "markdown",
   "metadata": {},
   "source": [
    "**Getting only the titles from the database using the indices**"
   ]
  },
  {
   "cell_type": "code",
   "execution_count": 8,
   "metadata": {},
   "outputs": [
    {
     "name": "stdout",
     "output_type": "stream",
     "text": [
      "[[('ex libris',), ('rex libris 1',), ('ex libris carissimis',), ('rex libris volume i i librarian rex libris 15',), ('ex libris wyznania czytelnika',), ('revisionary magic ex libris 4',), ('ex libris ralph gibson photographs',), ('libriomancer magic ex libris 1',), ('the island of dr libris',), ('unbound magic ex libris 3',), ('le bilbliomancien magic ex libris 1',), ('codex born magic ex libris 2',)]]\n"
     ]
    }
   ],
   "source": [
    "titles  = book_onlytitles_byindex(indices=indices,cs=cs)\n",
    "print(titles)"
   ]
  },
  {
   "cell_type": "code",
   "execution_count": 9,
   "metadata": {},
   "outputs": [
    {
     "name": "stdout",
     "output_type": "stream",
     "text": [
      "[\n",
      "    {\n",
      "        \"id\": 0,\n",
      "        \"book_title_mod\": \"ex libris\"\n",
      "    },\n",
      "    {\n",
      "        \"id\": 1,\n",
      "        \"book_title_mod\": \"rex libris 1\"\n",
      "    },\n",
      "    {\n",
      "        \"id\": 2,\n",
      "        \"book_title_mod\": \"ex libris carissimis\"\n",
      "    },\n",
      "    {\n",
      "        \"id\": 3,\n",
      "        \"book_title_mod\": \"rex libris volume i i librarian rex libris 15\"\n",
      "    },\n",
      "    {\n",
      "        \"id\": 4,\n",
      "        \"book_title_mod\": \"ex libris wyznania czytelnika\"\n",
      "    },\n",
      "    {\n",
      "        \"id\": 5,\n",
      "        \"book_title_mod\": \"revisionary magic ex libris 4\"\n",
      "    },\n",
      "    {\n",
      "        \"id\": 6,\n",
      "        \"book_title_mod\": \"ex libris ralph gibson photographs\"\n",
      "    },\n",
      "    {\n",
      "        \"id\": 7,\n",
      "        \"book_title_mod\": \"libriomancer magic ex libris 1\"\n",
      "    },\n",
      "    {\n",
      "        \"id\": 8,\n",
      "        \"book_title_mod\": \"the island of dr libris\"\n",
      "    },\n",
      "    {\n",
      "        \"id\": 9,\n",
      "        \"book_title_mod\": \"unbound magic ex libris 3\"\n",
      "    },\n",
      "    {\n",
      "        \"id\": 10,\n",
      "        \"book_title_mod\": \"le bilbliomancien magic ex libris 1\"\n",
      "    },\n",
      "    {\n",
      "        \"id\": 11,\n",
      "        \"book_title_mod\": \"codex born magic ex libris 2\"\n",
      "    }\n",
      "]\n"
     ]
    }
   ],
   "source": [
    "print(book_onlytitles_tojson(titles[0]))"
   ]
  },
  {
   "cell_type": "markdown",
   "metadata": {},
   "source": [
    "**Getting details for search engine**"
   ]
  },
  {
   "cell_type": "code",
   "execution_count": 10,
   "metadata": {},
   "outputs": [],
   "source": [
    "search_result  = book_searchdetails_byindex(indices=indices,cs=cs)"
   ]
  },
  {
   "cell_type": "code",
   "execution_count": 11,
   "metadata": {},
   "outputs": [
    {
     "data": {
      "text/plain": [
       "12"
      ]
     },
     "execution_count": 11,
     "metadata": {},
     "output_type": "execute_result"
    }
   ],
   "source": [
    "len(search_result[0])"
   ]
  },
  {
   "cell_type": "code",
   "execution_count": 12,
   "metadata": {},
   "outputs": [
    {
     "data": {
      "text/plain": [
       "[[('Ex libris',\n",
       "   'ex libris',\n",
       "   290,\n",
       "   3.52,\n",
       "   'https://images.gr-assets.com/books/1351354466m/16112111.jpg',\n",
       "   1),\n",
       "  ('Rex Libris #1',\n",
       "   'rex libris 1',\n",
       "   106,\n",
       "   3.19,\n",
       "   'https://images.gr-assets.com/books/1341990497m/5989753.jpg',\n",
       "   1),\n",
       "  ('Ex Libris Carissimis',\n",
       "   'ex libris carissimis',\n",
       "   1,\n",
       "   3.56,\n",
       "   'https://s.gr-assets.com/assets/nophoto/book/111x148-bcc042a9c91a29c1d680899eff700a03.png',\n",
       "   1),\n",
       "  ('Rex Libris, Volume I: I, Librarian (Rex Libris, #1-5)',\n",
       "   'rex libris volume i i librarian rex libris 15',\n",
       "   628,\n",
       "   3.36,\n",
       "   'https://s.gr-assets.com/assets/nophoto/book/111x148-bcc042a9c91a29c1d680899eff700a03.png',\n",
       "   1),\n",
       "  ('Ex libris. Wyznania czytelnika',\n",
       "   'ex libris wyznania czytelnika',\n",
       "   15,\n",
       "   4.15,\n",
       "   'https://s.gr-assets.com/assets/nophoto/book/111x148-bcc042a9c91a29c1d680899eff700a03.png',\n",
       "   1),\n",
       "  ('Revisionary (Magic Ex Libris, #4)',\n",
       "   'revisionary magic ex libris 4',\n",
       "   1128,\n",
       "   4.18,\n",
       "   'https://images.gr-assets.com/books/1442617685m/24316214.jpg',\n",
       "   1),\n",
       "  ('Ex Libris: Ralph Gibson Photographs',\n",
       "   'ex libris ralph gibson photographs',\n",
       "   16,\n",
       "   4.31,\n",
       "   'https://s.gr-assets.com/assets/nophoto/book/111x148-bcc042a9c91a29c1d680899eff700a03.png',\n",
       "   1),\n",
       "  ('Libriomancer (Magic Ex Libris, #1)',\n",
       "   'libriomancer magic ex libris 1',\n",
       "   8413,\n",
       "   3.81,\n",
       "   'https://images.gr-assets.com/books/1318277038m/12844699.jpg',\n",
       "   1),\n",
       "  ('The Island of Dr. Libris',\n",
       "   'the island of dr libris',\n",
       "   3454,\n",
       "   3.75,\n",
       "   'https://images.gr-assets.com/books/1408923318m/22856146.jpg',\n",
       "   1),\n",
       "  ('Unbound (Magic Ex Libris, #3)',\n",
       "   'unbound magic ex libris 3',\n",
       "   1979,\n",
       "   4.13,\n",
       "   'https://images.gr-assets.com/books/1403774033m/18139127.jpg',\n",
       "   1),\n",
       "  ('Le Bilbliomancien (Magic Ex Libris, #1)',\n",
       "   'le bilbliomancien magic ex libris 1',\n",
       "   5,\n",
       "   3.81,\n",
       "   'https://images.gr-assets.com/books/1462885359m/30154618.jpg',\n",
       "   1),\n",
       "  ('Codex Born (Magic Ex Libris, #2)',\n",
       "   'codex born magic ex libris 2',\n",
       "   18,\n",
       "   3.91,\n",
       "   'https://images.gr-assets.com/books/1412458921m/23306537.jpg',\n",
       "   1)]]"
      ]
     },
     "execution_count": 12,
     "metadata": {},
     "output_type": "execute_result"
    }
   ],
   "source": [
    "search_result"
   ]
  },
  {
   "cell_type": "code",
   "execution_count": 13,
   "metadata": {},
   "outputs": [
    {
     "name": "stdout",
     "output_type": "stream",
     "text": [
      "[\n",
      "    {\n",
      "        \"title\": \"Ex libris\",\n",
      "        \"description\": \"ex libris\",\n",
      "        \"image\": \"https://images.gr-assets.com/books/1351354466m/16112111.jpg\",\n",
      "        \"price\": \"3.52\"\n",
      "    },\n",
      "    {\n",
      "        \"title\": \"Rex Libris #1\",\n",
      "        \"description\": \"rex libris 1\",\n",
      "        \"image\": \"https://images.gr-assets.com/books/1341990497m/5989753.jpg\",\n",
      "        \"price\": \"3.19\"\n",
      "    },\n",
      "    {\n",
      "        \"title\": \"Ex Libris Carissimis\",\n",
      "        \"description\": \"ex libris carissimis\",\n",
      "        \"image\": \"https://s.gr-assets.com/assets/nophoto/book/111x148-bcc042a9c91a29c1d680899eff700a03.png\",\n",
      "        \"price\": \"3.56\"\n",
      "    },\n",
      "    {\n",
      "        \"title\": \"Rex Libris, Volume I: I, Librarian (Rex Libris, #1-5)\",\n",
      "        \"description\": \"rex libris volume i i librarian rex libris 15\",\n",
      "        \"image\": \"https://s.gr-assets.com/assets/nophoto/book/111x148-bcc042a9c91a29c1d680899eff700a03.png\",\n",
      "        \"price\": \"3.36\"\n",
      "    },\n",
      "    {\n",
      "        \"title\": \"Ex libris. Wyznania czytelnika\",\n",
      "        \"description\": \"ex libris wyznania czytelnika\",\n",
      "        \"image\": \"https://s.gr-assets.com/assets/nophoto/book/111x148-bcc042a9c91a29c1d680899eff700a03.png\",\n",
      "        \"price\": \"4.15\"\n",
      "    },\n",
      "    {\n",
      "        \"title\": \"Revisionary (Magic Ex Libris, #4)\",\n",
      "        \"description\": \"revisionary magic ex libris 4\",\n",
      "        \"image\": \"https://images.gr-assets.com/books/1442617685m/24316214.jpg\",\n",
      "        \"price\": \"4.18\"\n",
      "    },\n",
      "    {\n",
      "        \"title\": \"Ex Libris: Ralph Gibson Photographs\",\n",
      "        \"description\": \"ex libris ralph gibson photographs\",\n",
      "        \"image\": \"https://s.gr-assets.com/assets/nophoto/book/111x148-bcc042a9c91a29c1d680899eff700a03.png\",\n",
      "        \"price\": \"4.31\"\n",
      "    },\n",
      "    {\n",
      "        \"title\": \"Libriomancer (Magic Ex Libris, #1)\",\n",
      "        \"description\": \"libriomancer magic ex libris 1\",\n",
      "        \"image\": \"https://images.gr-assets.com/books/1318277038m/12844699.jpg\",\n",
      "        \"price\": \"3.81\"\n",
      "    },\n",
      "    {\n",
      "        \"title\": \"The Island of Dr. Libris\",\n",
      "        \"description\": \"the island of dr libris\",\n",
      "        \"image\": \"https://images.gr-assets.com/books/1408923318m/22856146.jpg\",\n",
      "        \"price\": \"3.75\"\n",
      "    },\n",
      "    {\n",
      "        \"title\": \"Unbound (Magic Ex Libris, #3)\",\n",
      "        \"description\": \"unbound magic ex libris 3\",\n",
      "        \"image\": \"https://images.gr-assets.com/books/1403774033m/18139127.jpg\",\n",
      "        \"price\": \"4.13\"\n",
      "    },\n",
      "    {\n",
      "        \"title\": \"Le Bilbliomancien (Magic Ex Libris, #1)\",\n",
      "        \"description\": \"le bilbliomancien magic ex libris 1\",\n",
      "        \"image\": \"https://images.gr-assets.com/books/1462885359m/30154618.jpg\",\n",
      "        \"price\": \"3.81\"\n",
      "    },\n",
      "    {\n",
      "        \"title\": \"Codex Born (Magic Ex Libris, #2)\",\n",
      "        \"description\": \"codex born magic ex libris 2\",\n",
      "        \"image\": \"https://images.gr-assets.com/books/1412458921m/23306537.jpg\",\n",
      "        \"price\": \"3.91\"\n",
      "    }\n",
      "]\n"
     ]
    }
   ],
   "source": [
    "print(book_searchdetails_tojson(data=search_result[0]))"
   ]
  }
 ],
 "metadata": {
  "kernelspec": {
   "display_name": "Python 3",
   "language": "python",
   "name": "python3"
  },
  "language_info": {
   "codemirror_mode": {
    "name": "ipython",
    "version": 3
   },
   "file_extension": ".py",
   "mimetype": "text/x-python",
   "name": "python",
   "nbconvert_exporter": "python",
   "pygments_lexer": "ipython3",
   "version": "3.10.11"
  }
 },
 "nbformat": 4,
 "nbformat_minor": 2
}
