{
 "cells": [
  {
   "cell_type": "markdown",
   "metadata": {},
   "source": [
    "**Module Imports**"
   ]
  },
  {
   "cell_type": "code",
   "execution_count": 3,
   "metadata": {},
   "outputs": [],
   "source": [
    "import numpy as np\n",
    "import pandas as pd\n",
    "import re\n",
    "\n",
    "from nltk.tokenize import word_tokenize\n",
    "\n",
    "from sklearn.feature_extraction.text import TfidfVectorizer\n",
    "\n",
    "from sklearn.metrics.pairwise import cosine_similarity"
   ]
  },
  {
   "cell_type": "markdown",
   "metadata": {},
   "source": [
    "### Similarity Score Experiment - TfidfVectorizer + Cosine Similarity"
   ]
  },
  {
   "cell_type": "code",
   "execution_count": 14,
   "metadata": {},
   "outputs": [],
   "source": [
    "docs1 = [\n",
    "    \"Harry Potter and the Sorcerers Stone\",\n",
    "    \"Harry Potter and the Chamber of Secrets\",\n",
    "    \"The Sorcerer's Den\",\n",
    "    \"Great Sorcerers of NY\",\n",
    "    \"Great Secrets of Amazon\",\n",
    "    \"Peter Harry\",\n",
    "    \"Peter Harry Potter\",\n",
    "]"
   ]
  },
  {
   "cell_type": "code",
   "execution_count": 15,
   "metadata": {},
   "outputs": [
    {
     "data": {
      "text/plain": [
       "(7, 15)"
      ]
     },
     "execution_count": 15,
     "metadata": {},
     "output_type": "execute_result"
    }
   ],
   "source": [
    "tf1 = TfidfVectorizer(analyzer='word', ngram_range=(1, 1),\n",
    "                     min_df=0)\n",
    "\n",
    "tfidf1 = tf1.fit_transform(docs1)\n",
    "\n",
    "tfidf1.shape"
   ]
  },
  {
   "cell_type": "code",
   "execution_count": 21,
   "metadata": {},
   "outputs": [
    {
     "data": {
      "text/plain": [
       "array(['amazon', 'and', 'chamber', 'den', 'great', 'harry', 'ny', 'of',\n",
       "       'peter', 'potter', 'secrets', 'sorcerer', 'sorcerers', 'stone',\n",
       "       'the'], dtype=object)"
      ]
     },
     "execution_count": 21,
     "metadata": {},
     "output_type": "execute_result"
    }
   ],
   "source": [
    "tf1.get_feature_names_out()"
   ]
  },
  {
   "cell_type": "code",
   "execution_count": 17,
   "metadata": {},
   "outputs": [
    {
     "data": {
      "text/plain": [
       "matrix([[0.        , 0.42783212, 0.        , 0.        , 0.        ,\n",
       "         0.31750075, 0.        , 0.        , 0.        , 0.36569672,\n",
       "         0.        , 0.        , 0.42783212, 0.51540706, 0.36569672],\n",
       "        [0.        , 0.40180727, 0.48405506, 0.        , 0.        ,\n",
       "         0.29818731, 0.        , 0.34345153, 0.        , 0.34345153,\n",
       "         0.40180727, 0.        , 0.        , 0.        , 0.34345153],\n",
       "        [0.        , 0.        , 0.        , 0.63202178, 0.        ,\n",
       "         0.        , 0.        , 0.        , 0.        , 0.        ,\n",
       "         0.        , 0.63202178, 0.        , 0.        , 0.44843834],\n",
       "        [0.        , 0.        , 0.        , 0.        , 0.48900396,\n",
       "         0.        , 0.58910044, 0.41798437, 0.        , 0.        ,\n",
       "         0.        , 0.        , 0.48900396, 0.        , 0.        ],\n",
       "        [0.58910044, 0.        , 0.        , 0.        , 0.48900396,\n",
       "         0.        , 0.        , 0.41798437, 0.        , 0.        ,\n",
       "         0.48900396, 0.        , 0.        , 0.        , 0.        ],\n",
       "        [0.        , 0.        , 0.        , 0.        , 0.        ,\n",
       "         0.59594003, 0.        , 0.        , 0.80302894, 0.        ,\n",
       "         0.        , 0.        , 0.        , 0.        , 0.        ],\n",
       "        [0.        , 0.        , 0.        , 0.        , 0.        ,\n",
       "         0.49133117, 0.        , 0.        , 0.66206854, 0.56591424,\n",
       "         0.        , 0.        , 0.        , 0.        , 0.        ]])"
      ]
     },
     "execution_count": 17,
     "metadata": {},
     "output_type": "execute_result"
    }
   ],
   "source": [
    "tfidf1.todense()"
   ]
  },
  {
   "cell_type": "code",
   "execution_count": 22,
   "metadata": {},
   "outputs": [
    {
     "data": {
      "text/html": [
       "<div>\n",
       "<style scoped>\n",
       "    .dataframe tbody tr th:only-of-type {\n",
       "        vertical-align: middle;\n",
       "    }\n",
       "\n",
       "    .dataframe tbody tr th {\n",
       "        vertical-align: top;\n",
       "    }\n",
       "\n",
       "    .dataframe thead th {\n",
       "        text-align: right;\n",
       "    }\n",
       "</style>\n",
       "<table border=\"1\" class=\"dataframe\">\n",
       "  <thead>\n",
       "    <tr style=\"text-align: right;\">\n",
       "      <th></th>\n",
       "      <th>amazon</th>\n",
       "      <th>and</th>\n",
       "      <th>chamber</th>\n",
       "      <th>den</th>\n",
       "      <th>great</th>\n",
       "      <th>harry</th>\n",
       "      <th>ny</th>\n",
       "      <th>of</th>\n",
       "      <th>peter</th>\n",
       "      <th>potter</th>\n",
       "      <th>secrets</th>\n",
       "      <th>sorcerer</th>\n",
       "      <th>sorcerers</th>\n",
       "      <th>stone</th>\n",
       "      <th>the</th>\n",
       "    </tr>\n",
       "  </thead>\n",
       "  <tbody>\n",
       "    <tr>\n",
       "      <th>Harry Potter and the Sorcerers Stone</th>\n",
       "      <td>0.0000</td>\n",
       "      <td>0.427832</td>\n",
       "      <td>0.000000</td>\n",
       "      <td>0.000000</td>\n",
       "      <td>0.000000</td>\n",
       "      <td>0.317501</td>\n",
       "      <td>0.0000</td>\n",
       "      <td>0.000000</td>\n",
       "      <td>0.000000</td>\n",
       "      <td>0.365697</td>\n",
       "      <td>0.000000</td>\n",
       "      <td>0.000000</td>\n",
       "      <td>0.427832</td>\n",
       "      <td>0.515407</td>\n",
       "      <td>0.365697</td>\n",
       "    </tr>\n",
       "    <tr>\n",
       "      <th>Harry Potter and the Chamber of Secrets</th>\n",
       "      <td>0.0000</td>\n",
       "      <td>0.401807</td>\n",
       "      <td>0.484055</td>\n",
       "      <td>0.000000</td>\n",
       "      <td>0.000000</td>\n",
       "      <td>0.298187</td>\n",
       "      <td>0.0000</td>\n",
       "      <td>0.343452</td>\n",
       "      <td>0.000000</td>\n",
       "      <td>0.343452</td>\n",
       "      <td>0.401807</td>\n",
       "      <td>0.000000</td>\n",
       "      <td>0.000000</td>\n",
       "      <td>0.000000</td>\n",
       "      <td>0.343452</td>\n",
       "    </tr>\n",
       "    <tr>\n",
       "      <th>The Sorcerer's Den</th>\n",
       "      <td>0.0000</td>\n",
       "      <td>0.000000</td>\n",
       "      <td>0.000000</td>\n",
       "      <td>0.632022</td>\n",
       "      <td>0.000000</td>\n",
       "      <td>0.000000</td>\n",
       "      <td>0.0000</td>\n",
       "      <td>0.000000</td>\n",
       "      <td>0.000000</td>\n",
       "      <td>0.000000</td>\n",
       "      <td>0.000000</td>\n",
       "      <td>0.632022</td>\n",
       "      <td>0.000000</td>\n",
       "      <td>0.000000</td>\n",
       "      <td>0.448438</td>\n",
       "    </tr>\n",
       "    <tr>\n",
       "      <th>Great Sorcerers of NY</th>\n",
       "      <td>0.0000</td>\n",
       "      <td>0.000000</td>\n",
       "      <td>0.000000</td>\n",
       "      <td>0.000000</td>\n",
       "      <td>0.489004</td>\n",
       "      <td>0.000000</td>\n",
       "      <td>0.5891</td>\n",
       "      <td>0.417984</td>\n",
       "      <td>0.000000</td>\n",
       "      <td>0.000000</td>\n",
       "      <td>0.000000</td>\n",
       "      <td>0.000000</td>\n",
       "      <td>0.489004</td>\n",
       "      <td>0.000000</td>\n",
       "      <td>0.000000</td>\n",
       "    </tr>\n",
       "    <tr>\n",
       "      <th>Great Secrets of Amazon</th>\n",
       "      <td>0.5891</td>\n",
       "      <td>0.000000</td>\n",
       "      <td>0.000000</td>\n",
       "      <td>0.000000</td>\n",
       "      <td>0.489004</td>\n",
       "      <td>0.000000</td>\n",
       "      <td>0.0000</td>\n",
       "      <td>0.417984</td>\n",
       "      <td>0.000000</td>\n",
       "      <td>0.000000</td>\n",
       "      <td>0.489004</td>\n",
       "      <td>0.000000</td>\n",
       "      <td>0.000000</td>\n",
       "      <td>0.000000</td>\n",
       "      <td>0.000000</td>\n",
       "    </tr>\n",
       "    <tr>\n",
       "      <th>Peter Harry</th>\n",
       "      <td>0.0000</td>\n",
       "      <td>0.000000</td>\n",
       "      <td>0.000000</td>\n",
       "      <td>0.000000</td>\n",
       "      <td>0.000000</td>\n",
       "      <td>0.595940</td>\n",
       "      <td>0.0000</td>\n",
       "      <td>0.000000</td>\n",
       "      <td>0.803029</td>\n",
       "      <td>0.000000</td>\n",
       "      <td>0.000000</td>\n",
       "      <td>0.000000</td>\n",
       "      <td>0.000000</td>\n",
       "      <td>0.000000</td>\n",
       "      <td>0.000000</td>\n",
       "    </tr>\n",
       "    <tr>\n",
       "      <th>Peter Harry Potter</th>\n",
       "      <td>0.0000</td>\n",
       "      <td>0.000000</td>\n",
       "      <td>0.000000</td>\n",
       "      <td>0.000000</td>\n",
       "      <td>0.000000</td>\n",
       "      <td>0.491331</td>\n",
       "      <td>0.0000</td>\n",
       "      <td>0.000000</td>\n",
       "      <td>0.662069</td>\n",
       "      <td>0.565914</td>\n",
       "      <td>0.000000</td>\n",
       "      <td>0.000000</td>\n",
       "      <td>0.000000</td>\n",
       "      <td>0.000000</td>\n",
       "      <td>0.000000</td>\n",
       "    </tr>\n",
       "  </tbody>\n",
       "</table>\n",
       "</div>"
      ],
      "text/plain": [
       "                                         amazon       and   chamber       den  \\\n",
       "Harry Potter and the Sorcerers Stone     0.0000  0.427832  0.000000  0.000000   \n",
       "Harry Potter and the Chamber of Secrets  0.0000  0.401807  0.484055  0.000000   \n",
       "The Sorcerer's Den                       0.0000  0.000000  0.000000  0.632022   \n",
       "Great Sorcerers of NY                    0.0000  0.000000  0.000000  0.000000   \n",
       "Great Secrets of Amazon                  0.5891  0.000000  0.000000  0.000000   \n",
       "Peter Harry                              0.0000  0.000000  0.000000  0.000000   \n",
       "Peter Harry Potter                       0.0000  0.000000  0.000000  0.000000   \n",
       "\n",
       "                                            great     harry      ny        of  \\\n",
       "Harry Potter and the Sorcerers Stone     0.000000  0.317501  0.0000  0.000000   \n",
       "Harry Potter and the Chamber of Secrets  0.000000  0.298187  0.0000  0.343452   \n",
       "The Sorcerer's Den                       0.000000  0.000000  0.0000  0.000000   \n",
       "Great Sorcerers of NY                    0.489004  0.000000  0.5891  0.417984   \n",
       "Great Secrets of Amazon                  0.489004  0.000000  0.0000  0.417984   \n",
       "Peter Harry                              0.000000  0.595940  0.0000  0.000000   \n",
       "Peter Harry Potter                       0.000000  0.491331  0.0000  0.000000   \n",
       "\n",
       "                                            peter    potter   secrets  \\\n",
       "Harry Potter and the Sorcerers Stone     0.000000  0.365697  0.000000   \n",
       "Harry Potter and the Chamber of Secrets  0.000000  0.343452  0.401807   \n",
       "The Sorcerer's Den                       0.000000  0.000000  0.000000   \n",
       "Great Sorcerers of NY                    0.000000  0.000000  0.000000   \n",
       "Great Secrets of Amazon                  0.000000  0.000000  0.489004   \n",
       "Peter Harry                              0.803029  0.000000  0.000000   \n",
       "Peter Harry Potter                       0.662069  0.565914  0.000000   \n",
       "\n",
       "                                         sorcerer  sorcerers     stone  \\\n",
       "Harry Potter and the Sorcerers Stone     0.000000   0.427832  0.515407   \n",
       "Harry Potter and the Chamber of Secrets  0.000000   0.000000  0.000000   \n",
       "The Sorcerer's Den                       0.632022   0.000000  0.000000   \n",
       "Great Sorcerers of NY                    0.000000   0.489004  0.000000   \n",
       "Great Secrets of Amazon                  0.000000   0.000000  0.000000   \n",
       "Peter Harry                              0.000000   0.000000  0.000000   \n",
       "Peter Harry Potter                       0.000000   0.000000  0.000000   \n",
       "\n",
       "                                              the  \n",
       "Harry Potter and the Sorcerers Stone     0.365697  \n",
       "Harry Potter and the Chamber of Secrets  0.343452  \n",
       "The Sorcerer's Den                       0.448438  \n",
       "Great Sorcerers of NY                    0.000000  \n",
       "Great Secrets of Amazon                  0.000000  \n",
       "Peter Harry                              0.000000  \n",
       "Peter Harry Potter                       0.000000  "
      ]
     },
     "execution_count": 22,
     "metadata": {},
     "output_type": "execute_result"
    }
   ],
   "source": [
    "pd.DataFrame(data=tfidf1.toarray(), index=docs1,\n",
    "             columns=tf1.get_feature_names_out())"
   ]
  },
  {
   "cell_type": "code",
   "execution_count": 23,
   "metadata": {},
   "outputs": [
    {
     "data": {
      "text/plain": [
       "array([[1.        , 0.51777895, 0.16399243, 0.2092116 , 0.        ,\n",
       "        0.18921141, 0.362951  ],\n",
       "       [0.51777895, 1.        , 0.15401684, 0.14355737, 0.34004272,\n",
       "        0.17770175, 0.34087283],\n",
       "       [0.16399243, 0.15401684, 1.        , 0.        , 0.        ,\n",
       "        0.        , 0.        ],\n",
       "       [0.2092116 , 0.14355737, 0.        , 1.        , 0.4138358 ,\n",
       "        0.        , 0.        ],\n",
       "       [0.        , 0.34004272, 0.        , 0.4138358 , 1.        ,\n",
       "        0.        , 0.        ],\n",
       "       [0.18921141, 0.17770175, 0.        , 0.        , 0.        ,\n",
       "        1.        , 0.82446411],\n",
       "       [0.362951  , 0.34087283, 0.        , 0.        , 0.        ,\n",
       "        0.82446411, 1.        ]])"
      ]
     },
     "execution_count": 23,
     "metadata": {},
     "output_type": "execute_result"
    }
   ],
   "source": [
    "cosine_sim1 = cosine_similarity(tfidf1, tfidf1)\n",
    "cosine_sim1"
   ]
  },
  {
   "cell_type": "code",
   "execution_count": 24,
   "metadata": {},
   "outputs": [
    {
     "data": {
      "text/html": [
       "<div>\n",
       "<style scoped>\n",
       "    .dataframe tbody tr th:only-of-type {\n",
       "        vertical-align: middle;\n",
       "    }\n",
       "\n",
       "    .dataframe tbody tr th {\n",
       "        vertical-align: top;\n",
       "    }\n",
       "\n",
       "    .dataframe thead th {\n",
       "        text-align: right;\n",
       "    }\n",
       "</style>\n",
       "<table border=\"1\" class=\"dataframe\">\n",
       "  <thead>\n",
       "    <tr style=\"text-align: right;\">\n",
       "      <th></th>\n",
       "      <th>Harry Potter and the Sorcerers Stone</th>\n",
       "      <th>Harry Potter and the Chamber of Secrets</th>\n",
       "      <th>The Sorcerer's Den</th>\n",
       "      <th>Great Sorcerers of NY</th>\n",
       "      <th>Great Secrets of Amazon</th>\n",
       "      <th>Peter Harry</th>\n",
       "      <th>Peter Harry Potter</th>\n",
       "    </tr>\n",
       "  </thead>\n",
       "  <tbody>\n",
       "    <tr>\n",
       "      <th>Harry Potter and the Sorcerers Stone</th>\n",
       "      <td>1.000000</td>\n",
       "      <td>0.517779</td>\n",
       "      <td>0.163992</td>\n",
       "      <td>0.209212</td>\n",
       "      <td>0.000000</td>\n",
       "      <td>0.189211</td>\n",
       "      <td>0.362951</td>\n",
       "    </tr>\n",
       "    <tr>\n",
       "      <th>Harry Potter and the Chamber of Secrets</th>\n",
       "      <td>0.517779</td>\n",
       "      <td>1.000000</td>\n",
       "      <td>0.154017</td>\n",
       "      <td>0.143557</td>\n",
       "      <td>0.340043</td>\n",
       "      <td>0.177702</td>\n",
       "      <td>0.340873</td>\n",
       "    </tr>\n",
       "    <tr>\n",
       "      <th>The Sorcerer's Den</th>\n",
       "      <td>0.163992</td>\n",
       "      <td>0.154017</td>\n",
       "      <td>1.000000</td>\n",
       "      <td>0.000000</td>\n",
       "      <td>0.000000</td>\n",
       "      <td>0.000000</td>\n",
       "      <td>0.000000</td>\n",
       "    </tr>\n",
       "    <tr>\n",
       "      <th>Great Sorcerers of NY</th>\n",
       "      <td>0.209212</td>\n",
       "      <td>0.143557</td>\n",
       "      <td>0.000000</td>\n",
       "      <td>1.000000</td>\n",
       "      <td>0.413836</td>\n",
       "      <td>0.000000</td>\n",
       "      <td>0.000000</td>\n",
       "    </tr>\n",
       "    <tr>\n",
       "      <th>Great Secrets of Amazon</th>\n",
       "      <td>0.000000</td>\n",
       "      <td>0.340043</td>\n",
       "      <td>0.000000</td>\n",
       "      <td>0.413836</td>\n",
       "      <td>1.000000</td>\n",
       "      <td>0.000000</td>\n",
       "      <td>0.000000</td>\n",
       "    </tr>\n",
       "    <tr>\n",
       "      <th>Peter Harry</th>\n",
       "      <td>0.189211</td>\n",
       "      <td>0.177702</td>\n",
       "      <td>0.000000</td>\n",
       "      <td>0.000000</td>\n",
       "      <td>0.000000</td>\n",
       "      <td>1.000000</td>\n",
       "      <td>0.824464</td>\n",
       "    </tr>\n",
       "    <tr>\n",
       "      <th>Peter Harry Potter</th>\n",
       "      <td>0.362951</td>\n",
       "      <td>0.340873</td>\n",
       "      <td>0.000000</td>\n",
       "      <td>0.000000</td>\n",
       "      <td>0.000000</td>\n",
       "      <td>0.824464</td>\n",
       "      <td>1.000000</td>\n",
       "    </tr>\n",
       "  </tbody>\n",
       "</table>\n",
       "</div>"
      ],
      "text/plain": [
       "                                         Harry Potter and the Sorcerers Stone  \\\n",
       "Harry Potter and the Sorcerers Stone                                 1.000000   \n",
       "Harry Potter and the Chamber of Secrets                              0.517779   \n",
       "The Sorcerer's Den                                                   0.163992   \n",
       "Great Sorcerers of NY                                                0.209212   \n",
       "Great Secrets of Amazon                                              0.000000   \n",
       "Peter Harry                                                          0.189211   \n",
       "Peter Harry Potter                                                   0.362951   \n",
       "\n",
       "                                         Harry Potter and the Chamber of Secrets  \\\n",
       "Harry Potter and the Sorcerers Stone                                    0.517779   \n",
       "Harry Potter and the Chamber of Secrets                                 1.000000   \n",
       "The Sorcerer's Den                                                      0.154017   \n",
       "Great Sorcerers of NY                                                   0.143557   \n",
       "Great Secrets of Amazon                                                 0.340043   \n",
       "Peter Harry                                                             0.177702   \n",
       "Peter Harry Potter                                                      0.340873   \n",
       "\n",
       "                                         The Sorcerer's Den  \\\n",
       "Harry Potter and the Sorcerers Stone               0.163992   \n",
       "Harry Potter and the Chamber of Secrets            0.154017   \n",
       "The Sorcerer's Den                                 1.000000   \n",
       "Great Sorcerers of NY                              0.000000   \n",
       "Great Secrets of Amazon                            0.000000   \n",
       "Peter Harry                                        0.000000   \n",
       "Peter Harry Potter                                 0.000000   \n",
       "\n",
       "                                         Great Sorcerers of NY  \\\n",
       "Harry Potter and the Sorcerers Stone                  0.209212   \n",
       "Harry Potter and the Chamber of Secrets               0.143557   \n",
       "The Sorcerer's Den                                    0.000000   \n",
       "Great Sorcerers of NY                                 1.000000   \n",
       "Great Secrets of Amazon                               0.413836   \n",
       "Peter Harry                                           0.000000   \n",
       "Peter Harry Potter                                    0.000000   \n",
       "\n",
       "                                         Great Secrets of Amazon  Peter Harry  \\\n",
       "Harry Potter and the Sorcerers Stone                    0.000000     0.189211   \n",
       "Harry Potter and the Chamber of Secrets                 0.340043     0.177702   \n",
       "The Sorcerer's Den                                      0.000000     0.000000   \n",
       "Great Sorcerers of NY                                   0.413836     0.000000   \n",
       "Great Secrets of Amazon                                 1.000000     0.000000   \n",
       "Peter Harry                                             0.000000     1.000000   \n",
       "Peter Harry Potter                                      0.000000     0.824464   \n",
       "\n",
       "                                         Peter Harry Potter  \n",
       "Harry Potter and the Sorcerers Stone               0.362951  \n",
       "Harry Potter and the Chamber of Secrets            0.340873  \n",
       "The Sorcerer's Den                                 0.000000  \n",
       "Great Sorcerers of NY                              0.000000  \n",
       "Great Secrets of Amazon                            0.000000  \n",
       "Peter Harry                                        0.824464  \n",
       "Peter Harry Potter                                 1.000000  "
      ]
     },
     "execution_count": 24,
     "metadata": {},
     "output_type": "execute_result"
    }
   ],
   "source": [
    "pd.DataFrame(data=cosine_sim1, index=docs1,\n",
    "             columns=docs1)"
   ]
  },
  {
   "cell_type": "markdown",
   "metadata": {},
   "source": [
    "**Different similarity checks for the following cases**"
   ]
  },
  {
   "cell_type": "code",
   "execution_count": 26,
   "metadata": {},
   "outputs": [
    {
     "data": {
      "text/html": [
       "<div>\n",
       "<style scoped>\n",
       "    .dataframe tbody tr th:only-of-type {\n",
       "        vertical-align: middle;\n",
       "    }\n",
       "\n",
       "    .dataframe tbody tr th {\n",
       "        vertical-align: top;\n",
       "    }\n",
       "\n",
       "    .dataframe thead th {\n",
       "        text-align: right;\n",
       "    }\n",
       "</style>\n",
       "<table border=\"1\" class=\"dataframe\">\n",
       "  <thead>\n",
       "    <tr style=\"text-align: right;\">\n",
       "      <th></th>\n",
       "      <th>Harry Potter</th>\n",
       "    </tr>\n",
       "  </thead>\n",
       "  <tbody>\n",
       "    <tr>\n",
       "      <th>Harry Potter and the Sorcerers Stone</th>\n",
       "      <td>0.484294</td>\n",
       "    </tr>\n",
       "    <tr>\n",
       "      <th>Harry Potter and the Chamber of Secrets</th>\n",
       "      <td>0.454835</td>\n",
       "    </tr>\n",
       "    <tr>\n",
       "      <th>The Sorcerer's Den</th>\n",
       "      <td>0.000000</td>\n",
       "    </tr>\n",
       "    <tr>\n",
       "      <th>Great Sorcerers of NY</th>\n",
       "      <td>0.000000</td>\n",
       "    </tr>\n",
       "    <tr>\n",
       "      <th>Great Secrets of Amazon</th>\n",
       "      <td>0.000000</td>\n",
       "    </tr>\n",
       "    <tr>\n",
       "      <th>Peter Harry</th>\n",
       "      <td>0.390695</td>\n",
       "    </tr>\n",
       "    <tr>\n",
       "      <th>Peter Harry Potter</th>\n",
       "      <td>0.749443</td>\n",
       "    </tr>\n",
       "  </tbody>\n",
       "</table>\n",
       "</div>"
      ],
      "text/plain": [
       "                                         Harry Potter\n",
       "Harry Potter and the Sorcerers Stone         0.484294\n",
       "Harry Potter and the Chamber of Secrets      0.454835\n",
       "The Sorcerer's Den                           0.000000\n",
       "Great Sorcerers of NY                        0.000000\n",
       "Great Secrets of Amazon                      0.000000\n",
       "Peter Harry                                  0.390695\n",
       "Peter Harry Potter                           0.749443"
      ]
     },
     "execution_count": 26,
     "metadata": {},
     "output_type": "execute_result"
    }
   ],
   "source": [
    "pd.DataFrame(data=cosine_similarity(tfidf1, tf1.transform([\"Harry Potter\"])), index=docs1,\n",
    "             columns=[\"Harry Potter\"])"
   ]
  },
  {
   "cell_type": "code",
   "execution_count": 29,
   "metadata": {},
   "outputs": [
    {
     "data": {
      "text/html": [
       "<div>\n",
       "<style scoped>\n",
       "    .dataframe tbody tr th:only-of-type {\n",
       "        vertical-align: middle;\n",
       "    }\n",
       "\n",
       "    .dataframe tbody tr th {\n",
       "        vertical-align: top;\n",
       "    }\n",
       "\n",
       "    .dataframe thead th {\n",
       "        text-align: right;\n",
       "    }\n",
       "</style>\n",
       "<table border=\"1\" class=\"dataframe\">\n",
       "  <thead>\n",
       "    <tr style=\"text-align: right;\">\n",
       "      <th></th>\n",
       "      <th>Harry Potter and</th>\n",
       "    </tr>\n",
       "  </thead>\n",
       "  <tbody>\n",
       "    <tr>\n",
       "      <th>Harry Potter and the Sorcerers Stone</th>\n",
       "      <td>0.646205</td>\n",
       "    </tr>\n",
       "    <tr>\n",
       "      <th>Harry Potter and the Chamber of Secrets</th>\n",
       "      <td>0.606897</td>\n",
       "    </tr>\n",
       "    <tr>\n",
       "      <th>The Sorcerer's Den</th>\n",
       "      <td>0.000000</td>\n",
       "    </tr>\n",
       "    <tr>\n",
       "      <th>Great Sorcerers of NY</th>\n",
       "      <td>0.000000</td>\n",
       "    </tr>\n",
       "    <tr>\n",
       "      <th>Great Secrets of Amazon</th>\n",
       "      <td>0.000000</td>\n",
       "    </tr>\n",
       "    <tr>\n",
       "      <th>Peter Harry</th>\n",
       "      <td>0.292804</td>\n",
       "    </tr>\n",
       "    <tr>\n",
       "      <th>Peter Harry Potter</th>\n",
       "      <td>0.561665</td>\n",
       "    </tr>\n",
       "  </tbody>\n",
       "</table>\n",
       "</div>"
      ],
      "text/plain": [
       "                                         Harry Potter and\n",
       "Harry Potter and the Sorcerers Stone             0.646205\n",
       "Harry Potter and the Chamber of Secrets          0.606897\n",
       "The Sorcerer's Den                               0.000000\n",
       "Great Sorcerers of NY                            0.000000\n",
       "Great Secrets of Amazon                          0.000000\n",
       "Peter Harry                                      0.292804\n",
       "Peter Harry Potter                               0.561665"
      ]
     },
     "execution_count": 29,
     "metadata": {},
     "output_type": "execute_result"
    }
   ],
   "source": [
    "pd.DataFrame(data=cosine_similarity(tfidf1, tf1.transform([\"Harry Potter and\"])), index=docs1,\n",
    "             columns=[\"Harry Potter and\"])"
   ]
  },
  {
   "cell_type": "code",
   "execution_count": 30,
   "metadata": {},
   "outputs": [
    {
     "data": {
      "text/html": [
       "<div>\n",
       "<style scoped>\n",
       "    .dataframe tbody tr th:only-of-type {\n",
       "        vertical-align: middle;\n",
       "    }\n",
       "\n",
       "    .dataframe tbody tr th {\n",
       "        vertical-align: top;\n",
       "    }\n",
       "\n",
       "    .dataframe thead th {\n",
       "        text-align: right;\n",
       "    }\n",
       "</style>\n",
       "<table border=\"1\" class=\"dataframe\">\n",
       "  <thead>\n",
       "    <tr style=\"text-align: right;\">\n",
       "      <th></th>\n",
       "      <th>Harry Potter of Great</th>\n",
       "    </tr>\n",
       "  </thead>\n",
       "  <tbody>\n",
       "    <tr>\n",
       "      <th>Harry Potter and the Sorcerers Stone</th>\n",
       "      <td>0.315877</td>\n",
       "    </tr>\n",
       "    <tr>\n",
       "      <th>Harry Potter and the Chamber of Secrets</th>\n",
       "      <td>0.465818</td>\n",
       "    </tr>\n",
       "    <tr>\n",
       "      <th>The Sorcerer's Den</th>\n",
       "      <td>0.000000</td>\n",
       "    </tr>\n",
       "    <tr>\n",
       "      <th>Great Sorcerers of NY</th>\n",
       "      <td>0.487629</td>\n",
       "    </tr>\n",
       "    <tr>\n",
       "      <th>Great Secrets of Amazon</th>\n",
       "      <td>0.487629</td>\n",
       "    </tr>\n",
       "    <tr>\n",
       "      <th>Peter Harry</th>\n",
       "      <td>0.254828</td>\n",
       "    </tr>\n",
       "    <tr>\n",
       "      <th>Peter Harry Potter</th>\n",
       "      <td>0.488819</td>\n",
       "    </tr>\n",
       "  </tbody>\n",
       "</table>\n",
       "</div>"
      ],
      "text/plain": [
       "                                         Harry Potter of Great\n",
       "Harry Potter and the Sorcerers Stone                  0.315877\n",
       "Harry Potter and the Chamber of Secrets               0.465818\n",
       "The Sorcerer's Den                                    0.000000\n",
       "Great Sorcerers of NY                                 0.487629\n",
       "Great Secrets of Amazon                               0.487629\n",
       "Peter Harry                                           0.254828\n",
       "Peter Harry Potter                                    0.488819"
      ]
     },
     "execution_count": 30,
     "metadata": {},
     "output_type": "execute_result"
    }
   ],
   "source": [
    "pd.DataFrame(data=cosine_similarity(tfidf1, tf1.transform([\"Harry Potter of Great\"])), index=docs1,\n",
    "             columns=[\"Harry Potter of Great\"])"
   ]
  },
  {
   "cell_type": "markdown",
   "metadata": {},
   "source": [
    "**Order of the string has no effect on cosine similarity score**"
   ]
  },
  {
   "cell_type": "code",
   "execution_count": 33,
   "metadata": {},
   "outputs": [],
   "source": [
    "data1 = cosine_similarity(tfidf1, tf1.transform([\"Harry and the Potter\"]))\n",
    "data2 = cosine_similarity(tfidf1, tf1.transform([\"and the Potter Harry\"]))\n",
    "\n",
    "data = np.hstack((data1,data2))"
   ]
  },
  {
   "cell_type": "code",
   "execution_count": 34,
   "metadata": {},
   "outputs": [
    {
     "data": {
      "text/html": [
       "<div>\n",
       "<style scoped>\n",
       "    .dataframe tbody tr th:only-of-type {\n",
       "        vertical-align: middle;\n",
       "    }\n",
       "\n",
       "    .dataframe tbody tr th {\n",
       "        vertical-align: top;\n",
       "    }\n",
       "\n",
       "    .dataframe thead th {\n",
       "        text-align: right;\n",
       "    }\n",
       "</style>\n",
       "<table border=\"1\" class=\"dataframe\">\n",
       "  <thead>\n",
       "    <tr style=\"text-align: right;\">\n",
       "      <th></th>\n",
       "      <th>Harry and the Potter</th>\n",
       "      <th>and the Potter Harry</th>\n",
       "    </tr>\n",
       "  </thead>\n",
       "  <tbody>\n",
       "    <tr>\n",
       "      <th>Harry Potter and the Sorcerers Stone</th>\n",
       "      <td>0.742506</td>\n",
       "      <td>0.742506</td>\n",
       "    </tr>\n",
       "    <tr>\n",
       "      <th>Harry Potter and the Chamber of Secrets</th>\n",
       "      <td>0.697340</td>\n",
       "      <td>0.697340</td>\n",
       "    </tr>\n",
       "    <tr>\n",
       "      <th>The Sorcerer's Den</th>\n",
       "      <td>0.220863</td>\n",
       "      <td>0.220863</td>\n",
       "    </tr>\n",
       "    <tr>\n",
       "      <th>Great Sorcerers of NY</th>\n",
       "      <td>0.000000</td>\n",
       "      <td>0.000000</td>\n",
       "    </tr>\n",
       "    <tr>\n",
       "      <th>Great Secrets of Amazon</th>\n",
       "      <td>0.000000</td>\n",
       "      <td>0.000000</td>\n",
       "    </tr>\n",
       "    <tr>\n",
       "      <th>Peter Harry</th>\n",
       "      <td>0.254828</td>\n",
       "      <td>0.254828</td>\n",
       "    </tr>\n",
       "    <tr>\n",
       "      <th>Peter Harry Potter</th>\n",
       "      <td>0.488819</td>\n",
       "      <td>0.488819</td>\n",
       "    </tr>\n",
       "  </tbody>\n",
       "</table>\n",
       "</div>"
      ],
      "text/plain": [
       "                                         Harry and the Potter  \\\n",
       "Harry Potter and the Sorcerers Stone                 0.742506   \n",
       "Harry Potter and the Chamber of Secrets              0.697340   \n",
       "The Sorcerer's Den                                   0.220863   \n",
       "Great Sorcerers of NY                                0.000000   \n",
       "Great Secrets of Amazon                              0.000000   \n",
       "Peter Harry                                          0.254828   \n",
       "Peter Harry Potter                                   0.488819   \n",
       "\n",
       "                                         and the Potter Harry  \n",
       "Harry Potter and the Sorcerers Stone                 0.742506  \n",
       "Harry Potter and the Chamber of Secrets              0.697340  \n",
       "The Sorcerer's Den                                   0.220863  \n",
       "Great Sorcerers of NY                                0.000000  \n",
       "Great Secrets of Amazon                              0.000000  \n",
       "Peter Harry                                          0.254828  \n",
       "Peter Harry Potter                                   0.488819  "
      ]
     },
     "execution_count": 34,
     "metadata": {},
     "output_type": "execute_result"
    }
   ],
   "source": [
    "pd.DataFrame(data=data, index=docs1,\n",
    "             columns=[\"Harry and the Potter\",\"and the Potter Harry\"])"
   ]
  },
  {
   "cell_type": "markdown",
   "metadata": {},
   "source": [
    "**Partial words has no effect on the similarity score as tfidf score only varies if the word is in the vocabulary**"
   ]
  },
  {
   "cell_type": "code",
   "execution_count": 37,
   "metadata": {},
   "outputs": [],
   "source": [
    "data = np.hstack((data,cosine_similarity(tfidf1, tf1.transform([\"Harry Potter and the Sor Sto\"]))))"
   ]
  },
  {
   "cell_type": "code",
   "execution_count": 38,
   "metadata": {},
   "outputs": [
    {
     "data": {
      "text/html": [
       "<div>\n",
       "<style scoped>\n",
       "    .dataframe tbody tr th:only-of-type {\n",
       "        vertical-align: middle;\n",
       "    }\n",
       "\n",
       "    .dataframe tbody tr th {\n",
       "        vertical-align: top;\n",
       "    }\n",
       "\n",
       "    .dataframe thead th {\n",
       "        text-align: right;\n",
       "    }\n",
       "</style>\n",
       "<table border=\"1\" class=\"dataframe\">\n",
       "  <thead>\n",
       "    <tr style=\"text-align: right;\">\n",
       "      <th></th>\n",
       "      <th>Harry and the Potter</th>\n",
       "      <th>and the Potter Harry</th>\n",
       "      <th>Harry Potter and the Sor Sto</th>\n",
       "    </tr>\n",
       "  </thead>\n",
       "  <tbody>\n",
       "    <tr>\n",
       "      <th>Harry Potter and the Sorcerers Stone</th>\n",
       "      <td>0.742506</td>\n",
       "      <td>0.742506</td>\n",
       "      <td>0.742506</td>\n",
       "    </tr>\n",
       "    <tr>\n",
       "      <th>Harry Potter and the Chamber of Secrets</th>\n",
       "      <td>0.697340</td>\n",
       "      <td>0.697340</td>\n",
       "      <td>0.697340</td>\n",
       "    </tr>\n",
       "    <tr>\n",
       "      <th>The Sorcerer's Den</th>\n",
       "      <td>0.220863</td>\n",
       "      <td>0.220863</td>\n",
       "      <td>0.220863</td>\n",
       "    </tr>\n",
       "    <tr>\n",
       "      <th>Great Sorcerers of NY</th>\n",
       "      <td>0.000000</td>\n",
       "      <td>0.000000</td>\n",
       "      <td>0.000000</td>\n",
       "    </tr>\n",
       "    <tr>\n",
       "      <th>Great Secrets of Amazon</th>\n",
       "      <td>0.000000</td>\n",
       "      <td>0.000000</td>\n",
       "      <td>0.000000</td>\n",
       "    </tr>\n",
       "    <tr>\n",
       "      <th>Peter Harry</th>\n",
       "      <td>0.254828</td>\n",
       "      <td>0.254828</td>\n",
       "      <td>0.254828</td>\n",
       "    </tr>\n",
       "    <tr>\n",
       "      <th>Peter Harry Potter</th>\n",
       "      <td>0.488819</td>\n",
       "      <td>0.488819</td>\n",
       "      <td>0.488819</td>\n",
       "    </tr>\n",
       "  </tbody>\n",
       "</table>\n",
       "</div>"
      ],
      "text/plain": [
       "                                         Harry and the Potter  \\\n",
       "Harry Potter and the Sorcerers Stone                 0.742506   \n",
       "Harry Potter and the Chamber of Secrets              0.697340   \n",
       "The Sorcerer's Den                                   0.220863   \n",
       "Great Sorcerers of NY                                0.000000   \n",
       "Great Secrets of Amazon                              0.000000   \n",
       "Peter Harry                                          0.254828   \n",
       "Peter Harry Potter                                   0.488819   \n",
       "\n",
       "                                         and the Potter Harry  \\\n",
       "Harry Potter and the Sorcerers Stone                 0.742506   \n",
       "Harry Potter and the Chamber of Secrets              0.697340   \n",
       "The Sorcerer's Den                                   0.220863   \n",
       "Great Sorcerers of NY                                0.000000   \n",
       "Great Secrets of Amazon                              0.000000   \n",
       "Peter Harry                                          0.254828   \n",
       "Peter Harry Potter                                   0.488819   \n",
       "\n",
       "                                         Harry Potter and the Sor Sto  \n",
       "Harry Potter and the Sorcerers Stone                         0.742506  \n",
       "Harry Potter and the Chamber of Secrets                      0.697340  \n",
       "The Sorcerer's Den                                           0.220863  \n",
       "Great Sorcerers of NY                                        0.000000  \n",
       "Great Secrets of Amazon                                      0.000000  \n",
       "Peter Harry                                                  0.254828  \n",
       "Peter Harry Potter                                           0.488819  "
      ]
     },
     "execution_count": 38,
     "metadata": {},
     "output_type": "execute_result"
    }
   ],
   "source": [
    "pd.DataFrame(data=data, index=docs1,\n",
    "             columns=[\"Harry and the Potter\",\"and the Potter Harry\",\"Harry Potter and the Sor Sto\"])"
   ]
  },
  {
   "cell_type": "code",
   "execution_count": null,
   "metadata": {},
   "outputs": [
    {
     "ename": "ZeroDivisionError",
     "evalue": "division by zero",
     "output_type": "error",
     "traceback": [
      "\u001b[1;31m---------------------------------------------------------------------------\u001b[0m\n",
      "\u001b[1;31mZeroDivisionError\u001b[0m                         Traceback (most recent call last)\n",
      "\u001b[1;32me:\\LFS\\Projects\\DataScience\\RE_SE\\Research_Study\\ModuleStudy\\Modules.ipynb Cell 26\u001b[0m line \u001b[0;36m3\n",
      "\u001b[0;32m      <a href='vscode-notebook-cell:/e%3A/LFS/Projects/DataScience/RE_SE/Research_Study/ModuleStudy/Modules.ipynb#X34sZmlsZQ%3D%3D?line=0'>1</a>\u001b[0m \u001b[39m# stop code execution\u001b[39;00m\n",
      "\u001b[1;32m----> <a href='vscode-notebook-cell:/e%3A/LFS/Projects/DataScience/RE_SE/Research_Study/ModuleStudy/Modules.ipynb#X34sZmlsZQ%3D%3D?line=2'>3</a>\u001b[0m \u001b[39m10\u001b[39;49m\u001b[39m/\u001b[39;49m\u001b[39m0\u001b[39;49m\n",
      "\n",
      "\u001b[1;31mZeroDivisionError\u001b[0m: division by zero"
     ]
    }
   ],
   "source": [
    "# stop code execution\n",
    "\n",
    "10/0"
   ]
  },
  {
   "cell_type": "markdown",
   "metadata": {},
   "source": [
    "### `stop_words='english'` vs `stop_words=None` in TfidfVectorizer"
   ]
  },
  {
   "cell_type": "code",
   "execution_count": 39,
   "metadata": {},
   "outputs": [],
   "source": [
    "docs1 = [\n",
    "    \"Harry Potter # and the Sorcerer's Stone\",\n",
    "    \"Harry Potter #2 and the Chamber of Secrets\",\n",
    "    \"The Sorcerer's Den! 5s\",\n",
    "    \"Great! Sorcerer's of NY 2\",\n",
    "    \"Great Secrets of Amazon\",\n",
    "    \"S\",\n",
    "    \"Ss\",\n",
    "    \"7x7\"\n",
    "]\n",
    "\n",
    "docs2 = docs1"
   ]
  },
  {
   "cell_type": "code",
   "execution_count": 40,
   "metadata": {},
   "outputs": [
    {
     "data": {
      "text/plain": [
       "(8, 16)"
      ]
     },
     "execution_count": 40,
     "metadata": {},
     "output_type": "execute_result"
    }
   ],
   "source": [
    "tf1 = TfidfVectorizer(analyzer='word', ngram_range=(1, 1),\n",
    "                     min_df=0)\n",
    "\n",
    "tfidf1 = tf1.fit_transform(docs1)\n",
    "\n",
    "tfidf1.shape"
   ]
  },
  {
   "cell_type": "code",
   "execution_count": 41,
   "metadata": {},
   "outputs": [
    {
     "data": {
      "text/plain": [
       "(8, 13)"
      ]
     },
     "execution_count": 41,
     "metadata": {},
     "output_type": "execute_result"
    }
   ],
   "source": [
    "tf2 = TfidfVectorizer(analyzer='word', ngram_range=(1, 1),\n",
    "                     min_df=0, stop_words=\"english\")\n",
    "\n",
    "tfidf2 = tf2.fit_transform(docs2)\n",
    "\n",
    "tfidf2.shape"
   ]
  },
  {
   "cell_type": "code",
   "execution_count": 42,
   "metadata": {},
   "outputs": [
    {
     "data": {
      "text/plain": [
       "array(['5s', '7x7', 'amazon', 'and', 'chamber', 'den', 'great', 'harry',\n",
       "       'ny', 'of', 'potter', 'secrets', 'sorcerer', 'ss', 'stone', 'the'],\n",
       "      dtype=object)"
      ]
     },
     "execution_count": 42,
     "metadata": {},
     "output_type": "execute_result"
    }
   ],
   "source": [
    "tf1.get_feature_names_out()"
   ]
  },
  {
   "cell_type": "code",
   "execution_count": 43,
   "metadata": {},
   "outputs": [
    {
     "data": {
      "text/plain": [
       "array(['5s', '7x7', 'amazon', 'chamber', 'den', 'great', 'harry', 'ny',\n",
       "       'potter', 'secrets', 'sorcerer', 'ss', 'stone'], dtype=object)"
      ]
     },
     "execution_count": 43,
     "metadata": {},
     "output_type": "execute_result"
    }
   ],
   "source": [
    "tf2.get_feature_names_out()"
   ]
  },
  {
   "cell_type": "code",
   "execution_count": 44,
   "metadata": {},
   "outputs": [
    {
     "data": {
      "text/plain": [
       "{'and', 'of', 'the'}"
      ]
     },
     "execution_count": 44,
     "metadata": {},
     "output_type": "execute_result"
    }
   ],
   "source": [
    "set(tf1.get_feature_names_out())-set(tf2.get_feature_names_out())"
   ]
  },
  {
   "cell_type": "markdown",
   "metadata": {},
   "source": [
    "- If we mention `stop_words='english'` then all the english stop words like `{'and', 'of', 'the'}` will be removed from the vocabulary\n",
    "- Truncation of characters, numbers, punctuations happens as follows"
   ]
  },
  {
   "cell_type": "code",
   "execution_count": null,
   "metadata": {},
   "outputs": [
    {
     "ename": "ZeroDivisionError",
     "evalue": "division by zero",
     "output_type": "error",
     "traceback": [
      "\u001b[1;31m---------------------------------------------------------------------------\u001b[0m\n",
      "\u001b[1;31mZeroDivisionError\u001b[0m                         Traceback (most recent call last)\n",
      "\u001b[1;32me:\\LFS\\Projects\\DataScience\\RE_SE\\Research_Study\\ModuleStudy\\Modules.ipynb Cell 43\u001b[0m line \u001b[0;36m3\n",
      "\u001b[0;32m      <a href='vscode-notebook-cell:/e%3A/LFS/Projects/DataScience/RE_SE/Research_Study/ModuleStudy/Modules.ipynb#X50sZmlsZQ%3D%3D?line=0'>1</a>\u001b[0m \u001b[39m# stop code execution\u001b[39;00m\n",
      "\u001b[1;32m----> <a href='vscode-notebook-cell:/e%3A/LFS/Projects/DataScience/RE_SE/Research_Study/ModuleStudy/Modules.ipynb#X50sZmlsZQ%3D%3D?line=2'>3</a>\u001b[0m \u001b[39m10\u001b[39;49m\u001b[39m/\u001b[39;49m\u001b[39m0\u001b[39;49m\n",
      "\n",
      "\u001b[1;31mZeroDivisionError\u001b[0m: division by zero"
     ]
    }
   ],
   "source": [
    "# stop code execution\n",
    "\n",
    "10/0"
   ]
  },
  {
   "cell_type": "markdown",
   "metadata": {},
   "source": [
    "### Cosine Similarity `[m x n],[m x n]` vs `[m x n],[1 x n]` Output and Interpretation"
   ]
  },
  {
   "cell_type": "code",
   "execution_count": null,
   "metadata": {},
   "outputs": [],
   "source": [
    "docs1 = [\n",
    "    \"Harry Potter # and the Sorcerer's Stone\",\n",
    "    \"Harry Potter #2 and the Chamber of Secrets\",\n",
    "    \"The Sorcerer's Den! 5s\",\n",
    "]"
   ]
  },
  {
   "cell_type": "code",
   "execution_count": null,
   "metadata": {},
   "outputs": [
    {
     "data": {
      "text/plain": [
       "(3, 11)"
      ]
     },
     "metadata": {},
     "output_type": "display_data"
    }
   ],
   "source": [
    "tf1 = TfidfVectorizer(analyzer='word', ngram_range=(1, 1),\n",
    "                     min_df=0)\n",
    "\n",
    "tfidf1 = tf1.fit_transform(docs1)\n",
    "\n",
    "tfidf1.shape"
   ]
  },
  {
   "cell_type": "code",
   "execution_count": null,
   "metadata": {},
   "outputs": [
    {
     "name": "stdout",
     "output_type": "stream",
     "text": [
      "[[1.         0.48296408 0.28318707]\n",
      " [0.48296408 1.         0.09042292]\n",
      " [0.28318707 0.09042292 1.        ]]\n"
     ]
    }
   ],
   "source": [
    "print(cosine_similarity(tfidf1, tfidf1))"
   ]
  },
  {
   "cell_type": "code",
   "execution_count": null,
   "metadata": {},
   "outputs": [
    {
     "name": "stdout",
     "output_type": "stream",
     "text": [
      "[[0.41159365]\n",
      " [0.65132981]\n",
      " [0.        ]]\n"
     ]
    }
   ],
   "source": [
    "print(cosine_similarity(tfidf1, tf1.transform([\"Harry Potter of Great\"])))"
   ]
  },
  {
   "cell_type": "markdown",
   "metadata": {},
   "source": [
    "**Insight**\n",
    "\n",
    "```\n",
    "my_matrix =\n",
    "v1=> 1 2 3\n",
    "v2=> 4 5 6\n",
    "v3=> 7 8 9\n",
    "```\n",
    "\n",
    "`cosine_similary(my_matrix,my_matrix) =`\n",
    "\n",
    "```\n",
    "    col1     col1      col1\n",
    "[\n",
    "[v1 vs v1, v2 vs v1, v3 vs v1],\n",
    "[v1 vs v2, v2 vs v2, v3 vs v2],\n",
    "[v1 vs v3, v2 vs v3, v4 vs v3]\n",
    "]\n",
    "```\n",
    "\n",
    "---\n",
    "\n",
    "```\n",
    "other_matrix =\n",
    "v4 => 1 5 9\n",
    "```\n",
    "\n",
    "`cosine_similary(my_matrix,other_matrix) =`\n",
    "\n",
    "```\n",
    "    col1\n",
    "[\n",
    "[v4 vs v1],\n",
    "[v4 vs v2],\n",
    "[v4 vs v3]\n",
    "]\n",
    "```\n"
   ]
  },
  {
   "cell_type": "code",
   "execution_count": null,
   "metadata": {},
   "outputs": [],
   "source": [
    "# stop code execution\n",
    "\n",
    "10/0"
   ]
  },
  {
   "cell_type": "markdown",
   "metadata": {},
   "source": [
    "### np.argsort() vs np.argpartition()"
   ]
  },
  {
   "cell_type": "code",
   "execution_count": null,
   "metadata": {},
   "outputs": [],
   "source": [
    "docs1 = [\n",
    "    \"Harry Potter # and the Sorcerer's Stone\",\n",
    "    \"Harry Potter #2 and the Chamber of Secrets\",\n",
    "    \"The Sorcerer's Den! 5s\",\n",
    "    \"Great! Sorcerer's of NY 2\",\n",
    "    \"Great Secrets of Amazon\",\n",
    "    \"S\",\n",
    "    \"Ss\",\n",
    "    \"7x7\"\n",
    "]"
   ]
  },
  {
   "cell_type": "code",
   "execution_count": null,
   "metadata": {},
   "outputs": [
    {
     "data": {
      "text/plain": [
       "(8, 16)"
      ]
     },
     "metadata": {},
     "output_type": "display_data"
    }
   ],
   "source": [
    "tf1 = TfidfVectorizer(analyzer='word', ngram_range=(1, 1),\n",
    "                     min_df=0)\n",
    "\n",
    "tfidf1 = tf1.fit_transform(docs1)\n",
    "\n",
    "tfidf1.shape"
   ]
  },
  {
   "cell_type": "code",
   "execution_count": null,
   "metadata": {},
   "outputs": [
    {
     "data": {
      "text/plain": [
       "array(['5s', '7x7', 'amazon', 'and', 'chamber', 'den', 'great', 'harry',\n",
       "       'ny', 'of', 'potter', 'secrets', 'sorcerer', 'ss', 'stone', 'the'],\n",
       "      dtype=object)"
      ]
     },
     "metadata": {},
     "output_type": "display_data"
    }
   ],
   "source": [
    "tf1.get_feature_names_out()"
   ]
  },
  {
   "cell_type": "code",
   "execution_count": null,
   "metadata": {},
   "outputs": [
    {
     "data": {
      "text/plain": [
       "array([[0.42897558],\n",
       "       [0.39673747],\n",
       "       [0.        ],\n",
       "       [0.42603636],\n",
       "       [0.41277968],\n",
       "       [0.        ],\n",
       "       [0.41488779],\n",
       "       [0.        ]])"
      ]
     },
     "metadata": {},
     "output_type": "display_data"
    }
   ],
   "source": [
    "cosine_sim1 = cosine_similarity(tfidf1, tf1.transform([\"Harry Potter and Great Amazon NY Ss S 7x\"]))\n",
    "cosine_sim1"
   ]
  },
  {
   "cell_type": "code",
   "execution_count": null,
   "metadata": {},
   "outputs": [
    {
     "data": {
      "text/plain": [
       "array([2, 5, 7, 1, 4, 6, 3, 0], dtype=int64)"
      ]
     },
     "metadata": {},
     "output_type": "display_data"
    }
   ],
   "source": [
    "np.argsort(cosine_sim1.flatten())"
   ]
  },
  {
   "cell_type": "markdown",
   "metadata": {},
   "source": [
    "- `argpartition` first sorts the array then partitions the array on the _kth_ element.\n",
    "- All elements lower than the _kth_ element will be behind it and larget will be after it.\n"
   ]
  },
  {
   "cell_type": "code",
   "execution_count": null,
   "metadata": {},
   "outputs": [
    {
     "data": {
      "text/plain": [
       "array([6, 7, 2, 1, 4, 5, 3, 0], dtype=int64)"
      ]
     },
     "metadata": {},
     "output_type": "display_data"
    }
   ],
   "source": [
    "np.argpartition(cosine_sim1.flatten(), -2)"
   ]
  },
  {
   "cell_type": "code",
   "execution_count": null,
   "metadata": {},
   "outputs": [
    {
     "data": {
      "text/plain": [
       "[0, 3, 6]"
      ]
     },
     "metadata": {},
     "output_type": "display_data"
    }
   ],
   "source": [
    "list(reversed((np.argsort(cosine_sim1.flatten())[-3:])))"
   ]
  },
  {
   "cell_type": "code",
   "execution_count": null,
   "metadata": {},
   "outputs": [
    {
     "data": {
      "text/plain": [
       "[0, 3, 6]"
      ]
     },
     "metadata": {},
     "output_type": "display_data"
    }
   ],
   "source": [
    "list(reversed((np.argpartition(cosine_sim1.flatten(), -3)[-3:])))"
   ]
  },
  {
   "cell_type": "code",
   "execution_count": null,
   "metadata": {},
   "outputs": [],
   "source": [
    "# stop code execution\n",
    "\n",
    "10/0"
   ]
  },
  {
   "cell_type": "markdown",
   "metadata": {},
   "source": [
    "### `analyzer=word` vs `analyzer=char` in TfidfVectorizer "
   ]
  },
  {
   "cell_type": "code",
   "execution_count": 45,
   "metadata": {},
   "outputs": [],
   "source": [
    "docs1 = [\n",
    "    \"Harry Potter # and the Sorcerer's Stone\",\n",
    "    \"Harry Potter #2 and the Chamber of Secrets\",\n",
    "    \"The Sorcerer's Den! 5s\",\n",
    "    \"Great! Sorcerer's of NY 2\",\n",
    "    \"Great Secrets of Amazon\",\n",
    "    \"S\",\n",
    "    \"Ss\",\n",
    "    \"7x7\"\n",
    "]"
   ]
  },
  {
   "cell_type": "code",
   "execution_count": 50,
   "metadata": {},
   "outputs": [
    {
     "data": {
      "text/plain": [
       "array(['5s', '7x7', 'amazon', 'and', 'chamber', 'den', 'great', 'harry',\n",
       "       'ny', 'of', 'potter', 'secrets', 'sorcerer', 'ss', 'stone', 'the'],\n",
       "      dtype=object)"
      ]
     },
     "execution_count": 50,
     "metadata": {},
     "output_type": "execute_result"
    }
   ],
   "source": [
    "TfidfVectorizer(analyzer='word', ngram_range=(1, 1),\n",
    "                     min_df=0).fit(docs1).get_feature_names_out()"
   ]
  },
  {
   "cell_type": "code",
   "execution_count": null,
   "metadata": {},
   "outputs": [
    {
     "data": {
      "text/plain": [
       "array([' ', '!', '#', \"'\", '2', '5', '7', 'a', 'b', 'c', 'd', 'e', 'f',\n",
       "       'g', 'h', 'm', 'n', 'o', 'p', 'r', 's', 't', 'x', 'y', 'z'],\n",
       "      dtype=object)"
      ]
     },
     "metadata": {},
     "output_type": "display_data"
    }
   ],
   "source": [
    "TfidfVectorizer(analyzer='char', ngram_range=(1, 1),\n",
    "                     min_df=0).fit(docs1).get_feature_names_out()"
   ]
  },
  {
   "cell_type": "markdown",
   "metadata": {},
   "source": [
    "**Unigram and Bigram both**"
   ]
  },
  {
   "cell_type": "code",
   "execution_count": null,
   "metadata": {},
   "outputs": [
    {
     "data": {
      "text/plain": [
       "array([' ', ' #', ' 2', ' 5', ' a', ' c', ' d', ' n', ' o', ' p', ' s',\n",
       "       ' t', '!', '! ', '#', '# ', '#2', \"'\", \"'s\", '2', '2 ', '5', '5s',\n",
       "       '7', '7x', 'a', 'am', 'an', 'ar', 'at', 'az', 'b', 'be', 'c', 'ce',\n",
       "       'ch', 'cr', 'd', 'd ', 'de', 'e', 'e ', 'ea', 'ec', 'en', 'er',\n",
       "       'et', 'f', 'f ', 'g', 'gr', 'h', 'ha', 'he', 'm', 'ma', 'mb', 'n',\n",
       "       'n!', 'nd', 'ne', 'ny', 'o', 'of', 'on', 'or', 'ot', 'p', 'po',\n",
       "       'r', 'r ', \"r'\", 'rc', 're', 'rr', 'ry', 's', 's ', 'se', 'so',\n",
       "       'ss', 'st', 't', 't ', 't!', 'te', 'th', 'to', 'ts', 'tt', 'x',\n",
       "       'x7', 'y', 'y ', 'z', 'zo'], dtype=object)"
      ]
     },
     "metadata": {},
     "output_type": "display_data"
    }
   ],
   "source": [
    "TfidfVectorizer(analyzer='char', ngram_range=(1, 2),\n",
    "                     min_df=0).fit(docs1).get_feature_names_out()"
   ]
  },
  {
   "cell_type": "markdown",
   "metadata": {},
   "source": [
    "### Custom Tokenizer in tfidfVectorizer"
   ]
  },
  {
   "cell_type": "markdown",
   "metadata": {},
   "source": [
    "#### Using nltk as Tokenizer"
   ]
  },
  {
   "cell_type": "code",
   "execution_count": 2,
   "metadata": {},
   "outputs": [
    {
     "name": "stdout",
     "output_type": "stream",
     "text": [
      "TF-IDF Matrix:\n",
      "[[0.42520648 0.         0.         0.42520648 0.5252146  0.34763416\n",
      "  0.         0.         0.34763416 0.         0.34763416]\n",
      " [0.32513203 0.         0.         0.65026407 0.         0.26581674\n",
      "  0.         0.50938216 0.26581674 0.         0.26581674]\n",
      " [0.31055267 0.         0.48654076 0.         0.         0.25389715\n",
      "  0.48654076 0.         0.25389715 0.48654076 0.25389715]\n",
      " [0.         0.59276931 0.         0.37835697 0.46734613 0.30933162\n",
      "  0.         0.         0.30933162 0.         0.30933162]]\n",
      "\n",
      "Feature Names:\n",
      "['.' '?' 'and' 'document' 'first' 'is' 'one' 'second' 'the' 'third' 'this']\n"
     ]
    },
    {
     "name": "stderr",
     "output_type": "stream",
     "text": [
      "c:\\Users\\hp\\AppData\\Local\\Programs\\Python\\Python310\\lib\\site-packages\\sklearn\\feature_extraction\\text.py:528: UserWarning: The parameter 'token_pattern' will not be used since 'tokenizer' is not None'\n",
      "  warnings.warn(\n"
     ]
    }
   ],
   "source": [
    "# Sample documents\n",
    "documents = [\n",
    "    \"This is the first document.\",\n",
    "    \"This document is the second document.\",\n",
    "    \"And this is the third one.\",\n",
    "    \"Is this the first document?\",\n",
    "]\n",
    "\n",
    "# Define a custom tokenizer using NLTK\n",
    "def custom_tokenizer(text):\n",
    "    tokens = word_tokenize(text)\n",
    "    # You can add additional processing or filtering steps here if needed\n",
    "    return tokens\n",
    "\n",
    "# Create TfidfVectorizer with the custom tokenizer\n",
    "tfidf_vectorizer = TfidfVectorizer(tokenizer=custom_tokenizer)\n",
    "\n",
    "# Fit and transform the documents\n",
    "tfidf_matrix = tfidf_vectorizer.fit_transform(documents)\n",
    "\n",
    "# Get feature names (terms)\n",
    "feature_names = tfidf_vectorizer.get_feature_names_out()\n",
    "\n",
    "# Print the TF-IDF matrix and feature names\n",
    "print(\"TF-IDF Matrix:\")\n",
    "print(tfidf_matrix.toarray())\n",
    "print(\"\\nFeature Names:\")\n",
    "print(feature_names)"
   ]
  },
  {
   "cell_type": "markdown",
   "metadata": {},
   "source": [
    "#### Using Custom Regex as Tokenizer"
   ]
  },
  {
   "cell_type": "code",
   "execution_count": 5,
   "metadata": {},
   "outputs": [
    {
     "name": "stdout",
     "output_type": "stream",
     "text": [
      "TF-IDF Matrix:\n",
      "[[0.         0.46979139 0.58028582 0.38408524 0.         0.\n",
      "  0.38408524 0.         0.38408524]\n",
      " [0.         0.6876236  0.         0.28108867 0.         0.53864762\n",
      "  0.28108867 0.         0.28108867]\n",
      " [0.51184851 0.         0.         0.26710379 0.51184851 0.\n",
      "  0.26710379 0.51184851 0.26710379]\n",
      " [0.         0.46979139 0.58028582 0.38408524 0.         0.\n",
      "  0.38408524 0.         0.38408524]]\n",
      "\n",
      "Feature Names:\n",
      "['and' 'document' 'first' 'is' 'one' 'second' 'the' 'third' 'this']\n"
     ]
    }
   ],
   "source": [
    "# Sample documents\n",
    "documents = [\n",
    "    \"This is the first document.\",\n",
    "    \"This document is the second document.\",\n",
    "    \"And this is the third one.\",\n",
    "    \"Is this the first document?\",\n",
    "]\n",
    "\n",
    "# Define a custom tokenizer using a regex pattern\n",
    "def custom_tokenizer(text):\n",
    "    # Use a regex pattern to tokenize based on word boundaries\n",
    "    tokens = re.findall(r'\\b\\w+\\b', text)\n",
    "    # You can add additional processing or filtering steps here if needed\n",
    "    return tokens\n",
    "\n",
    "# Create TfidfVectorizer with the custom tokenizer\n",
    "tfidf_vectorizer = TfidfVectorizer(tokenizer=custom_tokenizer)\n",
    "\n",
    "# Fit and transform the documents\n",
    "tfidf_matrix = tfidf_vectorizer.fit_transform(documents)\n",
    "\n",
    "# Get feature names (terms)\n",
    "feature_names = tfidf_vectorizer.get_feature_names_out()\n",
    "\n",
    "# Print the TF-IDF matrix and feature names\n",
    "print(\"TF-IDF Matrix:\")\n",
    "print(tfidf_matrix.toarray())\n",
    "print(\"\\nFeature Names:\")\n",
    "print(feature_names)\n"
   ]
  }
 ],
 "metadata": {
  "kernelspec": {
   "display_name": "Python 3",
   "language": "python",
   "name": "python3"
  },
  "language_info": {
   "codemirror_mode": {
    "name": "ipython",
    "version": 3
   },
   "file_extension": ".py",
   "mimetype": "text/x-python",
   "name": "python",
   "nbconvert_exporter": "python",
   "pygments_lexer": "ipython3",
   "version": "3.10.11"
  }
 },
 "nbformat": 4,
 "nbformat_minor": 2
}
