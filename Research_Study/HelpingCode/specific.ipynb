{
 "cells": [
  {
   "cell_type": "markdown",
   "metadata": {},
   "source": [
    "**Imports**\n"
   ]
  },
  {
   "cell_type": "code",
   "execution_count": 4,
   "metadata": {},
   "outputs": [],
   "source": [
    "import numpy as np\n",
    "import pandas as pd\n",
    "\n",
    "from sklearn.feature_extraction.text import TfidfVectorizer\n",
    "from sklearn.metrics.pairwise import cosine_similarity"
   ]
  },
  {
   "cell_type": "markdown",
   "metadata": {},
   "source": [
    "### Study\n"
   ]
  },
  {
   "cell_type": "markdown",
   "metadata": {},
   "source": [
    "#### Effect of punctuations\n"
   ]
  },
  {
   "cell_type": "code",
   "execution_count": 20,
   "metadata": {},
   "outputs": [],
   "source": [
    "docs1 = [\n",
    "    \"Harry Potter and the Sorcerer's Stone\",\n",
    "    \"Harry Potter and the Chamber of Secrets\",\n",
    "    \"The Sorcerer's Den\",\n",
    "    \"Great Sorcerers of NY\",\n",
    "    \"Great Secrets of Amazon\",\n",
    "]\n",
    "\n",
    "docs2 = [\n",
    "    \"Harry Potter and the Sorcerer's Stone\",\n",
    "    \"Harry Potter and the Chamber of Secrets\",\n",
    "    \"The Sorcerer's Den\",\n",
    "    \"Great Sorcerer's of NY\",\n",
    "    \"Great Secrets of Amazon\",\n",
    "]"
   ]
  },
  {
   "cell_type": "code",
   "execution_count": 21,
   "metadata": {},
   "outputs": [],
   "source": [
    "docs = docs2"
   ]
  },
  {
   "cell_type": "code",
   "execution_count": 22,
   "metadata": {},
   "outputs": [
    {
     "data": {
      "text/plain": [
       "(5, 10)"
      ]
     },
     "execution_count": 22,
     "metadata": {},
     "output_type": "execute_result"
    }
   ],
   "source": [
    "tf = TfidfVectorizer(analyzer='word', ngram_range=(1, 1),\n",
    "                     min_df=0, stop_words='english')\n",
    "\n",
    "tfidf = tf.fit_transform(docs)\n",
    "\n",
    "tfidf.shape"
   ]
  },
  {
   "cell_type": "code",
   "execution_count": 23,
   "metadata": {},
   "outputs": [
    {
     "data": {
      "text/plain": [
       "matrix([[0.        , 0.        , 0.        , 0.        , 0.48648432,\n",
       "         0.        , 0.48648432, 0.        , 0.40382593, 0.60298477],\n",
       "        [0.        , 0.5819515 , 0.        , 0.        , 0.4695148 ,\n",
       "         0.        , 0.4695148 , 0.4695148 , 0.        , 0.        ],\n",
       "        [0.        , 0.        , 0.83088075, 0.        , 0.        ,\n",
       "         0.        , 0.        , 0.        , 0.55645052, 0.        ],\n",
       "        [0.        , 0.        , 0.        , 0.55681615, 0.        ,\n",
       "         0.69015927, 0.        , 0.        , 0.4622077 , 0.        ],\n",
       "        [0.659118  , 0.        , 0.        , 0.53177225, 0.        ,\n",
       "         0.        , 0.        , 0.53177225, 0.        , 0.        ]])"
      ]
     },
     "execution_count": 23,
     "metadata": {},
     "output_type": "execute_result"
    }
   ],
   "source": [
    "tfidf.todense()"
   ]
  },
  {
   "cell_type": "code",
   "execution_count": 24,
   "metadata": {},
   "outputs": [
    {
     "data": {
      "text/plain": [
       "array(['amazon', 'chamber', 'den', 'great', 'harry', 'ny', 'potter',\n",
       "       'secrets', 'sorcerer', 'stone'], dtype=object)"
      ]
     },
     "execution_count": 24,
     "metadata": {},
     "output_type": "execute_result"
    }
   ],
   "source": [
    "tf.get_feature_names_out()"
   ]
  },
  {
   "cell_type": "code",
   "execution_count": 25,
   "metadata": {},
   "outputs": [
    {
     "data": {
      "text/html": [
       "<div>\n",
       "<style scoped>\n",
       "    .dataframe tbody tr th:only-of-type {\n",
       "        vertical-align: middle;\n",
       "    }\n",
       "\n",
       "    .dataframe tbody tr th {\n",
       "        vertical-align: top;\n",
       "    }\n",
       "\n",
       "    .dataframe thead th {\n",
       "        text-align: right;\n",
       "    }\n",
       "</style>\n",
       "<table border=\"1\" class=\"dataframe\">\n",
       "  <thead>\n",
       "    <tr style=\"text-align: right;\">\n",
       "      <th></th>\n",
       "      <th>amazon</th>\n",
       "      <th>chamber</th>\n",
       "      <th>den</th>\n",
       "      <th>great</th>\n",
       "      <th>harry</th>\n",
       "      <th>ny</th>\n",
       "      <th>potter</th>\n",
       "      <th>secrets</th>\n",
       "      <th>sorcerer</th>\n",
       "      <th>stone</th>\n",
       "    </tr>\n",
       "  </thead>\n",
       "  <tbody>\n",
       "    <tr>\n",
       "      <th>Harry Potter and the Sorcerer's Stone</th>\n",
       "      <td>0.000000</td>\n",
       "      <td>0.000000</td>\n",
       "      <td>0.000000</td>\n",
       "      <td>0.000000</td>\n",
       "      <td>0.486484</td>\n",
       "      <td>0.000000</td>\n",
       "      <td>0.486484</td>\n",
       "      <td>0.000000</td>\n",
       "      <td>0.403826</td>\n",
       "      <td>0.602985</td>\n",
       "    </tr>\n",
       "    <tr>\n",
       "      <th>Harry Potter and the Chamber of Secrets</th>\n",
       "      <td>0.000000</td>\n",
       "      <td>0.581951</td>\n",
       "      <td>0.000000</td>\n",
       "      <td>0.000000</td>\n",
       "      <td>0.469515</td>\n",
       "      <td>0.000000</td>\n",
       "      <td>0.469515</td>\n",
       "      <td>0.469515</td>\n",
       "      <td>0.000000</td>\n",
       "      <td>0.000000</td>\n",
       "    </tr>\n",
       "    <tr>\n",
       "      <th>The Sorcerer's Den</th>\n",
       "      <td>0.000000</td>\n",
       "      <td>0.000000</td>\n",
       "      <td>0.830881</td>\n",
       "      <td>0.000000</td>\n",
       "      <td>0.000000</td>\n",
       "      <td>0.000000</td>\n",
       "      <td>0.000000</td>\n",
       "      <td>0.000000</td>\n",
       "      <td>0.556451</td>\n",
       "      <td>0.000000</td>\n",
       "    </tr>\n",
       "    <tr>\n",
       "      <th>Great Sorcerer's of NY</th>\n",
       "      <td>0.000000</td>\n",
       "      <td>0.000000</td>\n",
       "      <td>0.000000</td>\n",
       "      <td>0.556816</td>\n",
       "      <td>0.000000</td>\n",
       "      <td>0.690159</td>\n",
       "      <td>0.000000</td>\n",
       "      <td>0.000000</td>\n",
       "      <td>0.462208</td>\n",
       "      <td>0.000000</td>\n",
       "    </tr>\n",
       "    <tr>\n",
       "      <th>Great Secrets of Amazon</th>\n",
       "      <td>0.659118</td>\n",
       "      <td>0.000000</td>\n",
       "      <td>0.000000</td>\n",
       "      <td>0.531772</td>\n",
       "      <td>0.000000</td>\n",
       "      <td>0.000000</td>\n",
       "      <td>0.000000</td>\n",
       "      <td>0.531772</td>\n",
       "      <td>0.000000</td>\n",
       "      <td>0.000000</td>\n",
       "    </tr>\n",
       "  </tbody>\n",
       "</table>\n",
       "</div>"
      ],
      "text/plain": [
       "                                           amazon   chamber       den  \\\n",
       "Harry Potter and the Sorcerer's Stone    0.000000  0.000000  0.000000   \n",
       "Harry Potter and the Chamber of Secrets  0.000000  0.581951  0.000000   \n",
       "The Sorcerer's Den                       0.000000  0.000000  0.830881   \n",
       "Great Sorcerer's of NY                   0.000000  0.000000  0.000000   \n",
       "Great Secrets of Amazon                  0.659118  0.000000  0.000000   \n",
       "\n",
       "                                            great     harry        ny  \\\n",
       "Harry Potter and the Sorcerer's Stone    0.000000  0.486484  0.000000   \n",
       "Harry Potter and the Chamber of Secrets  0.000000  0.469515  0.000000   \n",
       "The Sorcerer's Den                       0.000000  0.000000  0.000000   \n",
       "Great Sorcerer's of NY                   0.556816  0.000000  0.690159   \n",
       "Great Secrets of Amazon                  0.531772  0.000000  0.000000   \n",
       "\n",
       "                                           potter   secrets  sorcerer  \\\n",
       "Harry Potter and the Sorcerer's Stone    0.486484  0.000000  0.403826   \n",
       "Harry Potter and the Chamber of Secrets  0.469515  0.469515  0.000000   \n",
       "The Sorcerer's Den                       0.000000  0.000000  0.556451   \n",
       "Great Sorcerer's of NY                   0.000000  0.000000  0.462208   \n",
       "Great Secrets of Amazon                  0.000000  0.531772  0.000000   \n",
       "\n",
       "                                            stone  \n",
       "Harry Potter and the Sorcerer's Stone    0.602985  \n",
       "Harry Potter and the Chamber of Secrets  0.000000  \n",
       "The Sorcerer's Den                       0.000000  \n",
       "Great Sorcerer's of NY                   0.000000  \n",
       "Great Secrets of Amazon                  0.000000  "
      ]
     },
     "execution_count": 25,
     "metadata": {},
     "output_type": "execute_result"
    }
   ],
   "source": [
    "pd.DataFrame(data=tfidf.toarray(), index=docs,\n",
    "             columns=tf.get_feature_names_out())"
   ]
  },
  {
   "cell_type": "code",
   "execution_count": 26,
   "metadata": {},
   "outputs": [
    {
     "data": {
      "text/plain": [
       "array([[1.        , 0.45682318, 0.22470915, 0.18665146, 0.        ],\n",
       "       [0.45682318, 1.        , 0.        , 0.        , 0.24967495],\n",
       "       [0.22470915, 0.        , 1.        , 0.25719572, 0.        ],\n",
       "       [0.18665146, 0.        , 0.25719572, 1.        , 0.29609938],\n",
       "       [0.        , 0.24967495, 0.        , 0.29609938, 1.        ]])"
      ]
     },
     "execution_count": 26,
     "metadata": {},
     "output_type": "execute_result"
    }
   ],
   "source": [
    "cosine_sim = cosine_similarity(tfidf, tfidf)\n",
    "cosine_sim"
   ]
  },
  {
   "cell_type": "code",
   "execution_count": 27,
   "metadata": {},
   "outputs": [
    {
     "data": {
      "text/plain": [
       "0.18665145580125506"
      ]
     },
     "execution_count": 27,
     "metadata": {},
     "output_type": "execute_result"
    }
   ],
   "source": [
    "# similarity at r4c1\n",
    "\n",
    "cosine_sim[3,0]"
   ]
  },
  {
   "cell_type": "code",
   "execution_count": 28,
   "metadata": {},
   "outputs": [
    {
     "ename": "ZeroDivisionError",
     "evalue": "division by zero",
     "output_type": "error",
     "traceback": [
      "\u001b[1;31m---------------------------------------------------------------------------\u001b[0m",
      "\u001b[1;31mZeroDivisionError\u001b[0m                         Traceback (most recent call last)",
      "\u001b[1;32me:\\LFS\\Projects\\DataScience\\SE_RE\\Goodreads\\Docs\\SimilarityCheckStudy\\similarityCheck.ipynb Cell 17\u001b[0m line \u001b[0;36m3\n\u001b[0;32m      <a href='vscode-notebook-cell:/e%3A/LFS/Projects/DataScience/SE_RE/Goodreads/Docs/SimilarityCheckStudy/similarityCheck.ipynb#X34sZmlsZQ%3D%3D?line=0'>1</a>\u001b[0m \u001b[39m# stop code execution\u001b[39;00m\n\u001b[1;32m----> <a href='vscode-notebook-cell:/e%3A/LFS/Projects/DataScience/SE_RE/Goodreads/Docs/SimilarityCheckStudy/similarityCheck.ipynb#X34sZmlsZQ%3D%3D?line=2'>3</a>\u001b[0m \u001b[39m10\u001b[39;49m\u001b[39m/\u001b[39;49m\u001b[39m0\u001b[39;49m\n",
      "\u001b[1;31mZeroDivisionError\u001b[0m: division by zero"
     ]
    }
   ],
   "source": [
    "# stop code execution\n",
    "\n",
    "10/0"
   ]
  },
  {
   "cell_type": "markdown",
   "metadata": {},
   "source": [
    "**Insight**\n",
    "- The punctuations in the actual document maters as term truncation happens on these characters - It is better to remove them before calculating tfidf"
   ]
  },
  {
   "cell_type": "markdown",
   "metadata": {},
   "source": [
    "#### Cosine Similarity [m x n][m x n] vs [m x n][1 x n] Output and Interpretation"
   ]
  },
  {
   "cell_type": "code",
   "execution_count": 30,
   "metadata": {},
   "outputs": [
    {
     "data": {
      "text/plain": [
       "[\"Harry Potter and the Sorcerer's Stone\",\n",
       " 'Harry Potter and the Chamber of Secrets',\n",
       " \"The Sorcerer's Den\",\n",
       " 'Great Sorcerers of NY',\n",
       " 'Great Secrets of Amazon']"
      ]
     },
     "execution_count": 30,
     "metadata": {},
     "output_type": "execute_result"
    }
   ],
   "source": [
    "[\n",
    "    \"Harry Potter and the Sorcerer's Stone\",\n",
    "    \"Harry Potter and the Chamber of Secrets\",\n",
    "    \"The Sorcerer's Den\",\n",
    "    \"Great Sorcerers of NY\",\n",
    "    \"Great Secrets of Amazon\",\n",
    "]"
   ]
  },
  {
   "cell_type": "code",
   "execution_count": 31,
   "metadata": {},
   "outputs": [
    {
     "data": {
      "text/plain": [
       "array([[0.34399636],\n",
       "       [0.6639942 ],\n",
       "       [0.        ],\n",
       "       [0.        ],\n",
       "       [0.37601977]])"
      ]
     },
     "execution_count": 31,
     "metadata": {},
     "output_type": "execute_result"
    }
   ],
   "source": [
    "cosine_sim = cosine_similarity(\n",
    "    tfidf, tf.transform([\"Harry Secrets Sorcerers\"]))\n",
    "cosine_sim"
   ]
  },
  {
   "cell_type": "markdown",
   "metadata": {},
   "source": [
    "**Insight**\n",
    "\n",
    "```\n",
    "my_matrix =\n",
    "v1=> 1 2 3\n",
    "v2=> 4 5 6\n",
    "v3=> 7 8 9\n",
    "```\n",
    "\n",
    "`cosine_similary(my_matrix,my_matrix) =`\n",
    "\n",
    "```\n",
    "    col1     col1      col1\n",
    "[\n",
    "[v1 vs v1, v2 vs v1, v3 vs v1],\n",
    "[v1 vs v2, v2 vs v2, v3 vs v2],\n",
    "[v1 vs v3, v2 vs v3, v4 vs v3]\n",
    "]\n",
    "```\n",
    "\n",
    "---\n",
    "\n",
    "```\n",
    "other_matrix =\n",
    "v4 => 1 5 9\n",
    "```\n",
    "\n",
    "`cosine_similary(my_matrix,other_matrix) =`\n",
    "\n",
    "```\n",
    "    col1\n",
    "[\n",
    "[v4 vs v1],\n",
    "[v4 vs v2],\n",
    "[v4 vs v3]\n",
    "]\n",
    "```\n"
   ]
  },
  {
   "cell_type": "markdown",
   "metadata": {},
   "source": [
    "#### np.argsort() vs np.argpartition()"
   ]
  },
  {
   "cell_type": "code",
   "execution_count": null,
   "metadata": {},
   "outputs": [
    {
     "data": {
      "text/plain": [
       "array([2, 0, 4, 3, 1], dtype=int64)"
      ]
     },
     "execution_count": 95,
     "metadata": {},
     "output_type": "execute_result"
    }
   ],
   "source": [
    "np.argsort(cosine_sim.flatten())"
   ]
  },
  {
   "cell_type": "markdown",
   "metadata": {},
   "source": [
    "- `argpartition` first sorts the array then partitions the array on the _kth_ element.\n",
    "- All elements lower than the _kth_ element will be behind it and larget will be after it.\n"
   ]
  },
  {
   "cell_type": "code",
   "execution_count": null,
   "metadata": {},
   "outputs": [
    {
     "data": {
      "text/plain": [
       "array([2, 0, 4, 3, 1], dtype=int64)"
      ]
     },
     "execution_count": 101,
     "metadata": {},
     "output_type": "execute_result"
    }
   ],
   "source": [
    "np.argpartition(cosine_sim.flatten(), -3)"
   ]
  },
  {
   "cell_type": "code",
   "execution_count": null,
   "metadata": {},
   "outputs": [
    {
     "data": {
      "text/plain": [
       "[1, 3, 4]"
      ]
     },
     "execution_count": 102,
     "metadata": {},
     "output_type": "execute_result"
    }
   ],
   "source": [
    "list(reversed((np.argsort(cosine_sim.flatten())[-3:])))"
   ]
  },
  {
   "cell_type": "code",
   "execution_count": null,
   "metadata": {},
   "outputs": [
    {
     "data": {
      "text/plain": [
       "[1, 3, 4]"
      ]
     },
     "execution_count": 103,
     "metadata": {},
     "output_type": "execute_result"
    }
   ],
   "source": [
    "list(reversed((np.argpartition(cosine_sim.flatten(), -3)[-3:])))"
   ]
  }
 ],
 "metadata": {
  "kernelspec": {
   "display_name": "Python 3",
   "language": "python",
   "name": "python3"
  },
  "language_info": {
   "codemirror_mode": {
    "name": "ipython",
    "version": 3
   },
   "file_extension": ".py",
   "mimetype": "text/x-python",
   "name": "python",
   "nbconvert_exporter": "python",
   "pygments_lexer": "ipython3",
   "version": "3.10.11"
  }
 },
 "nbformat": 4,
 "nbformat_minor": 2
}
