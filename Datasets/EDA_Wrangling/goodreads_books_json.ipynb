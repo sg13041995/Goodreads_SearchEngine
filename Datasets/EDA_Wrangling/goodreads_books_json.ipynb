{
 "cells": [
  {
   "cell_type": "markdown",
   "metadata": {},
   "source": [
    "**Modules**"
   ]
  },
  {
   "cell_type": "code",
   "execution_count": 1,
   "metadata": {},
   "outputs": [],
   "source": [
    "# DataFrame\n",
    "import pandas as pd\n",
    "\n",
    "# serialize and deserialize JSON\n",
    "import json\n",
    "\n",
    "# import, export, read, write compressed files\n",
    "import gzip\n",
    "\n",
    "# forced garbage collection\n",
    "import gc"
   ]
  },
  {
   "cell_type": "markdown",
   "metadata": {},
   "source": [
    "### Reading & Observing a Single Line or Record"
   ]
  },
  {
   "cell_type": "markdown",
   "metadata": {},
   "source": [
    "**Streaming the data without unzipping the complete file into the memory**\n",
    "- Reading data one line at a time"
   ]
  },
  {
   "cell_type": "code",
   "execution_count": 2,
   "metadata": {},
   "outputs": [
    {
     "data": {
      "text/plain": [
       "b'{\"isbn\": \"0312853122\", \"text_reviews_count\": \"1\", \"series\": [], \"country_code\": \"US\", \"language_code\": \"\", \"popular_shelves\": [{\"count\": \"3\", \"name\": \"to-read\"}, {\"count\": \"1\", \"name\": \"p\"}, {\"count\": \"1\", \"name\": \"collection\"}, {\"count\": \"1\", \"name\": \"w-c-fields\"}, {\"count\": \"1\", \"name\": \"biography\"}], \"asin\": \"\", \"is_ebook\": \"false\", \"average_rating\": \"4.00\", \"kindle_asin\": \"\", \"similar_books\": [], \"description\": \"\", \"format\": \"Paperback\", \"link\": \"https://www.goodreads.com/book/show/5333265-w-c-fields\", \"authors\": [{\"author_id\": \"604031\", \"role\": \"\"}], \"publisher\": \"St. Martin\\'s Press\", \"num_pages\": \"256\", \"publication_day\": \"1\", \"isbn13\": \"9780312853129\", \"publication_month\": \"9\", \"edition_information\": \"\", \"publication_year\": \"1984\", \"url\": \"https://www.goodreads.com/book/show/5333265-w-c-fields\", \"image_url\": \"https://images.gr-assets.com/books/1310220028m/5333265.jpg\", \"book_id\": \"5333265\", \"ratings_count\": \"3\", \"work_id\": \"5400751\", \"title\": \"W.C. Fields: A Life on Film\", \"title_without_series\": \"W.C. Fields: A Life on Film\"}\\n'"
      ]
     },
     "execution_count": 2,
     "metadata": {},
     "output_type": "execute_result"
    }
   ],
   "source": [
    "with gzip.open(\"../../Initial/goodreads_books.json.gz\") as f:\n",
    "    line = f.readline()\n",
    "\n",
    "line"
   ]
  },
  {
   "cell_type": "code",
   "execution_count": 4,
   "metadata": {},
   "outputs": [
    {
     "data": {
      "text/plain": [
       "{'isbn': '0312853122',\n",
       " 'text_reviews_count': '1',\n",
       " 'series': [],\n",
       " 'country_code': 'US',\n",
       " 'language_code': '',\n",
       " 'popular_shelves': [{'count': '3', 'name': 'to-read'},\n",
       "  {'count': '1', 'name': 'p'},\n",
       "  {'count': '1', 'name': 'collection'},\n",
       "  {'count': '1', 'name': 'w-c-fields'},\n",
       "  {'count': '1', 'name': 'biography'}],\n",
       " 'asin': '',\n",
       " 'is_ebook': 'false',\n",
       " 'average_rating': '4.00',\n",
       " 'kindle_asin': '',\n",
       " 'similar_books': [],\n",
       " 'description': '',\n",
       " 'format': 'Paperback',\n",
       " 'link': 'https://www.goodreads.com/book/show/5333265-w-c-fields',\n",
       " 'authors': [{'author_id': '604031', 'role': ''}],\n",
       " 'publisher': \"St. Martin's Press\",\n",
       " 'num_pages': '256',\n",
       " 'publication_day': '1',\n",
       " 'isbn13': '9780312853129',\n",
       " 'publication_month': '9',\n",
       " 'edition_information': '',\n",
       " 'publication_year': '1984',\n",
       " 'url': 'https://www.goodreads.com/book/show/5333265-w-c-fields',\n",
       " 'image_url': 'https://images.gr-assets.com/books/1310220028m/5333265.jpg',\n",
       " 'book_id': '5333265',\n",
       " 'ratings_count': '3',\n",
       " 'work_id': '5400751',\n",
       " 'title': 'W.C. Fields: A Life on Film',\n",
       " 'title_without_series': 'W.C. Fields: A Life on Film'}"
      ]
     },
     "execution_count": 4,
     "metadata": {},
     "output_type": "execute_result"
    }
   ],
   "source": [
    "# json to dict\n",
    "\n",
    "line = json.loads(line)\n",
    "line"
   ]
  },
  {
   "cell_type": "markdown",
   "metadata": {},
   "source": [
    "**List of all columns or keys**"
   ]
  },
  {
   "cell_type": "code",
   "execution_count": 6,
   "metadata": {},
   "outputs": [
    {
     "data": {
      "text/plain": [
       "['isbn',\n",
       " 'text_reviews_count',\n",
       " 'series',\n",
       " 'country_code',\n",
       " 'language_code',\n",
       " 'popular_shelves',\n",
       " 'asin',\n",
       " 'is_ebook',\n",
       " 'average_rating',\n",
       " 'kindle_asin',\n",
       " 'similar_books',\n",
       " 'description',\n",
       " 'format',\n",
       " 'link',\n",
       " 'authors',\n",
       " 'publisher',\n",
       " 'num_pages',\n",
       " 'publication_day',\n",
       " 'isbn13',\n",
       " 'publication_month',\n",
       " 'edition_information',\n",
       " 'publication_year',\n",
       " 'url',\n",
       " 'image_url',\n",
       " 'book_id',\n",
       " 'ratings_count',\n",
       " 'work_id',\n",
       " 'title',\n",
       " 'title_without_series']"
      ]
     },
     "execution_count": 6,
     "metadata": {},
     "output_type": "execute_result"
    }
   ],
   "source": [
    "list(line.keys())"
   ]
  },
  {
   "cell_type": "markdown",
   "metadata": {},
   "source": [
    "**Requited columns or keys for analysis**\n",
    "- Manually selected based on the application"
   ]
  },
  {
   "cell_type": "code",
   "execution_count": 10,
   "metadata": {},
   "outputs": [],
   "source": [
    "req_columns = \"\"\"\n",
    "'isbn'\n",
    "'average_rating'\n",
    "'similar_books'\n",
    "'description'\n",
    "'link'\n",
    "'authors'\n",
    "'publisher'\n",
    "'num_pages'\n",
    "'publication_day'\n",
    "'publication_month'\n",
    "'publication_year'\n",
    "'isbn13'\n",
    "'url'\n",
    "'image_url'\n",
    "'book_id'\n",
    "'ratings_count'\n",
    "'title_without_series'\n",
    "\"\"\""
   ]
  },
  {
   "cell_type": "markdown",
   "metadata": {},
   "source": [
    "### Reading the Complete Dataset Line by Line and Creating a DataFrame"
   ]
  },
  {
   "cell_type": "markdown",
   "metadata": {},
   "source": [
    "**Function to parse the required attributes from the book details**\n",
    "- Takes single JSON object as input"
   ]
  },
  {
   "cell_type": "code",
   "execution_count": 2,
   "metadata": {},
   "outputs": [],
   "source": [
    "def parse_fields(line):\n",
    "    data = json.loads(line)\n",
    "    return {\n",
    "        'isbn': data['isbn'],\n",
    "        'average_rating': data['average_rating'],\n",
    "        'similar_books': data['similar_books'],\n",
    "        'description': data['description'],\n",
    "        'link': data['link'],\n",
    "        'authors': data['authors'],\n",
    "        'publisher': data['publisher'],\n",
    "        'num_pages': data['num_pages'],\n",
    "        'publication_day': data['publication_day'],\n",
    "        'publication_month': data['publication_month'],\n",
    "        'publication_year': data['publication_year'],\n",
    "        'isbn13': data['isbn13'],\n",
    "        'url': data['url'],\n",
    "        'image_url': data['image_url'],\n",
    "        'gr_book_id': data['book_id'],\n",
    "        'ratings_count': data['ratings_count'],\n",
    "        'title': data['title_without_series'],\n",
    "    }"
   ]
  },
  {
   "cell_type": "markdown",
   "metadata": {},
   "source": [
    "**We will go through all the books from the dataset, line by line till the end using an infinite loop**\n",
    "- We will parse the details of only those books which has got `>= 15` ratings or `ratings_count >= 15`  and save the book details for later use\n",
    "- Runtime: 3-4 m"
   ]
  },
  {
   "cell_type": "code",
   "execution_count": 3,
   "metadata": {},
   "outputs": [],
   "source": [
    "books = []\n",
    "\n",
    "with gzip.open(\"../../Initial/goodreads_books.json.gz\") as f:\n",
    "    while True:\n",
    "        # reading the line\n",
    "        line = f.readline()\n",
    "\n",
    "        # we will break the infinite loop when we reach the end of the dataset file\n",
    "        if not line:\n",
    "            break\n",
    "        \n",
    "        # parsing the line\n",
    "        fields = parse_fields(line)\n",
    "        \n",
    "        # trying to convert ratings_count into integer\n",
    "        try:\n",
    "            ratings_count = int(fields[\"ratings_count\"])\n",
    "        except ValueError:\n",
    "            continue\n",
    "\n",
    "        # we will consider only those books which has more than 15 ratings\n",
    "        if ratings_count > 15:\n",
    "            books.append(fields)"
   ]
  },
  {
   "cell_type": "markdown",
   "metadata": {},
   "source": [
    "**Total number of books**"
   ]
  },
  {
   "cell_type": "code",
   "execution_count": 4,
   "metadata": {},
   "outputs": [
    {
     "data": {
      "text/plain": [
       "1308957"
      ]
     },
     "execution_count": 4,
     "metadata": {},
     "output_type": "execute_result"
    }
   ],
   "source": [
    "len(books)"
   ]
  },
  {
   "cell_type": "markdown",
   "metadata": {},
   "source": [
    "**Insight**\n",
    "- There are 1,308,957 books after filtering through the criteria `ratings_count > 15`"
   ]
  },
  {
   "cell_type": "code",
   "execution_count": 14,
   "metadata": {},
   "outputs": [
    {
     "data": {
      "text/plain": [
       "{'isbn': '',\n",
       " 'average_rating': '4.03',\n",
       " 'similar_books': ['19997',\n",
       "  '828466',\n",
       "  '1569323',\n",
       "  '425389',\n",
       "  '1176674',\n",
       "  '262740',\n",
       "  '3743837',\n",
       "  '880461',\n",
       "  '2292726',\n",
       "  '1883810',\n",
       "  '1808197',\n",
       "  '625150',\n",
       "  '1988046',\n",
       "  '390170',\n",
       "  '2620131',\n",
       "  '383106',\n",
       "  '1597281'],\n",
       " 'description': 'Omnibus book club edition containing the Ladies of Madrigyn and the Witches of Wenshar.',\n",
       " 'link': 'https://www.goodreads.com/book/show/7327624-the-unschooled-wizard',\n",
       " 'authors': [{'author_id': '10333', 'role': ''}],\n",
       " 'publisher': 'Nelson Doubleday, Inc.',\n",
       " 'num_pages': '600',\n",
       " 'publication_day': '',\n",
       " 'publication_month': '',\n",
       " 'publication_year': '1987',\n",
       " 'isbn13': '',\n",
       " 'url': 'https://www.goodreads.com/book/show/7327624-the-unschooled-wizard',\n",
       " 'image_url': 'https://images.gr-assets.com/books/1304100136m/7327624.jpg',\n",
       " 'gr_book_id': '7327624',\n",
       " 'ratings_count': '140',\n",
       " 'title': 'The Unschooled Wizard (Sun Wolf and Starhawk, #1-2)'}"
      ]
     },
     "execution_count": 14,
     "metadata": {},
     "output_type": "execute_result"
    }
   ],
   "source": [
    "books[0]"
   ]
  },
  {
   "cell_type": "markdown",
   "metadata": {},
   "source": [
    "**Creating a DataFrame**"
   ]
  },
  {
   "cell_type": "code",
   "execution_count": 5,
   "metadata": {},
   "outputs": [],
   "source": [
    "items = pd.DataFrame.from_dict(books)"
   ]
  },
  {
   "cell_type": "markdown",
   "metadata": {},
   "source": [
    "**Rows and Columns of the DataFrame**"
   ]
  },
  {
   "cell_type": "code",
   "execution_count": 6,
   "metadata": {},
   "outputs": [
    {
     "name": "stdout",
     "output_type": "stream",
     "text": [
      "Rows: 1308957\n",
      "Columns: 17\n"
     ]
    }
   ],
   "source": [
    "print(f\"Rows: {items.shape[0]}\")\n",
    "print(f\"Columns: {items.shape[1]}\")"
   ]
  },
  {
   "cell_type": "markdown",
   "metadata": {},
   "source": [
    "**We don't need the `books` object anymore**\n",
    "- Deleting the object from namespace and forcing Python for garbage collection (if required)\n",
    "- The `del` method only removes the variable from the namespace and it does not remove the variable from the memory space\n",
    "- To clear the variable from memory we can use the gc.collect() method"
   ]
  },
  {
   "cell_type": "code",
   "execution_count": 7,
   "metadata": {},
   "outputs": [
    {
     "data": {
      "text/plain": [
       "0"
      ]
     },
     "execution_count": 7,
     "metadata": {},
     "output_type": "execute_result"
    }
   ],
   "source": [
    "del(books)\n",
    "gc.collect()"
   ]
  },
  {
   "cell_type": "markdown",
   "metadata": {},
   "source": [
    "### Exploratory Data Analysis"
   ]
  },
  {
   "cell_type": "markdown",
   "metadata": {},
   "source": [
    "**List of Columns**"
   ]
  },
  {
   "cell_type": "code",
   "execution_count": 8,
   "metadata": {},
   "outputs": [
    {
     "data": {
      "text/plain": [
       "['isbn',\n",
       " 'average_rating',\n",
       " 'similar_books',\n",
       " 'description',\n",
       " 'link',\n",
       " 'authors',\n",
       " 'publisher',\n",
       " 'num_pages',\n",
       " 'publication_day',\n",
       " 'publication_month',\n",
       " 'publication_year',\n",
       " 'isbn13',\n",
       " 'url',\n",
       " 'image_url',\n",
       " 'gr_book_id',\n",
       " 'ratings_count',\n",
       " 'title']"
      ]
     },
     "execution_count": 8,
     "metadata": {},
     "output_type": "execute_result"
    }
   ],
   "source": [
    "list(items.columns)"
   ]
  },
  {
   "cell_type": "code",
   "execution_count": 9,
   "metadata": {},
   "outputs": [
    {
     "data": {
      "text/html": [
       "<div>\n",
       "<style scoped>\n",
       "    .dataframe tbody tr th:only-of-type {\n",
       "        vertical-align: middle;\n",
       "    }\n",
       "\n",
       "    .dataframe tbody tr th {\n",
       "        vertical-align: top;\n",
       "    }\n",
       "\n",
       "    .dataframe thead th {\n",
       "        text-align: right;\n",
       "    }\n",
       "</style>\n",
       "<table border=\"1\" class=\"dataframe\">\n",
       "  <thead>\n",
       "    <tr style=\"text-align: right;\">\n",
       "      <th></th>\n",
       "      <th>isbn</th>\n",
       "      <th>average_rating</th>\n",
       "      <th>similar_books</th>\n",
       "      <th>description</th>\n",
       "      <th>link</th>\n",
       "      <th>authors</th>\n",
       "      <th>publisher</th>\n",
       "      <th>num_pages</th>\n",
       "      <th>publication_day</th>\n",
       "      <th>publication_month</th>\n",
       "      <th>publication_year</th>\n",
       "      <th>isbn13</th>\n",
       "      <th>url</th>\n",
       "      <th>image_url</th>\n",
       "      <th>gr_book_id</th>\n",
       "      <th>ratings_count</th>\n",
       "      <th>title</th>\n",
       "    </tr>\n",
       "  </thead>\n",
       "  <tbody>\n",
       "    <tr>\n",
       "      <th>0</th>\n",
       "      <td></td>\n",
       "      <td>4.03</td>\n",
       "      <td>[19997, 828466, 1569323, 425389, 1176674, 2627...</td>\n",
       "      <td>Omnibus book club edition containing the Ladie...</td>\n",
       "      <td>https://www.goodreads.com/book/show/7327624-th...</td>\n",
       "      <td>[{'author_id': '10333', 'role': ''}]</td>\n",
       "      <td>Nelson Doubleday, Inc.</td>\n",
       "      <td>600</td>\n",
       "      <td></td>\n",
       "      <td></td>\n",
       "      <td>1987</td>\n",
       "      <td></td>\n",
       "      <td>https://www.goodreads.com/book/show/7327624-th...</td>\n",
       "      <td>https://images.gr-assets.com/books/1304100136m...</td>\n",
       "      <td>7327624</td>\n",
       "      <td>140</td>\n",
       "      <td>The Unschooled Wizard (Sun Wolf and Starhawk, ...</td>\n",
       "    </tr>\n",
       "    <tr>\n",
       "      <th>1</th>\n",
       "      <td>0743294297</td>\n",
       "      <td>3.49</td>\n",
       "      <td>[6604176, 6054190, 2285777, 82641, 7569453, 70...</td>\n",
       "      <td>Addie Downs and Valerie Adler were eight when ...</td>\n",
       "      <td>https://www.goodreads.com/book/show/6066819-be...</td>\n",
       "      <td>[{'author_id': '9212', 'role': ''}]</td>\n",
       "      <td>Atria Books</td>\n",
       "      <td>368</td>\n",
       "      <td>14</td>\n",
       "      <td>7</td>\n",
       "      <td>2009</td>\n",
       "      <td>9780743294294</td>\n",
       "      <td>https://www.goodreads.com/book/show/6066819-be...</td>\n",
       "      <td>https://s.gr-assets.com/assets/nophoto/book/11...</td>\n",
       "      <td>6066819</td>\n",
       "      <td>51184</td>\n",
       "      <td>Best Friends Forever</td>\n",
       "    </tr>\n",
       "    <tr>\n",
       "      <th>2</th>\n",
       "      <td>1599150603</td>\n",
       "      <td>4.13</td>\n",
       "      <td>[]</td>\n",
       "      <td>Relates in vigorous prose the tale of Aeneas, ...</td>\n",
       "      <td>https://www.goodreads.com/book/show/287141.The...</td>\n",
       "      <td>[{'author_id': '3041852', 'role': ''}]</td>\n",
       "      <td>Yesterday's Classics</td>\n",
       "      <td>162</td>\n",
       "      <td>13</td>\n",
       "      <td>9</td>\n",
       "      <td>2006</td>\n",
       "      <td>9781599150604</td>\n",
       "      <td>https://www.goodreads.com/book/show/287141.The...</td>\n",
       "      <td>https://s.gr-assets.com/assets/nophoto/book/11...</td>\n",
       "      <td>287141</td>\n",
       "      <td>46</td>\n",
       "      <td>The Aeneid for Boys and Girls</td>\n",
       "    </tr>\n",
       "    <tr>\n",
       "      <th>3</th>\n",
       "      <td>1934876569</td>\n",
       "      <td>4.22</td>\n",
       "      <td>[948696, 439885, 274955, 12978730, 372986, 216...</td>\n",
       "      <td>To Kara's astonishment, she discovers that a p...</td>\n",
       "      <td>https://www.goodreads.com/book/show/6066812-al...</td>\n",
       "      <td>[{'author_id': '19158', 'role': ''}]</td>\n",
       "      <td>Seven Seas</td>\n",
       "      <td>216</td>\n",
       "      <td>3</td>\n",
       "      <td>3</td>\n",
       "      <td>2009</td>\n",
       "      <td>9781934876565</td>\n",
       "      <td>https://www.goodreads.com/book/show/6066812-al...</td>\n",
       "      <td>https://images.gr-assets.com/books/1316637798m...</td>\n",
       "      <td>6066812</td>\n",
       "      <td>98</td>\n",
       "      <td>All's Fairy in Love and War (Avalon: Web of Ma...</td>\n",
       "    </tr>\n",
       "    <tr>\n",
       "      <th>4</th>\n",
       "      <td>0922915113</td>\n",
       "      <td>3.81</td>\n",
       "      <td>[287151, 1104760, 1172822, 440292, 287082, 630...</td>\n",
       "      <td>Wisdom, humor, and dark observations by the fo...</td>\n",
       "      <td>https://www.goodreads.com/book/show/287149.The...</td>\n",
       "      <td>[{'author_id': '2983296', 'role': ''}, {'autho...</td>\n",
       "      <td>Feral House</td>\n",
       "      <td>147</td>\n",
       "      <td>1</td>\n",
       "      <td>4</td>\n",
       "      <td>2000</td>\n",
       "      <td>9780922915118</td>\n",
       "      <td>https://www.goodreads.com/book/show/287149.The...</td>\n",
       "      <td>https://images.gr-assets.com/books/1328768789m...</td>\n",
       "      <td>287149</td>\n",
       "      <td>986</td>\n",
       "      <td>The Devil's Notebook</td>\n",
       "    </tr>\n",
       "  </tbody>\n",
       "</table>\n",
       "</div>"
      ],
      "text/plain": [
       "         isbn average_rating  \\\n",
       "0                       4.03   \n",
       "1  0743294297           3.49   \n",
       "2  1599150603           4.13   \n",
       "3  1934876569           4.22   \n",
       "4  0922915113           3.81   \n",
       "\n",
       "                                       similar_books  \\\n",
       "0  [19997, 828466, 1569323, 425389, 1176674, 2627...   \n",
       "1  [6604176, 6054190, 2285777, 82641, 7569453, 70...   \n",
       "2                                                 []   \n",
       "3  [948696, 439885, 274955, 12978730, 372986, 216...   \n",
       "4  [287151, 1104760, 1172822, 440292, 287082, 630...   \n",
       "\n",
       "                                         description  \\\n",
       "0  Omnibus book club edition containing the Ladie...   \n",
       "1  Addie Downs and Valerie Adler were eight when ...   \n",
       "2  Relates in vigorous prose the tale of Aeneas, ...   \n",
       "3  To Kara's astonishment, she discovers that a p...   \n",
       "4  Wisdom, humor, and dark observations by the fo...   \n",
       "\n",
       "                                                link  \\\n",
       "0  https://www.goodreads.com/book/show/7327624-th...   \n",
       "1  https://www.goodreads.com/book/show/6066819-be...   \n",
       "2  https://www.goodreads.com/book/show/287141.The...   \n",
       "3  https://www.goodreads.com/book/show/6066812-al...   \n",
       "4  https://www.goodreads.com/book/show/287149.The...   \n",
       "\n",
       "                                             authors               publisher  \\\n",
       "0               [{'author_id': '10333', 'role': ''}]  Nelson Doubleday, Inc.   \n",
       "1                [{'author_id': '9212', 'role': ''}]             Atria Books   \n",
       "2             [{'author_id': '3041852', 'role': ''}]    Yesterday's Classics   \n",
       "3               [{'author_id': '19158', 'role': ''}]              Seven Seas   \n",
       "4  [{'author_id': '2983296', 'role': ''}, {'autho...             Feral House   \n",
       "\n",
       "  num_pages publication_day publication_month publication_year         isbn13  \\\n",
       "0       600                                               1987                  \n",
       "1       368              14                 7             2009  9780743294294   \n",
       "2       162              13                 9             2006  9781599150604   \n",
       "3       216               3                 3             2009  9781934876565   \n",
       "4       147               1                 4             2000  9780922915118   \n",
       "\n",
       "                                                 url  \\\n",
       "0  https://www.goodreads.com/book/show/7327624-th...   \n",
       "1  https://www.goodreads.com/book/show/6066819-be...   \n",
       "2  https://www.goodreads.com/book/show/287141.The...   \n",
       "3  https://www.goodreads.com/book/show/6066812-al...   \n",
       "4  https://www.goodreads.com/book/show/287149.The...   \n",
       "\n",
       "                                           image_url gr_book_id ratings_count  \\\n",
       "0  https://images.gr-assets.com/books/1304100136m...    7327624           140   \n",
       "1  https://s.gr-assets.com/assets/nophoto/book/11...    6066819         51184   \n",
       "2  https://s.gr-assets.com/assets/nophoto/book/11...     287141            46   \n",
       "3  https://images.gr-assets.com/books/1316637798m...    6066812            98   \n",
       "4  https://images.gr-assets.com/books/1328768789m...     287149           986   \n",
       "\n",
       "                                               title  \n",
       "0  The Unschooled Wizard (Sun Wolf and Starhawk, ...  \n",
       "1                               Best Friends Forever  \n",
       "2                      The Aeneid for Boys and Girls  \n",
       "3  All's Fairy in Love and War (Avalon: Web of Ma...  \n",
       "4                               The Devil's Notebook  "
      ]
     },
     "execution_count": 9,
     "metadata": {},
     "output_type": "execute_result"
    }
   ],
   "source": [
    "items.head()"
   ]
  },
  {
   "cell_type": "markdown",
   "metadata": {},
   "source": [
    "**Checking for null values**"
   ]
  },
  {
   "cell_type": "code",
   "execution_count": 10,
   "metadata": {},
   "outputs": [
    {
     "data": {
      "text/plain": [
       "isbn                 0\n",
       "average_rating       0\n",
       "similar_books        0\n",
       "description          0\n",
       "link                 0\n",
       "authors              0\n",
       "publisher            0\n",
       "num_pages            0\n",
       "publication_day      0\n",
       "publication_month    0\n",
       "publication_year     0\n",
       "isbn13               0\n",
       "url                  0\n",
       "image_url            0\n",
       "gr_book_id           0\n",
       "ratings_count        0\n",
       "title                0\n",
       "dtype: int64"
      ]
     },
     "execution_count": 10,
     "metadata": {},
     "output_type": "execute_result"
    }
   ],
   "source": [
    "items.isnull().sum()"
   ]
  },
  {
   "cell_type": "markdown",
   "metadata": {},
   "source": [
    "**Insight**\n",
    "- Although we can visually see empty data but null values are not there"
   ]
  },
  {
   "cell_type": "markdown",
   "metadata": {},
   "source": [
    "**Looking at datatypes of the values from individual columns of a single record**\n",
    "- We will extract the data from each column from any one record and check the details"
   ]
  },
  {
   "cell_type": "code",
   "execution_count": 11,
   "metadata": {},
   "outputs": [
    {
     "data": {
      "text/plain": [
       "isbn                                                                  \n",
       "average_rating                                                    4.03\n",
       "similar_books        [19997, 828466, 1569323, 425389, 1176674, 2627...\n",
       "description          Omnibus book club edition containing the Ladie...\n",
       "link                 https://www.goodreads.com/book/show/7327624-th...\n",
       "authors                           [{'author_id': '10333', 'role': ''}]\n",
       "publisher                                       Nelson Doubleday, Inc.\n",
       "num_pages                                                          600\n",
       "publication_day                                                       \n",
       "publication_month                                                     \n",
       "publication_year                                                  1987\n",
       "isbn13                                                                \n",
       "url                  https://www.goodreads.com/book/show/7327624-th...\n",
       "image_url            https://images.gr-assets.com/books/1304100136m...\n",
       "gr_book_id                                                     7327624\n",
       "ratings_count                                                      140\n",
       "title                The Unschooled Wizard (Sun Wolf and Starhawk, ...\n",
       "Name: 0, dtype: object"
      ]
     },
     "execution_count": 11,
     "metadata": {},
     "output_type": "execute_result"
    }
   ],
   "source": [
    "single_record = items.iloc[0]\n",
    "single_record"
   ]
  },
  {
   "cell_type": "code",
   "execution_count": 12,
   "metadata": {},
   "outputs": [
    {
     "name": "stdout",
     "output_type": "stream",
     "text": [
      "Column: isbn \t - Datatype: <class 'str'>\n",
      "Column: average_rating \t - Datatype: <class 'str'>\n",
      "Column: similar_books \t - Datatype: <class 'list'>\n",
      "Column: description \t - Datatype: <class 'str'>\n",
      "Column: link \t - Datatype: <class 'str'>\n",
      "Column: authors \t - Datatype: <class 'list'>\n",
      "Column: publisher \t - Datatype: <class 'str'>\n",
      "Column: num_pages \t - Datatype: <class 'str'>\n",
      "Column: publication_day \t - Datatype: <class 'str'>\n",
      "Column: publication_month \t - Datatype: <class 'str'>\n",
      "Column: publication_year \t - Datatype: <class 'str'>\n",
      "Column: isbn13 \t - Datatype: <class 'str'>\n",
      "Column: url \t - Datatype: <class 'str'>\n",
      "Column: image_url \t - Datatype: <class 'str'>\n",
      "Column: gr_book_id \t - Datatype: <class 'str'>\n",
      "Column: ratings_count \t - Datatype: <class 'str'>\n",
      "Column: title \t - Datatype: <class 'str'>\n"
     ]
    }
   ],
   "source": [
    "for i in single_record.index:\n",
    "    print(f\"Column: {i} \\t - Datatype: {type(single_record[i])}\")"
   ]
  },
  {
   "cell_type": "markdown",
   "metadata": {},
   "source": [
    "**Insight**\n",
    "- So, the empty data are string with `length = 0`\n",
    "- Datatype of `authors` and `similar_books` are of type `list`\n",
    "- Rest of the data are of `string` datatype "
   ]
  },
  {
   "cell_type": "markdown",
   "metadata": {},
   "source": [
    "**Checking the datatype of the columns as a whole**"
   ]
  },
  {
   "cell_type": "code",
   "execution_count": 15,
   "metadata": {},
   "outputs": [
    {
     "name": "stdout",
     "output_type": "stream",
     "text": [
      "<class 'pandas.core.frame.DataFrame'>\n",
      "RangeIndex: 1308957 entries, 0 to 1308956\n",
      "Data columns (total 17 columns):\n",
      " #   Column             Non-Null Count    Dtype \n",
      "---  ------             --------------    ----- \n",
      " 0   isbn               1308957 non-null  object\n",
      " 1   average_rating     1308957 non-null  object\n",
      " 2   similar_books      1308957 non-null  object\n",
      " 3   description        1308957 non-null  object\n",
      " 4   link               1308957 non-null  object\n",
      " 5   authors            1308957 non-null  object\n",
      " 6   publisher          1308957 non-null  object\n",
      " 7   num_pages          1308957 non-null  object\n",
      " 8   publication_day    1308957 non-null  object\n",
      " 9   publication_month  1308957 non-null  object\n",
      " 10  publication_year   1308957 non-null  object\n",
      " 11  isbn13             1308957 non-null  object\n",
      " 12  url                1308957 non-null  object\n",
      " 13  image_url          1308957 non-null  object\n",
      " 14  gr_book_id         1308957 non-null  object\n",
      " 15  ratings_count      1308957 non-null  object\n",
      " 16  title              1308957 non-null  object\n",
      "dtypes: object(17)\n",
      "memory usage: 169.8+ MB\n"
     ]
    }
   ],
   "source": [
    "items.info()"
   ]
  },
  {
   "cell_type": "markdown",
   "metadata": {},
   "source": [
    "**Insight**\n",
    "- All are looking `object` because we have string values in most of the columns there apart from `authors` and `similar_books` which are of `list` type\n",
    "- `average_rating` and `ratings_count` column data are of `object` datatype but they should be of numeric type for further analysis and use.\n",
    "- Similarly there are other columns which we can convert into numeric\n",
    "  - `[\"num_pages\", \"publication_day\", \"publication_month\", \"publication_year\", \"gr_book_id\"]`"
   ]
  },
  {
   "cell_type": "markdown",
   "metadata": {},
   "source": [
    "**Converting datatype of columns in their proper form**\n",
    "- The `errors='coerce'` parameter in the `pd.to_numeric` function means that if there are any values in the specified columns that cannot be converted to numeric, those values will be set to `NaN` (Not a Number)"
   ]
  },
  {
   "cell_type": "code",
   "execution_count": 13,
   "metadata": {},
   "outputs": [],
   "source": [
    "columns_to_convert = [\"average_rating\", \"ratings_count\", \"num_pages\", \"publication_day\", \"publication_month\", \"publication_year\", \"gr_book_id\"]\n",
    "\n",
    "items[columns_to_convert] = items[columns_to_convert].apply(pd.to_numeric, errors='coerce')"
   ]
  },
  {
   "cell_type": "code",
   "execution_count": 14,
   "metadata": {},
   "outputs": [
    {
     "name": "stdout",
     "output_type": "stream",
     "text": [
      "<class 'pandas.core.frame.DataFrame'>\n",
      "RangeIndex: 1308957 entries, 0 to 1308956\n",
      "Data columns (total 17 columns):\n",
      " #   Column             Non-Null Count    Dtype  \n",
      "---  ------             --------------    -----  \n",
      " 0   isbn               1308957 non-null  object \n",
      " 1   average_rating     1308957 non-null  float64\n",
      " 2   similar_books      1308957 non-null  object \n",
      " 3   description        1308957 non-null  object \n",
      " 4   link               1308957 non-null  object \n",
      " 5   authors            1308957 non-null  object \n",
      " 6   publisher          1308957 non-null  object \n",
      " 7   num_pages          937378 non-null   float64\n",
      " 8   publication_day    800719 non-null   float64\n",
      " 9   publication_month  870759 non-null   float64\n",
      " 10  publication_year   988556 non-null   float64\n",
      " 11  isbn13             1308957 non-null  object \n",
      " 12  url                1308957 non-null  object \n",
      " 13  image_url          1308957 non-null  object \n",
      " 14  gr_book_id         1308957 non-null  int64  \n",
      " 15  ratings_count      1308957 non-null  int64  \n",
      " 16  title              1308957 non-null  object \n",
      "dtypes: float64(5), int64(2), object(10)\n",
      "memory usage: 169.8+ MB\n"
     ]
    }
   ],
   "source": [
    "items.info()"
   ]
  },
  {
   "cell_type": "markdown",
   "metadata": {},
   "source": [
    "**Insight**\n",
    "- We can obseve that datatypes has been converted successfully"
   ]
  },
  {
   "cell_type": "markdown",
   "metadata": {},
   "source": [
    "**Checking for null values again**"
   ]
  },
  {
   "cell_type": "code",
   "execution_count": 15,
   "metadata": {},
   "outputs": [
    {
     "data": {
      "text/plain": [
       "isbn                      0\n",
       "average_rating            0\n",
       "similar_books             0\n",
       "description               0\n",
       "link                      0\n",
       "authors                   0\n",
       "publisher                 0\n",
       "num_pages            371579\n",
       "publication_day      508238\n",
       "publication_month    438198\n",
       "publication_year     320401\n",
       "isbn13                    0\n",
       "url                       0\n",
       "image_url                 0\n",
       "gr_book_id                0\n",
       "ratings_count             0\n",
       "title                     0\n",
       "dtype: int64"
      ]
     },
     "execution_count": 15,
     "metadata": {},
     "output_type": "execute_result"
    }
   ],
   "source": [
    "items.isnull().sum()"
   ]
  },
  {
   "cell_type": "markdown",
   "metadata": {},
   "source": [
    "**Insight**\n",
    "- We can observe multiple missing values as follow\n",
    "\n",
    "```\n",
    "num_pages            371579\n",
    "publication_day      508238\n",
    "publication_month    438198\n",
    "publication_year     320401\n",
    "```\n",
    "- We can simply impute them with `0`"
   ]
  },
  {
   "cell_type": "markdown",
   "metadata": {},
   "source": [
    "**Imputing the missing values with `0`**"
   ]
  },
  {
   "cell_type": "code",
   "execution_count": 17,
   "metadata": {},
   "outputs": [],
   "source": [
    "items.fillna(0, inplace=True)"
   ]
  },
  {
   "cell_type": "markdown",
   "metadata": {},
   "source": [
    "**Checking null values after imputation**"
   ]
  },
  {
   "cell_type": "code",
   "execution_count": 18,
   "metadata": {},
   "outputs": [
    {
     "data": {
      "text/plain": [
       "isbn                 0\n",
       "average_rating       0\n",
       "similar_books        0\n",
       "description          0\n",
       "link                 0\n",
       "authors              0\n",
       "publisher            0\n",
       "num_pages            0\n",
       "publication_day      0\n",
       "publication_month    0\n",
       "publication_year     0\n",
       "isbn13               0\n",
       "url                  0\n",
       "image_url            0\n",
       "gr_book_id           0\n",
       "ratings_count        0\n",
       "title                0\n",
       "dtype: int64"
      ]
     },
     "execution_count": 18,
     "metadata": {},
     "output_type": "execute_result"
    }
   ],
   "source": [
    "items.isnull().sum()"
   ]
  },
  {
   "cell_type": "markdown",
   "metadata": {},
   "source": [
    "**Insight**\n",
    "- We can observe that all null values has been imputed with `0`\n",
    "- `0` in `[\"num_pages\", \"publication_day\", \"publication_month\", \"publication_year\"]` does not make sense\n",
    "- So we can consider them as missing data"
   ]
  },
  {
   "cell_type": "markdown",
   "metadata": {},
   "source": [
    "**Converting ISBN and ISBN13 into numeric**"
   ]
  },
  {
   "cell_type": "code",
   "execution_count": 19,
   "metadata": {},
   "outputs": [],
   "source": [
    "columns_to_convert = [\"isbn\", \"isbn13\"]\n",
    "\n",
    "items[columns_to_convert] = items[columns_to_convert].apply(pd.to_numeric, errors='coerce')"
   ]
  },
  {
   "cell_type": "markdown",
   "metadata": {},
   "source": [
    "**Checking for null values again**"
   ]
  },
  {
   "cell_type": "code",
   "execution_count": 20,
   "metadata": {},
   "outputs": [
    {
     "data": {
      "text/plain": [
       "isbn                 562645\n",
       "average_rating            0\n",
       "similar_books             0\n",
       "description               0\n",
       "link                      0\n",
       "authors                   0\n",
       "publisher                 0\n",
       "num_pages                 0\n",
       "publication_day           0\n",
       "publication_month         0\n",
       "publication_year          0\n",
       "isbn13               401625\n",
       "url                       0\n",
       "image_url                 0\n",
       "gr_book_id                0\n",
       "ratings_count             0\n",
       "title                     0\n",
       "dtype: int64"
      ]
     },
     "execution_count": 20,
     "metadata": {},
     "output_type": "execute_result"
    }
   ],
   "source": [
    "items.isnull().sum()"
   ]
  },
  {
   "cell_type": "markdown",
   "metadata": {},
   "source": [
    "**Insight**\n",
    "- We can observe some `nan` values as these were faulty or alphanumeric ISBNs\n",
    "- ISBN ideally can only be numeric and of a specific length 10 or 13.\n",
    "- So, we can call them `null` values and impute them with `0` as well"
   ]
  },
  {
   "cell_type": "markdown",
   "metadata": {},
   "source": [
    "**Imputing the missing values with `0`**"
   ]
  },
  {
   "cell_type": "code",
   "execution_count": 21,
   "metadata": {},
   "outputs": [],
   "source": [
    "items.fillna(0, inplace=True)"
   ]
  },
  {
   "cell_type": "markdown",
   "metadata": {},
   "source": [
    "**Checking null values after imputation**"
   ]
  },
  {
   "cell_type": "code",
   "execution_count": 22,
   "metadata": {},
   "outputs": [
    {
     "data": {
      "text/plain": [
       "isbn                 0\n",
       "average_rating       0\n",
       "similar_books        0\n",
       "description          0\n",
       "link                 0\n",
       "authors              0\n",
       "publisher            0\n",
       "num_pages            0\n",
       "publication_day      0\n",
       "publication_month    0\n",
       "publication_year     0\n",
       "isbn13               0\n",
       "url                  0\n",
       "image_url            0\n",
       "gr_book_id           0\n",
       "ratings_count        0\n",
       "title                0\n",
       "dtype: int64"
      ]
     },
     "execution_count": 22,
     "metadata": {},
     "output_type": "execute_result"
    }
   ],
   "source": [
    "items.isnull().sum()"
   ]
  },
  {
   "cell_type": "markdown",
   "metadata": {},
   "source": [
    "**Insight**\n",
    "- We can observe that all null values has been imputed with `0`\n",
    "- `0` in `[\"isbn\",\"isbn13\"]` does not make sense\n",
    "- So we can consider them as missing data"
   ]
  },
  {
   "cell_type": "markdown",
   "metadata": {},
   "source": [
    "**We will export this version of the data**\n",
    "- We have proper datatypes for the columns\n",
    "- We will export the data as compressed json where each record will be a single line as a json "
   ]
  },
  {
   "cell_type": "code",
   "execution_count": 26,
   "metadata": {},
   "outputs": [],
   "source": [
    "# with gzip.open('../../Processed/SE/books_ratingcount_gt15_p0.json.gz', 'wt', encoding='utf-8') as file:\n",
    "#     file.write(items.to_json(orient='records', lines=True))"
   ]
  },
  {
   "cell_type": "markdown",
   "metadata": {},
   "source": [
    "**We will look for duplicate records**"
   ]
  },
  {
   "cell_type": "code",
   "execution_count": 27,
   "metadata": {},
   "outputs": [
    {
     "data": {
      "text/plain": [
       "0"
      ]
     },
     "execution_count": 27,
     "metadata": {},
     "output_type": "execute_result"
    }
   ],
   "source": [
    "columns_to_ignore = ['similar_books', 'authors']\n",
    "columns_to_check = items.columns.difference(columns_to_ignore)\n",
    "\n",
    "items.duplicated(subset=columns_to_check).sum()"
   ]
  },
  {
   "cell_type": "markdown",
   "metadata": {},
   "source": [
    "**Insight**\n",
    "- We can see that there are no duplicate records as whole\n",
    "- We need to look more deeper into the duplicates columns wise"
   ]
  },
  {
   "cell_type": "markdown",
   "metadata": {},
   "source": [
    "#### Deeper Look into Duplicates - Column Wise"
   ]
  },
  {
   "cell_type": "markdown",
   "metadata": {},
   "source": [
    "**Duplicate `title`**"
   ]
  },
  {
   "cell_type": "code",
   "execution_count": 28,
   "metadata": {},
   "outputs": [
    {
     "data": {
      "text/plain": [
       "318555"
      ]
     },
     "execution_count": 28,
     "metadata": {},
     "output_type": "execute_result"
    }
   ],
   "source": [
    "items[\"title\"].duplicated().sum()"
   ]
  },
  {
   "cell_type": "markdown",
   "metadata": {},
   "source": [
    "**Insight**\n",
    "- We have 318,555 duplicate titles"
   ]
  },
  {
   "cell_type": "markdown",
   "metadata": {},
   "source": [
    "**Number of unique books among duplicates**"
   ]
  },
  {
   "cell_type": "code",
   "execution_count": 33,
   "metadata": {},
   "outputs": [
    {
     "data": {
      "text/plain": [
       "146168"
      ]
     },
     "execution_count": 33,
     "metadata": {},
     "output_type": "execute_result"
    }
   ],
   "source": [
    "len(items.loc[items[\"title\"].duplicated(),\"title\"].unique())"
   ]
  },
  {
   "cell_type": "markdown",
   "metadata": {},
   "source": [
    "**Insight**\n",
    "- We have 146,168 duplicate titles"
   ]
  },
  {
   "cell_type": "markdown",
   "metadata": {},
   "source": [
    "**We can have a look at top 25 books on the duplicate list**"
   ]
  },
  {
   "cell_type": "code",
   "execution_count": 37,
   "metadata": {},
   "outputs": [
    {
     "data": {
      "text/plain": [
       "title\n",
       "Jane Eyre                           231\n",
       "Pride and Prejudice                 222\n",
       "Selected Poems                      205\n",
       "Dracula                             184\n",
       "Wuthering Heights                   173\n",
       "Frankenstein                        170\n",
       "Emma                                151\n",
       "Fahrenheit 451                      143\n",
       "1984                                138\n",
       "The Great Gatsby                    136\n",
       "The Picture of Dorian Gray          131\n",
       "Anna Karenina                       125\n",
       "A Christmas Carol                   117\n",
       "The Hobbit                          112\n",
       "Sense and Sensibility               111\n",
       "Great Expectations                  111\n",
       "The Secret Garden                   110\n",
       "Peter Pan                           106\n",
       "Madame Bovary                       102\n",
       "Macbeth                             101\n",
       "Hamlet                               99\n",
       "Treasure Island                      95\n",
       "Animal Farm                          94\n",
       "Lolita                               94\n",
       "Alice's Adventures in Wonderland     93\n",
       "Name: count, dtype: int64"
      ]
     },
     "execution_count": 37,
     "metadata": {},
     "output_type": "execute_result"
    }
   ],
   "source": [
    "items.loc[items[\"title\"].duplicated(),\"title\"].value_counts()[:25]"
   ]
  },
  {
   "cell_type": "markdown",
   "metadata": {},
   "source": [
    "**Insights**\n",
    "- These are usually very famous books"
   ]
  },
  {
   "cell_type": "markdown",
   "metadata": {},
   "source": [
    "**Lets deeply analyze the book - `Frankenstein`**"
   ]
  },
  {
   "cell_type": "code",
   "execution_count": 39,
   "metadata": {},
   "outputs": [
    {
     "data": {
      "text/plain": [
       "(171, 17)"
      ]
     },
     "execution_count": 39,
     "metadata": {},
     "output_type": "execute_result"
    }
   ],
   "source": [
    "duplicate_book = items.loc[items[\"title\"] == \"Frankenstein\"]\n",
    "duplicate_book.shape"
   ]
  },
  {
   "cell_type": "markdown",
   "metadata": {},
   "source": [
    "**Insight**\n",
    "- Total 171 books\n",
    "- 170 duplicates in total"
   ]
  },
  {
   "cell_type": "markdown",
   "metadata": {},
   "source": [
    "**We can look at the number of unique values in other columns for this specific book**"
   ]
  },
  {
   "cell_type": "code",
   "execution_count": 49,
   "metadata": {},
   "outputs": [
    {
     "name": "stdout",
     "output_type": "stream",
     "text": [
      "Column: average_rating \t - 8\n",
      "Column: description \t - 110\n",
      "Column: gr_book_id \t - 171\n",
      "Column: image_url \t - 99\n",
      "Column: isbn \t - 116\n",
      "Column: isbn13 \t - 147\n",
      "Column: link \t - 171\n",
      "Column: num_pages \t - 94\n",
      "Column: publication_day \t - 28\n",
      "Column: publication_month \t - 13\n",
      "Column: publication_year \t - 36\n",
      "Column: publisher \t - 111\n",
      "Column: ratings_count \t - 126\n",
      "Column: title \t - 1\n",
      "Column: url \t - 171\n"
     ]
    }
   ],
   "source": [
    "columns_to_ignore = ['similar_books', 'authors']\n",
    "columns_to_check = items.columns.difference(columns_to_ignore)\n",
    "\n",
    "for col in columns_to_check:\n",
    "    print(f\"Column: {col} \\t - {len(duplicate_book[col].unique())}\")"
   ]
  },
  {
   "cell_type": "markdown",
   "metadata": {},
   "source": [
    "**Insight**\n",
    "- All the books have unique `book_id`, `link` and `url`. So all books exist separately. "
   ]
  },
  {
   "cell_type": "code",
   "execution_count": 74,
   "metadata": {},
   "outputs": [
    {
     "data": {
      "text/plain": [
       "isbn\n",
       "0.000000e+00    56\n",
       "8.661198e+08     1\n",
       "8.804405e+09     1\n",
       "3.210970e+08     1\n",
       "7.350961e+06     1\n",
       "                ..\n",
       "1.404336e+08     1\n",
       "1.631060e+09     1\n",
       "8.467039e+09     1\n",
       "1.554811e+09     1\n",
       "1.928153e+08     1\n",
       "Name: count, Length: 116, dtype: int64"
      ]
     },
     "execution_count": 74,
     "metadata": {},
     "output_type": "execute_result"
    }
   ],
   "source": [
    "duplicate_book[\"isbn\"].value_counts()"
   ]
  },
  {
   "cell_type": "code",
   "execution_count": 60,
   "metadata": {},
   "outputs": [
    {
     "data": {
      "text/plain": [
       "isbn13\n",
       "0.000000e+00    25\n",
       "9.780141e+12     1\n",
       "9.788421e+12     1\n",
       "9.781494e+12     1\n",
       "9.780866e+12     1\n",
       "                ..\n",
       "9.780143e+12     1\n",
       "9.780141e+12     1\n",
       "9.781420e+12     1\n",
       "9.780761e+12     1\n",
       "9.780193e+12     1\n",
       "Name: count, Length: 147, dtype: int64"
      ]
     },
     "execution_count": 60,
     "metadata": {},
     "output_type": "execute_result"
    }
   ],
   "source": [
    "duplicate_book[\"isbn13\"].value_counts()"
   ]
  },
  {
   "cell_type": "markdown",
   "metadata": {},
   "source": [
    "**Inshight**\n",
    "- 56 books no isbn\n",
    "- 25 books no isbn13"
   ]
  },
  {
   "cell_type": "markdown",
   "metadata": {},
   "source": [
    "**Number of books with no isbn or no isbn13**"
   ]
  },
  {
   "cell_type": "code",
   "execution_count": 76,
   "metadata": {},
   "outputs": [
    {
     "data": {
      "text/plain": [
       "23"
      ]
     },
     "execution_count": 76,
     "metadata": {},
     "output_type": "execute_result"
    }
   ],
   "source": [
    "duplicate_book.loc[(duplicate_book[\"isbn\"] == 0) & (duplicate_book[\"isbn13\"] == 0)].shape[0]"
   ]
  },
  {
   "cell_type": "markdown",
   "metadata": {},
   "source": [
    "**Insight**\n",
    "- 23 books has no isbn or isbn13"
   ]
  },
  {
   "cell_type": "markdown",
   "metadata": {},
   "source": [
    "**Number of books any one of isbn or isbn13**"
   ]
  },
  {
   "cell_type": "code",
   "execution_count": 77,
   "metadata": {},
   "outputs": [
    {
     "data": {
      "text/plain": [
       "148"
      ]
     },
     "execution_count": 77,
     "metadata": {},
     "output_type": "execute_result"
    }
   ],
   "source": [
    "duplicate_book.loc[(duplicate_book[\"isbn\"] != 0) | (duplicate_book[\"isbn13\"] != 0)].shape[0]"
   ]
  },
  {
   "cell_type": "markdown",
   "metadata": {},
   "source": [
    "**Insight**\n",
    "- 148 books are there with at least one isbn version"
   ]
  },
  {
   "cell_type": "markdown",
   "metadata": {},
   "source": [
    "**Among thsese 148 books we are looking for duplicate isbn or isbn13**"
   ]
  },
  {
   "cell_type": "code",
   "execution_count": 86,
   "metadata": {},
   "outputs": [
    {
     "name": "stdout",
     "output_type": "stream",
     "text": [
      "isbn\n",
      "0.000000e+00    33\n",
      "8.661198e+08     1\n",
      "8.804405e+09     1\n",
      "3.210970e+08     1\n",
      "7.350961e+06     1\n",
      "                ..\n",
      "1.404336e+08     1\n",
      "1.631060e+09     1\n",
      "8.467039e+09     1\n",
      "1.554811e+09     1\n",
      "1.928153e+08     1\n",
      "Name: count, Length: 116, dtype: int64\n",
      "isbn13\n",
      "0.000000e+00    2\n",
      "9.780141e+12    1\n",
      "9.781494e+12    1\n",
      "9.780452e+12    1\n",
      "9.780195e+12    1\n",
      "               ..\n",
      "9.780143e+12    1\n",
      "9.780141e+12    1\n",
      "9.781420e+12    1\n",
      "9.780761e+12    1\n",
      "9.780193e+12    1\n",
      "Name: count, Length: 147, dtype: int64\n"
     ]
    }
   ],
   "source": [
    "print((duplicate_book.loc[(duplicate_book[\"isbn\"] != 0) | (duplicate_book[\"isbn13\"] != 0),\"isbn\"].value_counts()))\n",
    "print((duplicate_book.loc[(duplicate_book[\"isbn\"] != 0) | (duplicate_book[\"isbn13\"] != 0),\"isbn13\"].value_counts()))"
   ]
  },
  {
   "cell_type": "markdown",
   "metadata": {},
   "source": [
    "**Insight**\n",
    "- There is no duplicate isbn or isbn13 among these 148 books\n",
    "- Only repeated isbn or isbn13 are `0` which means missing ISBNs\n",
    "- Apart from that, there are 23 more books with missing ISBNs\n",
    "- Finally we can state that there are no books with repeated ISBN among the books having at least one version of the ISBN"
   ]
  },
  {
   "cell_type": "code",
   "execution_count": 51,
   "metadata": {},
   "outputs": [
    {
     "data": {
      "text/plain": [
       "image_url\n",
       "https://s.gr-assets.com/assets/nophoto/book/111x148-bcc042a9c91a29c1d680899eff700a03.png    73\n",
       "https://images.gr-assets.com/books/1375686080m/18489.jpg                                     1\n",
       "https://images.gr-assets.com/books/1417034489m/595765.jpg                                    1\n",
       "https://images.gr-assets.com/books/1427546373m/603259.jpg                                    1\n",
       "https://images.gr-assets.com/books/1335360874m/11175287.jpg                                  1\n",
       "Name: count, dtype: int64"
      ]
     },
     "execution_count": 51,
     "metadata": {},
     "output_type": "execute_result"
    }
   ],
   "source": [
    "duplicate_book[\"image_url\"].value_counts()[:5]"
   ]
  },
  {
   "cell_type": "markdown",
   "metadata": {},
   "source": [
    "**Insight**\n",
    "- The only repeated `image_url` is NO PHOTO image"
   ]
  },
  {
   "cell_type": "code",
   "execution_count": 93,
   "metadata": {},
   "outputs": [
    {
     "data": {
      "text/plain": [
       "description\n",
       "Mary Shelley's Frankenstein is the world's most famous Gothic novel about eccentric scientist Victor Frankenstein, who creates a grotesque creature in an unorthodox scientific experiment. Shelley's work is considered to be the world's first science fiction, with Frankenstein's monster being a symbol of science gone awry. Shelley's masterpiece has inspired numerous films, plays and other books. This, the 1831 edition, contains the author's final revisions.                                                                                                                                                                                                                                                                                                                                                                                                                                                                                                                                                                                                                                                                                                                                                                                                                                                             55\n",
       "Frankenstein,loved by many decades of readers and praised by such eminent literary critics as Harold Bloom, seems hardly to need a recommendation. If you haven't read it recently, though, you may not remember the sweeping force of the prose, the grotesque, surreal imagery, and the multilayered doppelgangerthemes of Mary Shelley's masterpiece. As fantasy writer Jane Yolen writes of this (the reviewer's favorite) edition, \"The strong black and whites of the main text [illustrations] are dark and brooding, with unremitting shadows and stark contrasts. But the central conversation with the monster--who owes nothing to the overused movie image but is rather the novel's charnel-house composite--is where [Barry] Moser's illustrations show their greatest power ... The viewer can all but smell the powerful stench of the monster's breath as its words spill out across the page. Strong book-making for one of the world's strongest and most remarkable books.\" Includes an illuminating afterword by Joyce Carol Oates.                                                                                                                                                                                                                                                                                 3\n",
       "'I saw the pale student of unhallowed arts kneeling beside the thing he had put together. I saw the hideous phantasm of a man stretched out, and then, on the working of some powerful engine, show signs of life and stir with an uneasy, half-vital motion.' A summer evening's ghost stories, lonely insomnia in a moonlit Alpine's room, and a runaway imagination -- fired by philosophical discussions with Lord Byron and Percy Bysshe Shelley about science, galvanism, and the origins of life -- conspired to produce for Mary Shelley this haunting night specter. By morning, it had become the germ of her Romantic masterpiece, \"Frankenstein.\" Written in 1816 when she was only 19, Mary Shelley's novel of 'The Modern Prometheus' chillingly dramatized the dangerous potential of life begotten upon a laboratory table. A frightening creation myth for our own time, \"Frankenstein\" remains one of the greatest horror stories ever written and is an undisputed classic of its kind.                                                                                                                                                                                                                                                                                                                               3\n",
       "                                                                                                                                                                                                                                                                                                                                                                                                                                                                                                                                                                                                                                                                                                                                                                                                                                                                                                                                                                                                                                                                                                                                                                                                                                                                                                                                         2\n",
       "Frankenstein; or, The Modern Prometheus, generally known as Frankenstein, is a novel written by the British author Mary Shelley. The title of the novel refers to a scientist, Victor Frankenstein, who learns how to create life and creates a being in the likeness of man, but larger than average and more powerful. In popular culture, people have tended to refer to the Creature as \"Frankenstein\", despite this being the name of the scientist. Frankenstein is a novel infused with some elements of the Gothic novel and the Romantic movement. It was also a warning against the \"over-reaching\" of modern man and the Industrial Revolution, alluded to in the novel's subtitle, The Modern Prometheus. The story has had an influence across literature and popular culture and spawned a complete genre of horror stories and films. It is arguably considered the first fully realized science fiction novel.                                                                                                                                                                                                                                                                                                                                                                                                           2\n",
       "This revision of a widely adopted critical edition presents the 1831 text of Mary Shelley's English Romantic novel along with critical essays that introduce students to Frankensteinfrom contemporary psychoanalytic, Marxist, feminist, gender, and cultural studies perspectives. An additional essay demonstrates how various critical perspectives can be combined. In the second edition, 3 of the 6 essays are new. The text and essays are complemented by contextual documents, introductions (with bibliographies), and a glossary of critical and theoretical terms.                                                                                                                                                                                                                                                                                                                                                                                                                                                                                                                                                                                                                                                                                                                                                          2\n",
       "La historia ha hecho justicia con este personaje relegado durante mucho tiempo a figurar en las enciclopedias como la segunda mujer Percy Bysshe Shelley.\\nHija de Godwin, un afamado editor, nacio en Inglaterra en 1797 y murio en 1851. A su labor no solo se le debe la sistematizacion de la obra poetica de su marido, sino estudios sobre Petrarca, Boccaccio, Maquiavelo, y una abultada obra en forma de novelas cortas, con las que se ganaba la vida tras la muerte de Shelley en un naufragio.\\nDe infancia desgraciada, Mary conocio a Shelley a traves de Godwin y se fugo con el, desafiando la moral de su epoca, poniendo rumbo a Suiza, donde se encontraron con Byron. Alli en la casa del afamado poeta britanico, emprendieron una aventura: cada uno de los reunidos aquella noche (Byron, Shelley, Polidori y la propia Mary)debia escribir una historia de terror en una noche de tormenta, a las orillas del lago.\\nEl resultado de esta aventura fue Frankenstein, el monstruo mas triste de la literatura, la criatura de la que su creador abominaba, incapaz de hallar su sitio en la naturaleza y con inteligencia suficiente para ser consciente de su desgraciado destino. Adaptado a la gran pantalla con desigual fortuna, Frankenstein es el monstruo mas humano de toda la literatura de terror.     1\n",
       "Name: count, dtype: int64"
      ]
     },
     "execution_count": 93,
     "metadata": {},
     "output_type": "execute_result"
    }
   ],
   "source": [
    "duplicate_book[\"description\"].value_counts()[:7]"
   ]
  },
  {
   "cell_type": "markdown",
   "metadata": {},
   "source": [
    "**Insight**\n",
    "- `\"Mary Shelley's Frankenstein is the world's most famous Gothic novel about eccentric scientist Victor Frankenstein, who creates a grotesque creature in an unorthodox scientific experiment. Shelley's work is considered to be the world's first science fiction, with Frankenstein's monster being a symbol of science gone awry. Shelley's masterpiece has inspired numerous films, plays and other books. This, the 1831 edition, contains the author's final revisions.\"`\n",
    "  - 55 books have used the same description\n",
    "- 2 books have no description\n",
    "- Other descriptions are repeated as follows times 3x, 3x, 2x, 2x\n",
    "  - There are no more repeated descriptions"
   ]
  },
  {
   "cell_type": "code",
   "execution_count": 98,
   "metadata": {},
   "outputs": [
    {
     "data": {
      "text/plain": [
       "publisher\n",
       "                               27\n",
       "Penguin Classics                6\n",
       "Oxford University Press         5\n",
       "Newton Compton                  3\n",
       "Penguin                         3\n",
       "Sterling                        3\n",
       "Austral                         3\n",
       "Dover Publications              3\n",
       "Barnes  Noble Classics          3\n",
       "Kaplan Publishing               2\n",
       "Bantam                          2\n",
       "Audible, Inc.                   2\n",
       "Wordsworth Classics             2\n",
       "Mondadori                       2\n",
       "Edimat Libros                   2\n",
       "Wordsworth Editions             2\n",
       "Modern Library                  2\n",
       "Bantam Books                    2\n",
       "Ediciones B                     2\n",
       "Barnes & Noble                  2\n",
       "Gramedia Pustaka Utama          2\n",
       "Signet                          2\n",
       "Underwood-Miller                1\n",
       "Arcturus Publishing Limited     1\n",
       "Baronet Books                   1\n",
       "Name: count, dtype: int64"
      ]
     },
     "execution_count": 98,
     "metadata": {},
     "output_type": "execute_result"
    }
   ],
   "source": [
    "duplicate_book[\"publisher\"].value_counts()[:25]"
   ]
  },
  {
   "cell_type": "code",
   "execution_count": 106,
   "metadata": {},
   "outputs": [
    {
     "data": {
      "text/html": [
       "<div>\n",
       "<style scoped>\n",
       "    .dataframe tbody tr th:only-of-type {\n",
       "        vertical-align: middle;\n",
       "    }\n",
       "\n",
       "    .dataframe tbody tr th {\n",
       "        vertical-align: top;\n",
       "    }\n",
       "\n",
       "    .dataframe thead th {\n",
       "        text-align: right;\n",
       "    }\n",
       "</style>\n",
       "<table border=\"1\" class=\"dataframe\">\n",
       "  <thead>\n",
       "    <tr style=\"text-align: right;\">\n",
       "      <th></th>\n",
       "      <th>publication_year</th>\n",
       "      <th>publication_month</th>\n",
       "      <th>publication_day</th>\n",
       "    </tr>\n",
       "  </thead>\n",
       "  <tbody>\n",
       "    <tr>\n",
       "      <th>32921</th>\n",
       "      <td>2013.0</td>\n",
       "      <td>10.0</td>\n",
       "      <td>3.0</td>\n",
       "    </tr>\n",
       "    <tr>\n",
       "      <th>132147</th>\n",
       "      <td>2015.0</td>\n",
       "      <td>11.0</td>\n",
       "      <td>16.0</td>\n",
       "    </tr>\n",
       "    <tr>\n",
       "      <th>368629</th>\n",
       "      <td>2013.0</td>\n",
       "      <td>10.0</td>\n",
       "      <td>3.0</td>\n",
       "    </tr>\n",
       "    <tr>\n",
       "      <th>445869</th>\n",
       "      <td>1992.0</td>\n",
       "      <td>11.0</td>\n",
       "      <td>2.0</td>\n",
       "    </tr>\n",
       "    <tr>\n",
       "      <th>485813</th>\n",
       "      <td>2011.0</td>\n",
       "      <td>8.0</td>\n",
       "      <td>4.0</td>\n",
       "    </tr>\n",
       "    <tr>\n",
       "      <th>1172465</th>\n",
       "      <td>1986.0</td>\n",
       "      <td>1.0</td>\n",
       "      <td>7.0</td>\n",
       "    </tr>\n",
       "  </tbody>\n",
       "</table>\n",
       "</div>"
      ],
      "text/plain": [
       "         publication_year  publication_month  publication_day\n",
       "32921              2013.0               10.0              3.0\n",
       "132147             2015.0               11.0             16.0\n",
       "368629             2013.0               10.0              3.0\n",
       "445869             1992.0               11.0              2.0\n",
       "485813             2011.0                8.0              4.0\n",
       "1172465            1986.0                1.0              7.0"
      ]
     },
     "execution_count": 106,
     "metadata": {},
     "output_type": "execute_result"
    }
   ],
   "source": [
    "duplicate_book.loc[duplicate_book[\"publisher\"]==\"Penguin Classics\", [\"publication_year\",\"publication_month\", \"publication_day\"]]"
   ]
  },
  {
   "cell_type": "code",
   "execution_count": 109,
   "metadata": {},
   "outputs": [
    {
     "data": {
      "text/html": [
       "<div>\n",
       "<style scoped>\n",
       "    .dataframe tbody tr th:only-of-type {\n",
       "        vertical-align: middle;\n",
       "    }\n",
       "\n",
       "    .dataframe tbody tr th {\n",
       "        vertical-align: top;\n",
       "    }\n",
       "\n",
       "    .dataframe thead th {\n",
       "        text-align: right;\n",
       "    }\n",
       "</style>\n",
       "<table border=\"1\" class=\"dataframe\">\n",
       "  <thead>\n",
       "    <tr style=\"text-align: right;\">\n",
       "      <th></th>\n",
       "      <th>publication_year</th>\n",
       "      <th>publication_month</th>\n",
       "      <th>publication_day</th>\n",
       "    </tr>\n",
       "  </thead>\n",
       "  <tbody>\n",
       "    <tr>\n",
       "      <th>45758</th>\n",
       "      <td>2009.0</td>\n",
       "      <td>5.0</td>\n",
       "      <td>0.0</td>\n",
       "    </tr>\n",
       "    <tr>\n",
       "      <th>193530</th>\n",
       "      <td>1998.0</td>\n",
       "      <td>8.0</td>\n",
       "      <td>0.0</td>\n",
       "    </tr>\n",
       "    <tr>\n",
       "      <th>1091026</th>\n",
       "      <td>2008.0</td>\n",
       "      <td>10.0</td>\n",
       "      <td>15.0</td>\n",
       "    </tr>\n",
       "    <tr>\n",
       "      <th>1249150</th>\n",
       "      <td>1998.0</td>\n",
       "      <td>6.0</td>\n",
       "      <td>25.0</td>\n",
       "    </tr>\n",
       "    <tr>\n",
       "      <th>1288163</th>\n",
       "      <td>1969.0</td>\n",
       "      <td>0.0</td>\n",
       "      <td>0.0</td>\n",
       "    </tr>\n",
       "  </tbody>\n",
       "</table>\n",
       "</div>"
      ],
      "text/plain": [
       "         publication_year  publication_month  publication_day\n",
       "45758              2009.0                5.0              0.0\n",
       "193530             1998.0                8.0              0.0\n",
       "1091026            2008.0               10.0             15.0\n",
       "1249150            1998.0                6.0             25.0\n",
       "1288163            1969.0                0.0              0.0"
      ]
     },
     "execution_count": 109,
     "metadata": {},
     "output_type": "execute_result"
    }
   ],
   "source": [
    "duplicate_book.loc[duplicate_book[\"publisher\"]==\"Oxford University Press\", [\"publication_year\",\"publication_month\", \"publication_day\"]]"
   ]
  },
  {
   "cell_type": "code",
   "execution_count": 110,
   "metadata": {},
   "outputs": [
    {
     "data": {
      "text/html": [
       "<div>\n",
       "<style scoped>\n",
       "    .dataframe tbody tr th:only-of-type {\n",
       "        vertical-align: middle;\n",
       "    }\n",
       "\n",
       "    .dataframe tbody tr th {\n",
       "        vertical-align: top;\n",
       "    }\n",
       "\n",
       "    .dataframe thead th {\n",
       "        text-align: right;\n",
       "    }\n",
       "</style>\n",
       "<table border=\"1\" class=\"dataframe\">\n",
       "  <thead>\n",
       "    <tr style=\"text-align: right;\">\n",
       "      <th></th>\n",
       "      <th>publication_year</th>\n",
       "      <th>publication_month</th>\n",
       "      <th>publication_day</th>\n",
       "    </tr>\n",
       "  </thead>\n",
       "  <tbody>\n",
       "    <tr>\n",
       "      <th>38342</th>\n",
       "      <td>1994.0</td>\n",
       "      <td>1.0</td>\n",
       "      <td>1.0</td>\n",
       "    </tr>\n",
       "    <tr>\n",
       "      <th>223539</th>\n",
       "      <td>2008.0</td>\n",
       "      <td>2.0</td>\n",
       "      <td>0.0</td>\n",
       "    </tr>\n",
       "    <tr>\n",
       "      <th>1067955</th>\n",
       "      <td>2010.0</td>\n",
       "      <td>5.0</td>\n",
       "      <td>27.0</td>\n",
       "    </tr>\n",
       "  </tbody>\n",
       "</table>\n",
       "</div>"
      ],
      "text/plain": [
       "         publication_year  publication_month  publication_day\n",
       "38342              1994.0                1.0              1.0\n",
       "223539             2008.0                2.0              0.0\n",
       "1067955            2010.0                5.0             27.0"
      ]
     },
     "execution_count": 110,
     "metadata": {},
     "output_type": "execute_result"
    }
   ],
   "source": [
    "duplicate_book.loc[duplicate_book[\"publisher\"]==\"Newton Compton\", [\"publication_year\",\"publication_month\", \"publication_day\"]]"
   ]
  },
  {
   "cell_type": "markdown",
   "metadata": {},
   "source": [
    "**Insight**\n",
    "- Most of the publisher has published this book multiple times over the years"
   ]
  },
  {
   "cell_type": "code",
   "execution_count": 108,
   "metadata": {},
   "outputs": [
    {
     "data": {
      "text/html": [
       "<div>\n",
       "<style scoped>\n",
       "    .dataframe tbody tr th:only-of-type {\n",
       "        vertical-align: middle;\n",
       "    }\n",
       "\n",
       "    .dataframe tbody tr th {\n",
       "        vertical-align: top;\n",
       "    }\n",
       "\n",
       "    .dataframe thead th {\n",
       "        text-align: right;\n",
       "    }\n",
       "</style>\n",
       "<table border=\"1\" class=\"dataframe\">\n",
       "  <thead>\n",
       "    <tr style=\"text-align: right;\">\n",
       "      <th></th>\n",
       "      <th>isbn</th>\n",
       "      <th>average_rating</th>\n",
       "      <th>similar_books</th>\n",
       "      <th>description</th>\n",
       "      <th>link</th>\n",
       "      <th>authors</th>\n",
       "      <th>publisher</th>\n",
       "      <th>num_pages</th>\n",
       "      <th>publication_day</th>\n",
       "      <th>publication_month</th>\n",
       "      <th>publication_year</th>\n",
       "      <th>isbn13</th>\n",
       "      <th>url</th>\n",
       "      <th>image_url</th>\n",
       "      <th>gr_book_id</th>\n",
       "      <th>ratings_count</th>\n",
       "      <th>title</th>\n",
       "    </tr>\n",
       "  </thead>\n",
       "  <tbody>\n",
       "    <tr>\n",
       "      <th>32921</th>\n",
       "      <td>141393394.0</td>\n",
       "      <td>3.76</td>\n",
       "      <td>[93157, 70985, 51497, 36314, 12194, 816740, 12...</td>\n",
       "      <td>Mary Shelley's Frankenstein is the world's mos...</td>\n",
       "      <td>https://www.goodreads.com/book/show/18306732-f...</td>\n",
       "      <td>[{'author_id': '11139', 'role': ''}]</td>\n",
       "      <td>Penguin Classics</td>\n",
       "      <td>273.0</td>\n",
       "      <td>3.0</td>\n",
       "      <td>10.0</td>\n",
       "      <td>2013.0</td>\n",
       "      <td>9.780141e+12</td>\n",
       "      <td>https://www.goodreads.com/book/show/18306732-f...</td>\n",
       "      <td>https://images.gr-assets.com/books/1380546334m...</td>\n",
       "      <td>18306732</td>\n",
       "      <td>454</td>\n",
       "      <td>Frankenstein</td>\n",
       "    </tr>\n",
       "    <tr>\n",
       "      <th>368629</th>\n",
       "      <td>143122339.0</td>\n",
       "      <td>3.76</td>\n",
       "      <td>[93157, 70985, 51497, 36314, 12194, 816740, 12...</td>\n",
       "      <td>Mary Shelley's Frankenstein is the world's mos...</td>\n",
       "      <td>https://www.goodreads.com/book/show/15808305-f...</td>\n",
       "      <td>[{'author_id': '11139', 'role': ''}, {'author_...</td>\n",
       "      <td>Penguin Classics</td>\n",
       "      <td>384.0</td>\n",
       "      <td>3.0</td>\n",
       "      <td>10.0</td>\n",
       "      <td>2013.0</td>\n",
       "      <td>9.780143e+12</td>\n",
       "      <td>https://www.goodreads.com/book/show/15808305-f...</td>\n",
       "      <td>https://images.gr-assets.com/books/1373997238m...</td>\n",
       "      <td>15808305</td>\n",
       "      <td>141</td>\n",
       "      <td>Frankenstein</td>\n",
       "    </tr>\n",
       "  </tbody>\n",
       "</table>\n",
       "</div>"
      ],
      "text/plain": [
       "               isbn  average_rating  \\\n",
       "32921   141393394.0            3.76   \n",
       "368629  143122339.0            3.76   \n",
       "\n",
       "                                            similar_books  \\\n",
       "32921   [93157, 70985, 51497, 36314, 12194, 816740, 12...   \n",
       "368629  [93157, 70985, 51497, 36314, 12194, 816740, 12...   \n",
       "\n",
       "                                              description  \\\n",
       "32921   Mary Shelley's Frankenstein is the world's mos...   \n",
       "368629  Mary Shelley's Frankenstein is the world's mos...   \n",
       "\n",
       "                                                     link  \\\n",
       "32921   https://www.goodreads.com/book/show/18306732-f...   \n",
       "368629  https://www.goodreads.com/book/show/15808305-f...   \n",
       "\n",
       "                                                  authors         publisher  \\\n",
       "32921                [{'author_id': '11139', 'role': ''}]  Penguin Classics   \n",
       "368629  [{'author_id': '11139', 'role': ''}, {'author_...  Penguin Classics   \n",
       "\n",
       "        num_pages  publication_day  publication_month  publication_year  \\\n",
       "32921       273.0              3.0               10.0            2013.0   \n",
       "368629      384.0              3.0               10.0            2013.0   \n",
       "\n",
       "              isbn13                                                url  \\\n",
       "32921   9.780141e+12  https://www.goodreads.com/book/show/18306732-f...   \n",
       "368629  9.780143e+12  https://www.goodreads.com/book/show/15808305-f...   \n",
       "\n",
       "                                                image_url  gr_book_id  \\\n",
       "32921   https://images.gr-assets.com/books/1380546334m...    18306732   \n",
       "368629  https://images.gr-assets.com/books/1373997238m...    15808305   \n",
       "\n",
       "        ratings_count         title  \n",
       "32921             454  Frankenstein  \n",
       "368629            141  Frankenstein  "
      ]
     },
     "execution_count": 108,
     "metadata": {},
     "output_type": "execute_result"
    }
   ],
   "source": [
    "duplicate_book.loc[(duplicate_book[\"publisher\"]==\"Penguin Classics\") & (duplicate_book[\"publication_year\"]==2013)]"
   ]
  },
  {
   "cell_type": "markdown",
   "metadata": {},
   "source": [
    "**Insight**\n",
    "- \"Penguin Classics\" have published the book same book same day, month and year but with different page numbers as 273 and 384\n",
    "- So, two different versions\n",
    "- But we can say that both are almost equally famous"
   ]
  },
  {
   "cell_type": "markdown",
   "metadata": {},
   "source": [
    "### Creating Modified Title to Minimize Search Space"
   ]
  },
  {
   "cell_type": "markdown",
   "metadata": {},
   "source": [
    "**Removing characters apart from A-z, a-z and 0-9 and Space**"
   ]
  },
  {
   "cell_type": "code",
   "execution_count": 112,
   "metadata": {},
   "outputs": [],
   "source": [
    "items[\"mod_title\"] = items[\"title\"].str.replace(\"[^a-zA-Z0-9 ]\", \"\", regex=True)"
   ]
  },
  {
   "cell_type": "markdown",
   "metadata": {},
   "source": [
    "**We will make title lower case**"
   ]
  },
  {
   "cell_type": "code",
   "execution_count": 113,
   "metadata": {},
   "outputs": [],
   "source": [
    "items[\"mod_title\"] = items[\"mod_title\"].str.lower()"
   ]
  },
  {
   "cell_type": "markdown",
   "metadata": {},
   "source": [
    "**Replacing any extra spaces with a single space**"
   ]
  },
  {
   "cell_type": "code",
   "execution_count": 114,
   "metadata": {},
   "outputs": [],
   "source": [
    "items[\"mod_title\"] = items[\"mod_title\"].str.replace(\"\\s+\", \" \", regex=True)"
   ]
  },
  {
   "cell_type": "markdown",
   "metadata": {},
   "source": [
    "**We will keep only those records where the `mod_title` is not empty or has a length > 0**"
   ]
  },
  {
   "cell_type": "code",
   "execution_count": 115,
   "metadata": {},
   "outputs": [],
   "source": [
    "items = items[items[\"mod_title\"].str.len() > 0]"
   ]
  },
  {
   "cell_type": "code",
   "execution_count": 116,
   "metadata": {},
   "outputs": [
    {
     "data": {
      "text/plain": [
       "1302659"
      ]
     },
     "execution_count": 116,
     "metadata": {},
     "output_type": "execute_result"
    }
   ],
   "source": [
    "len(items) "
   ]
  },
  {
   "cell_type": "markdown",
   "metadata": {},
   "source": [
    "**Insight**\n",
    "- We can observe a sligt reduction in count which is expected"
   ]
  },
  {
   "cell_type": "markdown",
   "metadata": {},
   "source": [
    "**Exporting the Data as Compressed JSON After Reducing Search Space**"
   ]
  },
  {
   "cell_type": "code",
   "execution_count": 117,
   "metadata": {},
   "outputs": [],
   "source": [
    "with gzip.open('../../Processed/SE/books_ratingcount_gt15_p1.json.gz', 'wt', encoding='utf-8') as file:\n",
    "    file.write(items.to_json(orient='records', lines=True))"
   ]
  },
  {
   "cell_type": "code",
   "execution_count": 30,
   "metadata": {},
   "outputs": [],
   "source": [
    "# execution stop point\n",
    "\n",
    "# 10/0"
   ]
  },
  {
   "cell_type": "markdown",
   "metadata": {},
   "source": [
    "### Removing Records With Title Containing Letters Other Than English"
   ]
  },
  {
   "cell_type": "markdown",
   "metadata": {},
   "source": [
    "**Titles with letter other than Engish becomes `' '` or string of length 1 in the `mod_title` column - Removing those**"
   ]
  },
  {
   "cell_type": "code",
   "execution_count": 118,
   "metadata": {},
   "outputs": [
    {
     "name": "stdout",
     "output_type": "stream",
     "text": [
      "37931\n"
     ]
    }
   ],
   "source": [
    "print(len(items[items[\"mod_title\"].str.len() == 1]))"
   ]
  },
  {
   "cell_type": "markdown",
   "metadata": {},
   "source": [
    "**Getting the indics of those records**"
   ]
  },
  {
   "cell_type": "code",
   "execution_count": 119,
   "metadata": {},
   "outputs": [
    {
     "data": {
      "text/plain": [
       "Index([     28,      37,      38,      43,      65,      72,      85,     118,\n",
       "           175,     198,\n",
       "       ...\n",
       "       1308680, 1308686, 1308691, 1308697, 1308789, 1308850, 1308854, 1308881,\n",
       "       1308931, 1308940],\n",
       "      dtype='int64', length=37931)"
      ]
     },
     "execution_count": 119,
     "metadata": {},
     "output_type": "execute_result"
    }
   ],
   "source": [
    "items_drop = items[items[\"mod_title\"].str.len() == 1].index\n",
    "items_drop"
   ]
  },
  {
   "cell_type": "markdown",
   "metadata": {},
   "source": [
    "**We can crosscheck the net number of books that we will get after dropping the records**\n",
    "- `1302659 - 37931 = 1264728`"
   ]
  },
  {
   "cell_type": "code",
   "execution_count": 120,
   "metadata": {},
   "outputs": [
    {
     "name": "stdout",
     "output_type": "stream",
     "text": [
      "1264728\n",
      "1264728\n"
     ]
    }
   ],
   "source": [
    "print(len(items.drop(index=items_drop)))\n",
    "print(1302659 - 37931)"
   ]
  },
  {
   "cell_type": "markdown",
   "metadata": {},
   "source": [
    "**Dropping the records from the actual DataFrame**"
   ]
  },
  {
   "cell_type": "code",
   "execution_count": 121,
   "metadata": {},
   "outputs": [
    {
     "name": "stderr",
     "output_type": "stream",
     "text": [
      "C:\\Users\\hp\\AppData\\Local\\Temp\\ipykernel_4072\\3323350611.py:1: SettingWithCopyWarning: \n",
      "A value is trying to be set on a copy of a slice from a DataFrame\n",
      "\n",
      "See the caveats in the documentation: https://pandas.pydata.org/pandas-docs/stable/user_guide/indexing.html#returning-a-view-versus-a-copy\n",
      "  items.drop(index=items_drop, inplace=True)\n"
     ]
    },
    {
     "data": {
      "text/plain": [
       "(1264728, 18)"
      ]
     },
     "execution_count": 121,
     "metadata": {},
     "output_type": "execute_result"
    }
   ],
   "source": [
    "items.drop(index=items_drop, inplace=True)\n",
    "\n",
    "items.shape"
   ]
  },
  {
   "cell_type": "markdown",
   "metadata": {},
   "source": [
    "**Exporting the Data as Compressed JSON After Second Level of Processing**"
   ]
  },
  {
   "cell_type": "code",
   "execution_count": 122,
   "metadata": {},
   "outputs": [],
   "source": [
    "# Export DataFrame to JSON with one line per record\n",
    "# Compress the JSON string and write to a gzip file\n",
    "\n",
    "with gzip.open('../../Processed/SE/books_ratingcount_gt15_p2.json.gz', 'wt', encoding='utf-8') as file:\n",
    "    file.write(items.to_json(orient='records', lines=True))"
   ]
  },
  {
   "cell_type": "code",
   "execution_count": null,
   "metadata": {},
   "outputs": [],
   "source": [
    "# execution stop point\n",
    "\n",
    "10/0"
   ]
  },
  {
   "cell_type": "markdown",
   "metadata": {},
   "source": [
    "### Testing The Exported Files"
   ]
  },
  {
   "cell_type": "code",
   "execution_count": 136,
   "metadata": {},
   "outputs": [
    {
     "data": {
      "text/plain": [
       "b'{\"isbn\":743294297.0,\"average_rating\":3.49,\"similar_books\":[\"6604176\",\"6054190\",\"2285777\",\"82641\",\"7569453\",\"7010683\",\"5941079\",\"7052976\",\"227709\",\"6389685\",\"5456247\",\"3134684\"],\"description\":\"Addie Downs and Valerie Adler were eight when they first met and decided to be best friends forever. But, in the wake of tragedy and betrayal during their teenage years, everything changed. Val went on to fame and fortune. Addie stayed behind in their small Midwestern town. Destiny, however, had more in store for these two. And when, twenty-five years later, Val shows up at Addie\\'s front door with blood on her coat and terror on her face, it is the beginning of a wild adventure for two women joined by love and history who find strength together that they could not find alone.\",\"link\":\"https:\\\\/\\\\/www.goodreads.com\\\\/book\\\\/show\\\\/6066819-best-friends-forever\",\"authors\":[{\"author_id\":\"9212\",\"role\":\"\"}],\"publisher\":\"Atria Books\",\"num_pages\":368.0,\"publication_day\":14.0,\"publication_month\":7.0,\"publication_year\":2009.0,\"isbn13\":9780743294294.0,\"url\":\"https:\\\\/\\\\/www.goodreads.com\\\\/book\\\\/show\\\\/6066819-best-friends-forever\",\"image_url\":\"https:\\\\/\\\\/s.gr-assets.com\\\\/assets\\\\/nophoto\\\\/book\\\\/111x148-bcc042a9c91a29c1d680899eff700a03.png\",\"gr_book_id\":6066819,\"ratings_count\":51184,\"title\":\"Best Friends Forever\",\"mod_title\":\"best friends forever\"}\\r\\n'"
      ]
     },
     "execution_count": 136,
     "metadata": {},
     "output_type": "execute_result"
    }
   ],
   "source": [
    "# testing the file  => opening gzip file streaming fashion\n",
    "\n",
    "with gzip.open('../../Processed/SE/books_ratingcount_gt15_p2.json.gz') as file:\n",
    "    for i in range(2):\n",
    "        line = file.readline()\n",
    "\n",
    "line"
   ]
  },
  {
   "cell_type": "code",
   "execution_count": 137,
   "metadata": {},
   "outputs": [
    {
     "data": {
      "text/plain": [
       "{'isbn': 743294297.0,\n",
       " 'average_rating': 3.49,\n",
       " 'similar_books': ['6604176',\n",
       "  '6054190',\n",
       "  '2285777',\n",
       "  '82641',\n",
       "  '7569453',\n",
       "  '7010683',\n",
       "  '5941079',\n",
       "  '7052976',\n",
       "  '227709',\n",
       "  '6389685',\n",
       "  '5456247',\n",
       "  '3134684'],\n",
       " 'description': \"Addie Downs and Valerie Adler were eight when they first met and decided to be best friends forever. But, in the wake of tragedy and betrayal during their teenage years, everything changed. Val went on to fame and fortune. Addie stayed behind in their small Midwestern town. Destiny, however, had more in store for these two. And when, twenty-five years later, Val shows up at Addie's front door with blood on her coat and terror on her face, it is the beginning of a wild adventure for two women joined by love and history who find strength together that they could not find alone.\",\n",
       " 'link': 'https://www.goodreads.com/book/show/6066819-best-friends-forever',\n",
       " 'authors': [{'author_id': '9212', 'role': ''}],\n",
       " 'publisher': 'Atria Books',\n",
       " 'num_pages': 368.0,\n",
       " 'publication_day': 14.0,\n",
       " 'publication_month': 7.0,\n",
       " 'publication_year': 2009.0,\n",
       " 'isbn13': 9780743294294.0,\n",
       " 'url': 'https://www.goodreads.com/book/show/6066819-best-friends-forever',\n",
       " 'image_url': 'https://s.gr-assets.com/assets/nophoto/book/111x148-bcc042a9c91a29c1d680899eff700a03.png',\n",
       " 'gr_book_id': 6066819,\n",
       " 'ratings_count': 51184,\n",
       " 'title': 'Best Friends Forever',\n",
       " 'mod_title': 'best friends forever'}"
      ]
     },
     "execution_count": 137,
     "metadata": {},
     "output_type": "execute_result"
    }
   ],
   "source": [
    "json.loads(line)"
   ]
  },
  {
   "attachments": {
    "image.png": {
     "image/png": "[encoded data removed]"
    }
   },
   "cell_type": "markdown",
   "metadata": {},
   "source": [
    "**JSON vs Compressed JSON**\n",
    "\n",
    "![image.png](attachment:image.png)"
   ]
  }
 ],
 "metadata": {
  "kernelspec": {
   "display_name": "Python 3",
   "language": "python",
   "name": "python3"
  },
  "language_info": {
   "codemirror_mode": {
    "name": "ipython",
    "version": 3
   },
   "file_extension": ".py",
   "mimetype": "text/x-python",
   "name": "python",
   "nbconvert_exporter": "python",
   "pygments_lexer": "ipython3",
   "version": "3.10.11"
  }
 },
 "nbformat": 4,
 "nbformat_minor": 2
}
