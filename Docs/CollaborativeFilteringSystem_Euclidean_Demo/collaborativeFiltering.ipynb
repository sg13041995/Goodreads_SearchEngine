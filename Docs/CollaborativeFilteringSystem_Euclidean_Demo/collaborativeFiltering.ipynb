{
 "cells": [
  {
   "cell_type": "markdown",
   "metadata": {},
   "source": [
    "## Importing Libraries and Loading Data "
   ]
  },
  {
   "cell_type": "code",
   "execution_count": 1,
   "metadata": {
    "collapsed": true
   },
   "outputs": [],
   "source": [
    "import math\n",
    "import operator\n",
    "\n",
    "# Building Custom Data for Movie Rating\n",
    "# Here critics/users are 'Marlon Brando', 'Stephen King', 'Steven Spielberg' and so on...\n",
    "# Under each critic/user we have some list of movies that they have rated and the corresponding ratings as key value pairs\n",
    "\n",
    "review = {\n",
    "'Marlon Brando': {\n",
    "'The Godfather': 5.00, \n",
    "'The Godfather Part II': 4.29,\n",
    "'Apocalypse Now': 5.00, \n",
    "'Jaws': 1.\n",
    "},\n",
    "'Stephen King': {\n",
    "'The Shawshank Redemption': 4.89, \n",
    "'The Shining': 4.93 , \n",
    "'The Green Mile': 4.87,\n",
    "'The Godfather': 1.33,\n",
    "},\n",
    "'Steven Spielberg': {\n",
    "'Raiders of the Lost Ark': 5.0, \n",
    "'Jaws': 4.89,\n",
    "'Saving Private Ryan': 4.78, \n",
    "'Star Wars Episode IV - A New Hope': 4.33,\n",
    "'Close Encounters of the Third Kind': 4.77,\n",
    "'The Godfather':  1.25,\n",
    "'The Godfather Part II': 1.72\n",
    "},\n",
    "'George Lucas':{\n",
    "'Star Wars Episode IV - A New Hope': 5.00\t\n",
    "},\n",
    "'Al Pacino': {\n",
    "'The Godfather': 4.02, \n",
    "'The Godfather Part II': 5.00,\n",
    "},\n",
    "'Robert DeNiro': {\n",
    "'The Godfather': 3.07, \n",
    "'The Godfather Part II': 4.29, \n",
    "'Raging Bull': 5.00, \n",
    "'Goodfellas':  4.89\n",
    "},\n",
    "'Robert Duvall': {\n",
    "'The Godfather': 3.80, \n",
    "'The Godfather Part II': 3.61,\n",
    "'Apocalypse Now': 4.26 \n",
    "},\n",
    "'Jack Nicholson': {\n",
    "'The Shining': 5.0,\n",
    "'One Flew Over The Cuckoos Nest': 5.0,\n",
    "'The Godfather': 2.22,\n",
    "'The Godfather Part II': 3.34\n",
    "},\n",
    "'Morgan Freeman': {\n",
    "'The Shawshank Redemption': 4.98,\n",
    "'The Shining': 4.42,\n",
    "'Apocalypse Now': 1.63,\n",
    "'The Godfather': 1.12,\n",
    "'The Godfather Part II': 2.16\n",
    "},\n",
    "'Harrison Ford': {\n",
    "'Raiders of the Lost Ark': 5.0, \n",
    "'Star Wars Episode IV - A New Hope': 4.84,\n",
    "},\n",
    "'Tom Hanks': {\n",
    "'Saving Private Ryan': 3.78, \n",
    "'The Green Mile': 4.96,\n",
    "'The Godfather': 1.04,\n",
    "'The Godfather Part II': 1.03\n",
    "},\n",
    "'Francis Ford Coppola': {\n",
    "'The Godfather': 5.00, \n",
    "'The Godfather Part II': 5.0, \n",
    "'Jaws': 1.24,\n",
    "'One Flew Over The Cuckoos Nest': 2.02\n",
    "},\n",
    "'Martin Scorsese': {\n",
    "'Raging Bull': 5.0, \n",
    "'Goodfellas': 4.87,\n",
    "'Close Encounters of the Third Kind': 1.14,\n",
    "'The Godfather': 4.00\n",
    "},\n",
    "'Diane Keaton': {\n",
    "'The Godfather': 2.98,\n",
    "'The Godfather Part II': 3.93,\n",
    "'Close Encounters of the Third Kind': 1.37\n",
    "},\n",
    "'Richard Dreyfuss': {\n",
    "'Jaws': 5.0, \n",
    "'Close Encounters of the Third Kind': 5.0,\n",
    "'The Godfather': 1.07,\n",
    "'The Godfather Part II': 0.63\n",
    "},\n",
    "'Joe Pesci': {\n",
    "'Raging Bull': 4.89, \n",
    "'Goodfellas': 5.0,\n",
    "'The Godfather': 4.87,\n",
    "'Star Wars Episode IV - A New Hope': 1.32\n",
    "}\n",
    "}"
   ]
  },
  {
   "cell_type": "code",
   "execution_count": 5,
   "metadata": {},
   "outputs": [
    {
     "data": {
      "text/plain": [
       "['The Godfather', 'The Godfather Part II']"
      ]
     },
     "execution_count": 5,
     "metadata": {},
     "output_type": "execute_result"
    }
   ],
   "source": [
    "# getting common listed movies between users\n",
    "\n",
    "common_movies = list()\n",
    "criticA, criticB = 'Marlon Brando', 'Robert DeNiro'\n",
    "\n",
    "for movie in review[criticA]:\n",
    "    if movie in review[criticB]:\n",
    "        common_movies.append(movie)\n",
    "\n",
    "common_movies"
   ]
  },
  {
   "cell_type": "code",
   "execution_count": 6,
   "metadata": {
    "collapsed": true
   },
   "outputs": [],
   "source": [
    "# Function to get common listed movies b/w Users\n",
    "\n",
    "def get_common_movies(criticA,criticB):\n",
    "    return [movie for movie in review[criticA] if movie in review[criticB]]"
   ]
  },
  {
   "cell_type": "code",
   "execution_count": 3,
   "metadata": {
    "scrolled": true
   },
   "outputs": [
    {
     "data": {
      "text/plain": [
       "['The Godfather', 'The Godfather Part II']"
      ]
     },
     "execution_count": 3,
     "metadata": {},
     "output_type": "execute_result"
    }
   ],
   "source": [
    "get_common_movies('Marlon Brando','Robert DeNiro')"
   ]
  },
  {
   "cell_type": "code",
   "execution_count": 4,
   "metadata": {
    "scrolled": true
   },
   "outputs": [
    {
     "data": {
      "text/plain": [
       "['Saving Private Ryan', 'The Godfather', 'The Godfather Part II']"
      ]
     },
     "execution_count": 4,
     "metadata": {},
     "output_type": "execute_result"
    }
   ],
   "source": [
    "get_common_movies('Steven Spielberg','Tom Hanks')"
   ]
  },
  {
   "cell_type": "code",
   "execution_count": 5,
   "metadata": {},
   "outputs": [
    {
     "data": {
      "text/plain": [
       "['Raging Bull', 'Goodfellas', 'The Godfather']"
      ]
     },
     "execution_count": 5,
     "metadata": {},
     "output_type": "execute_result"
    }
   ],
   "source": [
    "get_common_movies('Martin Scorsese','Joe Pesci')"
   ]
  },
  {
   "cell_type": "code",
   "execution_count": 9,
   "metadata": {},
   "outputs": [
    {
     "data": {
      "text/plain": [
       "[(5.0, 3.07), (4.29, 4.29)]"
      ]
     },
     "execution_count": 9,
     "metadata": {},
     "output_type": "execute_result"
    }
   ],
   "source": [
    "# Getting the movie ratings corresponding to a user\n",
    "\n",
    "common_movies_review = list()\n",
    "criticA, criticB = 'Marlon Brando', 'Robert DeNiro'\n",
    "\n",
    "# first getting the list of common movies\n",
    "common_movies = get_common_movies(criticA,criticB)\n",
    "\n",
    "# extracting the ratings of the movies by selecting each critic\n",
    "# packing reviews of two users about a single movie in a single tuple\n",
    "for movie in common_movies:\n",
    "    common_movies_review.append((review[criticA][movie], review[criticB][movie]))\n",
    "\n",
    "# here m1=>(u1, u2), m2=>(u1, u2), m3=>(u1, u2) and so on...\n",
    "# So, more movies means more dimensions of two vectors u1 and u2 \n",
    "# [(5.0, 3.07), (4.29, 4.29)] => [movie1=>(u1, u2), movie=>(u1, u2)]\n",
    "common_movies_review"
   ]
  },
  {
   "cell_type": "code",
   "execution_count": 10,
   "metadata": {
    "collapsed": true
   },
   "outputs": [],
   "source": [
    "# Function to get reviews from the common movies\n",
    "# We will use `get_common_movies` func to get the movies first and then we will extract the corresponding ratings \n",
    "\n",
    "# we have implemented the above function in 2 lines\n",
    "def get_reviews(criticA,criticB):\n",
    "    common_movies = get_common_movies(criticA,criticB)\n",
    "    return [(review[criticA][movie], review[criticB][movie]) for movie in common_movies]"
   ]
  },
  {
   "cell_type": "code",
   "execution_count": 7,
   "metadata": {},
   "outputs": [
    {
     "data": {
      "text/plain": [
       "[(5.0, 3.07), (4.29, 4.29)]"
      ]
     },
     "execution_count": 7,
     "metadata": {},
     "output_type": "execute_result"
    }
   ],
   "source": [
    "get_reviews('Marlon Brando','Robert DeNiro')"
   ]
  },
  {
   "cell_type": "code",
   "execution_count": 8,
   "metadata": {},
   "outputs": [
    {
     "data": {
      "text/plain": [
       "[(4.78, 3.78), (1.25, 1.04), (1.72, 1.03)]"
      ]
     },
     "execution_count": 8,
     "metadata": {},
     "output_type": "execute_result"
    }
   ],
   "source": [
    "get_reviews('Steven Spielberg','Tom Hanks')"
   ]
  },
  {
   "cell_type": "code",
   "execution_count": 9,
   "metadata": {},
   "outputs": [
    {
     "data": {
      "text/plain": [
       "[(5.0, 4.89), (4.87, 5.0), (4.0, 4.87)]"
      ]
     },
     "execution_count": 9,
     "metadata": {},
     "output_type": "execute_result"
    }
   ],
   "source": [
    "get_reviews('Martin Scorsese','Joe Pesci')"
   ]
  },
  {
   "cell_type": "markdown",
   "metadata": {},
   "source": [
    "## Euclidean Distance Formula for Calculating similarity\n",
    "$d(x,y)=\\sqrt{(x2-x1)^2 + (y2-y1)^2 + (z2-z1)^2 + ...}$"
   ]
  },
  {
   "cell_type": "code",
   "execution_count": null,
   "metadata": {},
   "outputs": [],
   "source": [
    "# 'Marlon Brando': {\n",
    "# 'The Godfather': 5.00, \n",
    "# 'The Godfather Part II': 4.29,\n",
    "# 'Apocalypse Now': 5.00, \n",
    "# 'Jaws': 1.\n",
    "# }\n",
    "\n",
    "# 'Robert DeNiro': {\n",
    "# 'The Godfather': 3.07, \n",
    "# 'The Godfather Part II': 4.29, \n",
    "# 'Raging Bull': 5.00, \n",
    "# 'Goodfellas':  4.89\n",
    "# }\n",
    "\n",
    "#           m1(x)       m2(y)\n",
    "# u1(V1)    5(x1)       4.29(y1)\n",
    "# u2(V2)    3.07(x2)    4.29(y2)\n",
    "\n",
    "# We are trying to find out similarity between users\n",
    "# So, here users are vectors and movies are dimensions\n",
    "# u1 => x1 y1 z1 ... or m1 m2 m3 are dimensions of u1\n",
    "# u2 => x2 y2 z2 ... or m1 m2 m3 are dimensions of u2"
   ]
  },
  {
   "cell_type": "code",
   "execution_count": 19,
   "metadata": {},
   "outputs": [
    {
     "name": "stdout",
     "output_type": "stream",
     "text": [
      "[(5.0, 3.07), (4.29, 4.29)]\n",
      "[3.7249000000000008, 0.0]\n",
      "3.7249000000000008\n",
      "1.9300000000000002\n"
     ]
    }
   ],
   "source": [
    "# we will calculate similarity based on Euclidean Distance between users\n",
    "\n",
    "squared_diffs = list()\n",
    "points = common_movies_review\n",
    "print(points) # [(5.0, 3.07), (4.29, 4.29)] => [(x1, x2), (y1, y2)] \n",
    "\n",
    "# first we will calculate the squared difference\n",
    "for point in points:\n",
    "    squared_diffs.append((point[0] - point[1]) ** 2)\n",
    "print(squared_diffs)\n",
    "\n",
    "# then we will sum them up\n",
    "summed_squared_diffs = sum(squared_diffs)\n",
    "print(summed_squared_diffs)\n",
    "\n",
    "# then we will calculate square root\n",
    "distance = math.sqrt(summed_squared_diffs)\n",
    "print(distance)"
   ]
  },
  {
   "cell_type": "code",
   "execution_count": 20,
   "metadata": {
    "collapsed": true
   },
   "outputs": [],
   "source": [
    "# Function to get Euclidean Distance b/w 2 points or users\n",
    "\n",
    "def euclidean_distance(points):\n",
    "    squared_diffs = [(point[0] - point[1]) ** 2 for point in points]\n",
    "    summed_squared_diffs = sum(squared_diffs)\n",
    "    distance = math.sqrt(summed_squared_diffs)\n",
    "    return distance"
   ]
  },
  {
   "cell_type": "code",
   "execution_count": 21,
   "metadata": {
    "collapsed": true
   },
   "outputs": [],
   "source": [
    "# Function to calculate similarity\n",
    "# more similar means less the distance and vice versa\n",
    "# so we will invert the distance to get the similarity\n",
    "# Added 1 in the denominator because, highly similar users can make the distance zero in the denominator and it will give Error\n",
    "\n",
    "def similarity(reviews):\n",
    "    return 1/ (1 + euclidean_distance(reviews))"
   ]
  },
  {
   "cell_type": "code",
   "execution_count": 22,
   "metadata": {
    "collapsed": true
   },
   "outputs": [],
   "source": [
    "# Function to get similarity b/w 2 users\n",
    "# we will use the above developed functions to calculate similarity b/w 2 users\n",
    "# Process: (u1, u2) => get movies => get review => get distance => get similarity  \n",
    "\n",
    "def get_critic_similarity(criticA, criticB):\n",
    "    reviews = get_reviews(criticA,criticB)\n",
    "    return similarity(reviews)"
   ]
  },
  {
   "cell_type": "code",
   "execution_count": 23,
   "metadata": {
    "scrolled": true
   },
   "outputs": [
    {
     "data": {
      "text/plain": [
       "0.341296928327645"
      ]
     },
     "execution_count": 23,
     "metadata": {},
     "output_type": "execute_result"
    }
   ],
   "source": [
    "get_critic_similarity('Marlon Brando','Robert DeNiro')"
   ]
  },
  {
   "cell_type": "code",
   "execution_count": 24,
   "metadata": {
    "scrolled": true
   },
   "outputs": [
    {
     "data": {
      "text/plain": [
       "0.4478352722730117"
      ]
     },
     "execution_count": 24,
     "metadata": {},
     "output_type": "execute_result"
    }
   ],
   "source": [
    "get_critic_similarity('Steven Spielberg','Tom Hanks')"
   ]
  },
  {
   "cell_type": "code",
   "execution_count": 25,
   "metadata": {},
   "outputs": [
    {
     "data": {
      "text/plain": [
       "0.5300793497254199"
      ]
     },
     "execution_count": 25,
     "metadata": {},
     "output_type": "execute_result"
    }
   ],
   "source": [
    "get_critic_similarity('Martin Scorsese','Joe Pesci')"
   ]
  },
  {
   "cell_type": "code",
   "execution_count": 26,
   "metadata": {},
   "outputs": [
    {
     "data": {
      "text/plain": [
       "[(0.21413276231263384, 'Stephen King'),\n",
       " (0.143199423486626, 'Steven Spielberg'),\n",
       " (1.0, 'George Lucas'),\n",
       " (0.4524548503084212, 'Al Pacino'),\n",
       " (0.341296928327645, 'Robert DeNiro'),\n",
       " (0.3898259201723122, 'Robert Duvall'),\n",
       " (0.2539463683316, 'Jack Nicholson'),\n",
       " (0.15236677465222687, 'Morgan Freeman'),\n",
       " (1.0, 'Harrison Ford'),\n",
       " (0.16315211297736404, 'Tom Hanks'),\n",
       " (0.57160283618054, 'Francis Ford Coppola'),\n",
       " (0.5, 'Martin Scorsese'),\n",
       " (0.3276724152237754, 'Diane Keaton'),\n",
       " (0.1299324814096532, 'Richard Dreyfuss'),\n",
       " (0.8849557522123894, 'Joe Pesci')]"
      ]
     },
     "execution_count": 26,
     "metadata": {},
     "output_type": "execute_result"
    }
   ],
   "source": [
    "# lets design the recommendation system based on their reviews\n",
    "\n",
    "critic = 'Marlon Brando'\n",
    "similarity_scores = list()\n",
    "\n",
    "for other in review:\n",
    "    if other != critic:\n",
    "        # (user-user similarity score and the similar user name) packing in a tuple\n",
    "        similarity_scores.append((get_critic_similarity(critic, other), other))\n",
    "\n",
    "similarity_scores"
   ]
  },
  {
   "cell_type": "code",
   "execution_count": 28,
   "metadata": {},
   "outputs": [
    {
     "data": {
      "text/plain": [
       "[(1.0, 'Harrison Ford'),\n",
       " (1.0, 'George Lucas'),\n",
       " (0.8849557522123894, 'Joe Pesci'),\n",
       " (0.57160283618054, 'Francis Ford Coppola'),\n",
       " (0.5, 'Martin Scorsese')]"
      ]
     },
     "execution_count": 28,
     "metadata": {},
     "output_type": "execute_result"
    }
   ],
   "source": [
    "# extracting top similarities\n",
    "\n",
    "num_suggestions = 5\n",
    "\n",
    "# sorting the similarity values in descending order\n",
    "similarity_scores.sort(reverse=True)\n",
    "\n",
    "# extracting top 5 similar users\n",
    "similarity_scores = similarity_scores[:num_suggestions]\n",
    "\n",
    "similarity_scores"
   ]
  },
  {
   "cell_type": "code",
   "execution_count": null,
   "metadata": {},
   "outputs": [],
   "source": [
    "# 'Marlon Brando': {\n",
    "# 'The Godfather': 5.00, \n",
    "# 'The Godfather Part II': 4.29,\n",
    "# 'Apocalypse Now': 5.00, \n",
    "# 'Jaws': 1.\n",
    "# }\n",
    "\n",
    "# 'Harrison Ford': {\n",
    "# 'Raiders of the Lost Ark': 5.0, \n",
    "# 'Star Wars Episode IV - A New Hope': 4.84,\n",
    "# }\n",
    "\n",
    "# 'George Lucas':{\n",
    "# 'Star Wars Episode IV - A New Hope': 5.00\t\n",
    "# }"
   ]
  },
  {
   "cell_type": "code",
   "execution_count": 45,
   "metadata": {},
   "outputs": [
    {
     "name": "stdout",
     "output_type": "stream",
     "text": [
      "1) Harrison Ford {'Raiders of the Lost Ark': 5.0, 'Star Wars Episode IV - A New Hope': 4.84}\n",
      "2) Raiders of the Lost Ark\n",
      "3) 1.0 5.0\n",
      "5) {'Raiders of the Lost Ark': (1.0, [5.0])} \n",
      "\n",
      "2) Star Wars Episode IV - A New Hope\n",
      "3) 1.0 4.84\n",
      "5) {'Raiders of the Lost Ark': (1.0, [5.0]), 'Star Wars Episode IV - A New Hope': (1.0, [4.84])} \n",
      "\n",
      "1) George Lucas {'Star Wars Episode IV - A New Hope': 5.0}\n",
      "2) Star Wars Episode IV - A New Hope\n",
      "3) 1.0 5.0\n",
      "4) {'Raiders of the Lost Ark': (1.0, [5.0]), 'Star Wars Episode IV - A New Hope': (2.0, [4.84, 5.0])} \n",
      "\n",
      "\n",
      "1) Joe Pesci {'Raging Bull': 4.89, 'Goodfellas': 5.0, 'The Godfather': 4.87, 'Star Wars Episode IV - A New Hope': 1.32}\n",
      "2) Raging Bull\n",
      "3) 0.8849557522123894 4.89\n",
      "5) {'Raiders of the Lost Ark': (1.0, [5.0]), 'Star Wars Episode IV - A New Hope': (2.0, [4.84, 5.0]), 'Raging Bull': (0.8849557522123894, [4.327433628318584])} \n",
      "\n",
      "2) Goodfellas\n",
      "3) 0.8849557522123894 5.0\n",
      "5) {'Raiders of the Lost Ark': (1.0, [5.0]), 'Star Wars Episode IV - A New Hope': (2.0, [4.84, 5.0]), 'Raging Bull': (0.8849557522123894, [4.327433628318584]), 'Goodfellas': (0.8849557522123894, [4.424778761061948])} \n",
      "\n",
      "2) The Godfather\n",
      "2) Star Wars Episode IV - A New Hope\n",
      "3) 0.8849557522123894 1.32\n",
      "4) {'Raiders of the Lost Ark': (1.0, [5.0]), 'Star Wars Episode IV - A New Hope': (2.8849557522123894, [4.84, 5.0, 1.168141592920354]), 'Raging Bull': (0.8849557522123894, [4.327433628318584]), 'Goodfellas': (0.8849557522123894, [4.424778761061948])} \n",
      "\n",
      "\n",
      "1) Francis Ford Coppola {'The Godfather': 5.0, 'The Godfather Part II': 5.0, 'Jaws': 1.24, 'One Flew Over The Cuckoos Nest': 2.02}\n",
      "2) The Godfather\n",
      "2) The Godfather Part II\n",
      "2) Jaws\n",
      "2) One Flew Over The Cuckoos Nest\n",
      "3) 0.57160283618054 2.02\n",
      "5) {'Raiders of the Lost Ark': (1.0, [5.0]), 'Star Wars Episode IV - A New Hope': (2.8849557522123894, [4.84, 5.0, 1.168141592920354]), 'Raging Bull': (0.8849557522123894, [4.327433628318584]), 'Goodfellas': (0.8849557522123894, [4.424778761061948]), 'One Flew Over The Cuckoos Nest': (0.57160283618054, [1.1546377290846908])} \n",
      "\n",
      "1) Martin Scorsese {'Raging Bull': 5.0, 'Goodfellas': 4.87, 'Close Encounters of the Third Kind': 1.14, 'The Godfather': 4.0}\n",
      "2) Raging Bull\n",
      "3) 0.5 5.0\n",
      "4) {'Raiders of the Lost Ark': (1.0, [5.0]), 'Star Wars Episode IV - A New Hope': (2.8849557522123894, [4.84, 5.0, 1.168141592920354]), 'Raging Bull': (1.3849557522123894, [4.327433628318584, 2.5]), 'Goodfellas': (0.8849557522123894, [4.424778761061948]), 'One Flew Over The Cuckoos Nest': (0.57160283618054, [1.1546377290846908])} \n",
      "\n",
      "\n",
      "2) Goodfellas\n",
      "3) 0.5 4.87\n",
      "4) {'Raiders of the Lost Ark': (1.0, [5.0]), 'Star Wars Episode IV - A New Hope': (2.8849557522123894, [4.84, 5.0, 1.168141592920354]), 'Raging Bull': (1.3849557522123894, [4.327433628318584, 2.5]), 'Goodfellas': (1.3849557522123894, [4.424778761061948, 2.435]), 'One Flew Over The Cuckoos Nest': (0.57160283618054, [1.1546377290846908])} \n",
      "\n",
      "\n",
      "2) Close Encounters of the Third Kind\n",
      "3) 0.5 1.14\n",
      "5) {'Raiders of the Lost Ark': (1.0, [5.0]), 'Star Wars Episode IV - A New Hope': (2.8849557522123894, [4.84, 5.0, 1.168141592920354]), 'Raging Bull': (1.3849557522123894, [4.327433628318584, 2.5]), 'Goodfellas': (1.3849557522123894, [4.424778761061948, 2.435]), 'One Flew Over The Cuckoos Nest': (0.57160283618054, [1.1546377290846908]), 'Close Encounters of the Third Kind': (0.5, [0.57])} \n",
      "\n",
      "2) The Godfather\n"
     ]
    },
    {
     "data": {
      "text/plain": [
       "{'Raiders of the Lost Ark': (1.0, [5.0]),\n",
       " 'Star Wars Episode IV - A New Hope': (2.8849557522123894,\n",
       "  [4.84, 5.0, 1.168141592920354]),\n",
       " 'Raging Bull': (1.3849557522123894, [4.327433628318584, 2.5]),\n",
       " 'Goodfellas': (1.3849557522123894, [4.424778761061948, 2.435]),\n",
       " 'One Flew Over The Cuckoos Nest': (0.57160283618054, [1.1546377290846908]),\n",
       " 'Close Encounters of the Third Kind': (0.5, [0.57])}"
      ]
     },
     "execution_count": 45,
     "metadata": {},
     "output_type": "execute_result"
    }
   ],
   "source": [
    "# based on user-user similary we will recommend movies\n",
    "\n",
    "# Dictionary to store recommendations\n",
    "recommendations = {}\n",
    "\n",
    "# Dictionary to store recommendations\n",
    "for similarity, other in similarity_scores:\n",
    "\n",
    "    # capturing the movies and corresponding ratings of similar(other) users\n",
    "    reviewed = review[other]\n",
    "    print(\"1)\",other, reviewed)\n",
    "\n",
    "    # Storing the review\n",
    "    # looping through the set of movies and its rating given by a similar(other) user of his/her reviewed movies\n",
    "    for movie in reviewed:\n",
    "        \n",
    "        print(\"2)\",movie)\n",
    "\n",
    "        # we are proceeding only if the movie is not rated by our user already\n",
    "        # If our user (not the other user) has already rated the movie then there is no point in recommending that \n",
    "        if movie not in review[critic]:\n",
    "            \n",
    "            # we are setting a weight for the movie we are planning to recommend\n",
    "            # (similary score between user-other) X (rating given by the other user to that specific movie)\n",
    "            weight = similarity * reviewed[movie]\n",
    "            print(\"3)\",similarity,reviewed[movie])\n",
    "            \n",
    "            # Weighing similarity with review\n",
    "            # we are checking whether the movie is already present in the recommendations dictionary\n",
    "            # Note: if the movie is selected for the first time then it won't be there\n",
    "            # So, we move to the else part of the loop and create the movie as key and (similarity and corresponding weights as a list) as values\n",
    "            if movie in recommendations:\n",
    "                sim, weights = recommendations[movie]\n",
    "                # we are adding the movie name as key and its value will be based on calculation\n",
    "                # total similarity = sim + similarity => (u-u1)similarity + (u-u2)similarity and so on...\n",
    "                # appending the weights in the list => weights + [weight] => weights.extend([weight])\n",
    "                recommendations[movie] = (sim + similarity, weights + [weight])\n",
    "                print(\"4)\",recommendations,\"\\n\\n\")\n",
    "            else:\n",
    "                recommendations[movie] = (similarity, [weight])\n",
    "                print(\"5)\",recommendations,\"\\n\")\n",
    "\n",
    "recommendations\n",
    "# output:\n",
    "# {'Raiders of the Lost Ark': (1.0, [5.0]),\n",
    "#  'Star Wars Episode IV - A New Hope': (2.8849557522123894,\n",
    "#   [4.84, 5.0, 1.168141592920354]),\n",
    "#  'Raging Bull': (1.3849557522123894, [4.327433628318584, 2.5]),\n",
    "#  'Goodfellas': (1.3849557522123894, [4.424778761061948, 2.435]),\n",
    "#  'One Flew Over The Cuckoos Nest': (0.57160283618054, [1.1546377290846908]),\n",
    "#  'Close Encounters of the Third Kind': (0.5, [0.57])}"
   ]
  },
  {
   "cell_type": "code",
   "execution_count": 46,
   "metadata": {},
   "outputs": [
    {
     "data": {
      "text/plain": [
       "{'Raiders of the Lost Ark': 5.0,\n",
       " 'Star Wars Episode IV - A New Hope': 3.8157055214723923,\n",
       " 'Raging Bull': 4.9297124600638975,\n",
       " 'Goodfellas': 4.953067092651758,\n",
       " 'One Flew Over The Cuckoos Nest': 2.02,\n",
       " 'Close Encounters of the Third Kind': 1.14}"
      ]
     },
     "execution_count": 46,
     "metadata": {},
     "output_type": "execute_result"
    }
   ],
   "source": [
    "# looping through the recommended movies\n",
    "# we will perform some calculation based on (our_user-other_user) total similarity and total rating\n",
    "# (sum of (ratings)) / (sum of (similarities) => we have already done before) \n",
    "\n",
    "for recommendation in recommendations:\n",
    "    # capturing sum of similarities and list of ratings for that specific movie\n",
    "    similarity, movie = recommendations[recommendation]\n",
    "    # basically, Normalizing weights with similarity\n",
    "    recommendations[recommendation] = sum(movie) / similarity\n",
    "\n",
    "recommendations"
   ]
  },
  {
   "cell_type": "code",
   "execution_count": 47,
   "metadata": {},
   "outputs": [
    {
     "data": {
      "text/plain": [
       "[('Raiders of the Lost Ark', 5.0),\n",
       " ('Goodfellas', 4.953067092651758),\n",
       " ('Raging Bull', 4.9297124600638975),\n",
       " ('Star Wars Episode IV - A New Hope', 3.8157055214723923),\n",
       " ('One Flew Over The Cuckoos Nest', 2.02),\n",
       " ('Close Encounters of the Third Kind', 1.14)]"
      ]
     },
     "execution_count": 47,
     "metadata": {},
     "output_type": "execute_result"
    }
   ],
   "source": [
    "# sorting recommendations\n",
    "\n",
    "sorted_recommendations = sorted(recommendations.items(), key=operator.itemgetter(1), reverse=True)\n",
    "\n",
    "sorted_recommendations"
   ]
  },
  {
   "cell_type": "code",
   "execution_count": 16,
   "metadata": {
    "collapsed": true
   },
   "outputs": [],
   "source": [
    "# Function to give recommendation to users based on their reviews.\n",
    "\n",
    "def recommend_movies(critic, num_suggestions):\n",
    "    similarity_scores = [(get_critic_similarity(critic, other), other) for other in review if other != critic]\n",
    "    # Get similarity Scores for all the critics\n",
    "    similarity_scores.sort(reverse=True)\n",
    "    similarity_scores = similarity_scores[0:num_suggestions]\n",
    "\n",
    "    # Dictionary to store recommendations\n",
    "    recommendations = {}\n",
    "    \n",
    "    # Dictionary to store recommendations\n",
    "    for similarity, other in similarity_scores:\n",
    "        reviewed = review[other]\n",
    "        # Storing the review\n",
    "        for movie in reviewed:\n",
    "            if movie not in review[critic]:\n",
    "                weight = similarity * reviewed[movie]\n",
    "                # Weighing similarity with review\n",
    "                if movie in recommendations:\n",
    "                    sim, weights = recommendations[movie]\n",
    "                    recommendations[movie] = (sim + similarity, weights + [weight])\n",
    "                    # Similarity of movie along with weight\n",
    "                else:\n",
    "                    recommendations[movie] = (similarity, [weight])\n",
    "                    \n",
    "\n",
    "    for recommendation in recommendations:\n",
    "        similarity, movie = recommendations[recommendation]\n",
    "        recommendations[recommendation] = sum(movie) / similarity\n",
    "        # Normalizing weights with similarity\n",
    "\n",
    "    sorted_recommendations = sorted(recommendations.items(), key=operator.itemgetter(1), reverse=True)\n",
    "    #Sorting recommendations with weight\n",
    "    return sorted_recommendations"
   ]
  },
  {
   "cell_type": "code",
   "execution_count": 17,
   "metadata": {
    "scrolled": true
   },
   "outputs": [
    {
     "data": {
      "text/plain": [
       "[('Goodfellas', 5.000000000000001),\n",
       " ('Raiders of the Lost Ark', 5.0),\n",
       " ('Raging Bull', 4.89),\n",
       " ('Star Wars Episode IV - A New Hope', 3.8157055214723923),\n",
       " ('One Flew Over The Cuckoos Nest', 2.02)]"
      ]
     },
     "execution_count": 17,
     "metadata": {},
     "output_type": "execute_result"
    }
   ],
   "source": [
    "recommend_movies('Marlon Brando',4)"
   ]
  },
  {
   "cell_type": "code",
   "execution_count": 18,
   "metadata": {},
   "outputs": [
    {
     "data": {
      "text/plain": [
       "[('Raiders of the Lost Ark', 5.0),\n",
       " ('Star Wars Episode IV - A New Hope', 4.92),\n",
       " ('Close Encounters of the Third Kind', 1.2744773851327365)]"
      ]
     },
     "execution_count": 18,
     "metadata": {},
     "output_type": "execute_result"
    }
   ],
   "source": [
    "recommend_movies('Robert DeNiro',4)"
   ]
  },
  {
   "cell_type": "code",
   "execution_count": 19,
   "metadata": {
    "scrolled": true
   },
   "outputs": [
    {
     "data": {
      "text/plain": [
       "[('The Shawshank Redemption', 4.928285762244913),\n",
       " ('The Green Mile', 4.87),\n",
       " ('The Shining', 4.71304734727882),\n",
       " ('Apocalypse Now', 1.63)]"
      ]
     },
     "execution_count": 19,
     "metadata": {},
     "output_type": "execute_result"
    }
   ],
   "source": [
    "recommend_movies('Steven Spielberg',4)"
   ]
  },
  {
   "cell_type": "code",
   "execution_count": 20,
   "metadata": {},
   "outputs": [
    {
     "data": {
      "text/plain": [
       "[('Raiders of the Lost Ark', 5.0),\n",
       " ('Jaws', 5.0),\n",
       " ('Close Encounters of the Third Kind', 5.0),\n",
       " ('The Shining', 4.93),\n",
       " ('Star Wars Episode IV - A New Hope', 4.92),\n",
       " ('The Shawshank Redemption', 4.89)]"
      ]
     },
     "execution_count": 20,
     "metadata": {},
     "output_type": "execute_result"
    }
   ],
   "source": [
    "recommend_movies('Tom Hanks',4)"
   ]
  },
  {
   "cell_type": "code",
   "execution_count": 21,
   "metadata": {},
   "outputs": [
    {
     "data": {
      "text/plain": [
       "[('Raiders of the Lost Ark', 5.0),\n",
       " ('Star Wars Episode IV - A New Hope', 4.92),\n",
       " ('The Godfather Part II', 4.3613513513513515),\n",
       " ('Apocalypse Now', 4.26)]"
      ]
     },
     "execution_count": 21,
     "metadata": {},
     "output_type": "execute_result"
    }
   ],
   "source": [
    "recommend_movies('Martin Scorsese',4)"
   ]
  },
  {
   "cell_type": "code",
   "execution_count": 22,
   "metadata": {},
   "outputs": [
    {
     "data": {
      "text/plain": [
       "[('Apocalypse Now', 5.000000000000001),\n",
       " ('The Godfather Part II', 4.7280538302277435),\n",
       " ('One Flew Over The Cuckoos Nest', 2.02),\n",
       " ('Close Encounters of the Third Kind', 1.14),\n",
       " ('Jaws', 1.12)]"
      ]
     },
     "execution_count": 22,
     "metadata": {},
     "output_type": "execute_result"
    }
   ],
   "source": [
    "recommend_movies('Joe Pesci',4)"
   ]
  }
 ],
 "metadata": {
  "kernelspec": {
   "display_name": "Python 3",
   "language": "python",
   "name": "python3"
  },
  "language_info": {
   "codemirror_mode": {
    "name": "ipython",
    "version": 3
   },
   "file_extension": ".py",
   "mimetype": "text/x-python",
   "name": "python",
   "nbconvert_exporter": "python",
   "pygments_lexer": "ipython3",
   "version": "3.10.11"
  }
 },
 "nbformat": 4,
 "nbformat_minor": 2
}
