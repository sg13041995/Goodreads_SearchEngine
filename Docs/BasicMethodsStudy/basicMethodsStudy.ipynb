{
 "cells": [
  {
   "cell_type": "markdown",
   "metadata": {},
   "source": [
    "#### Pandas export json such that we can read by line (streaming fashion) and parse one line at a time during import - No Compression - 126 bytes"
   ]
  },
  {
   "cell_type": "code",
   "execution_count": 1,
   "metadata": {},
   "outputs": [],
   "source": [
    "# imports and sample data\n",
    "\n",
    "import pandas as pd\n",
    "import json\n",
    "import gzip\n",
    "\n",
    "data = {\n",
    "    \"col1\" : [\"i11\",\"i21\",\"i31\"],\n",
    "    \"col2\" : [\"i12\",\"i22\",\"i32\"],\n",
    "    \"col3\" : [\"i13\",\"i23\",\"i33\"]\n",
    "}"
   ]
  },
  {
   "cell_type": "code",
   "execution_count": 2,
   "metadata": {},
   "outputs": [
    {
     "data": {
      "text/html": [
       "<div>\n",
       "<style scoped>\n",
       "    .dataframe tbody tr th:only-of-type {\n",
       "        vertical-align: middle;\n",
       "    }\n",
       "\n",
       "    .dataframe tbody tr th {\n",
       "        vertical-align: top;\n",
       "    }\n",
       "\n",
       "    .dataframe thead th {\n",
       "        text-align: right;\n",
       "    }\n",
       "</style>\n",
       "<table border=\"1\" class=\"dataframe\">\n",
       "  <thead>\n",
       "    <tr style=\"text-align: right;\">\n",
       "      <th></th>\n",
       "      <th>col1</th>\n",
       "      <th>col2</th>\n",
       "      <th>col3</th>\n",
       "    </tr>\n",
       "  </thead>\n",
       "  <tbody>\n",
       "    <tr>\n",
       "      <th>0</th>\n",
       "      <td>i11</td>\n",
       "      <td>i12</td>\n",
       "      <td>i13</td>\n",
       "    </tr>\n",
       "    <tr>\n",
       "      <th>1</th>\n",
       "      <td>i21</td>\n",
       "      <td>i22</td>\n",
       "      <td>i23</td>\n",
       "    </tr>\n",
       "    <tr>\n",
       "      <th>2</th>\n",
       "      <td>i31</td>\n",
       "      <td>i32</td>\n",
       "      <td>i33</td>\n",
       "    </tr>\n",
       "  </tbody>\n",
       "</table>\n",
       "</div>"
      ],
      "text/plain": [
       "  col1 col2 col3\n",
       "0  i11  i12  i13\n",
       "1  i21  i22  i23\n",
       "2  i31  i32  i33"
      ]
     },
     "execution_count": 2,
     "metadata": {},
     "output_type": "execute_result"
    }
   ],
   "source": [
    "# creating dataframe to test proper way of export\n",
    "\n",
    "df = pd.DataFrame(data)\n",
    "\n",
    "df "
   ]
  },
  {
   "cell_type": "code",
   "execution_count": 3,
   "metadata": {},
   "outputs": [
    {
     "name": "stdout",
     "output_type": "stream",
     "text": [
      "{\"col1\":\"i11\",\"col2\":\"i12\",\"col3\":\"i13\"}\n",
      "{\"col1\":\"i21\",\"col2\":\"i22\",\"col3\":\"i23\"}\n",
      "{\"col1\":\"i31\",\"col2\":\"i32\",\"col3\":\"i33\"}\n",
      "\n"
     ]
    }
   ],
   "source": [
    "# Export DataFrame to JSON with one line per record\n",
    "\n",
    "df_json = df.to_json(orient='records', lines=True)\n",
    "\n",
    "print(df_json)"
   ]
  },
  {
   "cell_type": "code",
   "execution_count": 4,
   "metadata": {},
   "outputs": [],
   "source": [
    "# Write the JSON data to a file\n",
    "\n",
    "with open('./exportedFiles/output.json', 'w') as file:\n",
    "    file.write(df_json)"
   ]
  },
  {
   "cell_type": "code",
   "execution_count": 5,
   "metadata": {},
   "outputs": [
    {
     "data": {
      "text/plain": [
       "'{\"col1\":\"i11\",\"col2\":\"i12\",\"col3\":\"i13\"}\\n'"
      ]
     },
     "execution_count": 5,
     "metadata": {},
     "output_type": "execute_result"
    }
   ],
   "source": [
    "# reading the data from the file in streaming fashion, one line at a time\n",
    "\n",
    "with open('./exportedFiles/output.json', 'r') as file:\n",
    "    line = file.readline()\n",
    "\n",
    "line"
   ]
  },
  {
   "cell_type": "code",
   "execution_count": 6,
   "metadata": {},
   "outputs": [
    {
     "data": {
      "text/plain": [
       "{'col1': 'i11', 'col2': 'i12', 'col3': 'i13'}"
      ]
     },
     "execution_count": 6,
     "metadata": {},
     "output_type": "execute_result"
    }
   ],
   "source": [
    "# parsing json to dictionary\n",
    "\n",
    "data = json.loads(line)\n",
    "data"
   ]
  },
  {
   "cell_type": "code",
   "execution_count": 7,
   "metadata": {},
   "outputs": [],
   "source": [
    "# parsser function\n",
    "\n",
    "def parse_fields(line):\n",
    "    data = json.loads(line)\n",
    "    return {\n",
    "        'col1': data['col1'],\n",
    "        'col2': data['col2'],\n",
    "        'col3': data['col3'],\n",
    "        'col4': data['col3']\n",
    "    }"
   ]
  },
  {
   "cell_type": "code",
   "execution_count": 8,
   "metadata": {},
   "outputs": [
    {
     "data": {
      "text/plain": [
       "[{'col1': 'i11', 'col2': 'i12', 'col3': 'i13', 'col4': 'i13'},\n",
       " {'col1': 'i21', 'col2': 'i22', 'col3': 'i23', 'col4': 'i23'},\n",
       " {'col1': 'i31', 'col2': 'i32', 'col3': 'i33', 'col4': 'i33'}]"
      ]
     },
     "execution_count": 8,
     "metadata": {},
     "output_type": "execute_result"
    }
   ],
   "source": [
    "# recursively read all the data file lines in streaming fashion\n",
    "\n",
    "books = []\n",
    "\n",
    "with open(\"./exportedFiles/output.json\") as f:\n",
    "    while True:\n",
    "        # reading the line\n",
    "        line = f.readline()\n",
    "\n",
    "        # we will break the infinite loop when we reach the end of the dataset file\n",
    "        if not line:\n",
    "            break\n",
    "        \n",
    "        # parsing the line\n",
    "        fields = parse_fields(line)\n",
    "\n",
    "        books.append(fields)\n",
    "\n",
    "books"
   ]
  },
  {
   "cell_type": "code",
   "execution_count": 9,
   "metadata": {},
   "outputs": [
    {
     "data": {
      "text/plain": [
       "3"
      ]
     },
     "execution_count": 9,
     "metadata": {},
     "output_type": "execute_result"
    }
   ],
   "source": [
    "len(books)"
   ]
  },
  {
   "cell_type": "code",
   "execution_count": 10,
   "metadata": {},
   "outputs": [
    {
     "data": {
      "text/html": [
       "<div>\n",
       "<style scoped>\n",
       "    .dataframe tbody tr th:only-of-type {\n",
       "        vertical-align: middle;\n",
       "    }\n",
       "\n",
       "    .dataframe tbody tr th {\n",
       "        vertical-align: top;\n",
       "    }\n",
       "\n",
       "    .dataframe thead th {\n",
       "        text-align: right;\n",
       "    }\n",
       "</style>\n",
       "<table border=\"1\" class=\"dataframe\">\n",
       "  <thead>\n",
       "    <tr style=\"text-align: right;\">\n",
       "      <th></th>\n",
       "      <th>col1</th>\n",
       "      <th>col2</th>\n",
       "      <th>col3</th>\n",
       "      <th>col4</th>\n",
       "    </tr>\n",
       "  </thead>\n",
       "  <tbody>\n",
       "    <tr>\n",
       "      <th>0</th>\n",
       "      <td>i11</td>\n",
       "      <td>i12</td>\n",
       "      <td>i13</td>\n",
       "      <td>i13</td>\n",
       "    </tr>\n",
       "    <tr>\n",
       "      <th>1</th>\n",
       "      <td>i21</td>\n",
       "      <td>i22</td>\n",
       "      <td>i23</td>\n",
       "      <td>i23</td>\n",
       "    </tr>\n",
       "    <tr>\n",
       "      <th>2</th>\n",
       "      <td>i31</td>\n",
       "      <td>i32</td>\n",
       "      <td>i33</td>\n",
       "      <td>i33</td>\n",
       "    </tr>\n",
       "  </tbody>\n",
       "</table>\n",
       "</div>"
      ],
      "text/plain": [
       "  col1 col2 col3 col4\n",
       "0  i11  i12  i13  i13\n",
       "1  i21  i22  i23  i23\n",
       "2  i31  i32  i33  i33"
      ]
     },
     "execution_count": 10,
     "metadata": {},
     "output_type": "execute_result"
    }
   ],
   "source": [
    "# converting the data back to dictionary to check the data integrety\n",
    "\n",
    "items = pd.DataFrame.from_dict(books)\n",
    "\n",
    "items"
   ]
  },
  {
   "cell_type": "markdown",
   "metadata": {},
   "source": [
    "#### Pandas export json such that we can read by line (streaming fashion) and parse one line at a time during import - gzip Compression - 89 bytes"
   ]
  },
  {
   "cell_type": "code",
   "execution_count": 11,
   "metadata": {},
   "outputs": [],
   "source": [
    "# Export DataFrame to JSON with one line per record\n",
    "\n",
    "json_data = df.to_json(orient='records', lines=True)"
   ]
  },
  {
   "cell_type": "code",
   "execution_count": 12,
   "metadata": {},
   "outputs": [],
   "source": [
    "# Compress the JSON string and write to a gzip file\n",
    "\n",
    "with gzip.open('./exportedFiles/output.json.gz', 'wt', encoding='utf-8') as file:\n",
    "    file.write(json_data)"
   ]
  },
  {
   "cell_type": "code",
   "execution_count": 13,
   "metadata": {},
   "outputs": [
    {
     "data": {
      "text/plain": [
       "b'{\"col1\":\"i11\",\"col2\":\"i12\",\"col3\":\"i13\"}\\r\\n'"
      ]
     },
     "execution_count": 13,
     "metadata": {},
     "output_type": "execute_result"
    }
   ],
   "source": [
    "# opening gzip file streaming fashion\n",
    "\n",
    "with gzip.open('./exportedFiles/output.json.gz') as file:\n",
    "    line = file.readline()\n",
    "\n",
    "line"
   ]
  },
  {
   "cell_type": "code",
   "execution_count": 14,
   "metadata": {},
   "outputs": [],
   "source": [
    "# parse function\n",
    "\n",
    "def parse_fields(line):\n",
    "    data = json.loads(line)\n",
    "    return {\n",
    "        'col1': data['col1'],\n",
    "        'col2': data['col2'],\n",
    "        'col3': data['col3'],\n",
    "        'col4': data['col3']\n",
    "    }"
   ]
  },
  {
   "cell_type": "code",
   "execution_count": 15,
   "metadata": {},
   "outputs": [
    {
     "data": {
      "text/plain": [
       "[{'col1': 'i11', 'col2': 'i12', 'col3': 'i13', 'col4': 'i13'},\n",
       " {'col1': 'i21', 'col2': 'i22', 'col3': 'i23', 'col4': 'i23'},\n",
       " {'col1': 'i31', 'col2': 'i32', 'col3': 'i33', 'col4': 'i33'}]"
      ]
     },
     "execution_count": 15,
     "metadata": {},
     "output_type": "execute_result"
    }
   ],
   "source": [
    "# reading all the lines in streaming fashion\n",
    "\n",
    "books = []\n",
    "\n",
    "with gzip.open(\"./exportedFiles/output.json.gz\") as f:\n",
    "    while True:\n",
    "        # reading the line\n",
    "        line = f.readline()\n",
    "\n",
    "        # we will break the infinite loop when we reach the end of the dataset file\n",
    "        if not line:\n",
    "            break\n",
    "        \n",
    "        # parsing the line\n",
    "        fields = parse_fields(line)\n",
    "\n",
    "        books.append(fields)\n",
    "\n",
    "books"
   ]
  },
  {
   "cell_type": "code",
   "execution_count": 16,
   "metadata": {},
   "outputs": [
    {
     "data": {
      "text/plain": [
       "3"
      ]
     },
     "execution_count": 16,
     "metadata": {},
     "output_type": "execute_result"
    }
   ],
   "source": [
    "len(books)"
   ]
  },
  {
   "cell_type": "code",
   "execution_count": 17,
   "metadata": {},
   "outputs": [
    {
     "data": {
      "text/html": [
       "<div>\n",
       "<style scoped>\n",
       "    .dataframe tbody tr th:only-of-type {\n",
       "        vertical-align: middle;\n",
       "    }\n",
       "\n",
       "    .dataframe tbody tr th {\n",
       "        vertical-align: top;\n",
       "    }\n",
       "\n",
       "    .dataframe thead th {\n",
       "        text-align: right;\n",
       "    }\n",
       "</style>\n",
       "<table border=\"1\" class=\"dataframe\">\n",
       "  <thead>\n",
       "    <tr style=\"text-align: right;\">\n",
       "      <th></th>\n",
       "      <th>col1</th>\n",
       "      <th>col2</th>\n",
       "      <th>col3</th>\n",
       "      <th>col4</th>\n",
       "    </tr>\n",
       "  </thead>\n",
       "  <tbody>\n",
       "    <tr>\n",
       "      <th>0</th>\n",
       "      <td>i11</td>\n",
       "      <td>i12</td>\n",
       "      <td>i13</td>\n",
       "      <td>i13</td>\n",
       "    </tr>\n",
       "    <tr>\n",
       "      <th>1</th>\n",
       "      <td>i21</td>\n",
       "      <td>i22</td>\n",
       "      <td>i23</td>\n",
       "      <td>i23</td>\n",
       "    </tr>\n",
       "    <tr>\n",
       "      <th>2</th>\n",
       "      <td>i31</td>\n",
       "      <td>i32</td>\n",
       "      <td>i33</td>\n",
       "      <td>i33</td>\n",
       "    </tr>\n",
       "  </tbody>\n",
       "</table>\n",
       "</div>"
      ],
      "text/plain": [
       "  col1 col2 col3 col4\n",
       "0  i11  i12  i13  i13\n",
       "1  i21  i22  i23  i23\n",
       "2  i31  i32  i33  i33"
      ]
     },
     "execution_count": 17,
     "metadata": {},
     "output_type": "execute_result"
    }
   ],
   "source": [
    "# checking data integrety\n",
    "\n",
    "items = pd.DataFrame.from_dict(books)\n",
    "\n",
    "items"
   ]
  }
 ],
 "metadata": {
  "kernelspec": {
   "display_name": "Python 3",
   "language": "python",
   "name": "python3"
  },
  "language_info": {
   "codemirror_mode": {
    "name": "ipython",
    "version": 3
   },
   "file_extension": ".py",
   "mimetype": "text/x-python",
   "name": "python",
   "nbconvert_exporter": "python",
   "pygments_lexer": "ipython3",
   "version": "3.10.11"
  }
 },
 "nbformat": 4,
 "nbformat_minor": 2
}
