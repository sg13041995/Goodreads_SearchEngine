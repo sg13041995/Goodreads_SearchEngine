{
 "cells": [
  {
   "cell_type": "code",
   "execution_count": 1,
   "metadata": {},
   "outputs": [],
   "source": [
    "import numpy as np\n",
    "import pandas as pd\n",
    "\n",
    "from sklearn.feature_extraction.text import TfidfVectorizer\n",
    "from sklearn.metrics.pairwise import cosine_similarity"
   ]
  },
  {
   "cell_type": "markdown",
   "metadata": {},
   "source": [
    "### Insights"
   ]
  },
  {
   "cell_type": "markdown",
   "metadata": {},
   "source": [
    "#### **The punctuations in the actual document maters as term truncation happens on these characters - It is better to remove them before calculating tfidf**"
   ]
  },
  {
   "cell_type": "markdown",
   "metadata": {},
   "source": [
    "\n",
    "\n",
    "- We will focus on similarity of `\"Harry Potter and the Sorcerer's Stone\"` with other documents in the list.\n",
    "\n",
    "Actual document => `\"Great Sorcerer's of NY\"`\n",
    "```\n",
    "docs=[\n",
    "    \"Harry Potter and the Sorcerer's Stone\", \n",
    "    \"Harry Potter and the Chamber of Secrets\", \n",
    "    \"The Sorcerer's Den\",\n",
    "    \"Great Sorcerer's of NY\", \n",
    "    \"Great Secrets of Amazon\", \n",
    "]\n",
    "```\n",
    "Score => r4c1\n",
    "```\n",
    "array([[1.        , 0.45682318, 0.22470915, 0.18665146, 0.        ],\n",
    "       [0.45682318, 1.        , 0.        , 0.        , 0.24967495],\n",
    "       [0.22470915, 0.        , 1.        , 0.25719572, 0.        ],\n",
    "       [0.18665146, 0.        , 0.25719572, 1.        , 0.29609938],\n",
    "       [0.        , 0.24967495, 0.        , 0.29609938, 1.        ]])\n",
    "```\n",
    "\n",
    "---\n",
    "\n",
    "Actual document => `\"Great Sorcerers of NY\"`\n",
    "```\n",
    "docs=[\n",
    "    \"Harry Potter and the Sorcerer's Stone\", \n",
    "    \"Harry Potter and the Chamber of Secrets\", \n",
    "    \"The Sorcerer's Den\",\n",
    "    \"Great Sorcerers of NY\", \n",
    "    \"Great Secrets of Amazon\", \n",
    "]\n",
    "```\n",
    "Score => r4c1\n",
    "```\n",
    "array([[1.        , 0.4408883 , 0.29481481, 0.        , 0.        ],\n",
    "       [0.4408883 , 1.        , 0.        , 0.        , 0.24967495],\n",
    "       [0.29481481, 0.        , 1.        , 0.        , 0.        ],\n",
    "       [0.        , 0.        , 0.        , 1.        , 0.2635058 ],\n",
    "       [0.        , 0.24967495, 0.        , 0.2635058 , 1.        ]])\n",
    "```"
   ]
  },
  {
   "cell_type": "markdown",
   "metadata": {},
   "source": [
    "#### cosine_similary([5 x 11], [5 x 11]) => Output = [5 x 11] and cosine_similary([5 x 11], [1 x 11]) => Output = [1 x 11] "
   ]
  },
  {
   "cell_type": "markdown",
   "metadata": {},
   "source": [
    "```\n",
    "my_matrix = \n",
    "v1=> 1 2 3\n",
    "v2=> 4 5 6\n",
    "v3=> 7 8 9\n",
    "```\n",
    "\n",
    "`cosine_similary(my_matrix,my_matrix) =` \n",
    "\n",
    "```\n",
    "    col1     col1      col1\n",
    "[    \n",
    "[v1 vs v1, v2 vs v1, v3 vs v1], \n",
    "[v1 vs v2, v2 vs v2, v3 vs v2], \n",
    "[v1 vs v3, v2 vs v3, v4 vs v3]\n",
    "]\n",
    "```\n",
    "\n",
    "---\n",
    "\n",
    "```\n",
    "other_matrix =\n",
    "v4 => 1 5 9\n",
    "```\n",
    "\n",
    "`cosine_similary(my_matrix,other_matrix) =` \n",
    "\n",
    "```\n",
    "    col1\n",
    "[    \n",
    "[v4 vs v1], \n",
    "[v4 vs v2], \n",
    "[v4 vs v3]\n",
    "]\n",
    "```\n"
   ]
  },
  {
   "cell_type": "code",
   "execution_count": 77,
   "metadata": {},
   "outputs": [],
   "source": [
    "docs=[\n",
    "    \"Harry Potter and the Sorcerer's Stone\", \n",
    "    \"Harry Potter and the Chamber of Secrets\", \n",
    "    \"The Sorcerer's Den\",\n",
    "    \"Great Sorcerers of NY\", \n",
    "    \"Great Secrets of Amazon\", \n",
    "]"
   ]
  },
  {
   "cell_type": "code",
   "execution_count": 78,
   "metadata": {},
   "outputs": [],
   "source": [
    "tf = TfidfVectorizer(analyzer='word', ngram_range=(1, 1),\n",
    "                     min_df=0, stop_words='english')"
   ]
  },
  {
   "cell_type": "code",
   "execution_count": 79,
   "metadata": {},
   "outputs": [],
   "source": [
    "tfidf = tf.fit_transform(docs)"
   ]
  },
  {
   "cell_type": "code",
   "execution_count": 80,
   "metadata": {},
   "outputs": [
    {
     "data": {
      "text/plain": [
       "(5, 11)"
      ]
     },
     "execution_count": 80,
     "metadata": {},
     "output_type": "execute_result"
    }
   ],
   "source": [
    "tfidf.shape"
   ]
  },
  {
   "cell_type": "code",
   "execution_count": 81,
   "metadata": {},
   "outputs": [
    {
     "data": {
      "text/plain": [
       "matrix([[0.        , 0.        , 0.        , 0.        , 0.4695148 ,\n",
       "         0.        , 0.4695148 , 0.        , 0.4695148 , 0.        ,\n",
       "         0.5819515 ],\n",
       "        [0.        , 0.5819515 , 0.        , 0.        , 0.4695148 ,\n",
       "         0.        , 0.4695148 , 0.4695148 , 0.        , 0.        ,\n",
       "         0.        ],\n",
       "        [0.        , 0.        , 0.77828292, 0.        , 0.        ,\n",
       "         0.        , 0.        , 0.        , 0.62791376, 0.        ,\n",
       "         0.        ],\n",
       "        [0.        , 0.        , 0.        , 0.49552379, 0.        ,\n",
       "         0.61418897, 0.        , 0.        , 0.        , 0.61418897,\n",
       "         0.        ],\n",
       "        [0.659118  , 0.        , 0.        , 0.53177225, 0.        ,\n",
       "         0.        , 0.        , 0.53177225, 0.        , 0.        ,\n",
       "         0.        ]])"
      ]
     },
     "execution_count": 81,
     "metadata": {},
     "output_type": "execute_result"
    }
   ],
   "source": [
    "tfidf.todense()"
   ]
  },
  {
   "cell_type": "code",
   "execution_count": 82,
   "metadata": {},
   "outputs": [
    {
     "data": {
      "text/plain": [
       "array(['amazon', 'chamber', 'den', 'great', 'harry', 'ny', 'potter',\n",
       "       'secrets', 'sorcerer', 'sorcerers', 'stone'], dtype=object)"
      ]
     },
     "execution_count": 82,
     "metadata": {},
     "output_type": "execute_result"
    }
   ],
   "source": [
    "tf.get_feature_names_out()"
   ]
  },
  {
   "cell_type": "code",
   "execution_count": 83,
   "metadata": {},
   "outputs": [
    {
     "data": {
      "text/html": [
       "<div>\n",
       "<style scoped>\n",
       "    .dataframe tbody tr th:only-of-type {\n",
       "        vertical-align: middle;\n",
       "    }\n",
       "\n",
       "    .dataframe tbody tr th {\n",
       "        vertical-align: top;\n",
       "    }\n",
       "\n",
       "    .dataframe thead th {\n",
       "        text-align: right;\n",
       "    }\n",
       "</style>\n",
       "<table border=\"1\" class=\"dataframe\">\n",
       "  <thead>\n",
       "    <tr style=\"text-align: right;\">\n",
       "      <th></th>\n",
       "      <th>amazon</th>\n",
       "      <th>chamber</th>\n",
       "      <th>den</th>\n",
       "      <th>great</th>\n",
       "      <th>harry</th>\n",
       "      <th>ny</th>\n",
       "      <th>potter</th>\n",
       "      <th>secrets</th>\n",
       "      <th>sorcerer</th>\n",
       "      <th>sorcerers</th>\n",
       "      <th>stone</th>\n",
       "    </tr>\n",
       "  </thead>\n",
       "  <tbody>\n",
       "    <tr>\n",
       "      <th>Harry Potter and the Sorcerer's Stone</th>\n",
       "      <td>0.000000</td>\n",
       "      <td>0.000000</td>\n",
       "      <td>0.000000</td>\n",
       "      <td>0.000000</td>\n",
       "      <td>0.469515</td>\n",
       "      <td>0.000000</td>\n",
       "      <td>0.469515</td>\n",
       "      <td>0.000000</td>\n",
       "      <td>0.469515</td>\n",
       "      <td>0.000000</td>\n",
       "      <td>0.581951</td>\n",
       "    </tr>\n",
       "    <tr>\n",
       "      <th>Harry Potter and the Chamber of Secrets</th>\n",
       "      <td>0.000000</td>\n",
       "      <td>0.581951</td>\n",
       "      <td>0.000000</td>\n",
       "      <td>0.000000</td>\n",
       "      <td>0.469515</td>\n",
       "      <td>0.000000</td>\n",
       "      <td>0.469515</td>\n",
       "      <td>0.469515</td>\n",
       "      <td>0.000000</td>\n",
       "      <td>0.000000</td>\n",
       "      <td>0.000000</td>\n",
       "    </tr>\n",
       "    <tr>\n",
       "      <th>The Sorcerer's Den</th>\n",
       "      <td>0.000000</td>\n",
       "      <td>0.000000</td>\n",
       "      <td>0.778283</td>\n",
       "      <td>0.000000</td>\n",
       "      <td>0.000000</td>\n",
       "      <td>0.000000</td>\n",
       "      <td>0.000000</td>\n",
       "      <td>0.000000</td>\n",
       "      <td>0.627914</td>\n",
       "      <td>0.000000</td>\n",
       "      <td>0.000000</td>\n",
       "    </tr>\n",
       "    <tr>\n",
       "      <th>Great Sorcerers of NY</th>\n",
       "      <td>0.000000</td>\n",
       "      <td>0.000000</td>\n",
       "      <td>0.000000</td>\n",
       "      <td>0.495524</td>\n",
       "      <td>0.000000</td>\n",
       "      <td>0.614189</td>\n",
       "      <td>0.000000</td>\n",
       "      <td>0.000000</td>\n",
       "      <td>0.000000</td>\n",
       "      <td>0.614189</td>\n",
       "      <td>0.000000</td>\n",
       "    </tr>\n",
       "    <tr>\n",
       "      <th>Great Secrets of Amazon</th>\n",
       "      <td>0.659118</td>\n",
       "      <td>0.000000</td>\n",
       "      <td>0.000000</td>\n",
       "      <td>0.531772</td>\n",
       "      <td>0.000000</td>\n",
       "      <td>0.000000</td>\n",
       "      <td>0.000000</td>\n",
       "      <td>0.531772</td>\n",
       "      <td>0.000000</td>\n",
       "      <td>0.000000</td>\n",
       "      <td>0.000000</td>\n",
       "    </tr>\n",
       "  </tbody>\n",
       "</table>\n",
       "</div>"
      ],
      "text/plain": [
       "                                           amazon   chamber       den  \\\n",
       "Harry Potter and the Sorcerer's Stone    0.000000  0.000000  0.000000   \n",
       "Harry Potter and the Chamber of Secrets  0.000000  0.581951  0.000000   \n",
       "The Sorcerer's Den                       0.000000  0.000000  0.778283   \n",
       "Great Sorcerers of NY                    0.000000  0.000000  0.000000   \n",
       "Great Secrets of Amazon                  0.659118  0.000000  0.000000   \n",
       "\n",
       "                                            great     harry        ny  \\\n",
       "Harry Potter and the Sorcerer's Stone    0.000000  0.469515  0.000000   \n",
       "Harry Potter and the Chamber of Secrets  0.000000  0.469515  0.000000   \n",
       "The Sorcerer's Den                       0.000000  0.000000  0.000000   \n",
       "Great Sorcerers of NY                    0.495524  0.000000  0.614189   \n",
       "Great Secrets of Amazon                  0.531772  0.000000  0.000000   \n",
       "\n",
       "                                           potter   secrets  sorcerer  \\\n",
       "Harry Potter and the Sorcerer's Stone    0.469515  0.000000  0.469515   \n",
       "Harry Potter and the Chamber of Secrets  0.469515  0.469515  0.000000   \n",
       "The Sorcerer's Den                       0.000000  0.000000  0.627914   \n",
       "Great Sorcerers of NY                    0.000000  0.000000  0.000000   \n",
       "Great Secrets of Amazon                  0.000000  0.531772  0.000000   \n",
       "\n",
       "                                         sorcerers     stone  \n",
       "Harry Potter and the Sorcerer's Stone     0.000000  0.581951  \n",
       "Harry Potter and the Chamber of Secrets   0.000000  0.000000  \n",
       "The Sorcerer's Den                        0.000000  0.000000  \n",
       "Great Sorcerers of NY                     0.614189  0.000000  \n",
       "Great Secrets of Amazon                   0.000000  0.000000  "
      ]
     },
     "execution_count": 83,
     "metadata": {},
     "output_type": "execute_result"
    }
   ],
   "source": [
    "pd.DataFrame(data = tfidf.toarray(),index = docs,columns = tf.get_feature_names_out())"
   ]
  },
  {
   "cell_type": "code",
   "execution_count": 84,
   "metadata": {},
   "outputs": [
    {
     "data": {
      "text/plain": [
       "array([[1.        , 0.4408883 , 0.29481481, 0.        , 0.        ],\n",
       "       [0.4408883 , 1.        , 0.        , 0.        , 0.24967495],\n",
       "       [0.29481481, 0.        , 1.        , 0.        , 0.        ],\n",
       "       [0.        , 0.        , 0.        , 1.        , 0.2635058 ],\n",
       "       [0.        , 0.24967495, 0.        , 0.2635058 , 1.        ]])"
      ]
     },
     "execution_count": 84,
     "metadata": {},
     "output_type": "execute_result"
    }
   ],
   "source": [
    "cosine_sim = cosine_similarity(tfidf, tfidf)\n",
    "cosine_sim"
   ]
  },
  {
   "cell_type": "code",
   "execution_count": 85,
   "metadata": {},
   "outputs": [
    {
     "data": {
      "text/plain": [
       "[\"Harry Potter and the Sorcerer's Stone\",\n",
       " 'Harry Potter and the Chamber of Secrets',\n",
       " \"The Sorcerer's Den\",\n",
       " 'Great Sorcerers of NY',\n",
       " 'Great Secrets of Amazon']"
      ]
     },
     "execution_count": 85,
     "metadata": {},
     "output_type": "execute_result"
    }
   ],
   "source": [
    "[\n",
    "    \"Harry Potter and the Sorcerer's Stone\", \n",
    "    \"Harry Potter and the Chamber of Secrets\", \n",
    "    \"The Sorcerer's Den\",\n",
    "    \"Great Sorcerers of NY\", \n",
    "    \"Great Secrets of Amazon\", \n",
    "]"
   ]
  },
  {
   "cell_type": "code",
   "execution_count": 94,
   "metadata": {},
   "outputs": [
    {
     "data": {
      "text/plain": [
       "array([[0.24967495],\n",
       "       [0.49934989],\n",
       "       [0.        ],\n",
       "       [0.404823  ],\n",
       "       [0.28278173]])"
      ]
     },
     "execution_count": 94,
     "metadata": {},
     "output_type": "execute_result"
    }
   ],
   "source": [
    "cosine_sim = cosine_similarity(tfidf, tf.transform([\"Harry Secrets Sorcerers\"]))\n",
    "cosine_sim"
   ]
  },
  {
   "cell_type": "code",
   "execution_count": 95,
   "metadata": {},
   "outputs": [
    {
     "data": {
      "text/plain": [
       "array([2, 0, 4, 3, 1], dtype=int64)"
      ]
     },
     "execution_count": 95,
     "metadata": {},
     "output_type": "execute_result"
    }
   ],
   "source": [
    "np.argsort(cosine_sim.flatten())"
   ]
  },
  {
   "cell_type": "markdown",
   "metadata": {},
   "source": [
    "- `argpartition` first sorts the array then partitions the array on the *kth* element.\n",
    "- All elements lower than the *kth* element will be behind it and larget will be after it."
   ]
  },
  {
   "cell_type": "code",
   "execution_count": 101,
   "metadata": {},
   "outputs": [
    {
     "data": {
      "text/plain": [
       "array([2, 0, 4, 3, 1], dtype=int64)"
      ]
     },
     "execution_count": 101,
     "metadata": {},
     "output_type": "execute_result"
    }
   ],
   "source": [
    "np.argpartition(cosine_sim.flatten(),-3)"
   ]
  },
  {
   "cell_type": "code",
   "execution_count": 102,
   "metadata": {},
   "outputs": [
    {
     "data": {
      "text/plain": [
       "[1, 3, 4]"
      ]
     },
     "execution_count": 102,
     "metadata": {},
     "output_type": "execute_result"
    }
   ],
   "source": [
    "list(reversed((np.argsort(cosine_sim.flatten())[-3:])))"
   ]
  },
  {
   "cell_type": "code",
   "execution_count": 103,
   "metadata": {},
   "outputs": [
    {
     "data": {
      "text/plain": [
       "[1, 3, 4]"
      ]
     },
     "execution_count": 103,
     "metadata": {},
     "output_type": "execute_result"
    }
   ],
   "source": [
    "list(reversed((np.argpartition(cosine_sim.flatten(),-3)[-3:])))"
   ]
  }
 ],
 "metadata": {
  "kernelspec": {
   "display_name": "Python 3",
   "language": "python",
   "name": "python3"
  },
  "language_info": {
   "codemirror_mode": {
    "name": "ipython",
    "version": 3
   },
   "file_extension": ".py",
   "mimetype": "text/x-python",
   "name": "python",
   "nbconvert_exporter": "python",
   "pygments_lexer": "ipython3",
   "version": "3.10.11"
  }
 },
 "nbformat": 4,
 "nbformat_minor": 2
}
