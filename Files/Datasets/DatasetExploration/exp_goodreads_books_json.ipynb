{
 "cells": [
  {
   "cell_type": "markdown",
   "metadata": {},
   "source": [
    "## Exploring book_id_map.csv File"
   ]
  },
  {
   "cell_type": "code",
   "execution_count": 19,
   "metadata": {},
   "outputs": [],
   "source": [
    "import gzip\n",
    "import json\n",
    "import pandas as pd\n",
    "import gc"
   ]
  },
  {
   "cell_type": "code",
   "execution_count": 3,
   "metadata": {},
   "outputs": [],
   "source": [
    "# help stream the data without unzipping the file\n",
    "# stream the data by one line at a time\n",
    "\n",
    "with gzip.open(\"../Initial/goodreads_books.json.gz\") as f:\n",
    "    line = f.readline()"
   ]
  },
  {
   "cell_type": "code",
   "execution_count": 4,
   "metadata": {},
   "outputs": [
    {
     "data": {
      "text/plain": [
       "b'{\"isbn\": \"0312853122\", \"text_reviews_count\": \"1\", \"series\": [], \"country_code\": \"US\", \"language_code\": \"\", \"popular_shelves\": [{\"count\": \"3\", \"name\": \"to-read\"}, {\"count\": \"1\", \"name\": \"p\"}, {\"count\": \"1\", \"name\": \"collection\"}, {\"count\": \"1\", \"name\": \"w-c-fields\"}, {\"count\": \"1\", \"name\": \"biography\"}], \"asin\": \"\", \"is_ebook\": \"false\", \"average_rating\": \"4.00\", \"kindle_asin\": \"\", \"similar_books\": [], \"description\": \"\", \"format\": \"Paperback\", \"link\": \"https://www.goodreads.com/book/show/5333265-w-c-fields\", \"authors\": [{\"author_id\": \"604031\", \"role\": \"\"}], \"publisher\": \"St. Martin\\'s Press\", \"num_pages\": \"256\", \"publication_day\": \"1\", \"isbn13\": \"9780312853129\", \"publication_month\": \"9\", \"edition_information\": \"\", \"publication_year\": \"1984\", \"url\": \"https://www.goodreads.com/book/show/5333265-w-c-fields\", \"image_url\": \"https://images.gr-assets.com/books/1310220028m/5333265.jpg\", \"book_id\": \"5333265\", \"ratings_count\": \"3\", \"work_id\": \"5400751\", \"title\": \"W.C. Fields: A Life on Film\", \"title_without_series\": \"W.C. Fields: A Life on Film\"}\\n'"
      ]
     },
     "execution_count": 4,
     "metadata": {},
     "output_type": "execute_result"
    }
   ],
   "source": [
    "line"
   ]
  },
  {
   "cell_type": "code",
   "execution_count": 5,
   "metadata": {},
   "outputs": [
    {
     "data": {
      "text/plain": [
       "{'isbn': '0312853122',\n",
       " 'text_reviews_count': '1',\n",
       " 'series': [],\n",
       " 'country_code': 'US',\n",
       " 'language_code': '',\n",
       " 'popular_shelves': [{'count': '3', 'name': 'to-read'},\n",
       "  {'count': '1', 'name': 'p'},\n",
       "  {'count': '1', 'name': 'collection'},\n",
       "  {'count': '1', 'name': 'w-c-fields'},\n",
       "  {'count': '1', 'name': 'biography'}],\n",
       " 'asin': '',\n",
       " 'is_ebook': 'false',\n",
       " 'average_rating': '4.00',\n",
       " 'kindle_asin': '',\n",
       " 'similar_books': [],\n",
       " 'description': '',\n",
       " 'format': 'Paperback',\n",
       " 'link': 'https://www.goodreads.com/book/show/5333265-w-c-fields',\n",
       " 'authors': [{'author_id': '604031', 'role': ''}],\n",
       " 'publisher': \"St. Martin's Press\",\n",
       " 'num_pages': '256',\n",
       " 'publication_day': '1',\n",
       " 'isbn13': '9780312853129',\n",
       " 'publication_month': '9',\n",
       " 'edition_information': '',\n",
       " 'publication_year': '1984',\n",
       " 'url': 'https://www.goodreads.com/book/show/5333265-w-c-fields',\n",
       " 'image_url': 'https://images.gr-assets.com/books/1310220028m/5333265.jpg',\n",
       " 'book_id': '5333265',\n",
       " 'ratings_count': '3',\n",
       " 'work_id': '5400751',\n",
       " 'title': 'W.C. Fields: A Life on Film',\n",
       " 'title_without_series': 'W.C. Fields: A Life on Film'}"
      ]
     },
     "execution_count": 5,
     "metadata": {},
     "output_type": "execute_result"
    }
   ],
   "source": [
    "json.loads(line)"
   ]
  },
  {
   "cell_type": "code",
   "execution_count": 6,
   "metadata": {},
   "outputs": [],
   "source": [
    "# function to parse the required attributes from the book or item details\n",
    "\n",
    "def parse_fields(line):\n",
    "    data = json.loads(line)\n",
    "    return {\n",
    "        'isbn': data['isbn'],\n",
    "        'average_rating': data['average_rating'],\n",
    "        'similar_books': data['similar_books'],\n",
    "        'description': data['description'],\n",
    "        'link': data['link'],\n",
    "        'authors': data['authors'],\n",
    "        'publisher': data['publisher'],\n",
    "        'num_pages': data['num_pages'],\n",
    "        'publication_day': data['publication_day'],\n",
    "        'publication_month': data['publication_month'],\n",
    "        'publication_year': data['publication_year'],\n",
    "        'isbn13': data['isbn13'],\n",
    "        'url': data['url'],\n",
    "        'image_url': data['image_url'],\n",
    "        'book_id': data['book_id'],\n",
    "        'ratings_count': data['ratings_count'],\n",
    "        'title': data['title_without_series'],\n",
    "    }"
   ]
  },
  {
   "cell_type": "code",
   "execution_count": 7,
   "metadata": {},
   "outputs": [],
   "source": [
    "# we will go through all the books from the dataset\n",
    "# we will parse the details of only those books which has got >= 15 ratings or ratings_count and save the book details for later use\n",
    "\n",
    "books = []\n",
    "\n",
    "with gzip.open(\"../Initial/goodreads_books.json.gz\") as f:\n",
    "    while True:\n",
    "        # reading the line\n",
    "        line = f.readline()\n",
    "\n",
    "        # we will break the infinite loop when we reach the end of the dataset file\n",
    "        if not line:\n",
    "            break\n",
    "        \n",
    "        # parsing the line\n",
    "        fields = parse_fields(line)\n",
    "        \n",
    "        # trying to convert ratings_count into integer\n",
    "        try:\n",
    "            ratings_count = int(fields[\"ratings_count\"])\n",
    "        except ValueError:\n",
    "            continue\n",
    "\n",
    "        # we will consider only those books which has more than 15 ratings\n",
    "        if ratings_count > 15:\n",
    "            books.append(fields)"
   ]
  },
  {
   "cell_type": "code",
   "execution_count": 8,
   "metadata": {},
   "outputs": [
    {
     "data": {
      "text/plain": [
       "1308957"
      ]
     },
     "execution_count": 8,
     "metadata": {},
     "output_type": "execute_result"
    }
   ],
   "source": [
    "# total number of books\n",
    "\n",
    "len(books)"
   ]
  },
  {
   "cell_type": "markdown",
   "metadata": {},
   "source": [
    "- There are 1,308,957 books after filtering through the criteria `ratings_count > 15`"
   ]
  },
  {
   "cell_type": "code",
   "execution_count": 9,
   "metadata": {},
   "outputs": [
    {
     "data": {
      "text/plain": [
       "{'isbn': '',\n",
       " 'average_rating': '4.03',\n",
       " 'similar_books': ['19997',\n",
       "  '828466',\n",
       "  '1569323',\n",
       "  '425389',\n",
       "  '1176674',\n",
       "  '262740',\n",
       "  '3743837',\n",
       "  '880461',\n",
       "  '2292726',\n",
       "  '1883810',\n",
       "  '1808197',\n",
       "  '625150',\n",
       "  '1988046',\n",
       "  '390170',\n",
       "  '2620131',\n",
       "  '383106',\n",
       "  '1597281'],\n",
       " 'description': 'Omnibus book club edition containing the Ladies of Madrigyn and the Witches of Wenshar.',\n",
       " 'link': 'https://www.goodreads.com/book/show/7327624-the-unschooled-wizard',\n",
       " 'authors': [{'author_id': '10333', 'role': ''}],\n",
       " 'publisher': 'Nelson Doubleday, Inc.',\n",
       " 'num_pages': '600',\n",
       " 'publication_day': '',\n",
       " 'publication_month': '',\n",
       " 'publication_year': '1987',\n",
       " 'isbn13': '',\n",
       " 'url': 'https://www.goodreads.com/book/show/7327624-the-unschooled-wizard',\n",
       " 'image_url': 'https://images.gr-assets.com/books/1304100136m/7327624.jpg',\n",
       " 'book_id': '7327624',\n",
       " 'ratings_count': '140',\n",
       " 'title': 'The Unschooled Wizard (Sun Wolf and Starhawk, #1-2)'}"
      ]
     },
     "execution_count": 9,
     "metadata": {},
     "output_type": "execute_result"
    }
   ],
   "source": [
    "books[0]"
   ]
  },
  {
   "cell_type": "code",
   "execution_count": 10,
   "metadata": {},
   "outputs": [],
   "source": [
    "# we will create a data frame\n",
    "\n",
    "items = pd.DataFrame.from_dict(books)"
   ]
  },
  {
   "cell_type": "code",
   "execution_count": 11,
   "metadata": {},
   "outputs": [],
   "source": [
    "# we don't need this object anymore\n",
    "\n",
    "del(books)"
   ]
  },
  {
   "cell_type": "code",
   "execution_count": 21,
   "metadata": {},
   "outputs": [
    {
     "data": {
      "text/plain": [
       "486"
      ]
     },
     "execution_count": 21,
     "metadata": {},
     "output_type": "execute_result"
    }
   ],
   "source": [
    "# del method only removes the variable from the namespace\n",
    "# it does not remove the variable from the memory space\n",
    "# to clear the variable from memory we can use the gc.collect() method\n",
    "\n",
    "gc.collect()"
   ]
  },
  {
   "cell_type": "code",
   "execution_count": 13,
   "metadata": {},
   "outputs": [
    {
     "data": {
      "text/plain": [
       "['isbn',\n",
       " 'average_rating',\n",
       " 'similar_books',\n",
       " 'description',\n",
       " 'link',\n",
       " 'authors',\n",
       " 'publisher',\n",
       " 'num_pages',\n",
       " 'publication_day',\n",
       " 'publication_month',\n",
       " 'publication_year',\n",
       " 'isbn13',\n",
       " 'url',\n",
       " 'image_url',\n",
       " 'book_id',\n",
       " 'ratings_count',\n",
       " 'title']"
      ]
     },
     "execution_count": 13,
     "metadata": {},
     "output_type": "execute_result"
    }
   ],
   "source": [
    "# column list\n",
    "\n",
    "list(items.columns)"
   ]
  },
  {
   "cell_type": "code",
   "execution_count": 14,
   "metadata": {},
   "outputs": [
    {
     "data": {
      "text/html": [
       "<div>\n",
       "<style scoped>\n",
       "    .dataframe tbody tr th:only-of-type {\n",
       "        vertical-align: middle;\n",
       "    }\n",
       "\n",
       "    .dataframe tbody tr th {\n",
       "        vertical-align: top;\n",
       "    }\n",
       "\n",
       "    .dataframe thead th {\n",
       "        text-align: right;\n",
       "    }\n",
       "</style>\n",
       "<table border=\"1\" class=\"dataframe\">\n",
       "  <thead>\n",
       "    <tr style=\"text-align: right;\">\n",
       "      <th></th>\n",
       "      <th>isbn</th>\n",
       "      <th>average_rating</th>\n",
       "      <th>similar_books</th>\n",
       "      <th>description</th>\n",
       "      <th>link</th>\n",
       "      <th>authors</th>\n",
       "      <th>publisher</th>\n",
       "      <th>num_pages</th>\n",
       "      <th>publication_day</th>\n",
       "      <th>publication_month</th>\n",
       "      <th>publication_year</th>\n",
       "      <th>isbn13</th>\n",
       "      <th>url</th>\n",
       "      <th>image_url</th>\n",
       "      <th>book_id</th>\n",
       "      <th>ratings_count</th>\n",
       "      <th>title</th>\n",
       "    </tr>\n",
       "  </thead>\n",
       "  <tbody>\n",
       "    <tr>\n",
       "      <th>0</th>\n",
       "      <td></td>\n",
       "      <td>4.03</td>\n",
       "      <td>[19997, 828466, 1569323, 425389, 1176674, 2627...</td>\n",
       "      <td>Omnibus book club edition containing the Ladie...</td>\n",
       "      <td>https://www.goodreads.com/book/show/7327624-th...</td>\n",
       "      <td>[{'author_id': '10333', 'role': ''}]</td>\n",
       "      <td>Nelson Doubleday, Inc.</td>\n",
       "      <td>600</td>\n",
       "      <td></td>\n",
       "      <td></td>\n",
       "      <td>1987</td>\n",
       "      <td></td>\n",
       "      <td>https://www.goodreads.com/book/show/7327624-th...</td>\n",
       "      <td>https://images.gr-assets.com/books/1304100136m...</td>\n",
       "      <td>7327624</td>\n",
       "      <td>140</td>\n",
       "      <td>The Unschooled Wizard (Sun Wolf and Starhawk, ...</td>\n",
       "    </tr>\n",
       "    <tr>\n",
       "      <th>1</th>\n",
       "      <td>0743294297</td>\n",
       "      <td>3.49</td>\n",
       "      <td>[6604176, 6054190, 2285777, 82641, 7569453, 70...</td>\n",
       "      <td>Addie Downs and Valerie Adler were eight when ...</td>\n",
       "      <td>https://www.goodreads.com/book/show/6066819-be...</td>\n",
       "      <td>[{'author_id': '9212', 'role': ''}]</td>\n",
       "      <td>Atria Books</td>\n",
       "      <td>368</td>\n",
       "      <td>14</td>\n",
       "      <td>7</td>\n",
       "      <td>2009</td>\n",
       "      <td>9780743294294</td>\n",
       "      <td>https://www.goodreads.com/book/show/6066819-be...</td>\n",
       "      <td>https://s.gr-assets.com/assets/nophoto/book/11...</td>\n",
       "      <td>6066819</td>\n",
       "      <td>51184</td>\n",
       "      <td>Best Friends Forever</td>\n",
       "    </tr>\n",
       "    <tr>\n",
       "      <th>2</th>\n",
       "      <td>1599150603</td>\n",
       "      <td>4.13</td>\n",
       "      <td>[]</td>\n",
       "      <td>Relates in vigorous prose the tale of Aeneas, ...</td>\n",
       "      <td>https://www.goodreads.com/book/show/287141.The...</td>\n",
       "      <td>[{'author_id': '3041852', 'role': ''}]</td>\n",
       "      <td>Yesterday's Classics</td>\n",
       "      <td>162</td>\n",
       "      <td>13</td>\n",
       "      <td>9</td>\n",
       "      <td>2006</td>\n",
       "      <td>9781599150604</td>\n",
       "      <td>https://www.goodreads.com/book/show/287141.The...</td>\n",
       "      <td>https://s.gr-assets.com/assets/nophoto/book/11...</td>\n",
       "      <td>287141</td>\n",
       "      <td>46</td>\n",
       "      <td>The Aeneid for Boys and Girls</td>\n",
       "    </tr>\n",
       "    <tr>\n",
       "      <th>3</th>\n",
       "      <td>1934876569</td>\n",
       "      <td>4.22</td>\n",
       "      <td>[948696, 439885, 274955, 12978730, 372986, 216...</td>\n",
       "      <td>To Kara's astonishment, she discovers that a p...</td>\n",
       "      <td>https://www.goodreads.com/book/show/6066812-al...</td>\n",
       "      <td>[{'author_id': '19158', 'role': ''}]</td>\n",
       "      <td>Seven Seas</td>\n",
       "      <td>216</td>\n",
       "      <td>3</td>\n",
       "      <td>3</td>\n",
       "      <td>2009</td>\n",
       "      <td>9781934876565</td>\n",
       "      <td>https://www.goodreads.com/book/show/6066812-al...</td>\n",
       "      <td>https://images.gr-assets.com/books/1316637798m...</td>\n",
       "      <td>6066812</td>\n",
       "      <td>98</td>\n",
       "      <td>All's Fairy in Love and War (Avalon: Web of Ma...</td>\n",
       "    </tr>\n",
       "    <tr>\n",
       "      <th>4</th>\n",
       "      <td>0922915113</td>\n",
       "      <td>3.81</td>\n",
       "      <td>[287151, 1104760, 1172822, 440292, 287082, 630...</td>\n",
       "      <td>Wisdom, humor, and dark observations by the fo...</td>\n",
       "      <td>https://www.goodreads.com/book/show/287149.The...</td>\n",
       "      <td>[{'author_id': '2983296', 'role': ''}, {'autho...</td>\n",
       "      <td>Feral House</td>\n",
       "      <td>147</td>\n",
       "      <td>1</td>\n",
       "      <td>4</td>\n",
       "      <td>2000</td>\n",
       "      <td>9780922915118</td>\n",
       "      <td>https://www.goodreads.com/book/show/287149.The...</td>\n",
       "      <td>https://images.gr-assets.com/books/1328768789m...</td>\n",
       "      <td>287149</td>\n",
       "      <td>986</td>\n",
       "      <td>The Devil's Notebook</td>\n",
       "    </tr>\n",
       "  </tbody>\n",
       "</table>\n",
       "</div>"
      ],
      "text/plain": [
       "         isbn average_rating  \\\n",
       "0                       4.03   \n",
       "1  0743294297           3.49   \n",
       "2  1599150603           4.13   \n",
       "3  1934876569           4.22   \n",
       "4  0922915113           3.81   \n",
       "\n",
       "                                       similar_books  \\\n",
       "0  [19997, 828466, 1569323, 425389, 1176674, 2627...   \n",
       "1  [6604176, 6054190, 2285777, 82641, 7569453, 70...   \n",
       "2                                                 []   \n",
       "3  [948696, 439885, 274955, 12978730, 372986, 216...   \n",
       "4  [287151, 1104760, 1172822, 440292, 287082, 630...   \n",
       "\n",
       "                                         description  \\\n",
       "0  Omnibus book club edition containing the Ladie...   \n",
       "1  Addie Downs and Valerie Adler were eight when ...   \n",
       "2  Relates in vigorous prose the tale of Aeneas, ...   \n",
       "3  To Kara's astonishment, she discovers that a p...   \n",
       "4  Wisdom, humor, and dark observations by the fo...   \n",
       "\n",
       "                                                link  \\\n",
       "0  https://www.goodreads.com/book/show/7327624-th...   \n",
       "1  https://www.goodreads.com/book/show/6066819-be...   \n",
       "2  https://www.goodreads.com/book/show/287141.The...   \n",
       "3  https://www.goodreads.com/book/show/6066812-al...   \n",
       "4  https://www.goodreads.com/book/show/287149.The...   \n",
       "\n",
       "                                             authors               publisher  \\\n",
       "0               [{'author_id': '10333', 'role': ''}]  Nelson Doubleday, Inc.   \n",
       "1                [{'author_id': '9212', 'role': ''}]             Atria Books   \n",
       "2             [{'author_id': '3041852', 'role': ''}]    Yesterday's Classics   \n",
       "3               [{'author_id': '19158', 'role': ''}]              Seven Seas   \n",
       "4  [{'author_id': '2983296', 'role': ''}, {'autho...             Feral House   \n",
       "\n",
       "  num_pages publication_day publication_month publication_year         isbn13  \\\n",
       "0       600                                               1987                  \n",
       "1       368              14                 7             2009  9780743294294   \n",
       "2       162              13                 9             2006  9781599150604   \n",
       "3       216               3                 3             2009  9781934876565   \n",
       "4       147               1                 4             2000  9780922915118   \n",
       "\n",
       "                                                 url  \\\n",
       "0  https://www.goodreads.com/book/show/7327624-th...   \n",
       "1  https://www.goodreads.com/book/show/6066819-be...   \n",
       "2  https://www.goodreads.com/book/show/287141.The...   \n",
       "3  https://www.goodreads.com/book/show/6066812-al...   \n",
       "4  https://www.goodreads.com/book/show/287149.The...   \n",
       "\n",
       "                                           image_url  book_id ratings_count  \\\n",
       "0  https://images.gr-assets.com/books/1304100136m...  7327624           140   \n",
       "1  https://s.gr-assets.com/assets/nophoto/book/11...  6066819         51184   \n",
       "2  https://s.gr-assets.com/assets/nophoto/book/11...   287141            46   \n",
       "3  https://images.gr-assets.com/books/1316637798m...  6066812            98   \n",
       "4  https://images.gr-assets.com/books/1328768789m...   287149           986   \n",
       "\n",
       "                                               title  \n",
       "0  The Unschooled Wizard (Sun Wolf and Starhawk, ...  \n",
       "1                               Best Friends Forever  \n",
       "2                      The Aeneid for Boys and Girls  \n",
       "3  All's Fairy in Love and War (Avalon: Web of Ma...  \n",
       "4                               The Devil's Notebook  "
      ]
     },
     "execution_count": 14,
     "metadata": {},
     "output_type": "execute_result"
    }
   ],
   "source": [
    "items.head()"
   ]
  },
  {
   "cell_type": "code",
   "execution_count": 16,
   "metadata": {},
   "outputs": [
    {
     "data": {
      "text/plain": [
       "isbn                 0\n",
       "average_rating       0\n",
       "similar_books        0\n",
       "description          0\n",
       "link                 0\n",
       "authors              0\n",
       "publisher            0\n",
       "num_pages            0\n",
       "publication_day      0\n",
       "publication_month    0\n",
       "publication_year     0\n",
       "isbn13               0\n",
       "url                  0\n",
       "image_url            0\n",
       "book_id              0\n",
       "ratings_count        0\n",
       "title                0\n",
       "dtype: int64"
      ]
     },
     "execution_count": 16,
     "metadata": {},
     "output_type": "execute_result"
    }
   ],
   "source": [
    "# checking for null values\n",
    "\n",
    "items.isnull().sum()"
   ]
  },
  {
   "cell_type": "code",
   "execution_count": null,
   "metadata": {},
   "outputs": [
    {
     "name": "stdout",
     "output_type": "stream",
     "text": [
      "<class 'pandas.core.frame.DataFrame'>\n",
      "RangeIndex: 1308957 entries, 0 to 1308956\n",
      "Data columns (total 17 columns):\n",
      " #   Column             Non-Null Count    Dtype \n",
      "---  ------             --------------    ----- \n",
      " 0   isbn               1308957 non-null  object\n",
      " 1   average_rating     1308957 non-null  object\n",
      " 2   similar_books      1308957 non-null  object\n",
      " 3   description        1308957 non-null  object\n",
      " 4   link               1308957 non-null  object\n",
      " 5   authors            1308957 non-null  object\n",
      " 6   publisher          1308957 non-null  object\n",
      " 7   num_pages          1308957 non-null  object\n",
      " 8   publication_day    1308957 non-null  object\n",
      " 9   publication_month  1308957 non-null  object\n",
      " 10  publication_year   1308957 non-null  object\n",
      " 11  isbn13             1308957 non-null  object\n",
      " 12  url                1308957 non-null  object\n",
      " 13  image_url          1308957 non-null  object\n",
      " 14  book_id            1308957 non-null  object\n",
      " 15  ratings_count      1308957 non-null  object\n",
      " 16  title              1308957 non-null  object\n",
      "dtypes: object(17)\n",
      "memory usage: 169.8+ MB\n"
     ]
    }
   ],
   "source": [
    "# checking the datatype of the columns\n",
    "\n",
    "items.info()"
   ]
  },
  {
   "cell_type": "code",
   "execution_count": 17,
   "metadata": {},
   "outputs": [
    {
     "name": "stdout",
     "output_type": "stream",
     "text": [
      "<class 'pandas.core.frame.DataFrame'>\n",
      "RangeIndex: 1308957 entries, 0 to 1308956\n",
      "Data columns (total 17 columns):\n",
      " #   Column             Non-Null Count    Dtype  \n",
      "---  ------             --------------    -----  \n",
      " 0   isbn               1308957 non-null  object \n",
      " 1   average_rating     1308957 non-null  float64\n",
      " 2   similar_books      1308957 non-null  object \n",
      " 3   description        1308957 non-null  object \n",
      " 4   link               1308957 non-null  object \n",
      " 5   authors            1308957 non-null  object \n",
      " 6   publisher          1308957 non-null  object \n",
      " 7   num_pages          1308957 non-null  object \n",
      " 8   publication_day    1308957 non-null  object \n",
      " 9   publication_month  1308957 non-null  object \n",
      " 10  publication_year   1308957 non-null  object \n",
      " 11  isbn13             1308957 non-null  object \n",
      " 12  url                1308957 non-null  object \n",
      " 13  image_url          1308957 non-null  object \n",
      " 14  book_id            1308957 non-null  object \n",
      " 15  ratings_count      1308957 non-null  int64  \n",
      " 16  title              1308957 non-null  object \n",
      "dtypes: float64(1), int64(1), object(15)\n",
      "memory usage: 169.8+ MB\n"
     ]
    }
   ],
   "source": [
    "# convert ratings_count and average_rating columns into numeric\n",
    "\n",
    "items[\"ratings_count\"] = pd.to_numeric(items[\"ratings_count\"])\n",
    "items[\"average_rating\"] = pd.to_numeric(items[\"average_rating\"])\n",
    "\n",
    "items.info()"
   ]
  },
  {
   "cell_type": "code",
   "execution_count": 24,
   "metadata": {},
   "outputs": [
    {
     "data": {
      "text/plain": [
       "318555"
      ]
     },
     "execution_count": 24,
     "metadata": {},
     "output_type": "execute_result"
    }
   ],
   "source": [
    "# number of duplicate titles\n",
    "\n",
    "items[\"title\"].duplicated().sum()"
   ]
  },
  {
   "cell_type": "code",
   "execution_count": 43,
   "metadata": {},
   "outputs": [
    {
     "data": {
      "text/html": [
       "<div>\n",
       "<style scoped>\n",
       "    .dataframe tbody tr th:only-of-type {\n",
       "        vertical-align: middle;\n",
       "    }\n",
       "\n",
       "    .dataframe tbody tr th {\n",
       "        vertical-align: top;\n",
       "    }\n",
       "\n",
       "    .dataframe thead th {\n",
       "        text-align: right;\n",
       "    }\n",
       "</style>\n",
       "<table border=\"1\" class=\"dataframe\">\n",
       "  <thead>\n",
       "    <tr style=\"text-align: right;\">\n",
       "      <th></th>\n",
       "      <th>isbn</th>\n",
       "      <th>average_rating</th>\n",
       "      <th>similar_books</th>\n",
       "      <th>description</th>\n",
       "      <th>link</th>\n",
       "      <th>authors</th>\n",
       "      <th>publisher</th>\n",
       "      <th>num_pages</th>\n",
       "      <th>publication_day</th>\n",
       "      <th>publication_month</th>\n",
       "      <th>publication_year</th>\n",
       "      <th>isbn13</th>\n",
       "      <th>url</th>\n",
       "      <th>image_url</th>\n",
       "      <th>book_id</th>\n",
       "      <th>ratings_count</th>\n",
       "      <th>title</th>\n",
       "    </tr>\n",
       "  </thead>\n",
       "  <tbody>\n",
       "    <tr>\n",
       "      <th>442</th>\n",
       "      <td>174114244X</td>\n",
       "      <td>3.79</td>\n",
       "      <td>[8359929, 723742, 297130, 7570244, 397904, 228...</td>\n",
       "      <td>From the moment Ross's fiancee Aimee was kille...</td>\n",
       "      <td>https://www.goodreads.com/book/show/820229.Sec...</td>\n",
       "      <td>[{'author_id': '7128', 'role': ''}]</td>\n",
       "      <td></td>\n",
       "      <td></td>\n",
       "      <td></td>\n",
       "      <td></td>\n",
       "      <td></td>\n",
       "      <td>9781741142440</td>\n",
       "      <td>https://www.goodreads.com/book/show/820229.Sec...</td>\n",
       "      <td>https://images.gr-assets.com/books/1293769966m...</td>\n",
       "      <td>820229</td>\n",
       "      <td>82</td>\n",
       "      <td>Second Glance</td>\n",
       "    </tr>\n",
       "    <tr>\n",
       "      <th>446</th>\n",
       "      <td>0340897260</td>\n",
       "      <td>3.79</td>\n",
       "      <td>[8359929, 723742, 297130, 7570244, 397904, 228...</td>\n",
       "      <td>From the moment Ross's fiancee Aimee was kille...</td>\n",
       "      <td>https://www.goodreads.com/book/show/820226.Sec...</td>\n",
       "      <td>[{'author_id': '7128', 'role': ''}]</td>\n",
       "      <td>Hodder</td>\n",
       "      <td>483</td>\n",
       "      <td></td>\n",
       "      <td></td>\n",
       "      <td>2008</td>\n",
       "      <td>9780340897263</td>\n",
       "      <td>https://www.goodreads.com/book/show/820226.Sec...</td>\n",
       "      <td>https://images.gr-assets.com/books/1363397305m...</td>\n",
       "      <td>820226</td>\n",
       "      <td>334</td>\n",
       "      <td>Second Glance</td>\n",
       "    </tr>\n",
       "    <tr>\n",
       "      <th>447</th>\n",
       "      <td>0340897279</td>\n",
       "      <td>3.79</td>\n",
       "      <td>[8359929, 723742, 297130, 7570244, 397904, 228...</td>\n",
       "      <td>From the moment Ross's fiancee Aimee was kille...</td>\n",
       "      <td>https://www.goodreads.com/book/show/820227.Sec...</td>\n",
       "      <td>[{'author_id': '7128', 'role': ''}]</td>\n",
       "      <td>Hodder</td>\n",
       "      <td>420</td>\n",
       "      <td></td>\n",
       "      <td></td>\n",
       "      <td>2007</td>\n",
       "      <td>9780340897270</td>\n",
       "      <td>https://www.goodreads.com/book/show/820227.Sec...</td>\n",
       "      <td>https://images.gr-assets.com/books/1288638236m...</td>\n",
       "      <td>820227</td>\n",
       "      <td>24</td>\n",
       "      <td>Second Glance</td>\n",
       "    </tr>\n",
       "    <tr>\n",
       "      <th>133344</th>\n",
       "      <td></td>\n",
       "      <td>3.79</td>\n",
       "      <td>[8359929, 723742, 297130, 7570244, 397904, 228...</td>\n",
       "      <td>From the moment Ross's fiancee Aimee was kille...</td>\n",
       "      <td>https://www.goodreads.com/book/show/6397205-se...</td>\n",
       "      <td>[{'author_id': '7128', 'role': ''}]</td>\n",
       "      <td>Atria Books</td>\n",
       "      <td>494</td>\n",
       "      <td>8</td>\n",
       "      <td>4</td>\n",
       "      <td>2003</td>\n",
       "      <td></td>\n",
       "      <td>https://www.goodreads.com/book/show/6397205-se...</td>\n",
       "      <td>https://images.gr-assets.com/books/1328311935m...</td>\n",
       "      <td>6397205</td>\n",
       "      <td>1200</td>\n",
       "      <td>Second Glance</td>\n",
       "    </tr>\n",
       "    <tr>\n",
       "      <th>206189</th>\n",
       "      <td>0743454510</td>\n",
       "      <td>3.79</td>\n",
       "      <td>[8359929, 723742, 297130, 7570244, 397904, 228...</td>\n",
       "      <td>When odd, supernatural events plague the town ...</td>\n",
       "      <td>https://www.goodreads.com/book/show/10911.Seco...</td>\n",
       "      <td>[{'author_id': '7128', 'role': ''}]</td>\n",
       "      <td></td>\n",
       "      <td></td>\n",
       "      <td></td>\n",
       "      <td></td>\n",
       "      <td></td>\n",
       "      <td>9780743454513</td>\n",
       "      <td>https://www.goodreads.com/book/show/10911.Seco...</td>\n",
       "      <td>https://s.gr-assets.com/assets/nophoto/book/11...</td>\n",
       "      <td>10911</td>\n",
       "      <td>33808</td>\n",
       "      <td>Second Glance</td>\n",
       "    </tr>\n",
       "    <tr>\n",
       "      <th>529908</th>\n",
       "      <td>1402556470</td>\n",
       "      <td>3.79</td>\n",
       "      <td>[8359929, 723742, 297130, 7570244, 397904, 228...</td>\n",
       "      <td>- From the New York Times best-selling author ...</td>\n",
       "      <td>https://www.goodreads.com/book/show/2355102.Se...</td>\n",
       "      <td>[{'author_id': '7128', 'role': ''}]</td>\n",
       "      <td>Recorded Books</td>\n",
       "      <td></td>\n",
       "      <td>30</td>\n",
       "      <td>1</td>\n",
       "      <td>2008</td>\n",
       "      <td>9781402556470</td>\n",
       "      <td>https://www.goodreads.com/book/show/2355102.Se...</td>\n",
       "      <td>https://s.gr-assets.com/assets/nophoto/book/11...</td>\n",
       "      <td>2355102</td>\n",
       "      <td>22</td>\n",
       "      <td>Second Glance</td>\n",
       "    </tr>\n",
       "    <tr>\n",
       "      <th>601914</th>\n",
       "      <td>1416549196</td>\n",
       "      <td>3.79</td>\n",
       "      <td>[8359929, 723742, 297130, 7570244, 397904, 228...</td>\n",
       "      <td>From the moment Ross's fiancee Aimee was kille...</td>\n",
       "      <td>https://www.goodreads.com/book/show/11214862-s...</td>\n",
       "      <td>[{'author_id': '7128', 'role': ''}]</td>\n",
       "      <td></td>\n",
       "      <td></td>\n",
       "      <td></td>\n",
       "      <td></td>\n",
       "      <td></td>\n",
       "      <td>9781416549192</td>\n",
       "      <td>https://www.goodreads.com/book/show/11214862-s...</td>\n",
       "      <td>https://images.gr-assets.com/books/1336198689m...</td>\n",
       "      <td>11214862</td>\n",
       "      <td>32</td>\n",
       "      <td>Second Glance</td>\n",
       "    </tr>\n",
       "    <tr>\n",
       "      <th>739695</th>\n",
       "      <td>0743454502</td>\n",
       "      <td>3.79</td>\n",
       "      <td>[8359929, 723742, 297130, 7570244, 397904, 228...</td>\n",
       "      <td>\"Sometimes I wonder....Can a ghost find you, i...</td>\n",
       "      <td>https://www.goodreads.com/book/show/526465.Sec...</td>\n",
       "      <td>[{'author_id': '7128', 'role': ''}]</td>\n",
       "      <td>Atria Books</td>\n",
       "      <td>432</td>\n",
       "      <td>8</td>\n",
       "      <td>4</td>\n",
       "      <td>2003</td>\n",
       "      <td>9780743454506</td>\n",
       "      <td>https://www.goodreads.com/book/show/526465.Sec...</td>\n",
       "      <td>https://images.gr-assets.com/books/1346688728m...</td>\n",
       "      <td>526465</td>\n",
       "      <td>157</td>\n",
       "      <td>Second Glance</td>\n",
       "    </tr>\n",
       "    <tr>\n",
       "      <th>780998</th>\n",
       "      <td>1416583866</td>\n",
       "      <td>3.79</td>\n",
       "      <td>[8359929, 723742, 297130, 7570244, 397904, 228...</td>\n",
       "      <td>\"Sometimes I wonder....Can a ghost find you, i...</td>\n",
       "      <td>https://www.goodreads.com/book/show/3104040-se...</td>\n",
       "      <td>[{'author_id': '7128', 'role': ''}]</td>\n",
       "      <td>Washington Square Press</td>\n",
       "      <td>420</td>\n",
       "      <td>5</td>\n",
       "      <td>8</td>\n",
       "      <td>2008</td>\n",
       "      <td>9781416583868</td>\n",
       "      <td>https://www.goodreads.com/book/show/3104040-se...</td>\n",
       "      <td>https://s.gr-assets.com/assets/nophoto/book/11...</td>\n",
       "      <td>3104040</td>\n",
       "      <td>928</td>\n",
       "      <td>Second Glance</td>\n",
       "    </tr>\n",
       "  </tbody>\n",
       "</table>\n",
       "</div>"
      ],
      "text/plain": [
       "              isbn  average_rating  \\\n",
       "442     174114244X            3.79   \n",
       "446     0340897260            3.79   \n",
       "447     0340897279            3.79   \n",
       "133344                        3.79   \n",
       "206189  0743454510            3.79   \n",
       "529908  1402556470            3.79   \n",
       "601914  1416549196            3.79   \n",
       "739695  0743454502            3.79   \n",
       "780998  1416583866            3.79   \n",
       "\n",
       "                                            similar_books  \\\n",
       "442     [8359929, 723742, 297130, 7570244, 397904, 228...   \n",
       "446     [8359929, 723742, 297130, 7570244, 397904, 228...   \n",
       "447     [8359929, 723742, 297130, 7570244, 397904, 228...   \n",
       "133344  [8359929, 723742, 297130, 7570244, 397904, 228...   \n",
       "206189  [8359929, 723742, 297130, 7570244, 397904, 228...   \n",
       "529908  [8359929, 723742, 297130, 7570244, 397904, 228...   \n",
       "601914  [8359929, 723742, 297130, 7570244, 397904, 228...   \n",
       "739695  [8359929, 723742, 297130, 7570244, 397904, 228...   \n",
       "780998  [8359929, 723742, 297130, 7570244, 397904, 228...   \n",
       "\n",
       "                                              description  \\\n",
       "442     From the moment Ross's fiancee Aimee was kille...   \n",
       "446     From the moment Ross's fiancee Aimee was kille...   \n",
       "447     From the moment Ross's fiancee Aimee was kille...   \n",
       "133344  From the moment Ross's fiancee Aimee was kille...   \n",
       "206189  When odd, supernatural events plague the town ...   \n",
       "529908  - From the New York Times best-selling author ...   \n",
       "601914  From the moment Ross's fiancee Aimee was kille...   \n",
       "739695  \"Sometimes I wonder....Can a ghost find you, i...   \n",
       "780998  \"Sometimes I wonder....Can a ghost find you, i...   \n",
       "\n",
       "                                                     link  \\\n",
       "442     https://www.goodreads.com/book/show/820229.Sec...   \n",
       "446     https://www.goodreads.com/book/show/820226.Sec...   \n",
       "447     https://www.goodreads.com/book/show/820227.Sec...   \n",
       "133344  https://www.goodreads.com/book/show/6397205-se...   \n",
       "206189  https://www.goodreads.com/book/show/10911.Seco...   \n",
       "529908  https://www.goodreads.com/book/show/2355102.Se...   \n",
       "601914  https://www.goodreads.com/book/show/11214862-s...   \n",
       "739695  https://www.goodreads.com/book/show/526465.Sec...   \n",
       "780998  https://www.goodreads.com/book/show/3104040-se...   \n",
       "\n",
       "                                    authors                publisher  \\\n",
       "442     [{'author_id': '7128', 'role': ''}]                            \n",
       "446     [{'author_id': '7128', 'role': ''}]                   Hodder   \n",
       "447     [{'author_id': '7128', 'role': ''}]                   Hodder   \n",
       "133344  [{'author_id': '7128', 'role': ''}]              Atria Books   \n",
       "206189  [{'author_id': '7128', 'role': ''}]                            \n",
       "529908  [{'author_id': '7128', 'role': ''}]           Recorded Books   \n",
       "601914  [{'author_id': '7128', 'role': ''}]                            \n",
       "739695  [{'author_id': '7128', 'role': ''}]              Atria Books   \n",
       "780998  [{'author_id': '7128', 'role': ''}]  Washington Square Press   \n",
       "\n",
       "       num_pages publication_day publication_month publication_year  \\\n",
       "442                                                                   \n",
       "446          483                                               2008   \n",
       "447          420                                               2007   \n",
       "133344       494               8                 4             2003   \n",
       "206189                                                                \n",
       "529908                        30                 1             2008   \n",
       "601914                                                                \n",
       "739695       432               8                 4             2003   \n",
       "780998       420               5                 8             2008   \n",
       "\n",
       "               isbn13                                                url  \\\n",
       "442     9781741142440  https://www.goodreads.com/book/show/820229.Sec...   \n",
       "446     9780340897263  https://www.goodreads.com/book/show/820226.Sec...   \n",
       "447     9780340897270  https://www.goodreads.com/book/show/820227.Sec...   \n",
       "133344                 https://www.goodreads.com/book/show/6397205-se...   \n",
       "206189  9780743454513  https://www.goodreads.com/book/show/10911.Seco...   \n",
       "529908  9781402556470  https://www.goodreads.com/book/show/2355102.Se...   \n",
       "601914  9781416549192  https://www.goodreads.com/book/show/11214862-s...   \n",
       "739695  9780743454506  https://www.goodreads.com/book/show/526465.Sec...   \n",
       "780998  9781416583868  https://www.goodreads.com/book/show/3104040-se...   \n",
       "\n",
       "                                                image_url   book_id  \\\n",
       "442     https://images.gr-assets.com/books/1293769966m...    820229   \n",
       "446     https://images.gr-assets.com/books/1363397305m...    820226   \n",
       "447     https://images.gr-assets.com/books/1288638236m...    820227   \n",
       "133344  https://images.gr-assets.com/books/1328311935m...   6397205   \n",
       "206189  https://s.gr-assets.com/assets/nophoto/book/11...     10911   \n",
       "529908  https://s.gr-assets.com/assets/nophoto/book/11...   2355102   \n",
       "601914  https://images.gr-assets.com/books/1336198689m...  11214862   \n",
       "739695  https://images.gr-assets.com/books/1346688728m...    526465   \n",
       "780998  https://s.gr-assets.com/assets/nophoto/book/11...   3104040   \n",
       "\n",
       "        ratings_count          title  \n",
       "442                82  Second Glance  \n",
       "446               334  Second Glance  \n",
       "447                24  Second Glance  \n",
       "133344           1200  Second Glance  \n",
       "206189          33808  Second Glance  \n",
       "529908             22  Second Glance  \n",
       "601914             32  Second Glance  \n",
       "739695            157  Second Glance  \n",
       "780998            928  Second Glance  "
      ]
     },
     "execution_count": 43,
     "metadata": {},
     "output_type": "execute_result"
    }
   ],
   "source": [
    "# looking at duplicates of the book named \"Second Glance\"\n",
    "\n",
    "second_glance = items.loc[items[\"title\"].duplicated()].loc[items[\"title\"]==\"Second Glance\"]\n",
    "second_glance"
   ]
  },
  {
   "cell_type": "code",
   "execution_count": 84,
   "metadata": {},
   "outputs": [
    {
     "data": {
      "text/plain": [
       "3"
      ]
     },
     "execution_count": 84,
     "metadata": {},
     "output_type": "execute_result"
    }
   ],
   "source": [
    "second_glance[\"description\"].loc[second_glance[\"publisher\"].str.len() < 1].count()"
   ]
  },
  {
   "cell_type": "code",
   "execution_count": 112,
   "metadata": {},
   "outputs": [
    {
     "name": "stdout",
     "output_type": "stream",
     "text": [
      "Format: [Column Name - Unique Count - Missing Count]\n",
      "\n",
      "isbn -  9  -  1\n",
      "average_rating -  1  -  0\n",
      "description -  4  -  0\n",
      "link -  9  -  0\n",
      "publisher -  5  -  3\n",
      "num_pages -  5  -  4\n",
      "publication_day -  4  -  5\n",
      "publication_month -  4  -  5\n",
      "publication_year -  4  -  3\n",
      "isbn13 -  9  -  1\n",
      "url -  9  -  0\n",
      "image_url -  7  -  0\n",
      "book_id -  9  -  0\n",
      "ratings_count -  9  -  0\n",
      "title -  1  -  0\n"
     ]
    }
   ],
   "source": [
    "# checking for number of unique values in different column\n",
    "\n",
    "# values are python list in these columns so it cannot be analyzed directly\n",
    "cols_to_skip = [\"similar_books\",\"authors\"]\n",
    "\n",
    "print('Format: [Column Name - Unique Count - Missing Count]\\n')\n",
    "\n",
    "for col in items.columns:\n",
    "    if col not in cols_to_skip:\n",
    "        print(f\"{col} - \",len(second_glance[col].unique()), \" - \" , second_glance[col].loc[second_glance[col].astype(str).str.len() < 1].count())"
   ]
  },
  {
   "cell_type": "code",
   "execution_count": 45,
   "metadata": {},
   "outputs": [
    {
     "name": "stdout",
     "output_type": "stream",
     "text": [
      "[\"From the moment Ross's fiancee Aimee was killed in a car accident, he's been trying to die too. But life won't let him go. His only hope now is that Aimee will come to him.\\nSo when he hears of strange happenings at an ancient Indian burial ground near his sister's home, he heads to Comtossok- desperate for the rumours of a haunting to be true.\\nWhat he finds there is not Aimee's ghost, but Lia, a very real woman whose life is filled with as many troubled secrets as his own..\"\n",
      " 'When odd, supernatural events plague the town of Comtosook, a ghost hunter is hired by the developer to help convince the residents that there\\'s nothing spiritual about the property. An intricate tale of love, haunting memories, and renewal. (An interview about the book is included below the reading guide).\\n\"Sometimes I wonder....Can a ghost find you, if she wants to?\"\\nAn intricate tale of love, haunting memories, and renewal, Second Glance begins in current-day Vermont, where an old man puts a piece of land up for sale and unintentionally raises protest from the local Abenaki Indian tribe, who insist it\\'s a burial ground. When odd, supernatural events plague the town of Comtosook, a ghost hunter is hired by the developer to help convince the residents that there\\'s nothing spiritual about the property.\\nEnter Ross Wakeman, a suicidal drifter who has put himself in mortal danger time and again. He\\'s driven his car off a bridge into a lake. He\\'s been mugged in New York City and struck by lightning in a calm country field. Yet despite his best efforts, life clings to him and pulls him ever deeper into the empty existence he cannot bear since his fiancee\\'s death in a car crash eight years ago. Ross now lives only for the moment he might once again encounter the woman he loves. But in Comtosook, the only discovery Ross can lay claim to is that of Lia Beaumont, a skittish, mysterious woman who, like Ross, is on a search for something beyond the boundary separating life and death. Thus begins Jodi Picoult\\'s enthralling and ultimately astonishing story of love, fate, and a crime of passion.\\nHailed by critics as a \"master\" storyteller (Washington Post), Picoult once again \"pushes herself, and consequently the reader, to think about the unthinkable\" (Denver Post). Second Glance, her eeriest and most engrossing work yet, delves into a virtually unknown chapter of American history -- Vermont\\'s eugenics project of the 1920s and 30s -- to provide a compelling study of the things that come back to haunt us -- literally and figuratively. Do we love across time, or in spite of it?'\n",
      " '- From the New York Times best-selling author of Perfect Match, Salem Falls, Plain Truth, and Songs of the Humpback Whale\\n-Print run of 100,000\\n-National advertising in The New York Times Book Review, USA Today, and People\\n-14 city author tour'\n",
      " '\"Sometimes I wonder....Can a ghost find you, if she wants to?\"\\nAn intricate tale of love, haunting memories, and renewal, Second Glance begins in current-day Vermont, where an old man puts a piece of land up for sale and unintentionally raises protest from the local Abenaki Indian tribe, who insist it\\'s a burial ground. When odd, supernatural events plague the town of Comtosook, a ghost hunter is hired by the developer to help convince the residents that there\\'s nothing spiritual about the property.\\nEnter Ross Wakeman, a suicidal drifter who has put himself in mortal danger time and again. He\\'s driven his car off a bridge into a lake. He\\'s been mugged in New York City and struck by lightning in a calm country field. Yet despite his best efforts, life clings to him and pulls him ever deeper into the empty existence he cannot bear since his fiancee\\'s death in a car crash eight years ago. Ross now lives only for the moment he might once again encounter the woman he loves. But in Comtosook, the only discovery Ross can lay claim to is that of Lia Beaumont, a skittish, mysterious woman who, like Ross, is on a search for something beyond the boundary separating life and death. Thus begins Jodi Picoult\\'s enthralling and ultimately astonishing story of love, fate, and a crime of passion.\\nHailed by critics as a \"master\" storyteller (Washington Post), Picoult once again \"pushes herself, and consequently the reader, to think about the unthinkable\" (Denver Post). Second Glance,her eeriest and most engrossing work yet, delves into a virtually unknown chapter of American history -- Vermont\\'s eugenics project of the 1920s and 30s -- to provide a compelling study of the things that come back to haunt us -- literally and figuratively. Do we love across time, or in spite of it?']\n"
     ]
    }
   ],
   "source": [
    "# looking at unique descriptions\n",
    "\n",
    "print(second_glance[\"description\"].unique())"
   ]
  },
  {
   "cell_type": "markdown",
   "metadata": {},
   "source": [
    "- Among all the 4 unique description, the following 3 are related and refer the same book\n",
    "  - From the moment Ross's fiancee...\n",
    "  - When odd, supernatural events plague...\n",
    "  - \"Sometimes I wonder..."
   ]
  },
  {
   "cell_type": "code",
   "execution_count": 56,
   "metadata": {},
   "outputs": [
    {
     "name": "stdout",
     "output_type": "stream",
     "text": [
      "['' 'Hodder' 'Atria Books' 'Recorded Books' 'Washington Square Press']\n"
     ]
    }
   ],
   "source": [
    "# looking at unique publishers\n",
    "\n",
    "print(second_glance[\"publisher\"].unique())"
   ]
  },
  {
   "cell_type": "code",
   "execution_count": 67,
   "metadata": {},
   "outputs": [
    {
     "name": "stdout",
     "output_type": "stream",
     "text": [
      "Format: [[\"publisher\",\"num_pages\",\"publication_day\",\"publication_month\",\"publication_year\"]]\n",
      "\n",
      "From the moment -> \n",
      " [['' '' '' '' '']\n",
      " ['Hodder' '483' '' '' '2008']\n",
      " ['Hodder' '420' '' '' '2007']\n",
      " ['Atria Books' '494' '8' '4' '2003']\n",
      " ['' '' '' '' '']]\n",
      "==================================================\n",
      "When odd, supernatural -> \n",
      " [['' '' '' '' '']]\n",
      "==================================================\n",
      "\"Sometimes I wonder -> \n",
      " [['Atria Books' '432' '8' '4' '2003']\n",
      " ['Washington Square Press' '420' '5' '8' '2008']]\n",
      "==================================================\n"
     ]
    }
   ],
   "source": [
    "# looking at which description came from which publisher\n",
    "\n",
    "description_initial_words = [\"From the moment\",\"When odd, supernatural\",'\"Sometimes I wonder']\n",
    "print('Format: [[\"publisher\",\"num_pages\",\"publication_day\",\"publication_month\",\"publication_year\"]]\\n')\n",
    "\n",
    "for i in description_initial_words:\n",
    "    print(f\"{i} -> \\n\",second_glance.loc[second_glance[\"description\"].str.startswith(i)][[\"publisher\",\"num_pages\",\"publication_day\",\"publication_month\",\"publication_year\"]].values, )\n",
    "    print(\"=\"*50)"
   ]
  },
  {
   "cell_type": "markdown",
   "metadata": {},
   "source": [
    "### Create Modified Title to Minimize Search Space"
   ]
  },
  {
   "cell_type": "code",
   "execution_count": 113,
   "metadata": {},
   "outputs": [],
   "source": [
    "# Removing and replacing unnecessary characters\n",
    "\n",
    "items[\"mod_title\"] = items[\"title\"].str.replace(\"[^a-zA-Z0-9 ]\", \"\", regex=True)"
   ]
  },
  {
   "cell_type": "code",
   "execution_count": 114,
   "metadata": {},
   "outputs": [],
   "source": [
    "# we will normaze the titles or make them lower case\n",
    "\n",
    "items[\"mod_title\"] = items[\"mod_title\"].str.lower()"
   ]
  },
  {
   "cell_type": "code",
   "execution_count": 115,
   "metadata": {},
   "outputs": [],
   "source": [
    "# we will replace any extra spaces with a single space\n",
    "\n",
    "items[\"mod_title\"] = items[\"mod_title\"].str.replace(\"\\s+\", \" \", regex=True)"
   ]
  },
  {
   "cell_type": "code",
   "execution_count": 116,
   "metadata": {},
   "outputs": [],
   "source": [
    "# we will keep only those records where the mod_title is not empty or has a length > 0\n",
    "\n",
    "items = items[items[\"mod_title\"].str.len() > 0]"
   ]
  },
  {
   "cell_type": "code",
   "execution_count": 118,
   "metadata": {},
   "outputs": [
    {
     "data": {
      "text/plain": [
       "1302659"
      ]
     },
     "execution_count": 118,
     "metadata": {},
     "output_type": "execute_result"
    }
   ],
   "source": [
    "# final length of the data\n",
    "\n",
    "len(items) # we can observe a sligt reduction in count which is expected"
   ]
  },
  {
   "cell_type": "code",
   "execution_count": null,
   "metadata": {},
   "outputs": [],
   "source": [
    "# we will export the modified data as json\n",
    "\n",
    "items.to_json(\"../Processed/itemDetails_RatingCount_gt15.json\")"
   ]
  }
 ],
 "metadata": {
  "kernelspec": {
   "display_name": "Python 3",
   "language": "python",
   "name": "python3"
  },
  "language_info": {
   "codemirror_mode": {
    "name": "ipython",
    "version": 3
   },
   "file_extension": ".py",
   "mimetype": "text/x-python",
   "name": "python",
   "nbconvert_exporter": "python",
   "pygments_lexer": "ipython3",
   "version": "3.10.11"
  }
 },
 "nbformat": 4,
 "nbformat_minor": 2
}
