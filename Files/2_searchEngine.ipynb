{
 "cells": [
  {
   "cell_type": "markdown",
   "metadata": {},
   "source": [
    "## Search Engine Development"
   ]
  },
  {
   "cell_type": "markdown",
   "metadata": {},
   "source": [
    "### Importing Modules"
   ]
  },
  {
   "cell_type": "code",
   "execution_count": 52,
   "metadata": {},
   "outputs": [],
   "source": [
    "import pandas as pd\n",
    "import numpy as np\n",
    "import re\n",
    "from sklearn.feature_extraction.text import TfidfVectorizer\n",
    "from sklearn.metrics.pairwise import cosine_similarity"
   ]
  },
  {
   "cell_type": "code",
   "execution_count": 53,
   "metadata": {},
   "outputs": [],
   "source": [
    "# reading the json data into a dataframe\n",
    "\n",
    "items = pd.read_json(\"./Datasets/Processed/itemDetails_RatingCount_gt15.json\")"
   ]
  },
  {
   "cell_type": "code",
   "execution_count": 77,
   "metadata": {},
   "outputs": [
    {
     "data": {
      "text/plain": [
       "(1302659, 18)"
      ]
     },
     "execution_count": 77,
     "metadata": {},
     "output_type": "execute_result"
    }
   ],
   "source": [
    "items.shape"
   ]
  },
  {
   "cell_type": "code",
   "execution_count": 54,
   "metadata": {},
   "outputs": [
    {
     "data": {
      "text/html": [
       "<div>\n",
       "<style scoped>\n",
       "    .dataframe tbody tr th:only-of-type {\n",
       "        vertical-align: middle;\n",
       "    }\n",
       "\n",
       "    .dataframe tbody tr th {\n",
       "        vertical-align: top;\n",
       "    }\n",
       "\n",
       "    .dataframe thead th {\n",
       "        text-align: right;\n",
       "    }\n",
       "</style>\n",
       "<table border=\"1\" class=\"dataframe\">\n",
       "  <thead>\n",
       "    <tr style=\"text-align: right;\">\n",
       "      <th></th>\n",
       "      <th>isbn</th>\n",
       "      <th>average_rating</th>\n",
       "      <th>similar_books</th>\n",
       "      <th>description</th>\n",
       "      <th>link</th>\n",
       "      <th>authors</th>\n",
       "      <th>publisher</th>\n",
       "      <th>num_pages</th>\n",
       "      <th>publication_day</th>\n",
       "      <th>publication_month</th>\n",
       "      <th>publication_year</th>\n",
       "      <th>isbn13</th>\n",
       "      <th>url</th>\n",
       "      <th>image_url</th>\n",
       "      <th>book_id</th>\n",
       "      <th>ratings_count</th>\n",
       "      <th>title</th>\n",
       "      <th>mod_title</th>\n",
       "    </tr>\n",
       "  </thead>\n",
       "  <tbody>\n",
       "    <tr>\n",
       "      <th>0</th>\n",
       "      <td></td>\n",
       "      <td>4.03</td>\n",
       "      <td>[19997, 828466, 1569323, 425389, 1176674, 2627...</td>\n",
       "      <td>Omnibus book club edition containing the Ladie...</td>\n",
       "      <td>https://www.goodreads.com/book/show/7327624-th...</td>\n",
       "      <td>[{'author_id': '10333', 'role': ''}]</td>\n",
       "      <td>Nelson Doubleday, Inc.</td>\n",
       "      <td>600</td>\n",
       "      <td></td>\n",
       "      <td></td>\n",
       "      <td>1987</td>\n",
       "      <td></td>\n",
       "      <td>https://www.goodreads.com/book/show/7327624-th...</td>\n",
       "      <td>https://images.gr-assets.com/books/1304100136m...</td>\n",
       "      <td>7327624</td>\n",
       "      <td>140</td>\n",
       "      <td>The Unschooled Wizard (Sun Wolf and Starhawk, ...</td>\n",
       "      <td>the unschooled wizard sun wolf and starhawk 12</td>\n",
       "    </tr>\n",
       "    <tr>\n",
       "      <th>1</th>\n",
       "      <td>0743294297</td>\n",
       "      <td>3.49</td>\n",
       "      <td>[6604176, 6054190, 2285777, 82641, 7569453, 70...</td>\n",
       "      <td>Addie Downs and Valerie Adler were eight when ...</td>\n",
       "      <td>https://www.goodreads.com/book/show/6066819-be...</td>\n",
       "      <td>[{'author_id': '9212', 'role': ''}]</td>\n",
       "      <td>Atria Books</td>\n",
       "      <td>368</td>\n",
       "      <td>14</td>\n",
       "      <td>7</td>\n",
       "      <td>2009</td>\n",
       "      <td>9780743294294</td>\n",
       "      <td>https://www.goodreads.com/book/show/6066819-be...</td>\n",
       "      <td>https://s.gr-assets.com/assets/nophoto/book/11...</td>\n",
       "      <td>6066819</td>\n",
       "      <td>51184</td>\n",
       "      <td>Best Friends Forever</td>\n",
       "      <td>best friends forever</td>\n",
       "    </tr>\n",
       "    <tr>\n",
       "      <th>2</th>\n",
       "      <td>1599150603</td>\n",
       "      <td>4.13</td>\n",
       "      <td>[]</td>\n",
       "      <td>Relates in vigorous prose the tale of Aeneas, ...</td>\n",
       "      <td>https://www.goodreads.com/book/show/287141.The...</td>\n",
       "      <td>[{'author_id': '3041852', 'role': ''}]</td>\n",
       "      <td>Yesterday's Classics</td>\n",
       "      <td>162</td>\n",
       "      <td>13</td>\n",
       "      <td>9</td>\n",
       "      <td>2006</td>\n",
       "      <td>9781599150604</td>\n",
       "      <td>https://www.goodreads.com/book/show/287141.The...</td>\n",
       "      <td>https://s.gr-assets.com/assets/nophoto/book/11...</td>\n",
       "      <td>287141</td>\n",
       "      <td>46</td>\n",
       "      <td>The Aeneid for Boys and Girls</td>\n",
       "      <td>the aeneid for boys and girls</td>\n",
       "    </tr>\n",
       "    <tr>\n",
       "      <th>3</th>\n",
       "      <td>1934876569</td>\n",
       "      <td>4.22</td>\n",
       "      <td>[948696, 439885, 274955, 12978730, 372986, 216...</td>\n",
       "      <td>To Kara's astonishment, she discovers that a p...</td>\n",
       "      <td>https://www.goodreads.com/book/show/6066812-al...</td>\n",
       "      <td>[{'author_id': '19158', 'role': ''}]</td>\n",
       "      <td>Seven Seas</td>\n",
       "      <td>216</td>\n",
       "      <td>3</td>\n",
       "      <td>3</td>\n",
       "      <td>2009</td>\n",
       "      <td>9781934876565</td>\n",
       "      <td>https://www.goodreads.com/book/show/6066812-al...</td>\n",
       "      <td>https://images.gr-assets.com/books/1316637798m...</td>\n",
       "      <td>6066812</td>\n",
       "      <td>98</td>\n",
       "      <td>All's Fairy in Love and War (Avalon: Web of Ma...</td>\n",
       "      <td>alls fairy in love and war avalon web of magic 8</td>\n",
       "    </tr>\n",
       "    <tr>\n",
       "      <th>4</th>\n",
       "      <td>0922915113</td>\n",
       "      <td>3.81</td>\n",
       "      <td>[287151, 1104760, 1172822, 440292, 287082, 630...</td>\n",
       "      <td>Wisdom, humor, and dark observations by the fo...</td>\n",
       "      <td>https://www.goodreads.com/book/show/287149.The...</td>\n",
       "      <td>[{'author_id': '2983296', 'role': ''}, {'autho...</td>\n",
       "      <td>Feral House</td>\n",
       "      <td>147</td>\n",
       "      <td>1</td>\n",
       "      <td>4</td>\n",
       "      <td>2000</td>\n",
       "      <td>9780922915118</td>\n",
       "      <td>https://www.goodreads.com/book/show/287149.The...</td>\n",
       "      <td>https://images.gr-assets.com/books/1328768789m...</td>\n",
       "      <td>287149</td>\n",
       "      <td>986</td>\n",
       "      <td>The Devil's Notebook</td>\n",
       "      <td>the devils notebook</td>\n",
       "    </tr>\n",
       "  </tbody>\n",
       "</table>\n",
       "</div>"
      ],
      "text/plain": [
       "         isbn  average_rating  \\\n",
       "0                        4.03   \n",
       "1  0743294297            3.49   \n",
       "2  1599150603            4.13   \n",
       "3  1934876569            4.22   \n",
       "4  0922915113            3.81   \n",
       "\n",
       "                                       similar_books  \\\n",
       "0  [19997, 828466, 1569323, 425389, 1176674, 2627...   \n",
       "1  [6604176, 6054190, 2285777, 82641, 7569453, 70...   \n",
       "2                                                 []   \n",
       "3  [948696, 439885, 274955, 12978730, 372986, 216...   \n",
       "4  [287151, 1104760, 1172822, 440292, 287082, 630...   \n",
       "\n",
       "                                         description  \\\n",
       "0  Omnibus book club edition containing the Ladie...   \n",
       "1  Addie Downs and Valerie Adler were eight when ...   \n",
       "2  Relates in vigorous prose the tale of Aeneas, ...   \n",
       "3  To Kara's astonishment, she discovers that a p...   \n",
       "4  Wisdom, humor, and dark observations by the fo...   \n",
       "\n",
       "                                                link  \\\n",
       "0  https://www.goodreads.com/book/show/7327624-th...   \n",
       "1  https://www.goodreads.com/book/show/6066819-be...   \n",
       "2  https://www.goodreads.com/book/show/287141.The...   \n",
       "3  https://www.goodreads.com/book/show/6066812-al...   \n",
       "4  https://www.goodreads.com/book/show/287149.The...   \n",
       "\n",
       "                                             authors               publisher  \\\n",
       "0               [{'author_id': '10333', 'role': ''}]  Nelson Doubleday, Inc.   \n",
       "1                [{'author_id': '9212', 'role': ''}]             Atria Books   \n",
       "2             [{'author_id': '3041852', 'role': ''}]    Yesterday's Classics   \n",
       "3               [{'author_id': '19158', 'role': ''}]              Seven Seas   \n",
       "4  [{'author_id': '2983296', 'role': ''}, {'autho...             Feral House   \n",
       "\n",
       "  num_pages publication_day publication_month publication_year         isbn13  \\\n",
       "0       600                                               1987                  \n",
       "1       368              14                 7             2009  9780743294294   \n",
       "2       162              13                 9             2006  9781599150604   \n",
       "3       216               3                 3             2009  9781934876565   \n",
       "4       147               1                 4             2000  9780922915118   \n",
       "\n",
       "                                                 url  \\\n",
       "0  https://www.goodreads.com/book/show/7327624-th...   \n",
       "1  https://www.goodreads.com/book/show/6066819-be...   \n",
       "2  https://www.goodreads.com/book/show/287141.The...   \n",
       "3  https://www.goodreads.com/book/show/6066812-al...   \n",
       "4  https://www.goodreads.com/book/show/287149.The...   \n",
       "\n",
       "                                           image_url  book_id  ratings_count  \\\n",
       "0  https://images.gr-assets.com/books/1304100136m...  7327624            140   \n",
       "1  https://s.gr-assets.com/assets/nophoto/book/11...  6066819          51184   \n",
       "2  https://s.gr-assets.com/assets/nophoto/book/11...   287141             46   \n",
       "3  https://images.gr-assets.com/books/1316637798m...  6066812             98   \n",
       "4  https://images.gr-assets.com/books/1328768789m...   287149            986   \n",
       "\n",
       "                                               title  \\\n",
       "0  The Unschooled Wizard (Sun Wolf and Starhawk, ...   \n",
       "1                               Best Friends Forever   \n",
       "2                      The Aeneid for Boys and Girls   \n",
       "3  All's Fairy in Love and War (Avalon: Web of Ma...   \n",
       "4                               The Devil's Notebook   \n",
       "\n",
       "                                          mod_title  \n",
       "0    the unschooled wizard sun wolf and starhawk 12  \n",
       "1                              best friends forever  \n",
       "2                     the aeneid for boys and girls  \n",
       "3  alls fairy in love and war avalon web of magic 8  \n",
       "4                               the devils notebook  "
      ]
     },
     "execution_count": 54,
     "metadata": {},
     "output_type": "execute_result"
    }
   ],
   "source": [
    "items.head()"
   ]
  },
  {
   "cell_type": "markdown",
   "metadata": {},
   "source": [
    "### TF X IDF Calculation - mod_title Column"
   ]
  },
  {
   "cell_type": "code",
   "execution_count": 55,
   "metadata": {},
   "outputs": [],
   "source": [
    "# initializing the object\n",
    "vectorizer = TfidfVectorizer()\n",
    "\n",
    "# generating the terms and calculating the tf*idf score\n",
    "tfidf = vectorizer.fit_transform(items[\"mod_title\"])"
   ]
  },
  {
   "cell_type": "code",
   "execution_count": 76,
   "metadata": {},
   "outputs": [
    {
     "data": {
      "text/plain": [
       "(1302659, 233827)"
      ]
     },
     "execution_count": 76,
     "metadata": {},
     "output_type": "execute_result"
    }
   ],
   "source": [
    "# shape of the total tfidf matrix\n",
    "# row, columns = movies, terms\n",
    "\n",
    "tfidf.shape"
   ]
  },
  {
   "cell_type": "markdown",
   "metadata": {},
   "source": [
    "### Calculating Similarity and Preparing the Matrix - Cosine Similarity"
   ]
  },
  {
   "cell_type": "code",
   "execution_count": 56,
   "metadata": {},
   "outputs": [],
   "source": [
    "# in pandas we can use style to display things using html\n",
    "# making the title clickable by attaching a link \n",
    "def make_clickable(val):\n",
    "    return '<a target=\"_blank\" href=\"{}\">Goodreads</a>'.format(val)\n",
    "\n",
    "# showing the image by attaching a link\n",
    "def show_image(val):\n",
    "    return '<a href=\"{}\"><img src=\"{}\" width=50></img></a>'.format(val, val)"
   ]
  },
  {
   "cell_type": "code",
   "execution_count": 86,
   "metadata": {},
   "outputs": [],
   "source": [
    "# creating the search function\n",
    "# search function will take => user query and the vectorizer as input\n",
    " \n",
    "def search(query,vectorizer=vectorizer):\n",
    "    # normalizing the query string => removing unnecessary characters and making lower case\n",
    "    processed = re.sub(\"\\s+\", \" \", re.sub(\"[^a-zA-Z0-9 ]\", \"\", query.lower()))\n",
    "\n",
    "    # converting query string into vector using the vectorizer\n",
    "    query_vec = vectorizer.transform([processed])\n",
    "    # one row and 233827 columns => (number of columns = number of terms)\n",
    "    print(query_vec.shape)\n",
    "    \n",
    "    # checking the similarity between query vector and each vector present in tfidf matrix\n",
    "    # (1302659, 233827) , (1, 233827)\n",
    "    similarity = cosine_similarity(query_vec, tfidf)\n",
    "    # we will get similarity value between query string vector and each of the tfidf matrix vectors\n",
    "    # So, in total we will get 1302659 similarity values as (1, 1302659) vector\n",
    "    print(similarity.shape)\n",
    "    # We can then flatten it to 1D\n",
    "    similarity = similarity.flatten()\n",
    "    print(similarity.shape)\n",
    "\n",
    "    # we are getting 10 largest similarities\n",
    "    # Actually, we are getting their index using argpartition\n",
    "    indices = np.argpartition(similarity, -10)[-10:]\n",
    "\n",
    "    # we can use the indices to get the corresponding item/book details\n",
    "    # So, we will have the item/book records corresponding to selected indices   \n",
    "    results = items.iloc[indices]\n",
    "\n",
    "    # we will sort the books based on highest ratings_count\n",
    "    results = results.sort_values(\"ratings_count\", ascending=False)\n",
    "    \n",
    "    # returning the top results with specified style\n",
    "    # Note: we are using only some columns for demonstration\n",
    "    columns = [\"book_id\", \"title\", \"ratings_count\", \"url\", \"image_url\", \"mod_title\"]\n",
    "    return results[columns].head().style.format({'url': make_clickable, 'image_url': show_image}) "
   ]
  },
  {
   "cell_type": "markdown",
   "metadata": {},
   "source": [
    "### Test the Search Engine"
   ]
  },
  {
   "cell_type": "code",
   "execution_count": 87,
   "metadata": {},
   "outputs": [
    {
     "name": "stdout",
     "output_type": "stream",
     "text": [
      "(1, 233827)\n",
      "(1, 1302659)\n",
      "(1302659,)\n"
     ]
    },
    {
     "data": {
      "text/html": [
       "<style type=\"text/css\">\n",
       "</style>\n",
       "<table id=\"T_88d6c\">\n",
       "  <thead>\n",
       "    <tr>\n",
       "      <th class=\"blank level0\" >&nbsp;</th>\n",
       "      <th id=\"T_88d6c_level0_col0\" class=\"col_heading level0 col0\" >book_id</th>\n",
       "      <th id=\"T_88d6c_level0_col1\" class=\"col_heading level0 col1\" >title</th>\n",
       "      <th id=\"T_88d6c_level0_col2\" class=\"col_heading level0 col2\" >ratings_count</th>\n",
       "      <th id=\"T_88d6c_level0_col3\" class=\"col_heading level0 col3\" >url</th>\n",
       "      <th id=\"T_88d6c_level0_col4\" class=\"col_heading level0 col4\" >image_url</th>\n",
       "      <th id=\"T_88d6c_level0_col5\" class=\"col_heading level0 col5\" >mod_title</th>\n",
       "    </tr>\n",
       "  </thead>\n",
       "  <tbody>\n",
       "    <tr>\n",
       "      <th id=\"T_88d6c_level0_row0\" class=\"row_heading level0 row0\" >591662</th>\n",
       "      <td id=\"T_88d6c_row0_col0\" class=\"data row0 col0\" >49116</td>\n",
       "      <td id=\"T_88d6c_row0_col1\" class=\"data row0 col1\" >Harry Potter and the Prisoner of Azkaban (Harry Potter, #3)</td>\n",
       "      <td id=\"T_88d6c_row0_col2\" class=\"data row0 col2\" >25324</td>\n",
       "      <td id=\"T_88d6c_row0_col3\" class=\"data row0 col3\" ><a target=\"_blank\" href=\"https://www.goodreads.com/book/show/49116.Harry_Potter_and_the_Prisoner_of_Azkaban\">Goodreads</a></td>\n",
       "      <td id=\"T_88d6c_row0_col4\" class=\"data row0 col4\" ><a href=\"https://images.gr-assets.com/books/1474170009m/49116.jpg\"><img src=\"https://images.gr-assets.com/books/1474170009m/49116.jpg\" width=50></img></a></td>\n",
       "      <td id=\"T_88d6c_row0_col5\" class=\"data row0 col5\" >harry potter and the prisoner of azkaban harry potter 3</td>\n",
       "    </tr>\n",
       "    <tr>\n",
       "      <th id=\"T_88d6c_level0_row1\" class=\"row_heading level0 row1\" >553941</th>\n",
       "      <td id=\"T_88d6c_row1_col0\" class=\"data row1 col0\" >464164</td>\n",
       "      <td id=\"T_88d6c_row1_col1\" class=\"data row1 col1\" >Harry Potter and the Prisoner of Azkaban (Harry Potter, #3)</td>\n",
       "      <td id=\"T_88d6c_row1_col2\" class=\"data row1 col2\" >22794</td>\n",
       "      <td id=\"T_88d6c_row1_col3\" class=\"data row1 col3\" ><a target=\"_blank\" href=\"https://www.goodreads.com/book/show/464164.Harry_Potter_and_the_Prisoner_of_Azkaban\">Goodreads</a></td>\n",
       "      <td id=\"T_88d6c_row1_col4\" class=\"data row1 col4\" ><a href=\"https://images.gr-assets.com/books/1310384602m/464164.jpg\"><img src=\"https://images.gr-assets.com/books/1310384602m/464164.jpg\" width=50></img></a></td>\n",
       "      <td id=\"T_88d6c_row1_col5\" class=\"data row1 col5\" >harry potter and the prisoner of azkaban harry potter 3</td>\n",
       "    </tr>\n",
       "    <tr>\n",
       "      <th id=\"T_88d6c_level0_row2\" class=\"row_heading level0 row2\" >907930</th>\n",
       "      <td id=\"T_88d6c_row2_col0\" class=\"data row2 col0\" >28765183</td>\n",
       "      <td id=\"T_88d6c_row2_col1\" class=\"data row2 col1\" >Harry Potter and the Prisoner of Azkaban</td>\n",
       "      <td id=\"T_88d6c_row2_col2\" class=\"data row2 col2\" >3066</td>\n",
       "      <td id=\"T_88d6c_row2_col3\" class=\"data row2 col3\" ><a target=\"_blank\" href=\"https://www.goodreads.com/book/show/28765183-harry-potter-and-the-prisoner-of-azkaban\">Goodreads</a></td>\n",
       "      <td id=\"T_88d6c_row2_col4\" class=\"data row2 col4\" ><a href=\"https://s.gr-assets.com/assets/nophoto/book/111x148-bcc042a9c91a29c1d680899eff700a03.png\"><img src=\"https://s.gr-assets.com/assets/nophoto/book/111x148-bcc042a9c91a29c1d680899eff700a03.png\" width=50></img></a></td>\n",
       "      <td id=\"T_88d6c_row2_col5\" class=\"data row2 col5\" >harry potter and the prisoner of azkaban</td>\n",
       "    </tr>\n",
       "    <tr>\n",
       "      <th id=\"T_88d6c_level0_row3\" class=\"row_heading level0 row3\" >593042</th>\n",
       "      <td id=\"T_88d6c_row3_col0\" class=\"data row3 col0\" >620121</td>\n",
       "      <td id=\"T_88d6c_row3_col1\" class=\"data row3 col1\" >Harry Potter and the Prisoner of Azkaban (Harry Potter, #3)</td>\n",
       "      <td id=\"T_88d6c_row3_col2\" class=\"data row3 col2\" >1553</td>\n",
       "      <td id=\"T_88d6c_row3_col3\" class=\"data row3 col3\" ><a target=\"_blank\" href=\"https://www.goodreads.com/book/show/620121.Harry_Potter_and_the_Prisoner_of_Azkaban\">Goodreads</a></td>\n",
       "      <td id=\"T_88d6c_row3_col4\" class=\"data row3 col4\" ><a href=\"https://images.gr-assets.com/books/1366418898m/620121.jpg\"><img src=\"https://images.gr-assets.com/books/1366418898m/620121.jpg\" width=50></img></a></td>\n",
       "      <td id=\"T_88d6c_row3_col5\" class=\"data row3 col5\" >harry potter and the prisoner of azkaban harry potter 3</td>\n",
       "    </tr>\n",
       "    <tr>\n",
       "      <th id=\"T_88d6c_level0_row4\" class=\"row_heading level0 row4\" >323574</th>\n",
       "      <td id=\"T_88d6c_row4_col0\" class=\"data row4 col0\" >13564690</td>\n",
       "      <td id=\"T_88d6c_row4_col1\" class=\"data row4 col1\" >Harry Potter and the Prisoner of Azkaban</td>\n",
       "      <td id=\"T_88d6c_row4_col2\" class=\"data row4 col2\" >216</td>\n",
       "      <td id=\"T_88d6c_row4_col3\" class=\"data row4 col3\" ><a target=\"_blank\" href=\"https://www.goodreads.com/book/show/13564690-harry-potter-and-the-prisoner-of-azkaban\">Goodreads</a></td>\n",
       "      <td id=\"T_88d6c_row4_col4\" class=\"data row4 col4\" ><a href=\"https://images.gr-assets.com/books/1332983314m/13564690.jpg\"><img src=\"https://images.gr-assets.com/books/1332983314m/13564690.jpg\" width=50></img></a></td>\n",
       "      <td id=\"T_88d6c_row4_col5\" class=\"data row4 col5\" >harry potter and the prisoner of azkaban</td>\n",
       "    </tr>\n",
       "  </tbody>\n",
       "</table>\n"
      ],
      "text/plain": [
       "<pandas.io.formats.style.Styler at 0x26456392c50>"
      ]
     },
     "execution_count": 87,
     "metadata": {},
     "output_type": "execute_result"
    }
   ],
   "source": [
    "search(\"harry potter and the prisoner of azkaban\")"
   ]
  },
  {
   "cell_type": "code",
   "execution_count": 94,
   "metadata": {},
   "outputs": [
    {
     "data": {
      "text/plain": [
       "array([ 4,  1,  8,  4,  6,  6,  4,  8, 10,  8,  6, 10, 22, 22, 22, 35, 10,\n",
       "       35, 35, 91, 91, 74, 51, 51, 74, 74, 91, 51])"
      ]
     },
     "execution_count": 94,
     "metadata": {},
     "output_type": "execute_result"
    }
   ],
   "source": [
    "np.partition([1,22,35,4,51,6,74,8,91,10,22,35,4,51,6,74,8,91,10,22,35,4,51,6,74,8,91,10],-10)"
   ]
  }
 ],
 "metadata": {
  "kernelspec": {
   "display_name": "Python 3",
   "language": "python",
   "name": "python3"
  },
  "language_info": {
   "codemirror_mode": {
    "name": "ipython",
    "version": 3
   },
   "file_extension": ".py",
   "mimetype": "text/x-python",
   "name": "python",
   "nbconvert_exporter": "python",
   "pygments_lexer": "ipython3",
   "version": "3.10.11"
  }
 },
 "nbformat": 4,
 "nbformat_minor": 2
}
