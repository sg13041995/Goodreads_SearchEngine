{
 "cells": [
  {
   "cell_type": "code",
   "execution_count": 1,
   "metadata": {},
   "outputs": [],
   "source": [
    "# module imports\n",
    "\n",
    "from configparser import ConfigParser\n",
    "from mysql.connector import MySQLConnection,Error\n",
    "\n",
    "import gzip\n",
    "import json"
   ]
  },
  {
   "cell_type": "code",
   "execution_count": 2,
   "metadata": {},
   "outputs": [
    {
     "name": "stdout",
     "output_type": "stream",
     "text": [
      "{'host': '127.0.0.1', 'port': '99966', 'database': 'goodreads', 'user': 'root', 'password': 'Milla123!'}\n"
     ]
    }
   ],
   "source": [
    "# reading database credentials from config.ini file\n",
    "\n",
    "def read(filename='config.ini',section='mysql'):\n",
    "    parser=ConfigParser()\n",
    "    parser.read(filename)\n",
    "    \n",
    "    db={}\n",
    "    \n",
    "    if parser.has_section(section):\n",
    "        items=parser.items(section)\n",
    "        for item in items:\n",
    "            db[item[0]]=item[1]\n",
    "    else:\n",
    "        raise Exception(f'{section} not found in file {filename}')\n",
    "    return db \n",
    "\n",
    "\n",
    "print(read(filename=\"config.ini\",section=\"mysql\"))"
   ]
  },
  {
   "cell_type": "code",
   "execution_count": 3,
   "metadata": {},
   "outputs": [
    {
     "name": "stdout",
     "output_type": "stream",
     "text": [
      "Connecting to MySQL database...\n",
      "Connection established\n"
     ]
    }
   ],
   "source": [
    "# connecting with MySQL/MariaDB database server and getting the connection and cursor object\n",
    "\n",
    "def connect(creds):\n",
    "    con=None\n",
    "    try:\n",
    "        print('Connecting to MySQL database...')\n",
    "        con=MySQLConnection(**creds)\n",
    "        \n",
    "        \n",
    "        if con.is_connected():\n",
    "            print('Connection established')\n",
    "            cus = con.cursor(buffered=True)\n",
    "        else:\n",
    "            print('Connection failed')\n",
    "            \n",
    "    except Error as e:\n",
    "        print(e)\n",
    "    finally:\n",
    "        return con,cus\n",
    "    \n",
    "cn,cs=connect(creds=read(filename=\"config.ini\",section=\"mysql\"))"
   ]
  },
  {
   "cell_type": "code",
   "execution_count": 4,
   "metadata": {},
   "outputs": [],
   "source": [
    "# json parser function into python dictionary\n",
    "\n",
    "def parse_fields(line):\n",
    "    data = json.loads(line)\n",
    "    return {\n",
    "        'isbn': data['isbn'],\n",
    "        'average_rating': data['average_rating'],\n",
    "        'description': data['description'],\n",
    "        'link': data['link'],\n",
    "        'publisher': data['publisher'],\n",
    "        'num_pages': data['num_pages'],\n",
    "        'publication_day': data['publication_day'],\n",
    "        'publication_month': data['publication_month'],\n",
    "        'publication_year': data['publication_year'],\n",
    "        'isbn13': data['isbn13'],\n",
    "        'url': data['url'],\n",
    "        'image_url': data['image_url'],\n",
    "        'book_id': data['book_id'],\n",
    "        'ratings_count': data['ratings_count'],\n",
    "        'title': data['title'],\n",
    "        'mod_title': data['mod_title'],\n",
    "    }"
   ]
  },
  {
   "cell_type": "code",
   "execution_count": 5,
   "metadata": {},
   "outputs": [
    {
     "data": {
      "text/plain": [
       "b'{\"isbn\":\"\",\"average_rating\":4.03,\"similar_books\":[\"19997\",\"828466\",\"1569323\",\"425389\",\"1176674\",\"262740\",\"3743837\",\"880461\",\"2292726\",\"1883810\",\"1808197\",\"625150\",\"1988046\",\"390170\",\"2620131\",\"383106\",\"1597281\"],\"description\":\"Omnibus book club edition containing the Ladies of Madrigyn and the Witches of Wenshar.\",\"link\":\"https:\\\\/\\\\/www.goodreads.com\\\\/book\\\\/show\\\\/7327624-the-unschooled-wizard\",\"authors\":[{\"author_id\":\"10333\",\"role\":\"\"}],\"publisher\":\"Nelson Doubleday, Inc.\",\"num_pages\":\"600\",\"publication_day\":\"\",\"publication_month\":\"\",\"publication_year\":\"1987\",\"isbn13\":\"\",\"url\":\"https:\\\\/\\\\/www.goodreads.com\\\\/book\\\\/show\\\\/7327624-the-unschooled-wizard\",\"image_url\":\"https:\\\\/\\\\/images.gr-assets.com\\\\/books\\\\/1304100136m\\\\/7327624.jpg\",\"book_id\":\"7327624\",\"ratings_count\":140,\"title\":\"The Unschooled Wizard (Sun Wolf and Starhawk, #1-2)\",\"mod_title\":\"the unschooled wizard sun wolf and starhawk 12\"}\\r\\n'"
      ]
     },
     "execution_count": 5,
     "metadata": {},
     "output_type": "execute_result"
    }
   ],
   "source": [
    "# reading the first line/record from the compressed json file in a streaming fashion\n",
    "\n",
    "with gzip.open(\"../Datasets/Processed/itemDetails_RatingCount_gt15_p2.json.gz\") as f:\n",
    "    line = f.readline()\n",
    "\n",
    "line"
   ]
  },
  {
   "cell_type": "code",
   "execution_count": 6,
   "metadata": {},
   "outputs": [
    {
     "data": {
      "text/plain": [
       "{'isbn': '',\n",
       " 'average_rating': 4.03,\n",
       " 'description': 'Omnibus book club edition containing the Ladies of Madrigyn and the Witches of Wenshar.',\n",
       " 'link': 'https://www.goodreads.com/book/show/7327624-the-unschooled-wizard',\n",
       " 'publisher': 'Nelson Doubleday, Inc.',\n",
       " 'num_pages': '600',\n",
       " 'publication_day': '',\n",
       " 'publication_month': '',\n",
       " 'publication_year': '1987',\n",
       " 'isbn13': '',\n",
       " 'url': 'https://www.goodreads.com/book/show/7327624-the-unschooled-wizard',\n",
       " 'image_url': 'https://images.gr-assets.com/books/1304100136m/7327624.jpg',\n",
       " 'book_id': '7327624',\n",
       " 'ratings_count': 140,\n",
       " 'title': 'The Unschooled Wizard (Sun Wolf and Starhawk, #1-2)',\n",
       " 'mod_title': 'the unschooled wizard sun wolf and starhawk 12'}"
      ]
     },
     "execution_count": 6,
     "metadata": {},
     "output_type": "execute_result"
    }
   ],
   "source": [
    "# parsing json record into dictionary and storing that\n",
    "\n",
    "test_record = parse_fields(line)\n",
    "test_record"
   ]
  },
  {
   "cell_type": "code",
   "execution_count": 7,
   "metadata": {},
   "outputs": [
    {
     "name": "stdout",
     "output_type": "stream",
     "text": [
      "book_id -  <class 'str'>  -  7327624\n",
      "title -  <class 'str'>  -  The Unschooled Wizard (Sun Wolf and Starhawk, #1-2)\n",
      "mod_title -  <class 'str'>  -  the unschooled wizard sun wolf and starhawk 12\n",
      "ratings_count -  <class 'int'>  -  140\n",
      "average_rating -  <class 'float'>  -  4.03\n",
      "link -  <class 'str'>  -  https://www.goodreads.com/book/show/7327624-the-unschooled-wizard\n",
      "url -  <class 'str'>  -  https://www.goodreads.com/book/show/7327624-the-unschooled-wizard\n",
      "image_url -  <class 'str'>  -  https://images.gr-assets.com/books/1304100136m/7327624.jpg\n",
      "publication_day -  <class 'str'>  -  \n",
      "publication_month -  <class 'str'>  -  \n",
      "publication_year -  <class 'str'>  -  1987\n",
      "num_pages -  <class 'str'>  -  600\n",
      "isbn -  <class 'str'>  -  \n",
      "isbn13 -  <class 'str'>  -  \n",
      "description -  <class 'str'>  -  Omnibus book club edition containing the Ladies of Madrigyn and the Witches of Wenshar.\n",
      "publisher -  <class 'str'>  -  Nelson Doubleday, Inc.\n"
     ]
    }
   ],
   "source": [
    "# check the datatype of each field and the data as well\n",
    "\n",
    "print(\"book_id - \",type(test_record[\"book_id\"]),\" - \", test_record[\"book_id\"])\n",
    "print(\"title - \",type(test_record[\"title\"]),\" - \", test_record[\"title\"])\n",
    "print(\"mod_title - \",type(test_record[\"mod_title\"]),\" - \", test_record[\"mod_title\"])\n",
    "print(\"ratings_count - \",type(test_record[\"ratings_count\"]),\" - \", test_record[\"ratings_count\"])\n",
    "print(\"average_rating - \",type(test_record[\"average_rating\"]),\" - \", test_record[\"average_rating\"])\n",
    "print(\"link - \",type(test_record[\"link\"]),\" - \", test_record[\"link\"])\n",
    "print(\"url - \",type(test_record[\"url\"]),\" - \", test_record[\"url\"])\n",
    "print(\"image_url - \",type(test_record[\"image_url\"]),\" - \", test_record[\"image_url\"])\n",
    "print(\"publication_day - \",type(test_record[\"publication_day\"]),\" - \", test_record[\"publication_day\"])\n",
    "print(\"publication_month - \",type(test_record[\"publication_month\"]),\" - \", test_record[\"publication_month\"])\n",
    "print(\"publication_year - \",type(test_record[\"publication_year\"]),\" - \", test_record[\"publication_year\"])\n",
    "print(\"num_pages - \",type(test_record[\"num_pages\"]),\" - \", test_record[\"num_pages\"])\n",
    "print(\"isbn - \",type(test_record[\"isbn\"]),\" - \", test_record[\"isbn\"])\n",
    "print(\"isbn13 - \",type(test_record[\"isbn13\"]),\" - \", test_record[\"isbn13\"])\n",
    "print(\"description - \",type(test_record[\"description\"]),\" - \", test_record[\"description\"])\n",
    "print(\"publisher - \",type(test_record[\"publisher\"]),\" - \", test_record[\"publisher\"])"
   ]
  },
  {
   "cell_type": "code",
   "execution_count": 8,
   "metadata": {},
   "outputs": [
    {
     "name": "stdout",
     "output_type": "stream",
     "text": [
      "book_id =  7327624\n",
      "title =  The Unschooled Wizard (Sun Wolf and Starhawk, #1-2)\n",
      "mod_title =  the unschooled wizard sun wolf and starhawk 12\n",
      "ratings_count =  140\n",
      "average_rating =  4.03\n",
      "link =  https://www.goodreads.com/book/show/7327624-the-unschooled-wizard\n",
      "url =  https://www.goodreads.com/book/show/7327624-the-unschooled-wizard\n",
      "image_url =  https://images.gr-assets.com/books/1304100136m/7327624.jpg\n",
      "publication_day =  \n",
      "publication_month =  \n",
      "publication_year =  1987\n",
      "num_pages =  600\n",
      "isbn =  \n",
      "isbn13 =  \n",
      "description =  Omnibus book club edition containing the Ladies of Madrigyn and the Witches of Wenshar.\n",
      "publisher =  Nelson Doubleday, Inc.\n"
     ]
    }
   ],
   "source": [
    "# accessing the fields dynamically and checking the length of each data so that we can understand which field's data is missing\n",
    "\n",
    "column_names = [\n",
    "    \"book_id\",\n",
    "    \"title\",\n",
    "    \"mod_title\",\n",
    "    \"ratings_count\",\n",
    "    \"average_rating\",\n",
    "    \"link\",\n",
    "    \"url\",\n",
    "    \"image_url\",\n",
    "    \"publication_day\",\n",
    "    \"publication_month\",\n",
    "    \"publication_year\",\n",
    "    \"num_pages\",\n",
    "    \"isbn\",\n",
    "    \"isbn13\",\n",
    "    \"description\",\n",
    "    \"publisher\"\n",
    "]\n",
    "\n",
    "trans_to_int = [\n",
    "    \"book_id\",\n",
    "    \"publication_day\",\n",
    "    \"publication_month\",\n",
    "    \"publication_year\",\n",
    "    \"num_pages\",\n",
    "]\n",
    "\n",
    "for col in column_names:\n",
    "    if (len(str(test_record[col])) < 1):\n",
    "        print(f\"{col} = \", test_record[col])\n",
    "    else:\n",
    "        print(f\"{col} = \",test_record[col])"
   ]
  },
  {
   "cell_type": "code",
   "execution_count": 9,
   "metadata": {},
   "outputs": [],
   "source": [
    "# constructing the data transformation function for the fields with missing data\n",
    "\n",
    "# taking 3 parameters\n",
    "# all the column name list, colums that need casting to int and a single record/data that needs transformation\n",
    "def transform_fields(column_names,trans_to_int,test_record):\n",
    "    # looping through all the columns\n",
    "    for col in column_names:\n",
    "        # checking if the length of the data is less than 1 => means data is missing\n",
    "        if (len(str(test_record[col])) < 1):\n",
    "        # based on column, we will fill the place with appropriate place holder \n",
    "            if (col == \"ratings_count\"):\n",
    "                test_record[col] = -1\n",
    "            elif (col == \"average_ratings\"):\n",
    "                test_record[col] = -1.0\n",
    "            else:\n",
    "                test_record[col] = \"-1\"\n",
    "        # if data is not missing then converting the data into int if the selected column belongs to the column list trans_to_int \n",
    "        else:\n",
    "            if col in trans_to_int:\n",
    "                test_record[col] = int(test_record[col])\n",
    "    return test_record"
   ]
  },
  {
   "cell_type": "code",
   "execution_count": 10,
   "metadata": {},
   "outputs": [
    {
     "data": {
      "text/plain": [
       "{'isbn': '-1',\n",
       " 'average_rating': 4.03,\n",
       " 'description': 'Omnibus book club edition containing the Ladies of Madrigyn and the Witches of Wenshar.',\n",
       " 'link': 'https://www.goodreads.com/book/show/7327624-the-unschooled-wizard',\n",
       " 'publisher': 'Nelson Doubleday, Inc.',\n",
       " 'num_pages': 600,\n",
       " 'publication_day': '-1',\n",
       " 'publication_month': '-1',\n",
       " 'publication_year': 1987,\n",
       " 'isbn13': '-1',\n",
       " 'url': 'https://www.goodreads.com/book/show/7327624-the-unschooled-wizard',\n",
       " 'image_url': 'https://images.gr-assets.com/books/1304100136m/7327624.jpg',\n",
       " 'book_id': 7327624,\n",
       " 'ratings_count': 140,\n",
       " 'title': 'The Unschooled Wizard (Sun Wolf and Starhawk, #1-2)',\n",
       " 'mod_title': 'the unschooled wizard sun wolf and starhawk 12'}"
      ]
     },
     "execution_count": 10,
     "metadata": {},
     "output_type": "execute_result"
    }
   ],
   "source": [
    "# testing transformation function\n",
    "\n",
    "transform_fields(column_names, trans_to_int, test_record)"
   ]
  },
  {
   "cell_type": "code",
   "execution_count": 11,
   "metadata": {},
   "outputs": [],
   "source": [
    "# SQL insert query => insert one record at a time\n",
    "\n",
    "# insert function takes 3 parameters\n",
    "# the non-transformed raw record as dictionary\n",
    "# connection and cursor object \n",
    "def insert_one(record, cn=cn, cs=cs):\n",
    "    # name of the table\n",
    "    table = \"item\"\n",
    "\n",
    "    # list of columns as string\n",
    "    columns = \"\"\"\n",
    "    item_id,\n",
    "    book_id,\n",
    "    title,\n",
    "    mod_title,\n",
    "    ratings_count,\n",
    "    average_rating,\n",
    "    link,\n",
    "    url,\n",
    "    image_url,\n",
    "    publication_day,\n",
    "    publication_month,\n",
    "    publication_year,\n",
    "    num_pages,\n",
    "    isbn,\n",
    "    isbn13,\n",
    "    description,\n",
    "    publisher\"\"\"\n",
    "\n",
    "    # placeholders as string\n",
    "    place_holders = \"\"\"\n",
    "    %s,\n",
    "    %s,\n",
    "    %s,\n",
    "    %s,\n",
    "    %s,\n",
    "    %s,\n",
    "    %s,\n",
    "    %s,\n",
    "    %s,\n",
    "    %s,\n",
    "    %s,\n",
    "    %s,\n",
    "    %s,\n",
    "    %s,\n",
    "    %s,\n",
    "    %s,\n",
    "    %s\"\"\"\n",
    "\n",
    "    # transforming the raw dictionary record to make it suitable for the database upload\n",
    "    record_dict = transform_fields(column_names, trans_to_int, record)\n",
    "\n",
    "    # accessing the dict data to prepare the data as tuple\n",
    "    data_tuple = (None,\n",
    "                record_dict[\"book_id\"],\n",
    "                record_dict[\"title\"],\n",
    "                record_dict[\"mod_title\"],\n",
    "                record_dict[\"ratings_count\"],\n",
    "                record_dict[\"average_rating\"],\n",
    "                record_dict[\"link\"],\n",
    "                record_dict[\"url\"],\n",
    "                record_dict[\"image_url\"],\n",
    "                record_dict[\"publication_day\"],\n",
    "                record_dict[\"publication_month\"],\n",
    "                record_dict[\"publication_year\"],\n",
    "                record_dict[\"num_pages\"],\n",
    "                record_dict[\"isbn\"],\n",
    "                record_dict[\"isbn13\"],\n",
    "                record_dict[\"description\"],\n",
    "                record_dict[\"publisher\"]\n",
    "                )\n",
    "\n",
    "    # SQL query to insert the data\n",
    "    sql_query = f\"\"\"\n",
    "    INSERT INTO {table} ({columns})\n",
    "    VALUES ({place_holders});\n",
    "    \"\"\"\n",
    "\n",
    "    # trying to execute the query\n",
    "    try:\n",
    "        cs.execute(sql_query, data_tuple)\n",
    "        cn.commit()\n",
    "    # throwing error in case of unsuccessful attempt\n",
    "    except Error as e:\n",
    "        raise Exception(f\"{e}\")"
   ]
  },
  {
   "cell_type": "code",
   "execution_count": 12,
   "metadata": {},
   "outputs": [],
   "source": [
    "# testing the data insert function\n",
    "\n",
    "# insert_one(test_record)"
   ]
  },
  {
   "cell_type": "code",
   "execution_count": 13,
   "metadata": {},
   "outputs": [
    {
     "ename": "KeyboardInterrupt",
     "evalue": "",
     "output_type": "error",
     "traceback": [
      "\u001b[1;31m---------------------------------------------------------------------------\u001b[0m",
      "\u001b[1;31mKeyboardInterrupt\u001b[0m                         Traceback (most recent call last)",
      "\u001b[1;32me:\\LFS\\Projects\\DataScience\\SearchEngine\\Goodreads_TFIDF_BM25\\Files\\Database\\insert_item_data.ipynb Cell 13\u001b[0m line \u001b[0;36m1\n\u001b[0;32m     <a href='vscode-notebook-cell:/e%3A/LFS/Projects/DataScience/SearchEngine/Goodreads_TFIDF_BM25/Files/Database/insert_item_data.ipynb#X15sZmlsZQ%3D%3D?line=14'>15</a>\u001b[0m record_dict \u001b[39m=\u001b[39m parse_fields(line)\n\u001b[0;32m     <a href='vscode-notebook-cell:/e%3A/LFS/Projects/DataScience/SearchEngine/Goodreads_TFIDF_BM25/Files/Database/insert_item_data.ipynb#X15sZmlsZQ%3D%3D?line=16'>17</a>\u001b[0m \u001b[39m# insert function to upload the data into database\u001b[39;00m\n\u001b[1;32m---> <a href='vscode-notebook-cell:/e%3A/LFS/Projects/DataScience/SearchEngine/Goodreads_TFIDF_BM25/Files/Database/insert_item_data.ipynb#X15sZmlsZQ%3D%3D?line=17'>18</a>\u001b[0m insert_one(record_dict)\n",
      "\u001b[1;32me:\\LFS\\Projects\\DataScience\\SearchEngine\\Goodreads_TFIDF_BM25\\Files\\Database\\insert_item_data.ipynb Cell 13\u001b[0m line \u001b[0;36m8\n\u001b[0;32m     <a href='vscode-notebook-cell:/e%3A/LFS/Projects/DataScience/SearchEngine/Goodreads_TFIDF_BM25/Files/Database/insert_item_data.ipynb#X15sZmlsZQ%3D%3D?line=79'>80</a>\u001b[0m \u001b[39mtry\u001b[39;00m:\n\u001b[0;32m     <a href='vscode-notebook-cell:/e%3A/LFS/Projects/DataScience/SearchEngine/Goodreads_TFIDF_BM25/Files/Database/insert_item_data.ipynb#X15sZmlsZQ%3D%3D?line=80'>81</a>\u001b[0m     cs\u001b[39m.\u001b[39mexecute(sql_query, data_tuple)\n\u001b[1;32m---> <a href='vscode-notebook-cell:/e%3A/LFS/Projects/DataScience/SearchEngine/Goodreads_TFIDF_BM25/Files/Database/insert_item_data.ipynb#X15sZmlsZQ%3D%3D?line=81'>82</a>\u001b[0m     cn\u001b[39m.\u001b[39;49mcommit()\n\u001b[0;32m     <a href='vscode-notebook-cell:/e%3A/LFS/Projects/DataScience/SearchEngine/Goodreads_TFIDF_BM25/Files/Database/insert_item_data.ipynb#X15sZmlsZQ%3D%3D?line=82'>83</a>\u001b[0m \u001b[39m# throwing error in case of unsuccessful attempt\u001b[39;00m\n\u001b[0;32m     <a href='vscode-notebook-cell:/e%3A/LFS/Projects/DataScience/SearchEngine/Goodreads_TFIDF_BM25/Files/Database/insert_item_data.ipynb#X15sZmlsZQ%3D%3D?line=83'>84</a>\u001b[0m \u001b[39mexcept\u001b[39;00m Error \u001b[39mas\u001b[39;00m e:\n",
      "File \u001b[1;32mc:\\Users\\hp\\AppData\\Local\\Programs\\Python\\Python310\\lib\\site-packages\\mysql\\connector\\connection.py:1481\u001b[0m, in \u001b[0;36mMySQLConnection.commit\u001b[1;34m(self)\u001b[0m\n\u001b[0;32m   1479\u001b[0m \u001b[39mdef\u001b[39;00m \u001b[39mcommit\u001b[39m(\u001b[39mself\u001b[39m) \u001b[39m-\u001b[39m\u001b[39m>\u001b[39m \u001b[39mNone\u001b[39;00m:\n\u001b[0;32m   1480\u001b[0m \u001b[39m    \u001b[39m\u001b[39m\"\"\"Commit current transaction\"\"\"\u001b[39;00m\n\u001b[1;32m-> 1481\u001b[0m     \u001b[39mself\u001b[39;49m\u001b[39m.\u001b[39;49m_execute_query(\u001b[39m\"\u001b[39;49m\u001b[39mCOMMIT\u001b[39;49m\u001b[39m\"\u001b[39;49m)\n",
      "File \u001b[1;32mc:\\Users\\hp\\AppData\\Local\\Programs\\Python\\Python310\\lib\\site-packages\\mysql\\connector\\connection.py:1500\u001b[0m, in \u001b[0;36mMySQLConnection._execute_query\u001b[1;34m(self, query)\u001b[0m\n\u001b[0;32m   1491\u001b[0m \u001b[39m\u001b[39m\u001b[39m\"\"\"Execute a query\u001b[39;00m\n\u001b[0;32m   1492\u001b[0m \n\u001b[0;32m   1493\u001b[0m \u001b[39mThis method simply calls cmd_query() after checking for unread\u001b[39;00m\n\u001b[1;32m   (...)\u001b[0m\n\u001b[0;32m   1497\u001b[0m \u001b[39mReturns a dict()\u001b[39;00m\n\u001b[0;32m   1498\u001b[0m \u001b[39m\"\"\"\u001b[39;00m\n\u001b[0;32m   1499\u001b[0m \u001b[39mself\u001b[39m\u001b[39m.\u001b[39mhandle_unread_result()\n\u001b[1;32m-> 1500\u001b[0m \u001b[39mself\u001b[39;49m\u001b[39m.\u001b[39;49mcmd_query(query)\n",
      "File \u001b[1;32mc:\\Users\\hp\\AppData\\Local\\Programs\\Python\\Python310\\lib\\site-packages\\mysql\\connector\\opentelemetry\\context_propagation.py:77\u001b[0m, in \u001b[0;36mwith_context_propagation.<locals>.wrapper\u001b[1;34m(cnx, *args, **kwargs)\u001b[0m\n\u001b[0;32m     75\u001b[0m \u001b[39m\u001b[39m\u001b[39m\"\"\"Context propagation decorator.\"\"\"\u001b[39;00m\n\u001b[0;32m     76\u001b[0m \u001b[39mif\u001b[39;00m \u001b[39mnot\u001b[39;00m OTEL_ENABLED \u001b[39mor\u001b[39;00m \u001b[39mnot\u001b[39;00m cnx\u001b[39m.\u001b[39motel_context_propagation:\n\u001b[1;32m---> 77\u001b[0m     \u001b[39mreturn\u001b[39;00m method(cnx, \u001b[39m*\u001b[39margs, \u001b[39m*\u001b[39m\u001b[39m*\u001b[39mkwargs)\n\u001b[0;32m     79\u001b[0m current_span \u001b[39m=\u001b[39m trace\u001b[39m.\u001b[39mget_current_span()\n\u001b[0;32m     80\u001b[0m tp_header \u001b[39m=\u001b[39m \u001b[39mNone\u001b[39;00m\n",
      "File \u001b[1;32mc:\\Users\\hp\\AppData\\Local\\Programs\\Python\\Python310\\lib\\site-packages\\mysql\\connector\\connection.py:1069\u001b[0m, in \u001b[0;36mMySQLConnection.cmd_query\u001b[1;34m(self, query, raw, buffered, raw_as_string)\u001b[0m\n\u001b[0;32m   1067\u001b[0m query \u001b[39m=\u001b[39m \u001b[39mbytes\u001b[39m(packet)\n\u001b[0;32m   1068\u001b[0m \u001b[39mtry\u001b[39;00m:\n\u001b[1;32m-> 1069\u001b[0m     result \u001b[39m=\u001b[39m \u001b[39mself\u001b[39m\u001b[39m.\u001b[39m_handle_result(\u001b[39mself\u001b[39;49m\u001b[39m.\u001b[39;49m_send_cmd(ServerCmd\u001b[39m.\u001b[39;49mQUERY, query))\n\u001b[0;32m   1070\u001b[0m \u001b[39mexcept\u001b[39;00m ProgrammingError \u001b[39mas\u001b[39;00m err:\n\u001b[0;32m   1071\u001b[0m     \u001b[39mif\u001b[39;00m err\u001b[39m.\u001b[39merrno \u001b[39m==\u001b[39m \u001b[39m3948\u001b[39m \u001b[39mand\u001b[39;00m \u001b[39m\"\u001b[39m\u001b[39mLoading local data is disabled\u001b[39m\u001b[39m\"\u001b[39m \u001b[39min\u001b[39;00m err\u001b[39m.\u001b[39mmsg:\n",
      "File \u001b[1;32mc:\\Users\\hp\\AppData\\Local\\Programs\\Python\\Python310\\lib\\site-packages\\mysql\\connector\\connection.py:691\u001b[0m, in \u001b[0;36mMySQLConnection._send_cmd\u001b[1;34m(self, command, argument, packet_number, packet, expect_response, compressed_packet_number)\u001b[0m\n\u001b[0;32m    689\u001b[0m \u001b[39mif\u001b[39;00m \u001b[39mnot\u001b[39;00m expect_response:\n\u001b[0;32m    690\u001b[0m     \u001b[39mreturn\u001b[39;00m \u001b[39mNone\u001b[39;00m\n\u001b[1;32m--> 691\u001b[0m \u001b[39mreturn\u001b[39;00m \u001b[39mself\u001b[39;49m\u001b[39m.\u001b[39;49m_socket\u001b[39m.\u001b[39;49mrecv()\n",
      "File \u001b[1;32mc:\\Users\\hp\\AppData\\Local\\Programs\\Python\\Python310\\lib\\site-packages\\mysql\\connector\\network.py:614\u001b[0m, in \u001b[0;36mMySQLSocket.recv\u001b[1;34m(self)\u001b[0m\n\u001b[0;32m    612\u001b[0m \u001b[39mdef\u001b[39;00m \u001b[39mrecv\u001b[39m(\u001b[39mself\u001b[39m) \u001b[39m-\u001b[39m\u001b[39m>\u001b[39m \u001b[39mbytearray\u001b[39m:\n\u001b[0;32m    613\u001b[0m \u001b[39m    \u001b[39m\u001b[39m\"\"\"Get packet from the MySQL server comm channel.\"\"\"\u001b[39;00m\n\u001b[1;32m--> 614\u001b[0m     \u001b[39mreturn\u001b[39;00m \u001b[39mself\u001b[39;49m\u001b[39m.\u001b[39;49m_netbroker\u001b[39m.\u001b[39;49mrecv(\u001b[39mself\u001b[39;49m\u001b[39m.\u001b[39;49msock, \u001b[39mself\u001b[39;49m\u001b[39m.\u001b[39;49maddress)\n",
      "File \u001b[1;32mc:\\Users\\hp\\AppData\\Local\\Programs\\Python\\Python310\\lib\\site-packages\\mysql\\connector\\network.py:233\u001b[0m, in \u001b[0;36mNetworkBrokerPlain.recv\u001b[1;34m(self, sock, address)\u001b[0m\n\u001b[0;32m    230\u001b[0m \u001b[39m\u001b[39m\u001b[39m\"\"\"Receive `one` packet from the MySQL server.\"\"\"\u001b[39;00m\n\u001b[0;32m    231\u001b[0m \u001b[39mtry\u001b[39;00m:\n\u001b[0;32m    232\u001b[0m     \u001b[39m# Read the header of the MySQL packet\u001b[39;00m\n\u001b[1;32m--> 233\u001b[0m     header \u001b[39m=\u001b[39m \u001b[39mself\u001b[39;49m\u001b[39m.\u001b[39;49m_recv_chunk(sock, size\u001b[39m=\u001b[39;49mPACKET_HEADER_LENGTH)\n\u001b[0;32m    235\u001b[0m     \u001b[39m# Pull the payload length and sequence id\u001b[39;00m\n\u001b[0;32m    236\u001b[0m     payload_len, \u001b[39mself\u001b[39m\u001b[39m.\u001b[39m_pktnr \u001b[39m=\u001b[39m (\n\u001b[0;32m    237\u001b[0m         struct\u001b[39m.\u001b[39munpack(\u001b[39m\"\u001b[39m\u001b[39m<I\u001b[39m\u001b[39m\"\u001b[39m, header[\u001b[39m0\u001b[39m:\u001b[39m3\u001b[39m] \u001b[39m+\u001b[39m \u001b[39mb\u001b[39m\u001b[39m\"\u001b[39m\u001b[39m\\x00\u001b[39;00m\u001b[39m\"\u001b[39m)[\u001b[39m0\u001b[39m],\n\u001b[0;32m    238\u001b[0m         header[\u001b[39m3\u001b[39m],\n\u001b[0;32m    239\u001b[0m     )\n",
      "File \u001b[1;32mc:\\Users\\hp\\AppData\\Local\\Programs\\Python\\Python310\\lib\\site-packages\\mysql\\connector\\network.py:178\u001b[0m, in \u001b[0;36mNetworkBrokerPlain._recv_chunk\u001b[1;34m(self, sock, size)\u001b[0m\n\u001b[0;32m    176\u001b[0m pkt_view \u001b[39m=\u001b[39m \u001b[39mmemoryview\u001b[39m(pkt)\n\u001b[0;32m    177\u001b[0m \u001b[39mwhile\u001b[39;00m size:\n\u001b[1;32m--> 178\u001b[0m     read \u001b[39m=\u001b[39m sock\u001b[39m.\u001b[39;49mrecv_into(pkt_view, size)\n\u001b[0;32m    179\u001b[0m     \u001b[39mif\u001b[39;00m read \u001b[39m==\u001b[39m \u001b[39m0\u001b[39m \u001b[39mand\u001b[39;00m size \u001b[39m>\u001b[39m \u001b[39m0\u001b[39m:\n\u001b[0;32m    180\u001b[0m         \u001b[39mraise\u001b[39;00m InterfaceError(errno\u001b[39m=\u001b[39m\u001b[39m2013\u001b[39m)\n",
      "\u001b[1;31mKeyboardInterrupt\u001b[0m: "
     ]
    }
   ],
   "source": [
    "# we will go through all the books from the dataset and insert them one after the other\n",
    "\n",
    "books = []\n",
    "\n",
    "with gzip.open(\"../Datasets/Processed/itemDetails_RatingCount_gt15_p2.json.gz\") as f:\n",
    "    while True:\n",
    "        # reading the line as json\n",
    "        line = f.readline()\n",
    "\n",
    "        # we will break the infinite loop when we reach the end of the dataset file\n",
    "        if not line:\n",
    "            break\n",
    "        \n",
    "        # parsing the json line into dictionary\n",
    "        record_dict = parse_fields(line)\n",
    "\n",
    "        # insert function to upload the data into database\n",
    "        insert_one(record_dict)"
   ]
  }
 ],
 "metadata": {
  "kernelspec": {
   "display_name": "Python 3",
   "language": "python",
   "name": "python3"
  },
  "language_info": {
   "codemirror_mode": {
    "name": "ipython",
    "version": 3
   },
   "file_extension": ".py",
   "mimetype": "text/x-python",
   "name": "python",
   "nbconvert_exporter": "python",
   "pygments_lexer": "ipython3",
   "version": "3.10.11"
  }
 },
 "nbformat": 4,
 "nbformat_minor": 2
}
