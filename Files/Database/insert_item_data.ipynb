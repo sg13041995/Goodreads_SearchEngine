{
 "cells": [
  {
   "cell_type": "code",
   "execution_count": 1,
   "metadata": {},
   "outputs": [],
   "source": [
    "from configparser import ConfigParser\n",
    "from mysql.connector import MySQLConnection,Error"
   ]
  },
  {
   "cell_type": "code",
   "execution_count": 2,
   "metadata": {},
   "outputs": [
    {
     "name": "stdout",
     "output_type": "stream",
     "text": [
      "{'host': '127.0.0.1', 'port': '99966', 'database': 'goodreads', 'user': 'root', 'password': 'Milla123!'}\n"
     ]
    }
   ],
   "source": [
    "def read(filename='config.ini',section='mysql'):\n",
    "    parser=ConfigParser()\n",
    "    parser.read(filename)\n",
    "    \n",
    "    db={}\n",
    "    \n",
    "    if parser.has_section(section):\n",
    "        items=parser.items(section)\n",
    "        for item in items:\n",
    "            db[item[0]]=item[1]\n",
    "    else:\n",
    "        raise Exception(f'{section} not found in file {filename}')\n",
    "    return db \n",
    "\n",
    "\n",
    "print(read(filename=\"config.ini\",section=\"mysql\"))"
   ]
  },
  {
   "cell_type": "code",
   "execution_count": 3,
   "metadata": {},
   "outputs": [
    {
     "name": "stdout",
     "output_type": "stream",
     "text": [
      "Connecting to MySQL database...\n",
      "Connection established\n"
     ]
    }
   ],
   "source": [
    "def connect(creds):\n",
    "    con=None\n",
    "    try:\n",
    "        print('Connecting to MySQL database...')\n",
    "        con=MySQLConnection(**creds)\n",
    "        \n",
    "        \n",
    "        if con.is_connected():\n",
    "            print('Connection established')\n",
    "            cus = con.cursor(buffered=True)\n",
    "        else:\n",
    "            print('Connection failed')\n",
    "            \n",
    "    except Error as e:\n",
    "        print(e)\n",
    "    finally:\n",
    "        return con,cus\n",
    "    \n",
    "cn,cs=connect(creds=read(filename=\"config.ini\",section=\"mysql\"))"
   ]
  }
 ],
 "metadata": {
  "kernelspec": {
   "display_name": "Python 3",
   "language": "python",
   "name": "python3"
  },
  "language_info": {
   "codemirror_mode": {
    "name": "ipython",
    "version": 3
   },
   "file_extension": ".py",
   "mimetype": "text/x-python",
   "name": "python",
   "nbconvert_exporter": "python",
   "pygments_lexer": "ipython3",
   "version": "3.10.11"
  }
 },
 "nbformat": 4,
 "nbformat_minor": 2
}
