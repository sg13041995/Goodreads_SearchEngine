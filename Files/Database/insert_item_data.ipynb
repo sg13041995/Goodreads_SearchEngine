{
 "cells": [
  {
   "cell_type": "code",
   "execution_count": 1,
   "metadata": {},
   "outputs": [],
   "source": [
    "# module imports\n",
    "\n",
    "from configparser import ConfigParser\n",
    "from mysql.connector import MySQLConnection,Error\n",
    "\n",
    "import gzip\n",
    "import json"
   ]
  },
  {
   "cell_type": "code",
   "execution_count": 2,
   "metadata": {},
   "outputs": [
    {
     "name": "stdout",
     "output_type": "stream",
     "text": [
      "{'host': '127.0.0.1', 'port': '99966', 'database': 'goodreads', 'user': 'root', 'password': 'Milla123!'}\n"
     ]
    }
   ],
   "source": [
    "# reading database credentials from config.ini file\n",
    "\n",
    "def read(filename='config.ini',section='mysql'):\n",
    "    parser=ConfigParser()\n",
    "    parser.read(filename)\n",
    "    \n",
    "    db={}\n",
    "    \n",
    "    if parser.has_section(section):\n",
    "        items=parser.items(section)\n",
    "        for item in items:\n",
    "            db[item[0]]=item[1]\n",
    "    else:\n",
    "        raise Exception(f'{section} not found in file {filename}')\n",
    "    return db \n",
    "\n",
    "\n",
    "print(read(filename=\"config.ini\",section=\"mysql\"))"
   ]
  },
  {
   "cell_type": "code",
   "execution_count": 3,
   "metadata": {},
   "outputs": [
    {
     "name": "stdout",
     "output_type": "stream",
     "text": [
      "Connecting to MySQL database...\n",
      "Connection established\n"
     ]
    }
   ],
   "source": [
    "# connecting with MySQL/MariaDB database server and getting the connection and cursor object\n",
    "\n",
    "def connect(creds):\n",
    "    con=None\n",
    "    try:\n",
    "        print('Connecting to MySQL database...')\n",
    "        con=MySQLConnection(**creds)\n",
    "        \n",
    "        \n",
    "        if con.is_connected():\n",
    "            print('Connection established')\n",
    "            cus = con.cursor(buffered=True)\n",
    "        else:\n",
    "            print('Connection failed')\n",
    "            \n",
    "    except Error as e:\n",
    "        print(e)\n",
    "    finally:\n",
    "        return con,cus\n",
    "    \n",
    "cn,cs=connect(creds=read(filename=\"config.ini\",section=\"mysql\"))"
   ]
  },
  {
   "cell_type": "code",
   "execution_count": 4,
   "metadata": {},
   "outputs": [],
   "source": [
    "# required columns\n",
    "\n",
    "required_columns = [\n",
    "\"item_id\",\n",
    "\"book_id\",\n",
    "\"title\",\n",
    "\"mod_title\",\n",
    "\"ratings_count\",\n",
    "\"average_rating\",\n",
    "\"link\",\n",
    "\"url\",\n",
    "\"image_url\",\n",
    "\"publication_day\",\n",
    "\"publication_month\",\n",
    "\"publication_year\",\n",
    "\"num_pages\",\n",
    "\"isbn\",\n",
    "\"isbn13\",\n",
    "\"description\",\n",
    "\"publisher\"]\n",
    "\n",
    "# columns that need to be transformed into int\n",
    "\n",
    "trans_to_int = [\n",
    "    \"book_id\",\n",
    "    \"publication_day\",\n",
    "    \"publication_month\",\n",
    "    \"publication_year\",\n",
    "    \"num_pages\",\n",
    "]"
   ]
  },
  {
   "cell_type": "code",
   "execution_count": 5,
   "metadata": {},
   "outputs": [],
   "source": [
    "# json parser function into python dictionary\n",
    "\n",
    "def parse_fields(line):\n",
    "    data = json.loads(line)\n",
    "    data_dict = {required_columns[0] : None}\n",
    "\n",
    "    for col in required_columns[1:]:\n",
    "        data_dict[col] = data[col]\n",
    "    \n",
    "    return data_dict"
   ]
  },
  {
   "cell_type": "code",
   "execution_count": 6,
   "metadata": {},
   "outputs": [
    {
     "data": {
      "text/plain": [
       "b'{\"isbn\":\"\",\"average_rating\":4.03,\"similar_books\":[\"19997\",\"828466\",\"1569323\",\"425389\",\"1176674\",\"262740\",\"3743837\",\"880461\",\"2292726\",\"1883810\",\"1808197\",\"625150\",\"1988046\",\"390170\",\"2620131\",\"383106\",\"1597281\"],\"description\":\"Omnibus book club edition containing the Ladies of Madrigyn and the Witches of Wenshar.\",\"link\":\"https:\\\\/\\\\/www.goodreads.com\\\\/book\\\\/show\\\\/7327624-the-unschooled-wizard\",\"authors\":[{\"author_id\":\"10333\",\"role\":\"\"}],\"publisher\":\"Nelson Doubleday, Inc.\",\"num_pages\":\"600\",\"publication_day\":\"\",\"publication_month\":\"\",\"publication_year\":\"1987\",\"isbn13\":\"\",\"url\":\"https:\\\\/\\\\/www.goodreads.com\\\\/book\\\\/show\\\\/7327624-the-unschooled-wizard\",\"image_url\":\"https:\\\\/\\\\/images.gr-assets.com\\\\/books\\\\/1304100136m\\\\/7327624.jpg\",\"book_id\":\"7327624\",\"ratings_count\":140,\"title\":\"The Unschooled Wizard (Sun Wolf and Starhawk, #1-2)\",\"mod_title\":\"the unschooled wizard sun wolf and starhawk 12\"}\\r\\n'"
      ]
     },
     "execution_count": 6,
     "metadata": {},
     "output_type": "execute_result"
    }
   ],
   "source": [
    "# reading the first line/record from the compressed json file in a streaming fashion\n",
    "\n",
    "with gzip.open(\"../Datasets/Processed/itemDetails_RatingCount_gt15_p2.json.gz\") as f:\n",
    "    line = f.readline()\n",
    "\n",
    "line"
   ]
  },
  {
   "cell_type": "code",
   "execution_count": 7,
   "metadata": {},
   "outputs": [
    {
     "data": {
      "text/plain": [
       "{'item_id': None,\n",
       " 'book_id': '7327624',\n",
       " 'title': 'The Unschooled Wizard (Sun Wolf and Starhawk, #1-2)',\n",
       " 'mod_title': 'the unschooled wizard sun wolf and starhawk 12',\n",
       " 'ratings_count': 140,\n",
       " 'average_rating': 4.03,\n",
       " 'link': 'https://www.goodreads.com/book/show/7327624-the-unschooled-wizard',\n",
       " 'url': 'https://www.goodreads.com/book/show/7327624-the-unschooled-wizard',\n",
       " 'image_url': 'https://images.gr-assets.com/books/1304100136m/7327624.jpg',\n",
       " 'publication_day': '',\n",
       " 'publication_month': '',\n",
       " 'publication_year': '1987',\n",
       " 'num_pages': '600',\n",
       " 'isbn': '',\n",
       " 'isbn13': '',\n",
       " 'description': 'Omnibus book club edition containing the Ladies of Madrigyn and the Witches of Wenshar.',\n",
       " 'publisher': 'Nelson Doubleday, Inc.'}"
      ]
     },
     "execution_count": 7,
     "metadata": {},
     "output_type": "execute_result"
    }
   ],
   "source": [
    "# parsing json record into dictionary and storing that\n",
    "\n",
    "test_record = parse_fields(line)\n",
    "test_record"
   ]
  },
  {
   "cell_type": "code",
   "execution_count": 8,
   "metadata": {},
   "outputs": [
    {
     "name": "stdout",
     "output_type": "stream",
     "text": [
      "item_id -  <class 'NoneType'>  -  None\n",
      "book_id -  <class 'str'>  -  7327624\n",
      "title -  <class 'str'>  -  The Unschooled Wizard (Sun Wolf and Starhawk, #1-2)\n",
      "mod_title -  <class 'str'>  -  the unschooled wizard sun wolf and starhawk 12\n",
      "ratings_count -  <class 'int'>  -  140\n",
      "average_rating -  <class 'float'>  -  4.03\n",
      "link -  <class 'str'>  -  https://www.goodreads.com/book/show/7327624-the-unschooled-wizard\n",
      "url -  <class 'str'>  -  https://www.goodreads.com/book/show/7327624-the-unschooled-wizard\n",
      "image_url -  <class 'str'>  -  https://images.gr-assets.com/books/1304100136m/7327624.jpg\n",
      "publication_day -  <class 'str'>  -  \n",
      "publication_month -  <class 'str'>  -  \n",
      "publication_year -  <class 'str'>  -  1987\n",
      "num_pages -  <class 'str'>  -  600\n",
      "isbn -  <class 'str'>  -  \n",
      "isbn13 -  <class 'str'>  -  \n",
      "description -  <class 'str'>  -  Omnibus book club edition containing the Ladies of Madrigyn and the Witches of Wenshar.\n",
      "publisher -  <class 'str'>  -  Nelson Doubleday, Inc.\n"
     ]
    }
   ],
   "source": [
    "# check the datatype of each field and the data as well\n",
    "\n",
    "for col in required_columns:\n",
    "     print(f\"{col} - \",type(test_record[col]),\" - \", test_record[col])"
   ]
  },
  {
   "cell_type": "code",
   "execution_count": 9,
   "metadata": {},
   "outputs": [
    {
     "name": "stdout",
     "output_type": "stream",
     "text": [
      "item_id =  None\n",
      "book_id =  7327624\n",
      "title =  The Unschooled Wizard (Sun Wolf and Starhawk, #1-2)\n",
      "mod_title =  the unschooled wizard sun wolf and starhawk 12\n",
      "ratings_count =  140\n",
      "average_rating =  4.03\n",
      "link =  https://www.goodreads.com/book/show/7327624-the-unschooled-wizard\n",
      "url =  https://www.goodreads.com/book/show/7327624-the-unschooled-wizard\n",
      "image_url =  https://images.gr-assets.com/books/1304100136m/7327624.jpg\n",
      "publication_day =  \n",
      "publication_month =  \n",
      "publication_year =  1987\n",
      "num_pages =  600\n",
      "isbn =  \n",
      "isbn13 =  \n",
      "description =  Omnibus book club edition containing the Ladies of Madrigyn and the Witches of Wenshar.\n",
      "publisher =  Nelson Doubleday, Inc.\n"
     ]
    }
   ],
   "source": [
    "# accessing the fields dynamically and checking the length of each data so that we can understand which field's data is missing\n",
    "\n",
    "for col in required_columns:\n",
    "    if (len(str(test_record[col])) < 1):\n",
    "        print(f\"{col} = \", test_record[col])\n",
    "    else:\n",
    "        print(f\"{col} = \",test_record[col])"
   ]
  },
  {
   "cell_type": "code",
   "execution_count": 10,
   "metadata": {},
   "outputs": [],
   "source": [
    "# constructing the data transformation function for the fields with missing data\n",
    "\n",
    "# taking 3 parameters\n",
    "# all the column name list, colums that need casting to int and a single record/data that needs transformation\n",
    "def transform_fields(column_names,trans_to_int,record):\n",
    "    # looping through all the columns\n",
    "    for col in column_names:\n",
    "        # checking if the length of the data is less than 1 => means data is missing\n",
    "        if (len(str(record[col])) < 1):\n",
    "        # based on column, we will fill the place with appropriate place holder \n",
    "            if (col == \"ratings_count\"):\n",
    "                record[col] = -1\n",
    "            elif (col == \"average_ratings\"):\n",
    "                record[col] = -1.0\n",
    "            else:\n",
    "                record[col] = \"-1\"\n",
    "        # if data is not missing then converting the data into int if the selected column belongs to the column list trans_to_int \n",
    "        else:\n",
    "            if col in trans_to_int:\n",
    "                record[col] = int(record[col])\n",
    "    return record"
   ]
  },
  {
   "cell_type": "code",
   "execution_count": 11,
   "metadata": {},
   "outputs": [
    {
     "data": {
      "text/plain": [
       "{'item_id': None,\n",
       " 'book_id': 7327624,\n",
       " 'title': 'The Unschooled Wizard (Sun Wolf and Starhawk, #1-2)',\n",
       " 'mod_title': 'the unschooled wizard sun wolf and starhawk 12',\n",
       " 'ratings_count': 140,\n",
       " 'average_rating': 4.03,\n",
       " 'link': 'https://www.goodreads.com/book/show/7327624-the-unschooled-wizard',\n",
       " 'url': 'https://www.goodreads.com/book/show/7327624-the-unschooled-wizard',\n",
       " 'image_url': 'https://images.gr-assets.com/books/1304100136m/7327624.jpg',\n",
       " 'publication_day': '-1',\n",
       " 'publication_month': '-1',\n",
       " 'publication_year': 1987,\n",
       " 'num_pages': 600,\n",
       " 'isbn': '-1',\n",
       " 'isbn13': '-1',\n",
       " 'description': 'Omnibus book club edition containing the Ladies of Madrigyn and the Witches of Wenshar.',\n",
       " 'publisher': 'Nelson Doubleday, Inc.'}"
      ]
     },
     "execution_count": 11,
     "metadata": {},
     "output_type": "execute_result"
    }
   ],
   "source": [
    "# testing transformation function\n",
    "\n",
    "transform_fields(required_columns, trans_to_int, test_record)"
   ]
  },
  {
   "cell_type": "code",
   "execution_count": 12,
   "metadata": {},
   "outputs": [],
   "source": [
    "# SQL insert query => insert one record at a time\n",
    "\n",
    "# insert function takes following parameters\n",
    "# the non-transformed raw record as dictionary\n",
    "# connection and cursor object \n",
    "\n",
    "# name of the table\n",
    "table = \"item\"\n",
    "\n",
    "def insert_one(record, req_columns, table=table, cn=cn, cs=cs):\n",
    "    columns_string = \"\"\"\n",
    "    item_id,\n",
    "    book_id,\n",
    "    title,\n",
    "    mod_title,\n",
    "    ratings_count,\n",
    "    average_rating,\n",
    "    link,\n",
    "    url,\n",
    "    image_url,\n",
    "    publication_day,\n",
    "    publication_month,\n",
    "    publication_year,\n",
    "    num_pages,\n",
    "    isbn,\n",
    "    isbn13,\n",
    "    description,\n",
    "    publisher\"\"\"\n",
    "\n",
    "    # placeholders as string\n",
    "    place_holders = \"\"\"\n",
    "    %s,\n",
    "    %s,\n",
    "    %s,\n",
    "    %s,\n",
    "    %s,\n",
    "    %s,\n",
    "    %s,\n",
    "    %s,\n",
    "    %s,\n",
    "    %s,\n",
    "    %s,\n",
    "    %s,\n",
    "    %s,\n",
    "    %s,\n",
    "    %s,\n",
    "    %s,\n",
    "    %s\"\"\"\n",
    "\n",
    "    # transforming the raw dictionary record to make it suitable for the database upload\n",
    "    record_dict = transform_fields(req_columns, trans_to_int, record)\n",
    "\n",
    "    # accessing the dict data to prepare the data as tuple\n",
    "    data_tuple = tuple(record_dict.values())\n",
    "\n",
    "    # SQL query to insert the data\n",
    "    sql_query = f\"\"\"\n",
    "    INSERT INTO {table} ({columns_string})\n",
    "    VALUES ({place_holders});\n",
    "    \"\"\"\n",
    "\n",
    "    # trying to execute the query\n",
    "    try:\n",
    "        cs.execute(sql_query, data_tuple)\n",
    "        cn.commit()\n",
    "    # throwing error in case of unsuccessful attempt\n",
    "    except Error as e:\n",
    "        raise Exception(f\"{e}\")"
   ]
  },
  {
   "cell_type": "code",
   "execution_count": 13,
   "metadata": {},
   "outputs": [],
   "source": [
    "# testing the data insert function\n",
    "\n",
    "# insert_one(test_record,required_columns)"
   ]
  },
  {
   "cell_type": "markdown",
   "metadata": {},
   "source": [
    "- the following code took 37m to execute"
   ]
  },
  {
   "cell_type": "code",
   "execution_count": 15,
   "metadata": {},
   "outputs": [],
   "source": [
    "# we will go through all the books from the dataset and insert them one after the other\n",
    "\n",
    "books = []\n",
    "\n",
    "with gzip.open(\"../Datasets/Processed/itemDetails_RatingCount_gt15_p2.json.gz\") as f:\n",
    "    while True:\n",
    "        # reading the line as json\n",
    "        line = f.readline()\n",
    "\n",
    "        # we will break the infinite loop when we reach the end of the dataset file\n",
    "        if not line:\n",
    "            break\n",
    "        \n",
    "        # parsing the json line into dictionary\n",
    "        record_dict = parse_fields(line)\n",
    "\n",
    "        # insert function to upload the data into database\n",
    "        insert_one(record_dict,required_columns)"
   ]
  }
 ],
 "metadata": {
  "kernelspec": {
   "display_name": "Python 3",
   "language": "python",
   "name": "python3"
  },
  "language_info": {
   "codemirror_mode": {
    "name": "ipython",
    "version": 3
   },
   "file_extension": ".py",
   "mimetype": "text/x-python",
   "name": "python",
   "nbconvert_exporter": "python",
   "pygments_lexer": "ipython3",
   "version": "3.10.11"
  }
 },
 "nbformat": 4,
 "nbformat_minor": 2
}
