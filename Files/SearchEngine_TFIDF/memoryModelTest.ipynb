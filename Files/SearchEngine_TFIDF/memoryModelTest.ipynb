{
 "cells": [
  {
   "cell_type": "code",
   "execution_count": 1,
   "metadata": {},
   "outputs": [],
   "source": [
    "import pandas as pd\n",
    "import numpy as np\n",
    "import re\n",
    "import joblib\n",
    "from sklearn.metrics.pairwise import cosine_similarity"
   ]
  },
  {
   "cell_type": "code",
   "execution_count": 2,
   "metadata": {},
   "outputs": [],
   "source": [
    "items = pd.read_json(\"../Datasets/Processed/itemDetails_RatingCount_gt15.json\")"
   ]
  },
  {
   "cell_type": "code",
   "execution_count": 3,
   "metadata": {},
   "outputs": [
    {
     "data": {
      "text/plain": [
       "(1302659, 18)"
      ]
     },
     "execution_count": 3,
     "metadata": {},
     "output_type": "execute_result"
    }
   ],
   "source": [
    "items.shape"
   ]
  },
  {
   "cell_type": "markdown",
   "metadata": {},
   "source": [
    "### Unigram"
   ]
  },
  {
   "cell_type": "code",
   "execution_count": 4,
   "metadata": {},
   "outputs": [],
   "source": [
    "vectorizer_uni = joblib.load(\"./memory/vectorizer_uni.pkl\")\n",
    "tfidf_uni = joblib.load(\"./memory/tfidf_matrix_uni.pkl\")"
   ]
  },
  {
   "cell_type": "code",
   "execution_count": 5,
   "metadata": {},
   "outputs": [],
   "source": [
    "# in pandas we can use style to display things using html\n",
    "# making the title clickable by attaching a link \n",
    "def make_clickable(val):\n",
    "    return '<a target=\"_blank\" href=\"{}\">Goodreads</a>'.format(val)\n",
    "\n",
    "# showing the image by attaching a link\n",
    "def show_image(val):\n",
    "    return '<a href=\"{}\"><img src=\"{}\" width=50></img></a>'.format(val, val)"
   ]
  },
  {
   "cell_type": "code",
   "execution_count": 6,
   "metadata": {},
   "outputs": [],
   "source": [
    "# creating the search function\n",
    "# search function will take => user query and the vectorizer as input\n",
    " \n",
    "def search_uni(query,vectorizer=vectorizer_uni):\n",
    "    # normalizing the query string => removing unnecessary characters and making lower case\n",
    "    processed = re.sub(\"\\s+\", \" \", re.sub(\"[^a-zA-Z0-9 ]\", \"\", query.lower()))\n",
    "\n",
    "    # converting query string into vector using the vectorizer\n",
    "    query_vec = vectorizer.transform([processed])\n",
    "    # one row and 233827 columns => (number of columns = number of terms)\n",
    "    print(query_vec.shape)\n",
    "    \n",
    "    # checking the similarity between query vector and each vector present in tfidf matrix\n",
    "    # (1302659, 233827) , (1, 233827)\n",
    "    similarity = cosine_similarity(query_vec, tfidf_uni)\n",
    "    # we will get similarity value between query string vector and each of the tfidf matrix vectors\n",
    "    # So, in total we will get 1302659 similarity values as (1, 1302659) vector\n",
    "    print(similarity.shape)\n",
    "    # We can then flatten it to 1D\n",
    "    similarity = similarity.flatten()\n",
    "    print(similarity.shape)\n",
    "\n",
    "    # we are getting 10 largest similarities\n",
    "    # Actually, we are getting their index using argpartition\n",
    "    indices = np.argpartition(similarity, -50)[-50:]\n",
    "\n",
    "    # we can use the indices to get the corresponding item/book details\n",
    "    # So, we will have the item/book records corresponding to selected indices   \n",
    "    results = items.iloc[indices]\n",
    "\n",
    "    # we will sort the books based on highest ratings_count\n",
    "    results = results.sort_values(\"ratings_count\", ascending=False)\n",
    "    \n",
    "    # returning the top results with specified style\n",
    "    # Note: we are using only some columns for demonstration\n",
    "    columns = [\"book_id\", \"title\", \"ratings_count\", \"url\", \"image_url\", \"mod_title\"]\n",
    "\n",
    "    # removing duplicate results based on mod_title column\n",
    "    unique_results = results.drop_duplicates(subset=['mod_title'])\n",
    "\n",
    "    return unique_results[columns].head().style.format({'url': make_clickable, 'image_url': show_image}) "
   ]
  },
  {
   "cell_type": "code",
   "execution_count": 7,
   "metadata": {},
   "outputs": [
    {
     "name": "stdout",
     "output_type": "stream",
     "text": [
      "(1, 233827)\n",
      "(1, 1302659)\n",
      "(1302659,)\n"
     ]
    },
    {
     "data": {
      "text/html": [
       "<style type=\"text/css\">\n",
       "</style>\n",
       "<table id=\"T_e7d4b\">\n",
       "  <thead>\n",
       "    <tr>\n",
       "      <th class=\"blank level0\" >&nbsp;</th>\n",
       "      <th id=\"T_e7d4b_level0_col0\" class=\"col_heading level0 col0\" >book_id</th>\n",
       "      <th id=\"T_e7d4b_level0_col1\" class=\"col_heading level0 col1\" >title</th>\n",
       "      <th id=\"T_e7d4b_level0_col2\" class=\"col_heading level0 col2\" >ratings_count</th>\n",
       "      <th id=\"T_e7d4b_level0_col3\" class=\"col_heading level0 col3\" >url</th>\n",
       "      <th id=\"T_e7d4b_level0_col4\" class=\"col_heading level0 col4\" >image_url</th>\n",
       "      <th id=\"T_e7d4b_level0_col5\" class=\"col_heading level0 col5\" >mod_title</th>\n",
       "    </tr>\n",
       "  </thead>\n",
       "  <tbody>\n",
       "    <tr>\n",
       "      <th id=\"T_e7d4b_level0_row0\" class=\"row_heading level0 row0\" >208004</th>\n",
       "      <td id=\"T_e7d4b_row0_col0\" class=\"data row0 col0\" >248760</td>\n",
       "      <td id=\"T_e7d4b_row0_col1\" class=\"data row0 col1\" >The Devil's Advocate</td>\n",
       "      <td id=\"T_e7d4b_row0_col2\" class=\"data row0 col2\" >5777</td>\n",
       "      <td id=\"T_e7d4b_row0_col3\" class=\"data row0 col3\" ><a target=\"_blank\" href=\"https://www.goodreads.com/book/show/248760.The_Devil_s_Advocate\">Goodreads</a></td>\n",
       "      <td id=\"T_e7d4b_row0_col4\" class=\"data row0 col4\" ><a href=\"https://s.gr-assets.com/assets/nophoto/book/111x148-bcc042a9c91a29c1d680899eff700a03.png\"><img src=\"https://s.gr-assets.com/assets/nophoto/book/111x148-bcc042a9c91a29c1d680899eff700a03.png\" width=50></img></a></td>\n",
       "      <td id=\"T_e7d4b_row0_col5\" class=\"data row0 col5\" >the devils advocate</td>\n",
       "    </tr>\n",
       "    <tr>\n",
       "      <th id=\"T_e7d4b_level0_row1\" class=\"row_heading level0 row1\" >1038552</th>\n",
       "      <td id=\"T_e7d4b_row1_col0\" class=\"data row1 col0\" >15780350</td>\n",
       "      <td id=\"T_e7d4b_row1_col1\" class=\"data row1 col1\" >The Advocate</td>\n",
       "      <td id=\"T_e7d4b_row1_col2\" class=\"data row1 col2\" >3765</td>\n",
       "      <td id=\"T_e7d4b_row1_col3\" class=\"data row1 col3\" ><a target=\"_blank\" href=\"https://www.goodreads.com/book/show/15780350-the-advocate\">Goodreads</a></td>\n",
       "      <td id=\"T_e7d4b_row1_col4\" class=\"data row1 col4\" ><a href=\"https://images.gr-assets.com/books/1343794902m/15780350.jpg\"><img src=\"https://images.gr-assets.com/books/1343794902m/15780350.jpg\" width=50></img></a></td>\n",
       "      <td id=\"T_e7d4b_row1_col5\" class=\"data row1 col5\" >the advocate</td>\n",
       "    </tr>\n",
       "    <tr>\n",
       "      <th id=\"T_e7d4b_level0_row2\" class=\"row_heading level0 row2\" >955592</th>\n",
       "      <td id=\"T_e7d4b_row2_col0\" class=\"data row2 col0\" >15784613</td>\n",
       "      <td id=\"T_e7d4b_row2_col1\" class=\"data row2 col1\" >The Devil's Metal (Devils, #1)</td>\n",
       "      <td id=\"T_e7d4b_row2_col2\" class=\"data row2 col2\" >2217</td>\n",
       "      <td id=\"T_e7d4b_row2_col3\" class=\"data row2 col3\" ><a target=\"_blank\" href=\"https://www.goodreads.com/book/show/15784613-the-devil-s-metal\">Goodreads</a></td>\n",
       "      <td id=\"T_e7d4b_row2_col4\" class=\"data row2 col4\" ><a href=\"https://images.gr-assets.com/books/1378299173m/15784613.jpg\"><img src=\"https://images.gr-assets.com/books/1378299173m/15784613.jpg\" width=50></img></a></td>\n",
       "      <td id=\"T_e7d4b_row2_col5\" class=\"data row2 col5\" >the devils metal devils 1</td>\n",
       "    </tr>\n",
       "    <tr>\n",
       "      <th id=\"T_e7d4b_level0_row3\" class=\"row_heading level0 row3\" >746979</th>\n",
       "      <td id=\"T_e7d4b_row3_col0\" class=\"data row3 col0\" >18684303</td>\n",
       "      <td id=\"T_e7d4b_row3_col1\" class=\"data row3 col1\" >The Advocate's Betrayal (The Advocate #2)</td>\n",
       "      <td id=\"T_e7d4b_row3_col2\" class=\"data row3 col2\" >2063</td>\n",
       "      <td id=\"T_e7d4b_row3_col3\" class=\"data row3 col3\" ><a target=\"_blank\" href=\"https://www.goodreads.com/book/show/18684303-the-advocate-s-betrayal\">Goodreads</a></td>\n",
       "      <td id=\"T_e7d4b_row3_col4\" class=\"data row3 col4\" ><a href=\"https://s.gr-assets.com/assets/nophoto/book/111x148-bcc042a9c91a29c1d680899eff700a03.png\"><img src=\"https://s.gr-assets.com/assets/nophoto/book/111x148-bcc042a9c91a29c1d680899eff700a03.png\" width=50></img></a></td>\n",
       "      <td id=\"T_e7d4b_row3_col5\" class=\"data row3 col5\" >the advocates betrayal the advocate 2</td>\n",
       "    </tr>\n",
       "    <tr>\n",
       "      <th id=\"T_e7d4b_level0_row4\" class=\"row_heading level0 row4\" >124623</th>\n",
       "      <td id=\"T_e7d4b_row4_col0\" class=\"data row4 col0\" >538064</td>\n",
       "      <td id=\"T_e7d4b_row4_col1\" class=\"data row4 col1\" >The Devil's Love</td>\n",
       "      <td id=\"T_e7d4b_row4_col2\" class=\"data row4 col2\" >1997</td>\n",
       "      <td id=\"T_e7d4b_row4_col3\" class=\"data row4 col3\" ><a target=\"_blank\" href=\"https://www.goodreads.com/book/show/538064.The_Devil_s_Love\">Goodreads</a></td>\n",
       "      <td id=\"T_e7d4b_row4_col4\" class=\"data row4 col4\" ><a href=\"https://images.gr-assets.com/books/1331054084m/538064.jpg\"><img src=\"https://images.gr-assets.com/books/1331054084m/538064.jpg\" width=50></img></a></td>\n",
       "      <td id=\"T_e7d4b_row4_col5\" class=\"data row4 col5\" >the devils love</td>\n",
       "    </tr>\n",
       "  </tbody>\n",
       "</table>\n"
      ],
      "text/plain": [
       "<pandas.io.formats.style.Styler at 0x1ea33841630>"
      ]
     },
     "execution_count": 7,
     "metadata": {},
     "output_type": "execute_result"
    }
   ],
   "source": [
    "search_uni(\"Devil's Advocate\")"
   ]
  }
 ],
 "metadata": {
  "kernelspec": {
   "display_name": "Python 3",
   "language": "python",
   "name": "python3"
  },
  "language_info": {
   "codemirror_mode": {
    "name": "ipython",
    "version": 3
   },
   "file_extension": ".py",
   "mimetype": "text/x-python",
   "name": "python",
   "nbconvert_exporter": "python",
   "pygments_lexer": "ipython3",
   "version": "3.10.11"
  }
 },
 "nbformat": 4,
 "nbformat_minor": 2
}
