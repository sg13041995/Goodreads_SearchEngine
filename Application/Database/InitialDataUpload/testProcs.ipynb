{
 "cells": [
  {
   "cell_type": "markdown",
   "metadata": {},
   "source": [
    "**Modules**"
   ]
  },
  {
   "cell_type": "code",
   "execution_count": 1,
   "metadata": {},
   "outputs": [],
   "source": [
    "import pandas as pd\n",
    "\n",
    "from configparser import ConfigParser\n",
    "from mysql.connector import MySQLConnection,Error\n",
    "from datetime import datetime"
   ]
  },
  {
   "cell_type": "markdown",
   "metadata": {},
   "source": [
    "**Config reading and parsing**"
   ]
  },
  {
   "cell_type": "code",
   "execution_count": 2,
   "metadata": {},
   "outputs": [
    {
     "name": "stdout",
     "output_type": "stream",
     "text": [
      "{'host': '127.0.0.1', 'port': '99966', 'database': 'books', 'user': 'root', 'password': 'Milla123!'}\n"
     ]
    }
   ],
   "source": [
    "# reading database credentials from config.ini file\n",
    "\n",
    "def read(filename='config.ini',section='mysql'):\n",
    "    parser=ConfigParser()\n",
    "    parser.read(filename)\n",
    "    \n",
    "    db={}\n",
    "    \n",
    "    if parser.has_section(section):\n",
    "        items=parser.items(section)\n",
    "        for item in items:\n",
    "            db[item[0]]=item[1]\n",
    "    else:\n",
    "        raise Exception(f'{section} not found in file {filename}')\n",
    "    return db \n",
    "\n",
    "\n",
    "print(read(filename=\"config.ini\",section=\"mysql\"))"
   ]
  },
  {
   "cell_type": "markdown",
   "metadata": {},
   "source": [
    "**Connecting with MySQL/MariaDB database server and getting the connection and cursor object**"
   ]
  },
  {
   "cell_type": "code",
   "execution_count": 3,
   "metadata": {},
   "outputs": [
    {
     "name": "stdout",
     "output_type": "stream",
     "text": [
      "Connecting to MySQL database...\n",
      "Connection established\n"
     ]
    }
   ],
   "source": [
    "def connect(creds):\n",
    "    con=None\n",
    "    try:\n",
    "        print('Connecting to MySQL database...')\n",
    "        con=MySQLConnection(**creds)\n",
    "        \n",
    "        \n",
    "        if con.is_connected():\n",
    "            print('Connection established')\n",
    "            cus = con.cursor(buffered=True)\n",
    "        else:\n",
    "            print('Connection failed')\n",
    "            \n",
    "    except Error as e:\n",
    "        print(e)\n",
    "    finally:\n",
    "        return con,cus\n",
    "    \n",
    "cn,cs=connect(creds=read(filename=\"config.ini\",section=\"mysql\"))"
   ]
  },
  {
   "cell_type": "markdown",
   "metadata": {},
   "source": [
    "**Database column details**"
   ]
  },
  {
   "cell_type": "markdown",
   "metadata": {},
   "source": [
    "```\n",
    "gr_book_id bigint(20) \n",
    "book_title text \n",
    "book_title_mod text \n",
    "book_title_series text \n",
    "book_title_series_mod text \n",
    "book_description text \n",
    "book_ratings_count int(11) \n",
    "book_average_rating float \n",
    "book_num_pages int(11) \n",
    "book_publication_day tinyint(4) \n",
    "book_publication_month tinyint(4) \n",
    "book_publication_year int(11) \n",
    "book_isbn text \n",
    "book_isbn13 text \n",
    "book_publisher varchar(500) \n",
    "book_country_code varchar(100) \n",
    "book_language_code varchar(100) \n",
    "book_url text \n",
    "book_image_url text \n",
    "book_link text\n",
    "```"
   ]
  },
  {
   "cell_type": "markdown",
   "metadata": {},
   "source": [
    "**Reading the data**"
   ]
  },
  {
   "cell_type": "code",
   "execution_count": 4,
   "metadata": {},
   "outputs": [],
   "source": [
    "items = pd.read_parquet('../../../../../Datasets/Processed/books_SE_v5.parquet')"
   ]
  },
  {
   "cell_type": "code",
   "execution_count": 5,
   "metadata": {},
   "outputs": [
    {
     "data": {
      "text/plain": [
       "(2113033, 20)"
      ]
     },
     "execution_count": 5,
     "metadata": {},
     "output_type": "execute_result"
    }
   ],
   "source": [
    "items.shape"
   ]
  },
  {
   "cell_type": "code",
   "execution_count": 6,
   "metadata": {},
   "outputs": [
    {
     "data": {
      "text/html": [
       "<div>\n",
       "<style scoped>\n",
       "    .dataframe tbody tr th:only-of-type {\n",
       "        vertical-align: middle;\n",
       "    }\n",
       "\n",
       "    .dataframe tbody tr th {\n",
       "        vertical-align: top;\n",
       "    }\n",
       "\n",
       "    .dataframe thead th {\n",
       "        text-align: right;\n",
       "    }\n",
       "</style>\n",
       "<table border=\"1\" class=\"dataframe\">\n",
       "  <thead>\n",
       "    <tr style=\"text-align: right;\">\n",
       "      <th></th>\n",
       "      <th>isbn</th>\n",
       "      <th>country_code</th>\n",
       "      <th>language_code</th>\n",
       "      <th>average_rating</th>\n",
       "      <th>description</th>\n",
       "      <th>link</th>\n",
       "      <th>publisher</th>\n",
       "      <th>num_pages</th>\n",
       "      <th>publication_day</th>\n",
       "      <th>isbn13</th>\n",
       "      <th>publication_month</th>\n",
       "      <th>publication_year</th>\n",
       "      <th>url</th>\n",
       "      <th>image_url</th>\n",
       "      <th>book_id</th>\n",
       "      <th>ratings_count</th>\n",
       "      <th>title</th>\n",
       "      <th>title_without_series</th>\n",
       "      <th>mod_title</th>\n",
       "      <th>mod_title_without_series</th>\n",
       "    </tr>\n",
       "  </thead>\n",
       "  <tbody>\n",
       "    <tr>\n",
       "      <th>0</th>\n",
       "      <td>0312853122</td>\n",
       "      <td>US</td>\n",
       "      <td></td>\n",
       "      <td>4.00</td>\n",
       "      <td></td>\n",
       "      <td>https://www.goodreads.com/book/show/5333265-w-...</td>\n",
       "      <td>St. Martin's Press</td>\n",
       "      <td>256</td>\n",
       "      <td>1</td>\n",
       "      <td>9780312853129</td>\n",
       "      <td>9</td>\n",
       "      <td>1984</td>\n",
       "      <td>https://www.goodreads.com/book/show/5333265-w-...</td>\n",
       "      <td>https://images.gr-assets.com/books/1310220028m...</td>\n",
       "      <td>5333265</td>\n",
       "      <td>3</td>\n",
       "      <td>W.C. Fields: A Life on Film</td>\n",
       "      <td>W.C. Fields: A Life on Film</td>\n",
       "      <td>wc fields a life on film</td>\n",
       "      <td>wc fields a life on film</td>\n",
       "    </tr>\n",
       "    <tr>\n",
       "      <th>1</th>\n",
       "      <td>0743509986</td>\n",
       "      <td>US</td>\n",
       "      <td></td>\n",
       "      <td>3.23</td>\n",
       "      <td>Anita Diamant's international bestseller \"The ...</td>\n",
       "      <td>https://www.goodreads.com/book/show/1333909.Go...</td>\n",
       "      <td>Simon &amp; Schuster Audio</td>\n",
       "      <td>0</td>\n",
       "      <td>1</td>\n",
       "      <td>9780743509985</td>\n",
       "      <td>10</td>\n",
       "      <td>2001</td>\n",
       "      <td>https://www.goodreads.com/book/show/1333909.Go...</td>\n",
       "      <td>https://s.gr-assets.com/assets/nophoto/book/11...</td>\n",
       "      <td>1333909</td>\n",
       "      <td>10</td>\n",
       "      <td>Good Harbor</td>\n",
       "      <td>Good Harbor</td>\n",
       "      <td>good harbor</td>\n",
       "      <td>good harbor</td>\n",
       "    </tr>\n",
       "    <tr>\n",
       "      <th>2</th>\n",
       "      <td></td>\n",
       "      <td>US</td>\n",
       "      <td>eng</td>\n",
       "      <td>4.03</td>\n",
       "      <td>Omnibus book club edition containing the Ladie...</td>\n",
       "      <td>https://www.goodreads.com/book/show/7327624-th...</td>\n",
       "      <td>Nelson Doubleday, Inc.</td>\n",
       "      <td>600</td>\n",
       "      <td>0</td>\n",
       "      <td></td>\n",
       "      <td>0</td>\n",
       "      <td>1987</td>\n",
       "      <td>https://www.goodreads.com/book/show/7327624-th...</td>\n",
       "      <td>https://images.gr-assets.com/books/1304100136m...</td>\n",
       "      <td>7327624</td>\n",
       "      <td>140</td>\n",
       "      <td>The Unschooled Wizard (Sun Wolf and Starhawk, ...</td>\n",
       "      <td>The Unschooled Wizard (Sun Wolf and Starhawk, ...</td>\n",
       "      <td>the unschooled wizard sun wolf and starhawk 12</td>\n",
       "      <td>the unschooled wizard sun wolf and starhawk 12</td>\n",
       "    </tr>\n",
       "    <tr>\n",
       "      <th>3</th>\n",
       "      <td>0743294297</td>\n",
       "      <td>US</td>\n",
       "      <td>eng</td>\n",
       "      <td>3.49</td>\n",
       "      <td>Addie Downs and Valerie Adler were eight when ...</td>\n",
       "      <td>https://www.goodreads.com/book/show/6066819-be...</td>\n",
       "      <td>Atria Books</td>\n",
       "      <td>368</td>\n",
       "      <td>14</td>\n",
       "      <td>9780743294294</td>\n",
       "      <td>7</td>\n",
       "      <td>2009</td>\n",
       "      <td>https://www.goodreads.com/book/show/6066819-be...</td>\n",
       "      <td>https://s.gr-assets.com/assets/nophoto/book/11...</td>\n",
       "      <td>6066819</td>\n",
       "      <td>51184</td>\n",
       "      <td>Best Friends Forever</td>\n",
       "      <td>Best Friends Forever</td>\n",
       "      <td>best friends forever</td>\n",
       "      <td>best friends forever</td>\n",
       "    </tr>\n",
       "    <tr>\n",
       "      <th>4</th>\n",
       "      <td>0850308712</td>\n",
       "      <td>US</td>\n",
       "      <td></td>\n",
       "      <td>3.40</td>\n",
       "      <td></td>\n",
       "      <td>https://www.goodreads.com/book/show/287140.Run...</td>\n",
       "      <td></td>\n",
       "      <td>0</td>\n",
       "      <td>0</td>\n",
       "      <td>9780850308716</td>\n",
       "      <td>0</td>\n",
       "      <td>0</td>\n",
       "      <td>https://www.goodreads.com/book/show/287140.Run...</td>\n",
       "      <td>https://images.gr-assets.com/books/1413219371m...</td>\n",
       "      <td>287140</td>\n",
       "      <td>15</td>\n",
       "      <td>Runic Astrology: Starcraft and Timekeeping in ...</td>\n",
       "      <td>Runic Astrology: Starcraft and Timekeeping in ...</td>\n",
       "      <td>runic astrology starcraft and timekeeping in t...</td>\n",
       "      <td>runic astrology starcraft and timekeeping in t...</td>\n",
       "    </tr>\n",
       "  </tbody>\n",
       "</table>\n",
       "</div>"
      ],
      "text/plain": [
       "         isbn country_code language_code  average_rating  \\\n",
       "0  0312853122           US                          4.00   \n",
       "1  0743509986           US                          3.23   \n",
       "2                       US           eng            4.03   \n",
       "3  0743294297           US           eng            3.49   \n",
       "4  0850308712           US                          3.40   \n",
       "\n",
       "                                         description  \\\n",
       "0                                                      \n",
       "1  Anita Diamant's international bestseller \"The ...   \n",
       "2  Omnibus book club edition containing the Ladie...   \n",
       "3  Addie Downs and Valerie Adler were eight when ...   \n",
       "4                                                      \n",
       "\n",
       "                                                link               publisher  \\\n",
       "0  https://www.goodreads.com/book/show/5333265-w-...      St. Martin's Press   \n",
       "1  https://www.goodreads.com/book/show/1333909.Go...  Simon & Schuster Audio   \n",
       "2  https://www.goodreads.com/book/show/7327624-th...  Nelson Doubleday, Inc.   \n",
       "3  https://www.goodreads.com/book/show/6066819-be...             Atria Books   \n",
       "4  https://www.goodreads.com/book/show/287140.Run...                           \n",
       "\n",
       "   num_pages  publication_day         isbn13  publication_month  \\\n",
       "0        256                1  9780312853129                  9   \n",
       "1          0                1  9780743509985                 10   \n",
       "2        600                0                                 0   \n",
       "3        368               14  9780743294294                  7   \n",
       "4          0                0  9780850308716                  0   \n",
       "\n",
       "   publication_year                                                url  \\\n",
       "0              1984  https://www.goodreads.com/book/show/5333265-w-...   \n",
       "1              2001  https://www.goodreads.com/book/show/1333909.Go...   \n",
       "2              1987  https://www.goodreads.com/book/show/7327624-th...   \n",
       "3              2009  https://www.goodreads.com/book/show/6066819-be...   \n",
       "4                 0  https://www.goodreads.com/book/show/287140.Run...   \n",
       "\n",
       "                                           image_url  book_id  ratings_count  \\\n",
       "0  https://images.gr-assets.com/books/1310220028m...  5333265              3   \n",
       "1  https://s.gr-assets.com/assets/nophoto/book/11...  1333909             10   \n",
       "2  https://images.gr-assets.com/books/1304100136m...  7327624            140   \n",
       "3  https://s.gr-assets.com/assets/nophoto/book/11...  6066819          51184   \n",
       "4  https://images.gr-assets.com/books/1413219371m...   287140             15   \n",
       "\n",
       "                                               title  \\\n",
       "0                        W.C. Fields: A Life on Film   \n",
       "1                                        Good Harbor   \n",
       "2  The Unschooled Wizard (Sun Wolf and Starhawk, ...   \n",
       "3                               Best Friends Forever   \n",
       "4  Runic Astrology: Starcraft and Timekeeping in ...   \n",
       "\n",
       "                                title_without_series  \\\n",
       "0                        W.C. Fields: A Life on Film   \n",
       "1                                        Good Harbor   \n",
       "2  The Unschooled Wizard (Sun Wolf and Starhawk, ...   \n",
       "3                               Best Friends Forever   \n",
       "4  Runic Astrology: Starcraft and Timekeeping in ...   \n",
       "\n",
       "                                           mod_title  \\\n",
       "0                           wc fields a life on film   \n",
       "1                                        good harbor   \n",
       "2     the unschooled wizard sun wolf and starhawk 12   \n",
       "3                               best friends forever   \n",
       "4  runic astrology starcraft and timekeeping in t...   \n",
       "\n",
       "                            mod_title_without_series  \n",
       "0                           wc fields a life on film  \n",
       "1                                        good harbor  \n",
       "2     the unschooled wizard sun wolf and starhawk 12  \n",
       "3                               best friends forever  \n",
       "4  runic astrology starcraft and timekeeping in t...  "
      ]
     },
     "execution_count": 6,
     "metadata": {},
     "output_type": "execute_result"
    }
   ],
   "source": [
    "items.head()"
   ]
  },
  {
   "cell_type": "markdown",
   "metadata": {},
   "source": [
    "**Dataframe column names and corresponding database column names**\n",
    "- book_id -> gr_book_id \n",
    "- title_without_series -> book_title\n",
    "- mod_title_without_series -> book_title_mod\n",
    "- title -> book_title_series\n",
    "- mod_title -> book_title_series_mod\n",
    "- description -> book_description\n",
    "- ratings_count -> book_ratings_count\n",
    "- average_rating -> book_average_rating\n",
    "- num_pages -> book_num_pages\n",
    "- publication_day -> book_publication_day\n",
    "- publication_month -> book_publication_month\n",
    "- publication_year -> book_publication_year\n",
    "- isbn -> book_isbn\n",
    "- isbn13 -> book_isbn13\n",
    "- publisher -> book_publisher\n",
    "- country_code -> book_country_code\n",
    "- language_code -> book_language_code\n",
    "- url -> book_url\n",
    "- link -> book_link"
   ]
  },
  {
   "cell_type": "markdown",
   "metadata": {},
   "source": [
    "**Database column names list**"
   ]
  },
  {
   "cell_type": "code",
   "execution_count": 7,
   "metadata": {},
   "outputs": [
    {
     "data": {
      "text/plain": [
       "20"
      ]
     },
     "execution_count": 7,
     "metadata": {},
     "output_type": "execute_result"
    }
   ],
   "source": [
    "database_columns = [\n",
    "\"gr_book_id\",\n",
    "\"book_title\",\n",
    "\"book_title_mod\",\n",
    "\"book_title_series\",\n",
    "\"book_title_series_mod\",\n",
    "\"book_description\",\n",
    "\"book_ratings_count\",\n",
    "\"book_average_rating\",\n",
    "\"book_num_pages\",\n",
    "\"book_publication_day\",\n",
    "\"book_publication_month\",\n",
    "\"book_publication_year\",\n",
    "\"book_isbn\",\n",
    "\"book_isbn13\",\n",
    "\"book_publisher\",\n",
    "\"book_country_code\",\n",
    "\"book_language_code\",\n",
    "\"book_url\",\n",
    "\"book_image_url\",\n",
    "\"book_link\",\n",
    "]\n",
    "\n",
    "len(database_columns)"
   ]
  },
  {
   "cell_type": "markdown",
   "metadata": {},
   "source": [
    "**Dataframe columns**"
   ]
  },
  {
   "cell_type": "code",
   "execution_count": 8,
   "metadata": {},
   "outputs": [
    {
     "name": "stdout",
     "output_type": "stream",
     "text": [
      "Index(['isbn', 'country_code', 'language_code', 'average_rating',\n",
      "       'description', 'link', 'publisher', 'num_pages', 'publication_day',\n",
      "       'isbn13', 'publication_month', 'publication_year', 'url', 'image_url',\n",
      "       'book_id', 'ratings_count', 'title', 'title_without_series',\n",
      "       'mod_title', 'mod_title_without_series'],\n",
      "      dtype='object')\n"
     ]
    },
    {
     "data": {
      "text/plain": [
       "20"
      ]
     },
     "execution_count": 8,
     "metadata": {},
     "output_type": "execute_result"
    }
   ],
   "source": [
    "print(items.columns)\n",
    "len(items.columns)"
   ]
  },
  {
   "cell_type": "markdown",
   "metadata": {},
   "source": [
    "**Properly arranging the dataframe column names as per database columns**"
   ]
  },
  {
   "cell_type": "code",
   "execution_count": 9,
   "metadata": {},
   "outputs": [
    {
     "data": {
      "text/plain": [
       "20"
      ]
     },
     "execution_count": 9,
     "metadata": {},
     "output_type": "execute_result"
    }
   ],
   "source": [
    "dataframe_columns = [\n",
    "\"book_id\",\n",
    "\"title_without_series\",\n",
    "\"mod_title\",\n",
    "\"title\",\n",
    "\"mod_title_without_series\",\n",
    "\"description\",\n",
    "\"ratings_count\",\n",
    "\"average_rating\",\n",
    "\"num_pages\",\n",
    "\"publication_day\",\n",
    "\"publication_month\",\n",
    "\"publication_year\",\n",
    "\"isbn\",\n",
    "\"isbn13\",\n",
    "\"publisher\",\n",
    "\"country_code\",\n",
    "\"language_code\",\n",
    "\"url\",\n",
    "\"image_url\",\n",
    "\"link\"\n",
    "]\n",
    "\n",
    "len(dataframe_columns)"
   ]
  },
  {
   "cell_type": "code",
   "execution_count": 25,
   "metadata": {},
   "outputs": [
    {
     "data": {
      "text/plain": [
       "book_id                                                               5333265\n",
       "title_without_series                              W.C. Fields: A Life on Film\n",
       "mod_title                                            wc fields a life on film\n",
       "title                                             W.C. Fields: A Life on Film\n",
       "mod_title_without_series                             wc fields a life on film\n",
       "description                                                                  \n",
       "ratings_count                                                               3\n",
       "average_rating                                                            4.0\n",
       "num_pages                                                                 256\n",
       "publication_day                                                             1\n",
       "publication_month                                                           9\n",
       "publication_year                                                         1984\n",
       "isbn                                                               0312853122\n",
       "isbn13                                                          9780312853129\n",
       "publisher                                                  St. Martin's Press\n",
       "country_code                                                               US\n",
       "language_code                                                                \n",
       "url                         https://www.goodreads.com/book/show/5333265-w-...\n",
       "image_url                   https://images.gr-assets.com/books/1310220028m...\n",
       "link                        https://www.goodreads.com/book/show/5333265-w-...\n",
       "Name: 0, dtype: object"
      ]
     },
     "execution_count": 25,
     "metadata": {},
     "output_type": "execute_result"
    }
   ],
   "source": [
    "items.loc[0, dataframe_columns]"
   ]
  },
  {
   "cell_type": "code",
   "execution_count": 26,
   "metadata": {},
   "outputs": [
    {
     "data": {
      "text/plain": [
       "array(['5333265', 'W.C. Fields: A Life on Film',\n",
       "       'wc fields a life on film', 'W.C. Fields: A Life on Film',\n",
       "       'wc fields a life on film', '', 3, 4.0, 256, 1, 9, 1984,\n",
       "       '0312853122', '9780312853129', \"St. Martin's Press\", 'US', '',\n",
       "       'https://www.goodreads.com/book/show/5333265-w-c-fields',\n",
       "       'https://images.gr-assets.com/books/1310220028m/5333265.jpg',\n",
       "       'https://www.goodreads.com/book/show/5333265-w-c-fields'],\n",
       "      dtype=object)"
      ]
     },
     "execution_count": 26,
     "metadata": {},
     "output_type": "execute_result"
    }
   ],
   "source": [
    "items.loc[0, dataframe_columns].values"
   ]
  },
  {
   "cell_type": "markdown",
   "metadata": {},
   "source": [
    "**Checking the column datatypes before storing into the database**"
   ]
  },
  {
   "cell_type": "code",
   "execution_count": 27,
   "metadata": {},
   "outputs": [
    {
     "name": "stdout",
     "output_type": "stream",
     "text": [
      "book_id ->\t <class 'str'>\n",
      "title_without_series ->\t <class 'str'>\n",
      "mod_title ->\t <class 'str'>\n",
      "title ->\t <class 'str'>\n",
      "mod_title_without_series ->\t <class 'str'>\n",
      "description ->\t <class 'str'>\n",
      "ratings_count ->\t <class 'numpy.int64'>\n",
      "average_rating ->\t <class 'numpy.float64'>\n",
      "num_pages ->\t <class 'numpy.int64'>\n",
      "publication_day ->\t <class 'numpy.int64'>\n",
      "publication_month ->\t <class 'numpy.int64'>\n",
      "publication_year ->\t <class 'numpy.int64'>\n",
      "isbn ->\t <class 'str'>\n",
      "isbn13 ->\t <class 'str'>\n",
      "publisher ->\t <class 'str'>\n",
      "country_code ->\t <class 'str'>\n",
      "language_code ->\t <class 'str'>\n",
      "url ->\t <class 'str'>\n",
      "image_url ->\t <class 'str'>\n",
      "link ->\t <class 'str'>\n"
     ]
    }
   ],
   "source": [
    "for i in dataframe_columns:\n",
    "    print(f\"{i} ->\\t {type(items.loc[0, i])}\")"
   ]
  },
  {
   "cell_type": "code",
   "execution_count": 57,
   "metadata": {},
   "outputs": [],
   "source": [
    "proc_name = \"sp_create_book\"\n",
    "proc_args_initial = [0,1]\n",
    "proc_args_end = [0]\n",
    "\n",
    "procs_args_complete = []\n",
    "procs_args_complete.extend(proc_args_initial)\n",
    "procs_args_complete.extend(items.loc[0, dataframe_columns].values)\n",
    "procs_args_complete.extend(proc_args_end)"
   ]
  },
  {
   "cell_type": "code",
   "execution_count": 58,
   "metadata": {},
   "outputs": [
    {
     "data": {
      "text/plain": [
       "[0,\n",
       " 1,\n",
       " '5333265',\n",
       " 'W.C. Fields: A Life on Film',\n",
       " 'wc fields a life on film',\n",
       " 'W.C. Fields: A Life on Film',\n",
       " 'wc fields a life on film',\n",
       " '',\n",
       " 3,\n",
       " 4.0,\n",
       " 256,\n",
       " 1,\n",
       " 9,\n",
       " 1984,\n",
       " '0312853122',\n",
       " '9780312853129',\n",
       " \"St. Martin's Press\",\n",
       " 'US',\n",
       " '',\n",
       " 'https://www.goodreads.com/book/show/5333265-w-c-fields',\n",
       " 'https://images.gr-assets.com/books/1310220028m/5333265.jpg',\n",
       " 'https://www.goodreads.com/book/show/5333265-w-c-fields',\n",
       " 0]"
      ]
     },
     "execution_count": 58,
     "metadata": {},
     "output_type": "execute_result"
    }
   ],
   "source": [
    "procs_args_complete"
   ]
  },
  {
   "cell_type": "markdown",
   "metadata": {},
   "source": [
    "**Python 'numpy.int64' or 'numpy.float64' cannot be converted to a MySQL type**\n",
    "- We will convert `int64` and `float64` into `int` and `float`"
   ]
  },
  {
   "cell_type": "code",
   "execution_count": 59,
   "metadata": {},
   "outputs": [
    {
     "name": "stdout",
     "output_type": "stream",
     "text": [
      "0->\t0->\t\t<class 'int'>\n",
      "1->\t1->\t\t<class 'int'>\n",
      "2->\t5333265->\t\t<class 'str'>\n",
      "3->\tW.C. Fields: A Life on Film->\t\t<class 'str'>\n",
      "4->\twc fields a life on film->\t\t<class 'str'>\n",
      "5->\tW.C. Fields: A Life on Film->\t\t<class 'str'>\n",
      "6->\twc fields a life on film->\t\t<class 'str'>\n",
      "7->\t->\t\t<class 'str'>\n",
      "8->\t3->\t\t<class 'numpy.int64'>\n",
      "9->\t4.0->\t\t<class 'numpy.float64'>\n",
      "10->\t256->\t\t<class 'numpy.int64'>\n",
      "11->\t1->\t\t<class 'numpy.int64'>\n",
      "12->\t9->\t\t<class 'numpy.int64'>\n",
      "13->\t1984->\t\t<class 'numpy.int64'>\n",
      "14->\t0312853122->\t\t<class 'str'>\n",
      "15->\t9780312853129->\t\t<class 'str'>\n",
      "16->\tSt. Martin's Press->\t\t<class 'str'>\n",
      "17->\tUS->\t\t<class 'str'>\n",
      "18->\t->\t\t<class 'str'>\n",
      "19->\thttps://www.goodreads.com/book/show/5333265-w-c-fields->\t\t<class 'str'>\n",
      "20->\thttps://images.gr-assets.com/books/1310220028m/5333265.jpg->\t\t<class 'str'>\n",
      "21->\thttps://www.goodreads.com/book/show/5333265-w-c-fields->\t\t<class 'str'>\n",
      "22->\t0->\t\t<class 'int'>\n"
     ]
    }
   ],
   "source": [
    "for i, val in enumerate(procs_args_complete):\n",
    "    print(f\"{i}->\\t{val}->\\t\\t{type(val)}\")"
   ]
  },
  {
   "cell_type": "code",
   "execution_count": 60,
   "metadata": {},
   "outputs": [],
   "source": [
    "def tointfloat(data):\n",
    "    data[8] = int(data[8])\n",
    "    data[9] = float(data[9])\n",
    "    data[10] = int(data[10])\n",
    "    data[11] = int(data[11])\n",
    "    data[12] = int(data[12])\n",
    "    data[13] = int(data[13])\n",
    "\n",
    "    return data"
   ]
  },
  {
   "cell_type": "code",
   "execution_count": 61,
   "metadata": {},
   "outputs": [],
   "source": [
    "procs_args_complete = tointfloat(procs_args_complete)"
   ]
  },
  {
   "cell_type": "code",
   "execution_count": 62,
   "metadata": {},
   "outputs": [
    {
     "name": "stdout",
     "output_type": "stream",
     "text": [
      "0->\t0->\t\t<class 'int'>\n",
      "1->\t1->\t\t<class 'int'>\n",
      "2->\t5333265->\t\t<class 'str'>\n",
      "3->\tW.C. Fields: A Life on Film->\t\t<class 'str'>\n",
      "4->\twc fields a life on film->\t\t<class 'str'>\n",
      "5->\tW.C. Fields: A Life on Film->\t\t<class 'str'>\n",
      "6->\twc fields a life on film->\t\t<class 'str'>\n",
      "7->\t->\t\t<class 'str'>\n",
      "8->\t3->\t\t<class 'int'>\n",
      "9->\t4.0->\t\t<class 'float'>\n",
      "10->\t256->\t\t<class 'int'>\n",
      "11->\t1->\t\t<class 'int'>\n",
      "12->\t9->\t\t<class 'int'>\n",
      "13->\t1984->\t\t<class 'int'>\n",
      "14->\t0312853122->\t\t<class 'str'>\n",
      "15->\t9780312853129->\t\t<class 'str'>\n",
      "16->\tSt. Martin's Press->\t\t<class 'str'>\n",
      "17->\tUS->\t\t<class 'str'>\n",
      "18->\t->\t\t<class 'str'>\n",
      "19->\thttps://www.goodreads.com/book/show/5333265-w-c-fields->\t\t<class 'str'>\n",
      "20->\thttps://images.gr-assets.com/books/1310220028m/5333265.jpg->\t\t<class 'str'>\n",
      "21->\thttps://www.goodreads.com/book/show/5333265-w-c-fields->\t\t<class 'str'>\n",
      "22->\t0->\t\t<class 'int'>\n"
     ]
    }
   ],
   "source": [
    "for i, val in enumerate(procs_args_complete):\n",
    "    print(f\"{i}->\\t{val}->\\t\\t{type(val)}\")"
   ]
  },
  {
   "cell_type": "code",
   "execution_count": 63,
   "metadata": {},
   "outputs": [],
   "source": [
    "book_details = cs.callproc(procname=proc_name, args=tointfloat(procs_args_complete))"
   ]
  },
  {
   "cell_type": "code",
   "execution_count": 64,
   "metadata": {},
   "outputs": [
    {
     "data": {
      "text/plain": [
       "(0,\n",
       " 1,\n",
       " '5333265',\n",
       " 'W.C. Fields: A Life on Film',\n",
       " 'wc fields a life on film',\n",
       " 'W.C. Fields: A Life on Film',\n",
       " 'wc fields a life on film',\n",
       " '',\n",
       " 3,\n",
       " Decimal('4.0'),\n",
       " 256,\n",
       " 1,\n",
       " 9,\n",
       " 1984,\n",
       " '0312853122',\n",
       " '9780312853129',\n",
       " \"St. Martin's Press\",\n",
       " 'US',\n",
       " '',\n",
       " 'https://www.goodreads.com/book/show/5333265-w-c-fields',\n",
       " 'https://images.gr-assets.com/books/1310220028m/5333265.jpg',\n",
       " 'https://www.goodreads.com/book/show/5333265-w-c-fields',\n",
       " 4)"
      ]
     },
     "execution_count": 64,
     "metadata": {},
     "output_type": "execute_result"
    }
   ],
   "source": [
    "book_details"
   ]
  },
  {
   "cell_type": "code",
   "execution_count": 65,
   "metadata": {},
   "outputs": [],
   "source": [
    "cn.commit()"
   ]
  },
  {
   "cell_type": "markdown",
   "metadata": {},
   "source": [
    "- Note: \n",
    "  - Although `book_id` is `string` in here but it gets converted into `int` internally in the database"
   ]
  },
  {
   "cell_type": "markdown",
   "metadata": {},
   "source": [
    "**Fetching the books data using proc - `sp_get_book`**"
   ]
  },
  {
   "cell_type": "code",
   "execution_count": 66,
   "metadata": {},
   "outputs": [],
   "source": [
    "proc_name = \"sp_get_book\"\n",
    "\n",
    "proc_args_initial = [0]\n",
    "proc_args_rest = [\n",
    "    None,\n",
    "    None,\n",
    "    None,\n",
    "    None,\n",
    "    None,\n",
    "    None,\n",
    "    ]\n",
    "\n",
    "procs_args_complete = []\n",
    "procs_args_complete.extend(proc_args_initial)\n",
    "procs_args_complete.extend(proc_args_rest)"
   ]
  },
  {
   "cell_type": "code",
   "execution_count": 67,
   "metadata": {},
   "outputs": [
    {
     "data": {
      "text/plain": [
       "[0, None, None, None, None, None, None]"
      ]
     },
     "execution_count": 67,
     "metadata": {},
     "output_type": "execute_result"
    }
   ],
   "source": [
    "procs_args_complete"
   ]
  },
  {
   "cell_type": "code",
   "execution_count": 68,
   "metadata": {},
   "outputs": [
    {
     "data": {
      "text/plain": [
       "(0, None, None, None, None, None, None)"
      ]
     },
     "execution_count": 68,
     "metadata": {},
     "output_type": "execute_result"
    }
   ],
   "source": [
    "cs.callproc(proc_name, procs_args_complete)"
   ]
  },
  {
   "cell_type": "code",
   "execution_count": 69,
   "metadata": {},
   "outputs": [],
   "source": [
    "books = [r.fetchone() for r in cs.stored_results()]"
   ]
  },
  {
   "cell_type": "code",
   "execution_count": 70,
   "metadata": {},
   "outputs": [
    {
     "data": {
      "text/plain": [
       "[(4,\n",
       "  5333265,\n",
       "  'W.C. Fields: A Life on Film',\n",
       "  'wc fields a life on film',\n",
       "  'W.C. Fields: A Life on Film',\n",
       "  'wc fields a life on film',\n",
       "  '',\n",
       "  3,\n",
       "  4.0,\n",
       "  256,\n",
       "  1,\n",
       "  9,\n",
       "  1984,\n",
       "  '0312853122',\n",
       "  '9780312853129',\n",
       "  \"St. Martin's Press\",\n",
       "  'US',\n",
       "  '',\n",
       "  'https://www.goodreads.com/book/show/5333265-w-c-fields',\n",
       "  'https://images.gr-assets.com/books/1310220028m/5333265.jpg',\n",
       "  'https://www.goodreads.com/book/show/5333265-w-c-fields',\n",
       "  1,\n",
       "  1,\n",
       "  datetime.datetime(2023, 12, 22, 12, 35, 9),\n",
       "  1,\n",
       "  datetime.datetime(2023, 12, 22, 12, 35, 9))]"
      ]
     },
     "execution_count": 70,
     "metadata": {},
     "output_type": "execute_result"
    }
   ],
   "source": [
    "books"
   ]
  }
 ],
 "metadata": {
  "kernelspec": {
   "display_name": "Python 3",
   "language": "python",
   "name": "python3"
  },
  "language_info": {
   "codemirror_mode": {
    "name": "ipython",
    "version": 3
   },
   "file_extension": ".py",
   "mimetype": "text/x-python",
   "name": "python",
   "nbconvert_exporter": "python",
   "pygments_lexer": "ipython3",
   "version": "3.10.11"
  }
 },
 "nbformat": 4,
 "nbformat_minor": 2
}
