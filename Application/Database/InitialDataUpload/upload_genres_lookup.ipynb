{
 "cells": [
  {
   "cell_type": "code",
   "execution_count": 1,
   "metadata": {},
   "outputs": [],
   "source": [
    "from configparser import ConfigParser\n",
    "from mysql.connector import MySQLConnection,Error"
   ]
  },
  {
   "cell_type": "markdown",
   "metadata": {},
   "source": [
    "**Config reading and parsing**"
   ]
  },
  {
   "cell_type": "code",
   "execution_count": 2,
   "metadata": {},
   "outputs": [
    {
     "name": "stdout",
     "output_type": "stream",
     "text": [
      "{'host': '127.0.0.1', 'port': '99966', 'database': 'books', 'user': 'root', 'password': 'Milla123!'}\n"
     ]
    }
   ],
   "source": [
    "# reading database credentials from config.ini file\n",
    "\n",
    "def read(filename='config.ini',section='mysql'):\n",
    "    parser=ConfigParser()\n",
    "    parser.read(filename)\n",
    "    \n",
    "    db={}\n",
    "    \n",
    "    if parser.has_section(section):\n",
    "        items=parser.items(section)\n",
    "        for item in items:\n",
    "            db[item[0]]=item[1]\n",
    "    else:\n",
    "        raise Exception(f'{section} not found in file {filename}')\n",
    "    return db \n",
    "\n",
    "\n",
    "print(read(filename=\"config.ini\",section=\"mysql\"))"
   ]
  },
  {
   "cell_type": "markdown",
   "metadata": {},
   "source": [
    "**Connecting with MySQL/MariaDB database server and getting the connection and cursor object**"
   ]
  },
  {
   "cell_type": "code",
   "execution_count": 3,
   "metadata": {},
   "outputs": [
    {
     "name": "stdout",
     "output_type": "stream",
     "text": [
      "Connecting to MySQL database...\n",
      "Connection established\n"
     ]
    }
   ],
   "source": [
    "def connect(creds):\n",
    "    con=None\n",
    "    try:\n",
    "        print('Connecting to MySQL database...')\n",
    "        con=MySQLConnection(**creds)\n",
    "        \n",
    "        \n",
    "        if con.is_connected():\n",
    "            print('Connection established')\n",
    "            cus = con.cursor(buffered=True)\n",
    "        else:\n",
    "            print('Connection failed')\n",
    "            \n",
    "    except Error as e:\n",
    "        print(e)\n",
    "    finally:\n",
    "        return con,cus\n",
    "    \n",
    "cn,cs=connect(creds=read(filename=\"config.ini\",section=\"mysql\"))"
   ]
  },
  {
   "cell_type": "markdown",
   "metadata": {},
   "source": [
    "**Genres List**"
   ]
  },
  {
   "cell_type": "code",
   "execution_count": 4,
   "metadata": {},
   "outputs": [],
   "source": [
    "genres_lookup_list = ['biography',\n",
    "                      'children',\n",
    "                      'comics',\n",
    "                      'crime',\n",
    "                      'fantasy',\n",
    "                      'fiction',\n",
    "                      'graphic',\n",
    "                      'historical fiction',\n",
    "                      'history',\n",
    "                      'mystery',\n",
    "                      'non-fiction',\n",
    "                      'paranormal',\n",
    "                      'poetry',\n",
    "                      'romance',\n",
    "                      'thriller',\n",
    "                      'young-adult']"
   ]
  },
  {
   "cell_type": "code",
   "execution_count": 5,
   "metadata": {},
   "outputs": [],
   "source": [
    "def sp_create_genres_lookup(data,cs,proc_name=\"sp_create_genres_lookup\",initial=[0,1],end=[0]):\n",
    "    \n",
    "    procs_args_complete = []\n",
    "\n",
    "    procs_args_complete.extend(initial)\n",
    "    procs_args_complete.extend(data)\n",
    "    procs_args_complete.extend(end)\n",
    "\n",
    "    upload_details = cs.callproc(procname=proc_name, args=procs_args_complete)\n",
    "\n",
    "    return upload_details"
   ]
  },
  {
   "cell_type": "code",
   "execution_count": 6,
   "metadata": {},
   "outputs": [],
   "source": [
    "records = []\n",
    "\n",
    "for i in genres_lookup_list:\n",
    "    name = i\n",
    "    desc = i\n",
    "    records.append((name,desc)) "
   ]
  },
  {
   "cell_type": "code",
   "execution_count": 7,
   "metadata": {},
   "outputs": [
    {
     "data": {
      "text/plain": [
       "[('biography', 'biography'),\n",
       " ('children', 'children'),\n",
       " ('comics', 'comics'),\n",
       " ('crime', 'crime'),\n",
       " ('fantasy', 'fantasy'),\n",
       " ('fiction', 'fiction'),\n",
       " ('graphic', 'graphic'),\n",
       " ('historical fiction', 'historical fiction'),\n",
       " ('history', 'history'),\n",
       " ('mystery', 'mystery'),\n",
       " ('non-fiction', 'non-fiction'),\n",
       " ('paranormal', 'paranormal'),\n",
       " ('poetry', 'poetry'),\n",
       " ('romance', 'romance'),\n",
       " ('thriller', 'thriller'),\n",
       " ('young-adult', 'young-adult')]"
      ]
     },
     "execution_count": 7,
     "metadata": {},
     "output_type": "execute_result"
    }
   ],
   "source": [
    "records"
   ]
  },
  {
   "cell_type": "markdown",
   "metadata": {},
   "source": [
    "**Uploading the Complete Data into the Database**"
   ]
  },
  {
   "cell_type": "code",
   "execution_count": 8,
   "metadata": {},
   "outputs": [],
   "source": [
    "for i in records:\n",
    "    record = i\n",
    "    sp_create_genres_lookup(data=record,cs=cs,proc_name=\"sp_create_genres_lookup\",initial=[0,1],end=[0])\n",
    "\n",
    "cn.commit()"
   ]
  }
 ],
 "metadata": {
  "kernelspec": {
   "display_name": "Python 3",
   "language": "python",
   "name": "python3"
  },
  "language_info": {
   "codemirror_mode": {
    "name": "ipython",
    "version": 3
   },
   "file_extension": ".py",
   "mimetype": "text/x-python",
   "name": "python",
   "nbconvert_exporter": "python",
   "pygments_lexer": "ipython3",
   "version": "3.10.11"
  }
 },
 "nbformat": 4,
 "nbformat_minor": 2
}
