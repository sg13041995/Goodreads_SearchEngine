{
 "cells": [
  {
   "cell_type": "code",
   "execution_count": 1,
   "metadata": {},
   "outputs": [],
   "source": [
    "import pandas as pd\n",
    "\n",
    "from configparser import ConfigParser\n",
    "from mysql.connector import MySQLConnection,Error"
   ]
  },
  {
   "cell_type": "code",
   "execution_count": 2,
   "metadata": {},
   "outputs": [],
   "source": [
    "items = pd.read_parquet('../../../../../Datasets/Processed/books_SE_v5.parquet')"
   ]
  },
  {
   "cell_type": "code",
   "execution_count": 11,
   "metadata": {},
   "outputs": [
    {
     "data": {
      "text/plain": [
       "2113033"
      ]
     },
     "execution_count": 11,
     "metadata": {},
     "output_type": "execute_result"
    }
   ],
   "source": [
    "len(items)"
   ]
  },
  {
   "cell_type": "code",
   "execution_count": 3,
   "metadata": {},
   "outputs": [],
   "source": [
    "dataframe_columns = [\n",
    "    \"book_id\",\n",
    "    \"title_without_series\",\n",
    "    \"mod_title\",\n",
    "    \"title\",\n",
    "    \"mod_title_without_series\",\n",
    "    \"description\",\n",
    "    \"ratings_count\",\n",
    "    \"average_rating\",\n",
    "    \"num_pages\",\n",
    "    \"publication_day\",\n",
    "    \"publication_month\",\n",
    "    \"publication_year\",\n",
    "    \"isbn\",\n",
    "    \"isbn13\",\n",
    "    \"publisher\",\n",
    "    \"country_code\",\n",
    "    \"language_code\",\n",
    "    \"url\",\n",
    "    \"image_url\",\n",
    "    \"link\"\n",
    "]"
   ]
  },
  {
   "cell_type": "markdown",
   "metadata": {},
   "source": [
    "**Function to fetch one row at a time from the dataframe**"
   ]
  },
  {
   "cell_type": "code",
   "execution_count": 4,
   "metadata": {},
   "outputs": [],
   "source": [
    "def getrow(df,dataframe_columns=dataframe_columns,row_num=0):\n",
    "    return df.loc[row_num,dataframe_columns].values"
   ]
  },
  {
   "cell_type": "markdown",
   "metadata": {},
   "source": [
    "**Test the function**"
   ]
  },
  {
   "cell_type": "code",
   "execution_count": 21,
   "metadata": {},
   "outputs": [
    {
     "data": {
      "text/plain": [
       "array(['5333265', 'W.C. Fields: A Life on Film',\n",
       "       'wc fields a life on film', 'W.C. Fields: A Life on Film',\n",
       "       'wc fields a life on film', '', 3, 4.0, 256, 1, 9, 1984,\n",
       "       '0312853122', '9780312853129', \"St. Martin's Press\", 'US', '',\n",
       "       'https://www.goodreads.com/book/show/5333265-w-c-fields',\n",
       "       'https://images.gr-assets.com/books/1310220028m/5333265.jpg',\n",
       "       'https://www.goodreads.com/book/show/5333265-w-c-fields'],\n",
       "      dtype=object)"
      ]
     },
     "execution_count": 21,
     "metadata": {},
     "output_type": "execute_result"
    }
   ],
   "source": [
    "getrow(df=items,row_num=0)"
   ]
  },
  {
   "cell_type": "markdown",
   "metadata": {},
   "source": [
    "**Function to change the datatype**\n",
    "- We will convert `numpy.int64` and `numpy.float64` into `int` and `float`"
   ]
  },
  {
   "cell_type": "code",
   "execution_count": 5,
   "metadata": {},
   "outputs": [],
   "source": [
    "def tointfloat(data):\n",
    "    data[8] = int(data[8])\n",
    "    data[9] = float(data[9])\n",
    "    data[10] = int(data[10])\n",
    "    data[11] = int(data[11])\n",
    "    data[12] = int(data[12])\n",
    "    data[13] = int(data[13])\n",
    "\n",
    "    return data"
   ]
  },
  {
   "cell_type": "markdown",
   "metadata": {},
   "source": [
    "**function for `sp_create_book` proc**"
   ]
  },
  {
   "cell_type": "code",
   "execution_count": 6,
   "metadata": {},
   "outputs": [],
   "source": [
    "def sp_create_book(data,cs,proc_name=\"sp_create_book\",initial=[0,1],end=[0]):\n",
    "    \n",
    "    procs_args_complete = []\n",
    "\n",
    "    procs_args_complete.extend(initial)\n",
    "    procs_args_complete.extend(data)\n",
    "    procs_args_complete.extend(end)\n",
    "\n",
    "    upload_details = cs.callproc(procname=proc_name, args=tointfloat(procs_args_complete))\n",
    "\n",
    "    return upload_details"
   ]
  },
  {
   "cell_type": "markdown",
   "metadata": {},
   "source": [
    "**Config reading and parsing**"
   ]
  },
  {
   "cell_type": "code",
   "execution_count": 7,
   "metadata": {},
   "outputs": [
    {
     "name": "stdout",
     "output_type": "stream",
     "text": [
      "{'host': '127.0.0.1', 'port': '99966', 'database': 'books', 'user': 'root', 'password': 'Milla123!'}\n"
     ]
    }
   ],
   "source": [
    "# reading database credentials from config.ini file\n",
    "\n",
    "def read(filename='config.ini',section='mysql'):\n",
    "    parser=ConfigParser()\n",
    "    parser.read(filename)\n",
    "    \n",
    "    db={}\n",
    "    \n",
    "    if parser.has_section(section):\n",
    "        items=parser.items(section)\n",
    "        for item in items:\n",
    "            db[item[0]]=item[1]\n",
    "    else:\n",
    "        raise Exception(f'{section} not found in file {filename}')\n",
    "    return db \n",
    "\n",
    "\n",
    "print(read(filename=\"config.ini\",section=\"mysql\"))"
   ]
  },
  {
   "cell_type": "markdown",
   "metadata": {},
   "source": [
    "**Connecting with MySQL/MariaDB database server and getting the connection and cursor object**"
   ]
  },
  {
   "cell_type": "code",
   "execution_count": 8,
   "metadata": {},
   "outputs": [
    {
     "name": "stdout",
     "output_type": "stream",
     "text": [
      "Connecting to MySQL database...\n",
      "Connection established\n"
     ]
    }
   ],
   "source": [
    "def connect(creds):\n",
    "    con=None\n",
    "    try:\n",
    "        print('Connecting to MySQL database...')\n",
    "        con=MySQLConnection(**creds)\n",
    "        \n",
    "        \n",
    "        if con.is_connected():\n",
    "            print('Connection established')\n",
    "            cus = con.cursor(buffered=True)\n",
    "        else:\n",
    "            print('Connection failed')\n",
    "            \n",
    "    except Error as e:\n",
    "        print(e)\n",
    "    finally:\n",
    "        return con,cus\n",
    "    \n",
    "cn,cs=connect(creds=read(filename=\"config.ini\",section=\"mysql\"))"
   ]
  },
  {
   "cell_type": "markdown",
   "metadata": {},
   "source": [
    "### Uploading the Complete Data into the Database"
   ]
  },
  {
   "cell_type": "code",
   "execution_count": 10,
   "metadata": {},
   "outputs": [],
   "source": [
    "for i in range(items.shape[0]):\n",
    "    record = getrow(df=items,dataframe_columns=dataframe_columns,row_num=i)\n",
    "    sp_create_book(data=record,cs=cs,proc_name=\"sp_create_book\",initial=[0,1],end=[0])\n",
    "\n",
    "    if ((i%100000) == 0):\n",
    "        cn.commit()\n",
    "\n",
    "cn.commit()"
   ]
  }
 ],
 "metadata": {
  "kernelspec": {
   "display_name": "Python 3",
   "language": "python",
   "name": "python3"
  },
  "language_info": {
   "codemirror_mode": {
    "name": "ipython",
    "version": 3
   },
   "file_extension": ".py",
   "mimetype": "text/x-python",
   "name": "python",
   "nbconvert_exporter": "python",
   "pygments_lexer": "ipython3",
   "version": "3.10.11"
  }
 },
 "nbformat": 4,
 "nbformat_minor": 2
}
