{
 "cells": [
  {
   "cell_type": "markdown",
   "metadata": {},
   "source": [
    "**Modules**"
   ]
  },
  {
   "cell_type": "code",
   "execution_count": 1,
   "metadata": {},
   "outputs": [],
   "source": [
    "from semod import *"
   ]
  },
  {
   "cell_type": "markdown",
   "metadata": {},
   "source": [
    "**Connecting with the Database**"
   ]
  },
  {
   "cell_type": "code",
   "execution_count": 2,
   "metadata": {},
   "outputs": [
    {
     "name": "stdout",
     "output_type": "stream",
     "text": [
      "Connecting to MySQL database...\n",
      "Connection established\n"
     ]
    }
   ],
   "source": [
    "cn,cs=connect(creds=read(filename=\"config.ini\",section=\"mysql\"))"
   ]
  },
  {
   "cell_type": "markdown",
   "metadata": {},
   "source": [
    "**Importing trained models and other data**"
   ]
  },
  {
   "cell_type": "code",
   "execution_count": 3,
   "metadata": {},
   "outputs": [],
   "source": [
    "dictionary = joblib.load(\"./ModelMemory/title_without_series_dictionary.joblib\")\n",
    "bm25_index = joblib.load(\"./ModelMemory/title_without_series_matrix.joblib\")\n",
    "tfidf_model = joblib.load(\"./ModelMemory/title_without_series_tfidf_bnn.joblib\")"
   ]
  },
  {
   "cell_type": "markdown",
   "metadata": {},
   "source": [
    "**Getting best match indices against a query**"
   ]
  },
  {
   "cell_type": "code",
   "execution_count": 4,
   "metadata": {},
   "outputs": [
    {
     "name": "stdout",
     "output_type": "stream",
     "text": [
      "[1670907 1594932  499731 1137526 1395431  994463 2087728 1621212   30633\n",
      " 1096036   75470 1351654  802742 1898516  398866 1184608 1660455 1665463\n",
      " 2057185  638492  662041   31695 1834824 2065708  624087 2015402  179140\n",
      " 1617514 1825843  416478]\n"
     ]
    }
   ],
   "source": [
    "query_str = \"goblet fire\"\n",
    "\n",
    "indices = bm25_top_hits(query=query_str,\n",
    "                        tfidf_model=tfidf_model,\n",
    "                        bm25_index=bm25_index,\n",
    "                        dictionary=dictionary, \n",
    "                        n=30)\n",
    "print(indices)"
   ]
  },
  {
   "cell_type": "markdown",
   "metadata": {},
   "source": [
    "**Getting the records from the database using the indices**"
   ]
  },
  {
   "cell_type": "code",
   "execution_count": 9,
   "metadata": {},
   "outputs": [
    {
     "name": "stdout",
     "output_type": "stream",
     "text": [
      "[[(1670907, 17125270, 'The Goblet', 'the goblet', 'The Goblet', 'the goblet', \"While on a family trip to Israel, Sarah hasn't discovered just any goblet; she has come into possession of something not of this world. Something of Jesus's very own. The trip had been rocky so far. Sarah's husband, Bill, was distant as ever, and her son, Alex, is disagreeable as usual. Once Sarah gets the goblet, though, everything starts to Change. All of a sudden, Alex is enthusiastic about family events. Sarah soon comes to learn that this is no coincidence. Life starts to change back home as well. Sarah and her children go to church the first Sunday at home-which is a feat in itself-only to discover that Sarah's singing voice is inspiring everyone. The church goers all around her turn and are moved by Sarah's angelic voice, and she joins the church band. Everything is going right for Sarah. Well, almost everything. Her children are making better decisions, the church band is really taking off, but her husband still isn't living up to his obligations. In fact, Sarah discovers evil forces are at work in him, and he is trying to steal the goblet. On a last-minute trip back to Israel, can Sarah save the precious relic before Bill does the unthinkable? Find out in The Goblet.\", 19, 3.16, 196, 27, 11, 2012, '1621478734', '9781621478737', 'Tate Publishing & Enterprises', 'US', '', 'https://www.goodreads.com/book/show/17125270-the-goblet', 'https://images.gr-assets.com/books/1356112197m/17125270.jpg', 'https://www.goodreads.com/book/show/17125270-the-goblet'), (1594932, 17861465, 'Harry Potter and the Goblet of Fire', 'harry potter and the goblet of fire', 'Harry Potter and the Goblet of Fire', 'harry potter and the goblet of fire', \"Harry Potter is midway through both his training as a wizard and his coming of age. Harry wants to get away from the pernicious Dursleys and go to the International Quidditch Cup with Hermione, Ron, and the Weasleys. He wants to dream about Cho Chang, his crush (and maybe do more than dream). He wants to find out about the mysterious event that supposed to take place at Hogwarts this year, an event involving two other rival schools of magic, and a competition that hasn't happened for hundreds of years. He wants to be a normal, fourteen-year-old wizard. But unfortunately for Harry Potter, he's not normal - even by wizarding standards.\\nAnd in his case, different can be deadly.\", 174, 4.53, 21, 29, 3, 2012, '1781102554', '9781781102558', 'Pottermore', 'US', 'eng', 'https://www.goodreads.com/book/show/17861465-harry-potter-and-the-goblet-of-fire', 'https://images.gr-assets.com/books/1379716227m/17861465.jpg', 'https://www.goodreads.com/book/show/17861465-harry-potter-and-the-goblet-of-fire'), (499731, 28754622, 'Harry Potter and the Goblet of Fire', 'harry potter and the goblet of fire', 'Harry Potter and the Goblet of Fire', 'harry potter and the goblet of fire', \"Harry Potter is midway through both his training as a wizard and his coming of age. Harry wants to get away from the pernicious Dursleys and go to the International Quidditch Cup with Hermione, Ron, and the Weasleys. He wants to dream about Cho Chang, his crush (and maybe do more than dream). He wants to find out about the mysterious event that supposed to take place at Hogwarts this year, an event involving two other rival schools of magic, and a competition that hasn't happened for hundreds of years. He wants to be a normal, fourteen-year-old wizard. But unfortunately for Harry Potter, he's not normal - even by wizarding standards.\\nAnd in his case, different can be deadly.\", 3314, 4.53, 0, 0, 0, 0, '', '', '', 'US', 'eng', 'https://www.goodreads.com/book/show/28754622-harry-potter-and-the-goblet-of-fire', 'https://s.gr-assets.com/assets/nophoto/book/111x148-bcc042a9c91a29c1d680899eff700a03.png', 'https://www.goodreads.com/book/show/28754622-harry-potter-and-the-goblet-of-fire'), (1137526, 29411410, 'Harry Potter and the Goblet of Fire', 'harry potter and the goblet of fire', 'Harry Potter and the Goblet of Fire', 'harry potter and the goblet of fire', \"Alternative cover edition of ASIN B0192CTMUU\\nThe summer holidays are dragging on and Harry Potter can't wait for the start of the school year. It is his fourth year at Hogwarts School of Witchcraft and Wizardry and there are spells to be learnt and (unluckily) Potions and Divination lessons to be attended. But Harry can't know that the atmosphere is darkening around him, and his worst enemy is preparing a fate that it seems will be inescapable ...With characteristic wit, fast-paced humour and marvellous emotional depth, J.K. Rowling has proved herself yet again to be a master story-teller\", 14, 4.53, 757, 8, 12, 2015, '', '', 'Pottermore from J.K. Rowling', 'US', 'eng', 'https://www.goodreads.com/book/show/29411410-harry-potter-and-the-goblet-of-fire', 'https://images.gr-assets.com/books/1457033767m/29411410.jpg', 'https://www.goodreads.com/book/show/29411410-harry-potter-and-the-goblet-of-fire'), (1395431, 23784313, 'Harry Potter and the Goblet of Fire', 'harry potter and the goblet of fire', 'Harry Potter and the Goblet of Fire', 'harry potter and the goblet of fire', \"Harry Potter is midway through both his training as a wizard and his coming of age. Harry wants to get away from the pernicious Dursleys and go to the International Quidditch Cup with Hermione, Ron, and the Weasleys. He wants to dream about Cho Chang, his crush (and maybe do more than dream). He wants to find out about the mysterious event that supposed to take place at Hogwarts this year, an event involving two other rival schools of magic, and a competition that hasn't happened for hundreds of years. He wants to be a normal, fourteen-year-old wizard. But unfortunately for Harry Potter, he's not normal - even by wizarding standards.\\nAnd in his case, different can be deadly.\", 46, 4.53, 636, 0, 11, 2011, '140882583X', '9781408825839', 'Bloomsbury', 'US', 'eng', 'https://www.goodreads.com/book/show/23784313-harry-potter-and-the-goblet-of-fire', 'https://images.gr-assets.com/books/1442436672m/23784313.jpg', 'https://www.goodreads.com/book/show/23784313-harry-potter-and-the-goblet-of-fire'), (994463, 13612286, 'Harry Potter and the Goblet of Fire', 'harry potter and the goblet of fire', 'Harry Potter and the Goblet of Fire', 'harry potter and the goblet of fire', \"Harry Potter is midway through both his training as a wizard and his coming of age. Harry wants to get away from the pernicious Dursleys and go to the International Quidditch Cup with Hermione, Ron, and the Weasleys. He wants to dream about Cho Chang, his crush (and maybe do more than dream). He wants to find out about the mysterious event that supposed to take place at Hogwarts this year, an event involving two other rival schools of magic, and a competition that hasn't happened for hundreds of years. He wants to be a normal, fourteen-year-old wizard. But unfortunately for Harry Potter, he's not normal - even by wizarding standards.\\nAnd in his case, different can be deadly.\", 25, 4.53, 21, 27, 3, 2012, '178110221X', '9781781102213', 'Helen Nicoll Publishing', 'US', 'eng', 'https://www.goodreads.com/book/show/13612286-harry-potter-and-the-goblet-of-fire', 'https://images.gr-assets.com/books/1335089366m/13612286.jpg', 'https://www.goodreads.com/book/show/13612286-harry-potter-and-the-goblet-of-fire'), (2087728, 31844151, 'Harry Potter and the Goblet of Fire', 'harry potter and the goblet of fire', 'Harry Potter and the Goblet of Fire', 'harry potter and the goblet of fire', '\"\\'There will be three tasks, spaced throughout the school year, and they will test the champions in many different ways ... their magical prowess - their daring - their powers of deduction - and, of course, their ability to cope with danger.\\'\" The Triwizard Tournament is to be held at Hogwarts. Only wizards who are over seventeen are allowed to enter - but that doesn\\'t stop Harry dreaming that he will win the competition. Then at Hallowe\\'en, when the Goblet of Fire makes its selection, Harry is amazed to find his name is one of those that the magical cup picks out. He will face death-defying tasks, dragons and Dark wizards, but with the help of his best friends, Ron and Hermione, he might just make it through - alive!', 7, 4.53, 640, 1, 8, 2016, '', '', 'Pottermore', 'US', 'eng', 'https://www.goodreads.com/book/show/31844151-harry-potter-and-the-goblet-of-fire', 'https://images.gr-assets.com/books/1473139609m/31844151.jpg', 'https://www.goodreads.com/book/show/31844151-harry-potter-and-the-goblet-of-fire'), (1621212, 7292005, 'Harry Potter and the Goblet of Fire', 'harry potter and the goblet of fire', 'Harry Potter and the Goblet of Fire', 'harry potter and the goblet of fire', \"Please note that the content of this book primarily consists of articles available from Wikipedia or other free sources online. Harry Potter and the Goblet of Fire is a 2005 fantasy adventure film, based on J. K. Rowling's novel of the same name. The film is the fourth installment in the Harry Potter film series, although 1492 Pictures decided to leave the series. The film was directed by Mike Newell and produced by David Heyman. The screenplay was penned by Steve Kloves. The film stars Daniel Radcliffe, Rupert Grint and Emma Watson as Harry Potter, Ron Weasley and Hermione Granger respectively. The film is set during the trio's fourth year at Hogwarts School of Witchcraft and Wizardry. A highly dangerous competition, the Triwizard Tournament, is being held at Hogwarts with only one student from each of the three competing schools selected to take part, but mystery occurs when the Goblet of Fire chooses Harry Potter as a fourth competitor. Filming began in early 2004 and the scenes of Hogwarts took place at the Leavesden Film Studios.\", 202, 4.3, 154, 28, 1, 2013, '6130218400', '9786130218409', 'Alphascript Publishing', 'US', '', 'https://www.goodreads.com/book/show/7292005-harry-potter-and-the-goblet-of-fire', 'https://s.gr-assets.com/assets/nophoto/book/111x148-bcc042a9c91a29c1d680899eff700a03.png', 'https://www.goodreads.com/book/show/7292005-harry-potter-and-the-goblet-of-fire'), (30633, 20330423, 'Harry Potter and the Goblet of Fire', 'harry potter and the goblet of fire', 'Harry Potter and the Goblet of Fire', 'harry potter and the goblet of fire', \"Harry Potter is midway through both his training as a wizard and he wants to get away from the pernicious Dursleys to attend the International Quidditch Cup with Hermione, Ron, and the Weasleys. Harry wants to find out about an event involving two other rival schools of magic and a competition that has happened for hundreds of years. Harry Potter wants to be a normal wizard, but he's not normal, and in his case, this can be deadly.\", 5, 4.53, 0, 0, 0, 0, '', '', '', 'US', 'eng', 'https://www.goodreads.com/book/show/20330423-harry-potter-and-the-goblet-of-fire', 'https://s.gr-assets.com/assets/nophoto/book/111x148-bcc042a9c91a29c1d680899eff700a03.png', 'https://www.goodreads.com/book/show/20330423-harry-potter-and-the-goblet-of-fire'), (1096036, 29538441, 'Harry Potter and the Goblet of Fire', 'harry potter and the goblet of fire', 'Harry Potter and the Goblet of Fire', 'harry potter and the goblet of fire', \"Harry Potter is midway through both his training as a wizard and his coming of age. Harry wants to get away from the pernicious Dursleys and go to the International Quidditch Cup with Hermione, Ron, and the Weasleys. He wants to dream about Cho Chang, his crush (and maybe do more than dream). He wants to find out about the mysterious event that supposed to take place at Hogwarts this year, an event involving two other rival schools of magic, and a competition that hasn't happened for hundreds of years. He wants to be a normal, fourteen-year-old wizard. But unfortunately for Harry Potter, he's not normal - even by wizarding standards.\\nAnd in his case, different can be deadly.\", 17, 4.53, 0, 0, 0, 0, '1131936507', '9781131936505', '', 'US', 'eng', 'https://www.goodreads.com/book/show/29538441-harry-potter-and-the-goblet-of-fire', 'https://s.gr-assets.com/assets/nophoto/book/111x148-bcc042a9c91a29c1d680899eff700a03.png', 'https://www.goodreads.com/book/show/29538441-harry-potter-and-the-goblet-of-fire'), (75470, 21385207, 'Harry Potter and the Goblet of Fire', 'harry potter and the goblet of fire', 'Harry Potter and the Goblet of Fire', 'harry potter and the goblet of fire', \"Harry Potter is midway through both his training as a wizard and his coming of age. Harry wants to get away from the pernicious Dursleys and go to the International Quidditch Cup with Hermione, Ron, and the Weasleys. He wants to dream about Cho Chang, his crush (and maybe do more than dream). He wants to find out about the mysterious event that supposed to take place at Hogwarts this year, an event involving two other rival schools of magic, and a competition that hasn't happened for hundreds of years. He wants to be a normal, fourteen-year-old wizard. But unfortunately for Harry Potter, he's not normal - even by wizarding standards.\\nAnd in his case, different can be deadly.\", 3, 4.53, 0, 0, 0, 0, '1408824108', '9781408824108', '', 'US', 'eng', 'https://www.goodreads.com/book/show/21385207-harry-potter-and-the-goblet-of-fire', 'https://s.gr-assets.com/assets/nophoto/book/111x148-bcc042a9c91a29c1d680899eff700a03.png', 'https://www.goodreads.com/book/show/21385207-harry-potter-and-the-goblet-of-fire'), (1351654, 1071182, 'Harry Potter and the Goblet of Fire', 'harry potter and the goblet of fire', 'Harry Potter and the Goblet of Fire', 'harry potter and the goblet of fire', 'In Harry Potter and the Goblet of Fire, J.K. Rowling offers up equal parts danger and delight--and any number of dragons, house-elves, and death-defying challenges. Now 14, her orphan hero has only two more weeks with his Muggle relatives before returning to Hogwarts School of Witchcraft and Wizardry. Yet one night a vision harrowing enough to make his lightning-bolt-shaped scar burn has Harry on edge and contacting his godfather-in-hiding, Sirius Black. Happily, the prospect of attending the season\\'s premier sporting event, the Quidditch World Cup, is enough to make Harry momentarily forget that Lord Voldemort and his sinister familiars--the Death Eaters--are out for murder.Readers, we will cast a giant invisibility cloak over any more plot and reveal only that You-Know-Who is very much after Harry and that this year there will be no Quidditch matches between Gryffindor, Ravenclaw, Hufflepuff, and Slytherin. Instead, Hogwarts will vie with two other magicians\\' schools, the stylish Beauxbatons and the icy Durmstrang, in a Triwizard Tournament. Those chosen to compete will undergo three supreme tests. Could Harry be one of the lucky contenders? \\nBut Quidditch buffs need not go into mourning: we get our share of this great game at the World Cup. Attempting to go incognito as Muggles, 100,000 witches and wizards converge on a \"nice deserted moor.\" As ever, Rowling magicks up the details that make her world so vivid, and so comic. Several spectators\\' tents, for instance, are entirely unquotidian. One is a minipalace, complete with live peacocks; another has three floors and multiple turrets. And the sports paraphernalia on offer includes rosettes \"squealing the names of the players\" as well as \"tiny models of Firebolts that really flew, and collectible figures of famous players, which strolled across the palm of your hand, preening themselves.\" Needless to say, the two teams are decidedly different, down to their mascots. Bulgaria is supported by the beautiful veela, who instantly enchant everyone--including Ireland\\'s supporters--over to their side. Until, that is, thousands of tiny cheerleaders engage in some pyrotechnics of their own: \"The leprechauns had risen into the air again, and this time, they formed a giant hand, which was making a very rude sign indeed at the veela across the field.\"\\nLong before her fourth installment appeared, Rowling warned that it would be darker, and it\\'s true that every exhilaration is equaled by a moment that has us fearing for Harry\\'s life, the book\\'s emotions running as deep as its dangers. Along the way, though, she conjures up such new characters as Alastor \"Mad-Eye\" Moody, a Dark Wizard catcher who may or may not be getting paranoid in his old age, and Rita Skeeter, who beetles around Hogwarts in search of stories. (This Daily Prophetscoop artist has a Quick-Quotes Quill that turns even the most innocent assertion into tabloid innuendo.) And at her bedazzling close, Rowling leaves several plot strands open, awaiting book 5. This fan is ready to wager that the author herself is part veela--her pen her wand, her commitment to her world complete. (Ages 9 and older) --Kerry Fried', 168, 4.53, 0, 0, 0, 2001, '1855494787', '9781855494787', 'Cover to Cover', 'US', 'eng', 'https://www.goodreads.com/book/show/1071182.Harry_Potter_and_the_Goblet_of_Fire', 'https://images.gr-assets.com/books/1361378666m/1071182.jpg', 'https://www.goodreads.com/book/show/1071182.Harry_Potter_and_the_Goblet_of_Fire'), (802742, 17987098, 'Harry Potter and the Goblet of Fire', 'harry potter and the goblet of fire', 'Harry Potter and the Goblet of Fire', 'harry potter and the goblet of fire', '\"This special edition of \"Harry Potter and the Goblet of Fire\" has a gorgeous new cover illustration by Kazu Kibuishi. Inside is the full text of the original novel, with decorations by Mary GrandPre.\\n\"\\nHarry Potter and the Goblet of Fire is the pivotal fourth novel in the seven-part tale of Harry Potter\\'s training as a wizard and his coming of age. Harry wants to get away from the pernicious Dursleys and go to the International Quidditch Cup with Hermione, Ron, and the Weasleys. He wants to dream about Cho Chang, his crush (and maybe do more than dream). He wants to find out about the mysterious event involving two other rival schools of magic, and a competition that hasn\\'t happened for a hundred years. He wants to be a normal, fourteen-year-old wizard. Unfortunately for Harry Potter, he\\'s not normal -- even by wizarding standards.\\nAnd in this case, different can be deadly.', 40, 4.53, 768, 27, 8, 2013, '0606323481', '9780606323482', 'Turtleback Books', 'US', 'eng', 'https://www.goodreads.com/book/show/17987098-harry-potter-and-the-goblet-of-fire', 'https://images.gr-assets.com/books/1382940550m/17987098.jpg', 'https://www.goodreads.com/book/show/17987098-harry-potter-and-the-goblet-of-fire'), (1898516, 714807, 'The Golden Goblet', 'the golden goblet', 'The Golden Goblet', 'the golden goblet', 'Ranofer struggles to thwart the plottings of his evil brother, Gebu, so he can become master goldsmith like their father in this exciting tale of ancient Egyptian mystery and intrigue. Newbery Honor Book', 5462, 3.77, 248, 0, 0, 1986, '0140303359', '9780140303353', 'Penguin Puffin', 'US', 'eng', 'https://www.goodreads.com/book/show/714807.The_Golden_Goblet', 'https://images.gr-assets.com/books/1391745251m/714807.jpg', 'https://www.goodreads.com/book/show/714807.The_Golden_Goblet'), (398866, 6033848, 'The Golden Goblet', 'the golden goblet', 'The Golden Goblet', 'the golden goblet', 'Ranofer struggles to thwart the plottings of his evil brother, Gebu, so he can become master goldsmith like their father in this exciting tale of ancient Egyptian mystery and intrigue. Newbery Honor Book', 101, 3.77, 248, 6, 5, 1986, '0785794697', '9780785794691', 'Turtleback Books', 'US', '', 'https://www.goodreads.com/book/show/6033848-the-golden-goblet', 'https://s.gr-assets.com/assets/nophoto/book/111x148-bcc042a9c91a29c1d680899eff700a03.png', 'https://www.goodreads.com/book/show/6033848-the-golden-goblet'), (1184608, 9351802, 'The Golden Goblet', 'the golden goblet', 'The Golden Goblet', 'the golden goblet', '\"Ranofer tried the box first. He found nothing there... The chest looked no more promising... There was something dark and curving in a corner, wrapped in a scarp of cotton rag... He tugged it out, jerked the cloth away impatiently and went numb all over with the shock of what he saw. There in his hand lay a gold goblet, he knew it must have been stolen from one of the great tombs in the City of the Dead. Ranofer also knew that in order to win his freedom he would have to prove that Gebu, his greedy half-brother, was the thief. The events that follow will surely excite the adventurous reader.', 40, 3.77, 248, 1, 5, 1986, '0780734297', '9780780734296', 'Perfection Learning', 'US', 'eng', 'https://www.goodreads.com/book/show/9351802-the-golden-goblet', 'https://s.gr-assets.com/assets/nophoto/book/111x148-bcc042a9c91a29c1d680899eff700a03.png', 'https://www.goodreads.com/book/show/9351802-the-golden-goblet'), (1660455, 3406842, 'The Golden Goblet', 'the golden goblet', 'The Golden Goblet', 'the golden goblet', 'Ranofer struggles to thwart the plottings of his evil brother, Gebu, so he can become master goldsmith like their father in this exciting tale of ancient Egyptian mystery and intrigue. Newbery Honor Book', 79, 3.77, 0, 0, 0, 0, '0590445529', '9780590445528', '', 'US', '', 'https://www.goodreads.com/book/show/3406842-the-golden-goblet', 'https://images.gr-assets.com/books/1263068743m/3406842.jpg', 'https://www.goodreads.com/book/show/3406842-the-golden-goblet'), (1665463, 305216, 'The Golden Goblet', 'the golden goblet', 'The Golden Goblet', 'the golden goblet', 'Ranofer struggles to thwart the plottings of his evil brother, Gebu, so he can become master goldsmith like their father in this exciting tale of ancient Egyptian mystery and intrigue. Newbery Honor Book', 9, 3.77, 0, 0, 0, 0, '3410303359', '9783410303350', '', 'US', '', 'https://www.goodreads.com/book/show/305216.The_Golden_Goblet', 'https://s.gr-assets.com/assets/nophoto/book/111x148-bcc042a9c91a29c1d680899eff700a03.png', 'https://www.goodreads.com/book/show/305216.The_Golden_Goblet'), (2057185, 6929046, 'The Goblet Club', 'the goblet club', 'The Goblet Club', 'the goblet club', \"When Mark is sent to St Matthew 's College for Boys, it is one more punishment for years of bad behavior. The school has a reputation for knocking boys like him into shape, run with an iron fist by the sinister headmaster, Mr. Crabtree. As soon as he arrives, Mark enters a sinister world of questions: what is Mr. Crabtree 's secret, and why does he have a miserable sixteen-year-old secretary? Are his new friends who they say they are? Mark sets out to find answers, with his friends, Trent, Vlad and Francis. Together, they are the Goblet Club, dedicated to the study of poisons. They begin to use their potions to rid the school of a plague of rats, but as Mark is drawn deeper in, their thoughts turn to murder This novel was the winner of the English category of Human & Rousseau 's I'm a Writer competition, held in co-operation with Huisgenoot, You and Drum magazines, SABC Education and RSG.\", 36, 3.75, 144, 15, 3, 2011, '0798148780', '9780798148788', 'Human & Rousseau', 'US', '', 'https://www.goodreads.com/book/show/6929046-the-goblet-club', 'https://s.gr-assets.com/assets/nophoto/book/111x148-bcc042a9c91a29c1d680899eff700a03.png', 'https://www.goodreads.com/book/show/6929046-the-goblet-club'), (638492, 26104336, 'Harry Potter & the Goblet of Fire (Harry Potter, #4)', 'harry potter the goblet of fire harry potter 4', 'Harry Potter & the Goblet of Fire (Harry Potter, #4)', 'harry potter the goblet of fire harry potter 4', \"When the Quidditch World Cup is disrupted by Voldemort's rampaging supporters alongside the resurrection of the terrifying Dark Mark, it is obvious to Harry Potter that, far from weakening, Voldemort is getting stronger. Back at Hogwarts for his fourth year, Harry is astonished to be chosen by the Goblet of Fire to represent the school in the Triwizard Tournament. The competition is dangerous, the tasks terrifying, and true courage is no guarantee of survival--especially when the darkest forces are on the rise.\\nThese adult editions with glorious jacket art by Andrew Davidson are now available in hardback for the first time.\", 119, 4.53, 617, 13, 8, 2015, '1408865424', '9781408865422', 'Bloomsbury', 'US', 'eng', 'https://www.goodreads.com/book/show/26104336-harry-potter-the-goblet-of-fire', 'https://images.gr-assets.com/books/1439647762m/26104336.jpg', 'https://www.goodreads.com/book/show/26104336-harry-potter-the-goblet-of-fire'), (662041, 15739954, 'Mark Reads Harry Potter and the Goblet of Fire', 'mark reads harry potter and the goblet of fire', 'Mark Reads Harry Potter and the Goblet of Fire', 'mark reads harry potter and the goblet of fire', '', 69, 4.33, 0, 20, 6, 2012, '', '', '', 'US', 'eng', 'https://www.goodreads.com/book/show/15739954-mark-reads-harry-potter-and-the-goblet-of-fire', 'https://images.gr-assets.com/books/1341649609m/15739954.jpg', 'https://www.goodreads.com/book/show/15739954-mark-reads-harry-potter-and-the-goblet-of-fire'), (31695, 49835, 'Harry Potter and the Goblet of Fire (Harry Potter, #4)', 'harry potter and the goblet of fire harry potter 4', 'Harry Potter and the Goblet of Fire (Harry Potter, #4)', 'harry potter and the goblet of fire harry potter 4', 'In Harry Potter and the Goblet of Fire, J.K. Rowling offers up equal parts danger and delight--and any number of dragons, house-elves, and death-defying challenges. Now 14, her orphan hero has only two more weeks with his Muggle relatives before returning to Hogwarts School of Witchcraft and Wizardry. Yet one night a vision harrowing enough to make his lightning-bolt-shaped scar burn has Harry on edge and contacting his godfather-in-hiding, Sirius Black. Happily, the prospect of attending the season\\'s premier sporting event, the Quidditch World Cup, is enough to make Harry momentarily forget that Lord Voldemort and his sinister familiars--the Death Eaters--are out for murder. Readers, we will cast a giant invisibility cloak over any more plot and reveal only that You-Know-Who is very much after Harry and that this year there will be no Quidditch matches between Gryffindor, Ravenclaw, Hufflepuff, and Slytherin. Instead, Hogwarts will vie with two other magicians\\' schools, the stylish Beauxbatons and the icy Durmstrang, in a Triwizard Tournament. Those chosen to compete will undergo three supreme tests. Could Harry be one of the lucky contenders? \\nBut Quidditch buffs need not go into mourning: we get our share of this great game at the World Cup. Attempting to go incognito as Muggles, 100,000 witches and wizards converge on a \"nice deserted moor.\" As ever, Rowling magicks up the details that make her world so vivid, and so comic. Several spectators\\' tents, for instance, are entirely unquotidian. One is a minipalace, complete with live peacocks; another has three floors and multiple turrets. And the sports paraphernalia on offer includes rosettes \"squealing the names of the players\" as well as \"tiny models of Firebolts that really flew, and collectible figures of famous players, which strolled across the palm of your hand, preening themselves.\" Needless to say, the two teams are decidedly different, down to their mascots. Bulgaria is supported by the beautiful veela, who instantly enchant everyone--including Ireland\\'s supporters--over to their side. Until, that is, thousands of tiny cheerleaders engage in some pyrotechnics of their own: \"The leprechauns had risen into the air again, and this time, they formed a giant hand, which was making a very rude sign indeed at the veela across the field.\"\\nLong before her fourth installment appeared, Rowling warned that it would be darker, and it\\'s true that every exhilaration is equaled by a moment that has us fearing for Harry\\'s life, the book\\'s emotions running as deep as its dangers. Along the way, though, she conjures up such new characters as Alastor \"Mad-Eye\" Moody, a Dark Wizard catcher who may or may not be getting paranoid in his old age, and Rita Skeeter, who beetles around Hogwarts in search of stories. (This Daily Prophetscoop artist has a Quick-Quotes Quill that turns even the most innocent assertion into tabloid innuendo.) And at her bedazzling close, Rowling leaves several plot strands open, awaiting book 5. This fan is ready to wager that the author herself is part veela--her pen her wand, her commitment to her world complete. (Ages 9 and older) --Kerry Fried', 70, 4.53, 18, 4, 11, 2004, '1855496836', '9781855496835', 'Cover to Cover Cassettes Ltd', 'US', 'eng', 'https://www.goodreads.com/book/show/49835.Harry_Potter_and_the_Goblet_of_Fire', 'https://images.gr-assets.com/books/1314891709m/49835.jpg', 'https://www.goodreads.com/book/show/49835.Harry_Potter_and_the_Goblet_of_Fire'), (1834824, 2160454, 'Harry Potter and the Goblet of Fire (Harry Potter, #4)', 'harry potter and the goblet of fire harry potter 4', 'Harry Potter and the Goblet of Fire (Harry Potter, #4)', 'harry potter and the goblet of fire harry potter 4', \"Harry Potter is midway through his training as a wizard and his coming of age. Harry wants to get away from the pernicious Dursleys and go to the International Quidditch Cup. He wants to find out about the mysterious event that's supposed to take place at Hogwarts this year, an event involving two other rival schools of magic, and a competition that hasn't happened for a hundred years. He wants to be a normal, fourteen-year-old wizard. But unfortunately for Harry Potter, he's not normal - even by wizarding standards. And in his case, different can be deadly.\", 41, 4.53, 734, 1, 9, 2002, '0613496744', '9780613496742', 'Turtleback Books', 'US', '', 'https://www.goodreads.com/book/show/2160454.Harry_Potter_and_the_Goblet_of_Fire', 'https://s.gr-assets.com/assets/nophoto/book/111x148-bcc042a9c91a29c1d680899eff700a03.png', 'https://www.goodreads.com/book/show/2160454.Harry_Potter_and_the_Goblet_of_Fire'), (2065708, 13607581, 'Harry Potter and the Goblet of Fire (Harry Potter #4)', 'harry potter and the goblet of fire harry potter 4', 'Harry Potter and the Goblet of Fire (Harry Potter #4)', 'harry potter and the goblet of fire harry potter 4', \"Harry Potter is midway through both his training as a wizard and his coming of age. Harry wants to get away from the pernicious Dursleys and go to the International Quidditch Cup with Hermione, Ron, and the Weasleys. He wants to dream about Cho Chang, his crush (and maybe do more than dream). He wants to find out about the mysterious event that supposed to take place at Hogwarts this year, an event involving two other rival schools of magic, and a competition that hasn't happened for hundreds of years. He wants to be a normal, fourteen-year-old wizard. But unfortunately for Harry Potter, he's not normal - even by wizarding standards.\\nAnd in his case, different can be deadly.\", 9, 4.53, 0, 0, 0, 2001, '1855496348', '9781855496347', 'Cover to Cover / BBC', 'US', 'eng', 'https://www.goodreads.com/book/show/13607581-harry-potter-and-the-goblet-of-fire', 'https://images.gr-assets.com/books/1334779984m/13607581.jpg', 'https://www.goodreads.com/book/show/13607581-harry-potter-and-the-goblet-of-fire'), (624087, 17347382, 'Harry Potter and the Goblet of Fire (Harry Potter, #4)', 'harry potter and the goblet of fire harry potter 4', 'Harry Potter and the Goblet of Fire (Harry Potter, #4)', 'harry potter and the goblet of fire harry potter 4', \"Harry Potter and the Goblet of Fire is the pivotal fourth novel in the seven-part tale of Harry Potter's training as a wizard and his coming of age. Harry wants to get away from the pernicious Dursleys and go to the International Quidditch Cup with Hermione, Ron, and the Weasleys. He wants to dream about Cho Chang, his crush (and maybe do more than dream). He wants to find out about the mysterious event involving two other rival schools of magic, and a competition that hasn't happened for a hundred years. He wants to be a normal, fourteen-year-old wizard. Unfortunately for Harry Potter, he's not normal -- even by wizarding standards.\\nAnd in this case, different can be deadly.\", 2962, 4.53, 734, 0, 9, 2013, '0545582954', '9780545582957', 'Scholastic Inc.', 'US', 'eng', 'https://www.goodreads.com/book/show/17347382-harry-potter-and-the-goblet-of-fire', 'https://images.gr-assets.com/books/1372535034m/17347382.jpg', 'https://www.goodreads.com/book/show/17347382-harry-potter-and-the-goblet-of-fire'), (2015402, 6, 'Harry Potter and the Goblet of Fire (Harry Potter, #4)', 'harry potter and the goblet of fire harry potter 4', 'Harry Potter and the Goblet of Fire (Harry Potter, #4)', 'harry potter and the goblet of fire harry potter 4', \"Harry Potter is midway through his training as a wizard and his coming of age. Harry wants to get away from the pernicious Dursleys and go to the International Quidditch Cup. He wants to find out about the mysterious event that's supposed to take place at Hogwarts this year, an event involving two other rival schools of magic, and a competition that hasn't happened for a hundred years. He wants to be a normal, fourteen-year-old wizard. But unfortunately for Harry Potter, he's not normal - even by wizarding standards.\\nAnd in his case, different can be deadly.\\n--back cover\", 1792561, 4.53, 734, 28, 9, 2002, '0439139600', '9780439139601', 'Scholastic Inc.', 'US', 'eng', 'https://www.goodreads.com/book/show/6.Harry_Potter_and_the_Goblet_of_Fire', 'https://images.gr-assets.com/books/1361482611m/6.jpg', 'https://www.goodreads.com/book/show/6.Harry_Potter_and_the_Goblet_of_Fire'), (179140, 7979788, 'Harry Potter and the Goblet of Fire (Harry Potter, #4)', 'harry potter and the goblet of fire harry potter 4', 'Harry Potter and the Goblet of Fire (Harry Potter, #4)', 'harry potter and the goblet of fire harry potter 4', \"This is the pivotal fourth novel in the seven part tale of Harry Potter's training as a wizard and his coming of age. Harry wants to get away from the pernicious Dursleys and go to the International Quidditch Cup with Hermione, Ron, and the Weasleys. He wants to dream about Cho Chang, his crush (and maybe do more than dream). He wants to find out about the mysterious event that's supposed to take place at the Hogwarts this year, an event involving two other rival schools of magic, and a competition that hasn't happened in a hundred years. He wants to be a normal, fourteen year old wizard. Unfortunately for Harry Potter, he's not normal - even by wizarding standards.\\nAnd in his case, different can be deadly.\", 2213, 4.53, 636, 0, 0, 2010, '1408810573', '9781408810576', 'Bloomsbury', 'US', 'eng', 'https://www.goodreads.com/book/show/7979788-harry-potter-and-the-goblet-of-fire', 'https://images.gr-assets.com/books/1403558327m/7979788.jpg', 'https://www.goodreads.com/book/show/7979788-harry-potter-and-the-goblet-of-fire'), (1617514, 29917298, 'Harry Potter and the Goblet of Fire (Harry Potter, #4)', 'harry potter and the goblet of fire harry potter 4', 'Harry Potter and the Goblet of Fire (Harry Potter, #4)', 'harry potter and the goblet of fire harry potter 4', \"The Triwizard Tournament is to be held at Hogwarts. Only wizards who are over seventeen are allowed to enter - but that doesn't stop Harry dreaming that he will win the competition. Then at Hallowe'en, when the Goblet of Fire makes its selection, Harry is amazed to find his name is one of those that the magical cup picks out. He will face death-defying tasks, dragons and Dark wizards, but with the help of his best friends, Ron and Hermione, he might just make it through - alive!\", 73, 4.53, 0, 0, 0, 2016, '178110266X', '9781781102664', 'Random House/The Listening Library', 'US', 'eng', 'https://www.goodreads.com/book/show/29917298-harry-potter-and-the-goblet-of-fire', 'https://images.gr-assets.com/books/1460666480m/29917298.jpg', 'https://www.goodreads.com/book/show/29917298-harry-potter-and-the-goblet-of-fire'), (1825843, 20334472, 'Harry Potter and the Goblet of Fire (Harry Potter, #4)', 'harry potter and the goblet of fire harry potter 4', 'Harry Potter and the Goblet of Fire (Harry Potter, #4)', 'harry potter and the goblet of fire harry potter 4', \"Alternate Cover Edition ISBN: 074754624x\\nThe summer holidays are dragging on and Harry Potter can't wait for the start of the school year. It is his fourth year at Hogwarts School of Witchcraft and Wizardry and there are spells to be learnt and (unluckily) Potions and Divination lessons to be attended. But Harry can't know that the atmosphere is darkening around him, and his worst enemy is preparing a fate that it seems will be inescapable . . .\\nWith characteristic wit, fast-paced humour and marvellous emotional depth, J.K. Rowling has proved herself yet again to be a master story-teller.\\n--bloomsbury.com\", 297, 4.53, 636, 0, 0, 2000, '', '', 'Bloomsbury', 'US', 'eng', 'https://www.goodreads.com/book/show/20334472-harry-potter-and-the-goblet-of-fire', 'https://images.gr-assets.com/books/1397562120m/20334472.jpg', 'https://www.goodreads.com/book/show/20334472-harry-potter-and-the-goblet-of-fire'), (416478, 793306, 'Harry Potter and the Goblet of Fire (Harry Potter, #4)', 'harry potter and the goblet of fire harry potter 4', 'Harry Potter and the Goblet of Fire (Harry Potter, #4)', 'harry potter and the goblet of fire harry potter 4', '', 559, 4.53, 752, 1, 11, 2003, '043955490X', '9780439554909', 'Arthur A. Levine Books', 'US', '', 'https://www.goodreads.com/book/show/793306.Harry_Potter_and_the_Goblet_of_Fire', 'https://s.gr-assets.com/assets/nophoto/book/111x148-bcc042a9c91a29c1d680899eff700a03.png', 'https://www.goodreads.com/book/show/793306.Harry_Potter_and_the_Goblet_of_Fire')]]\n"
     ]
    }
   ],
   "source": [
    "data  = book_alldetails_byindex(indices=indices,cs=cs)\n",
    "print(data)"
   ]
  },
  {
   "cell_type": "code",
   "execution_count": 12,
   "metadata": {},
   "outputs": [
    {
     "name": "stdout",
     "output_type": "stream",
     "text": [
      "[\n",
      "    {\n",
      "        \"book_id\": 1670907,\n",
      "        \"gr_book_id\": 17125270,\n",
      "        \"title_without_series\": \"The Goblet\",\n",
      "        \"mod_title\": \"the goblet\",\n",
      "        \"title\": \"The Goblet\",\n",
      "        \"mod_title_without_series\": \"the goblet\",\n",
      "        \"description\": \"While on a family trip to Israel, Sarah hasn't discovered just any goblet; she has come into possession of something not of this world. Something of Jesus's very own. The trip had been rocky so far. Sarah's husband, Bill, was distant as ever, and her son, Alex, is disagreeable as usual. Once Sarah gets the goblet, though, everything starts to Change. All of a sudden, Alex is enthusiastic about family events. Sarah soon comes to learn that this is no coincidence. Life starts to change back home as well. Sarah and her children go to church the first Sunday at home-which is a feat in itself-only to discover that Sarah's singing voice is inspiring everyone. The church goers all around her turn and are moved by Sarah's angelic voice, and she joins the church band. Everything is going right for Sarah. Well, almost everything. Her children are making better decisions, the church band is really taking off, but her husband still isn't living up to his obligations. In fact, Sarah discovers evil forces are at work in him, and he is trying to steal the goblet. On a last-minute trip back to Israel, can Sarah save the precious relic before Bill does the unthinkable? Find out in The Goblet.\",\n",
      "        \"ratings_count\": 19,\n",
      "        \"average_rating\": 3.16,\n",
      "        \"num_pages\": 196,\n",
      "        \"publication_day\": 27,\n",
      "        \"publication_month\": 11,\n",
      "        \"publication_year\": 2012,\n",
      "        \"isbn\": \"1621478734\",\n",
      "        \"isbn13\": \"9781621478737\",\n",
      "        \"publisher\": \"Tate Publishing & Enterprises\",\n",
      "        \"country_code\": \"US\",\n",
      "        \"language_code\": \"\",\n",
      "        \"url\": \"https://www.goodreads.com/book/show/17125270-the-goblet\",\n",
      "        \"image_url\": \"https://images.gr-assets.com/books/1356112197m/17125270.jpg\",\n",
      "        \"link\": \"https://www.goodreads.com/book/show/17125270-the-goblet\"\n",
      "    },\n",
      "    {\n",
      "        \"book_id\": 1594932,\n",
      "        \"gr_book_id\": 17861465,\n",
      "        \"title_without_series\": \"Harry Potter and the Goblet of Fire\",\n",
      "        \"mod_title\": \"harry potter and the goblet of fire\",\n",
      "        \"title\": \"Harry Potter and the Goblet of Fire\",\n",
      "        \"mod_title_without_series\": \"harry potter and the goblet of fire\",\n",
      "        \"description\": \"Harry Potter is midway through both his training as a wizard and his coming of age. Harry wants to get away from the pernicious Dursleys and go to the International Quidditch Cup with Hermione, Ron, and the Weasleys. He wants to dream about Cho Chang, his crush (and maybe do more than dream). He wants to find out about the mysterious event that supposed to take place at Hogwarts this year, an event involving two other rival schools of magic, and a competition that hasn't happened for hundreds of years. He wants to be a normal, fourteen-year-old wizard. But unfortunately for Harry Potter, he's not normal - even by wizarding standards.\\nAnd in his case, different can be deadly.\",\n",
      "        \"ratings_count\": 174,\n",
      "        \"average_rating\": 4.53,\n",
      "        \"num_pages\": 21,\n",
      "        \"publication_day\": 29,\n",
      "        \"publication_month\": 3,\n",
      "        \"publication_year\": 2012,\n",
      "        \"isbn\": \"1781102554\",\n",
      "        \"isbn13\": \"9781781102558\",\n",
      "        \"publisher\": \"Pottermore\",\n",
      "        \"country_code\": \"US\",\n",
      "        \"language_code\": \"eng\",\n",
      "        \"url\": \"https://www.goodreads.com/book/show/17861465-harry-potter-and-the-goblet-of-fire\",\n",
      "        \"image_url\": \"https://images.gr-assets.com/books/1379716227m/17861465.jpg\",\n",
      "        \"link\": \"https://www.goodreads.com/book/show/17861465-harry-potter-and-the-goblet-of-fire\"\n",
      "    },\n",
      "    {\n",
      "        \"book_id\": 499731,\n",
      "        \"gr_book_id\": 28754622,\n",
      "        \"title_without_series\": \"Harry Potter and the Goblet of Fire\",\n",
      "        \"mod_title\": \"harry potter and the goblet of fire\",\n",
      "        \"title\": \"Harry Potter and the Goblet of Fire\",\n",
      "        \"mod_title_without_series\": \"harry potter and the goblet of fire\",\n",
      "        \"description\": \"Harry Potter is midway through both his training as a wizard and his coming of age. Harry wants to get away from the pernicious Dursleys and go to the International Quidditch Cup with Hermione, Ron, and the Weasleys. He wants to dream about Cho Chang, his crush (and maybe do more than dream). He wants to find out about the mysterious event that supposed to take place at Hogwarts this year, an event involving two other rival schools of magic, and a competition that hasn't happened for hundreds of years. He wants to be a normal, fourteen-year-old wizard. But unfortunately for Harry Potter, he's not normal - even by wizarding standards.\\nAnd in his case, different can be deadly.\",\n",
      "        \"ratings_count\": 3314,\n",
      "        \"average_rating\": 4.53,\n",
      "        \"num_pages\": 0,\n",
      "        \"publication_day\": 0,\n",
      "        \"publication_month\": 0,\n",
      "        \"publication_year\": 0,\n",
      "        \"isbn\": \"\",\n",
      "        \"isbn13\": \"\",\n",
      "        \"publisher\": \"\",\n",
      "        \"country_code\": \"US\",\n",
      "        \"language_code\": \"eng\",\n",
      "        \"url\": \"https://www.goodreads.com/book/show/28754622-harry-potter-and-the-goblet-of-fire\",\n",
      "        \"image_url\": \"https://s.gr-assets.com/assets/nophoto/book/111x148-bcc042a9c91a29c1d680899eff700a03.png\",\n",
      "        \"link\": \"https://www.goodreads.com/book/show/28754622-harry-potter-and-the-goblet-of-fire\"\n",
      "    }\n",
      "]\n"
     ]
    }
   ],
   "source": [
    "print(book_alldetails_tojson(data[0][:3]))"
   ]
  },
  {
   "cell_type": "markdown",
   "metadata": {},
   "source": [
    "**Getting only the titles from the database using the indices**"
   ]
  },
  {
   "cell_type": "code",
   "execution_count": 11,
   "metadata": {},
   "outputs": [
    {
     "name": "stdout",
     "output_type": "stream",
     "text": [
      "[[('the goblet',), ('harry potter and the goblet of fire',), ('the golden goblet',), ('the goblet club',), ('harry potter the goblet of fire harry potter 4',), ('mark reads harry potter and the goblet of fire',), ('harry potter and the goblet of fire harry potter 4',)]]\n"
     ]
    }
   ],
   "source": [
    "titles  = book_onlytitles_byindex(indices=indices,cs=cs)\n",
    "print(titles)"
   ]
  },
  {
   "cell_type": "code",
   "execution_count": 13,
   "metadata": {},
   "outputs": [
    {
     "name": "stdout",
     "output_type": "stream",
     "text": [
      "[\n",
      "    {\n",
      "        \"id\": 0,\n",
      "        \"book_title_mod\": \"the goblet\"\n",
      "    },\n",
      "    {\n",
      "        \"id\": 1,\n",
      "        \"book_title_mod\": \"harry potter and the goblet of fire\"\n",
      "    },\n",
      "    {\n",
      "        \"id\": 2,\n",
      "        \"book_title_mod\": \"the golden goblet\"\n",
      "    },\n",
      "    {\n",
      "        \"id\": 3,\n",
      "        \"book_title_mod\": \"the goblet club\"\n",
      "    },\n",
      "    {\n",
      "        \"id\": 4,\n",
      "        \"book_title_mod\": \"harry potter the goblet of fire harry potter 4\"\n",
      "    },\n",
      "    {\n",
      "        \"id\": 5,\n",
      "        \"book_title_mod\": \"mark reads harry potter and the goblet of fire\"\n",
      "    },\n",
      "    {\n",
      "        \"id\": 6,\n",
      "        \"book_title_mod\": \"harry potter and the goblet of fire harry potter 4\"\n",
      "    }\n",
      "]\n"
     ]
    }
   ],
   "source": [
    "print(book_onlytitles_tojson(titles[0]))"
   ]
  },
  {
   "cell_type": "markdown",
   "metadata": {},
   "source": [
    "**Getting details for search engine**"
   ]
  },
  {
   "cell_type": "code",
   "execution_count": 14,
   "metadata": {},
   "outputs": [
    {
     "data": {
      "text/plain": [
       "[[('Harry Potter and the Goblet of Fire',\n",
       "   'harry potter and the goblet of fire',\n",
       "   3314,\n",
       "   4.53,\n",
       "   'https://s.gr-assets.com/assets/nophoto/book/111x148-bcc042a9c91a29c1d680899eff700a03.png',\n",
       "   1),\n",
       "  ('Harry Potter and the Goblet of Fire (Harry Potter, #4)',\n",
       "   'harry potter and the goblet of fire harry potter 4',\n",
       "   1792561,\n",
       "   4.53,\n",
       "   'https://images.gr-assets.com/books/1361482611m/6.jpg',\n",
       "   1),\n",
       "  ('Harry Potter & the Goblet of Fire (Harry Potter, #4)',\n",
       "   'harry potter the goblet of fire harry potter 4',\n",
       "   119,\n",
       "   4.53,\n",
       "   'https://images.gr-assets.com/books/1439647762m/26104336.jpg',\n",
       "   1),\n",
       "  ('Mark Reads Harry Potter and the Goblet of Fire',\n",
       "   'mark reads harry potter and the goblet of fire',\n",
       "   69,\n",
       "   4.33,\n",
       "   'https://images.gr-assets.com/books/1341649609m/15739954.jpg',\n",
       "   1),\n",
       "  ('The Goblet',\n",
       "   'the goblet',\n",
       "   19,\n",
       "   3.16,\n",
       "   'https://images.gr-assets.com/books/1356112197m/17125270.jpg',\n",
       "   1),\n",
       "  ('The Goblet Club',\n",
       "   'the goblet club',\n",
       "   36,\n",
       "   3.75,\n",
       "   'https://s.gr-assets.com/assets/nophoto/book/111x148-bcc042a9c91a29c1d680899eff700a03.png',\n",
       "   1),\n",
       "  ('The Golden Goblet',\n",
       "   'the golden goblet',\n",
       "   5462,\n",
       "   3.77,\n",
       "   'https://images.gr-assets.com/books/1391745251m/714807.jpg',\n",
       "   1)]]"
      ]
     },
     "execution_count": 14,
     "metadata": {},
     "output_type": "execute_result"
    }
   ],
   "source": [
    "search_result  = book_searchdetails_byindex(indices=indices,cs=cs)\n",
    "search_result"
   ]
  },
  {
   "cell_type": "code",
   "execution_count": 18,
   "metadata": {},
   "outputs": [
    {
     "name": "stdout",
     "output_type": "stream",
     "text": [
      "[\n",
      "    {\n",
      "        \"title\": \"Harry Potter and the Goblet of Fire\",\n",
      "        \"description\": \"harry potter and the goblet of fire\",\n",
      "        \"image\": \"https://s.gr-assets.com/assets/nophoto/book/111x148-bcc042a9c91a29c1d680899eff700a03.png\",\n",
      "        \"price\": \"4.53\"\n",
      "    },\n",
      "    {\n",
      "        \"title\": \"Harry Potter and the Goblet of Fire (Harry Potter, #4)\",\n",
      "        \"description\": \"harry potter and the goblet of fire harry potter 4\",\n",
      "        \"image\": \"https://images.gr-assets.com/books/1361482611m/6.jpg\",\n",
      "        \"price\": \"4.53\"\n",
      "    },\n",
      "    {\n",
      "        \"title\": \"Harry Potter & the Goblet of Fire (Harry Potter, #4)\",\n",
      "        \"description\": \"harry potter the goblet of fire harry potter 4\",\n",
      "        \"image\": \"https://images.gr-assets.com/books/1439647762m/26104336.jpg\",\n",
      "        \"price\": \"4.53\"\n",
      "    },\n",
      "    {\n",
      "        \"title\": \"Mark Reads Harry Potter and the Goblet of Fire\",\n",
      "        \"description\": \"mark reads harry potter and the goblet of fire\",\n",
      "        \"image\": \"https://images.gr-assets.com/books/1341649609m/15739954.jpg\",\n",
      "        \"price\": \"4.33\"\n",
      "    },\n",
      "    {\n",
      "        \"title\": \"The Goblet\",\n",
      "        \"description\": \"the goblet\",\n",
      "        \"image\": \"https://images.gr-assets.com/books/1356112197m/17125270.jpg\",\n",
      "        \"price\": \"3.16\"\n",
      "    },\n",
      "    {\n",
      "        \"title\": \"The Goblet Club\",\n",
      "        \"description\": \"the goblet club\",\n",
      "        \"image\": \"https://s.gr-assets.com/assets/nophoto/book/111x148-bcc042a9c91a29c1d680899eff700a03.png\",\n",
      "        \"price\": \"3.75\"\n",
      "    },\n",
      "    {\n",
      "        \"title\": \"The Golden Goblet\",\n",
      "        \"description\": \"the golden goblet\",\n",
      "        \"image\": \"https://images.gr-assets.com/books/1391745251m/714807.jpg\",\n",
      "        \"price\": \"3.77\"\n",
      "    }\n",
      "]\n"
     ]
    }
   ],
   "source": [
    "print(book_searchdetails_tojson(data=search_result[0]))"
   ]
  }
 ],
 "metadata": {
  "kernelspec": {
   "display_name": "Python 3",
   "language": "python",
   "name": "python3"
  },
  "language_info": {
   "codemirror_mode": {
    "name": "ipython",
    "version": 3
   },
   "file_extension": ".py",
   "mimetype": "text/x-python",
   "name": "python",
   "nbconvert_exporter": "python",
   "pygments_lexer": "ipython3",
   "version": "3.10.11"
  }
 },
 "nbformat": 4,
 "nbformat_minor": 2
}
