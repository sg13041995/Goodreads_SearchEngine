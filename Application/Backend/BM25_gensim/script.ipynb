{
 "cells": [
  {
   "cell_type": "markdown",
   "metadata": {},
   "source": [
    "**Modules**"
   ]
  },
  {
   "cell_type": "code",
   "execution_count": 1,
   "metadata": {},
   "outputs": [],
   "source": [
    "from semod import *"
   ]
  },
  {
   "cell_type": "markdown",
   "metadata": {},
   "source": [
    "**Connecting with the Database**"
   ]
  },
  {
   "cell_type": "code",
   "execution_count": 2,
   "metadata": {},
   "outputs": [
    {
     "name": "stdout",
     "output_type": "stream",
     "text": [
      "Connecting to MySQL database...\n",
      "Connection established\n"
     ]
    }
   ],
   "source": [
    "cn,cs=connect(creds=read(filename=\"config.ini\",section=\"mysql\"))"
   ]
  },
  {
   "cell_type": "markdown",
   "metadata": {},
   "source": [
    "**Importing trained model**"
   ]
  },
  {
   "cell_type": "code",
   "execution_count": 3,
   "metadata": {},
   "outputs": [],
   "source": [
    "dictionary = get_pkl_file(path=\"./ModelMemory/dictionary.pkl\",mode=\"rb\")\n",
    "bm25_index = get_pkl_file(path=\"./ModelMemory/bm25_index.pkl\",mode=\"rb\")"
   ]
  },
  {
   "cell_type": "markdown",
   "metadata": {},
   "source": [
    "**Getting best match indices against a query**"
   ]
  },
  {
   "cell_type": "code",
   "execution_count": 4,
   "metadata": {},
   "outputs": [
    {
     "data": {
      "text/plain": [
       "array([1670907, 1594932,  499731, 1137526, 1395431,  994463, 2087728,\n",
       "       1621212,   30633, 1096036,   75470, 1351654,  802742, 1898516,\n",
       "        398866, 1184608, 1660455, 1665463, 2057185,  638492,  662041,\n",
       "         31695, 1834824, 2065708,  624087, 2015402,  179140, 1617514,\n",
       "       1825843,  416478], dtype=int64)"
      ]
     },
     "execution_count": 4,
     "metadata": {},
     "output_type": "execute_result"
    }
   ],
   "source": [
    "query_str = \"goblet fire\"\n",
    "\n",
    "indices = bm25_top_hits(query=query_str, dictionary=dictionary, bm25_index=bm25_index, n=30)\n",
    "indices"
   ]
  },
  {
   "cell_type": "markdown",
   "metadata": {},
   "source": [
    "**Getting the records from the database using the indices**"
   ]
  },
  {
   "cell_type": "code",
   "execution_count": 5,
   "metadata": {},
   "outputs": [],
   "source": [
    "data  = get_data_by_index(indices=indices,cs=cs)"
   ]
  },
  {
   "cell_type": "code",
   "execution_count": 6,
   "metadata": {},
   "outputs": [
    {
     "name": "stdout",
     "output_type": "stream",
     "text": [
      "[\n",
      "    {\n",
      "        \"book_id\": 1670907,\n",
      "        \"gr_book_id\": 17125270,\n",
      "        \"title_without_series\": \"The Goblet\",\n",
      "        \"mod_title\": \"the goblet\",\n",
      "        \"title\": \"The Goblet\",\n",
      "        \"mod_title_without_series\": \"the goblet\",\n",
      "        \"description\": \"While on a family trip to Israel, Sarah hasn't discovered just any goblet; she has come into possession of something not of this world. Something of Jesus's very own. The trip had been rocky so far. Sarah's husband, Bill, was distant as ever, and her son, Alex, is disagreeable as usual. Once Sarah gets the goblet, though, everything starts to Change. All of a sudden, Alex is enthusiastic about family events. Sarah soon comes to learn that this is no coincidence. Life starts to change back home as well. Sarah and her children go to church the first Sunday at home-which is a feat in itself-only to discover that Sarah's singing voice is inspiring everyone. The church goers all around her turn and are moved by Sarah's angelic voice, and she joins the church band. Everything is going right for Sarah. Well, almost everything. Her children are making better decisions, the church band is really taking off, but her husband still isn't living up to his obligations. In fact, Sarah discovers evil forces are at work in him, and he is trying to steal the goblet. On a last-minute trip back to Israel, can Sarah save the precious relic before Bill does the unthinkable? Find out in The Goblet.\",\n",
      "        \"ratings_count\": 19,\n",
      "        \"average_rating\": 3.16,\n",
      "        \"num_pages\": 196,\n",
      "        \"publication_day\": 27,\n",
      "        \"publication_month\": 11,\n",
      "        \"publication_year\": 2012,\n",
      "        \"isbn\": \"1621478734\",\n",
      "        \"isbn13\": \"9781621478737\",\n",
      "        \"publisher\": \"Tate Publishing & Enterprises\",\n",
      "        \"country_code\": \"US\",\n",
      "        \"language_code\": \"\",\n",
      "        \"url\": \"https://www.goodreads.com/book/show/17125270-the-goblet\",\n",
      "        \"image_url\": \"https://images.gr-assets.com/books/1356112197m/17125270.jpg\",\n",
      "        \"link\": \"https://www.goodreads.com/book/show/17125270-the-goblet\"\n",
      "    },\n",
      "    {\n",
      "        \"book_id\": 1594932,\n",
      "        \"gr_book_id\": 17861465,\n",
      "        \"title_without_series\": \"Harry Potter and the Goblet of Fire\",\n",
      "        \"mod_title\": \"harry potter and the goblet of fire\",\n",
      "        \"title\": \"Harry Potter and the Goblet of Fire\",\n",
      "        \"mod_title_without_series\": \"harry potter and the goblet of fire\",\n",
      "        \"description\": \"Harry Potter is midway through both his training as a wizard and his coming of age. Harry wants to get away from the pernicious Dursleys and go to the International Quidditch Cup with Hermione, Ron, and the Weasleys. He wants to dream about Cho Chang, his crush (and maybe do more than dream). He wants to find out about the mysterious event that supposed to take place at Hogwarts this year, an event involving two other rival schools of magic, and a competition that hasn't happened for hundreds of years. He wants to be a normal, fourteen-year-old wizard. But unfortunately for Harry Potter, he's not normal - even by wizarding standards.\\nAnd in his case, different can be deadly.\",\n",
      "        \"ratings_count\": 174,\n",
      "        \"average_rating\": 4.53,\n",
      "        \"num_pages\": 21,\n",
      "        \"publication_day\": 29,\n",
      "        \"publication_month\": 3,\n",
      "        \"publication_year\": 2012,\n",
      "        \"isbn\": \"1781102554\",\n",
      "        \"isbn13\": \"9781781102558\",\n",
      "        \"publisher\": \"Pottermore\",\n",
      "        \"country_code\": \"US\",\n",
      "        \"language_code\": \"eng\",\n",
      "        \"url\": \"https://www.goodreads.com/book/show/17861465-harry-potter-and-the-goblet-of-fire\",\n",
      "        \"image_url\": \"https://images.gr-assets.com/books/1379716227m/17861465.jpg\",\n",
      "        \"link\": \"https://www.goodreads.com/book/show/17861465-harry-potter-and-the-goblet-of-fire\"\n",
      "    },\n",
      "    {\n",
      "        \"book_id\": 499731,\n",
      "        \"gr_book_id\": 28754622,\n",
      "        \"title_without_series\": \"Harry Potter and the Goblet of Fire\",\n",
      "        \"mod_title\": \"harry potter and the goblet of fire\",\n",
      "        \"title\": \"Harry Potter and the Goblet of Fire\",\n",
      "        \"mod_title_without_series\": \"harry potter and the goblet of fire\",\n",
      "        \"description\": \"Harry Potter is midway through both his training as a wizard and his coming of age. Harry wants to get away from the pernicious Dursleys and go to the International Quidditch Cup with Hermione, Ron, and the Weasleys. He wants to dream about Cho Chang, his crush (and maybe do more than dream). He wants to find out about the mysterious event that supposed to take place at Hogwarts this year, an event involving two other rival schools of magic, and a competition that hasn't happened for hundreds of years. He wants to be a normal, fourteen-year-old wizard. But unfortunately for Harry Potter, he's not normal - even by wizarding standards.\\nAnd in his case, different can be deadly.\",\n",
      "        \"ratings_count\": 3314,\n",
      "        \"average_rating\": 4.53,\n",
      "        \"num_pages\": 0,\n",
      "        \"publication_day\": 0,\n",
      "        \"publication_month\": 0,\n",
      "        \"publication_year\": 0,\n",
      "        \"isbn\": \"\",\n",
      "        \"isbn13\": \"\",\n",
      "        \"publisher\": \"\",\n",
      "        \"country_code\": \"US\",\n",
      "        \"language_code\": \"eng\",\n",
      "        \"url\": \"https://www.goodreads.com/book/show/28754622-harry-potter-and-the-goblet-of-fire\",\n",
      "        \"image_url\": \"https://s.gr-assets.com/assets/nophoto/book/111x148-bcc042a9c91a29c1d680899eff700a03.png\",\n",
      "        \"link\": \"https://www.goodreads.com/book/show/28754622-harry-potter-and-the-goblet-of-fire\"\n",
      "    }\n",
      "]\n"
     ]
    }
   ],
   "source": [
    "print(to_json(data[0][:3]))"
   ]
  },
  {
   "cell_type": "markdown",
   "metadata": {},
   "source": [
    "**Getting only the titles from the database using the indices**"
   ]
  },
  {
   "cell_type": "code",
   "execution_count": 7,
   "metadata": {},
   "outputs": [],
   "source": [
    "titles  = get_titles_by_index(indices=indices,cs=cs)"
   ]
  },
  {
   "cell_type": "code",
   "execution_count": 8,
   "metadata": {},
   "outputs": [
    {
     "data": {
      "text/plain": [
       "[('the goblet',),\n",
       " ('harry potter and the goblet of fire',),\n",
       " ('the golden goblet',),\n",
       " ('the goblet club',),\n",
       " ('harry potter the goblet of fire harry potter 4',),\n",
       " ('mark reads harry potter and the goblet of fire',),\n",
       " ('harry potter and the goblet of fire harry potter 4',)]"
      ]
     },
     "execution_count": 8,
     "metadata": {},
     "output_type": "execute_result"
    }
   ],
   "source": [
    "(titles[0])"
   ]
  },
  {
   "cell_type": "code",
   "execution_count": 9,
   "metadata": {},
   "outputs": [
    {
     "data": {
      "text/plain": [
       "['the goblet',\n",
       " 'harry potter and the goblet of fire',\n",
       " 'the golden goblet',\n",
       " 'the goblet club',\n",
       " 'harry potter the goblet of fire harry potter 4',\n",
       " 'mark reads harry potter and the goblet of fire',\n",
       " 'harry potter and the goblet of fire harry potter 4']"
      ]
     },
     "execution_count": 9,
     "metadata": {},
     "output_type": "execute_result"
    }
   ],
   "source": [
    "to_list(titles[0])"
   ]
  }
 ],
 "metadata": {
  "kernelspec": {
   "display_name": "Python 3",
   "language": "python",
   "name": "python3"
  },
  "language_info": {
   "codemirror_mode": {
    "name": "ipython",
    "version": 3
   },
   "file_extension": ".py",
   "mimetype": "text/x-python",
   "name": "python",
   "nbconvert_exporter": "python",
   "pygments_lexer": "ipython3",
   "version": "3.10.11"
  }
 },
 "nbformat": 4,
 "nbformat_minor": 2
}
