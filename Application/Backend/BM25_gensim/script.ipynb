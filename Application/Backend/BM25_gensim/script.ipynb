{
 "cells": [
  {
   "cell_type": "markdown",
   "metadata": {},
   "source": [
    "**Modules**"
   ]
  },
  {
   "cell_type": "code",
   "execution_count": 1,
   "metadata": {},
   "outputs": [],
   "source": [
    "from semod import *"
   ]
  },
  {
   "cell_type": "markdown",
   "metadata": {},
   "source": [
    "**Connecting with the Database**"
   ]
  },
  {
   "cell_type": "code",
   "execution_count": 2,
   "metadata": {},
   "outputs": [
    {
     "name": "stdout",
     "output_type": "stream",
     "text": [
      "Connecting to MySQL database...\n",
      "Connection established\n"
     ]
    }
   ],
   "source": [
    "cn,cs=connect(creds=read(filename=\"config.ini\",section=\"mysql\"))"
   ]
  },
  {
   "cell_type": "markdown",
   "metadata": {},
   "source": [
    "**Importing trained models and other data**"
   ]
  },
  {
   "cell_type": "code",
   "execution_count": 3,
   "metadata": {},
   "outputs": [],
   "source": [
    "dictionary = joblib.load(\"./ModelMemory/title_without_series_dictionary.joblib\")\n",
    "bm25_index = joblib.load(\"./ModelMemory/title_without_series_matrix.joblib\")\n",
    "tfidf_model = joblib.load(\"./ModelMemory/title_without_series_tfidf_bnn.joblib\")"
   ]
  },
  {
   "cell_type": "markdown",
   "metadata": {},
   "source": [
    "**Getting best match indices against a query**"
   ]
  },
  {
   "cell_type": "code",
   "execution_count": 4,
   "metadata": {},
   "outputs": [
    {
     "name": "stdout",
     "output_type": "stream",
     "text": [
      "[ 452654  451559 1822593 1157047 1164957     153 1224028  355924 1429187\n",
      "  523427  747750  735452 1299431  805653 1181761 1075088 1435848 1799084\n",
      " 1436660 1796973  188149 1192562 1310206 1903841  265872 1951169 1780169\n",
      " 1681739  827442 1486288]\n"
     ]
    }
   ],
   "source": [
    "query_str = \"humpty dumpty\"\n",
    "\n",
    "indices = bm25_top_hits(query=query_str,\n",
    "                        tfidf_model=tfidf_model,\n",
    "                        bm25_index=bm25_index,\n",
    "                        dictionary=dictionary, \n",
    "                        n=30)\n",
    "print(indices)"
   ]
  },
  {
   "cell_type": "markdown",
   "metadata": {},
   "source": [
    "**Getting the records from the database using the indices**"
   ]
  },
  {
   "cell_type": "code",
   "execution_count": 5,
   "metadata": {},
   "outputs": [
    {
     "name": "stdout",
     "output_type": "stream",
     "text": [
      "[[(452654, 11527094, 'Humpty Dumpty', 'humpty dumpty', 'Humpty Dumpty', 'humpty dumpty', '', 1, 5.0, 0, 0, 0, 0, '0914676377', '9780914676379', '', 'US', '', 'https://www.goodreads.com/book/show/11527094-humpty-dumpty', 'https://images.gr-assets.com/books/1449007599m/11527094.jpg', 'https://www.goodreads.com/book/show/11527094-humpty-dumpty'), (451559, 13107850, 'Humpty Dumpty', 'humpty dumpty', 'Humpty Dumpty', 'humpty dumpty', '', 3, 3.33, 0, 0, 0, 2004, '0785334270', '9780785334279', 'Publications International, Ltd.', 'US', '', 'https://www.goodreads.com/book/show/13107850-humpty-dumpty', 'https://s.gr-assets.com/assets/nophoto/book/111x148-bcc042a9c91a29c1d680899eff700a03.png', 'https://www.goodreads.com/book/show/13107850-humpty-dumpty'), (1822593, 3569185, 'Humpty Dumpty', 'humpty dumpty', 'Humpty Dumpty', 'humpty dumpty', \"The story of Humpty Dumpty's son and how he avoids making the same mistakes his father made. Wonderfully illustrated fairy tale from William Wallace Denslow, illustrator of the Wizard of Oz.\", 20, 3.0, 16, 15, 10, 2007, '1557090777', '9781557090775', 'Applewood Books', 'US', 'eng', 'https://www.goodreads.com/book/show/3569185-humpty-dumpty', 'https://images.gr-assets.com/books/1328756706m/3569185.jpg', 'https://www.goodreads.com/book/show/3569185-humpty-dumpty'), (1157047, 692571, 'Humpty Dumpty', 'humpty dumpty', 'Humpty Dumpty', 'humpty dumpty', 'King Moe sees Humpty Dumpty fall off the wall, but with his talent for solving puzzles, he just may be able to alter the ending of this classic story. Full-color illustrations.', 94, 3.66, 32, 10, 6, 2002, '0698119452', '9780698119451', 'Puffin', 'US', '', 'https://www.goodreads.com/book/show/692571.Humpty_Dumpty', 'https://images.gr-assets.com/books/1309213609m/692571.jpg', 'https://www.goodreads.com/book/show/692571.Humpty_Dumpty'), (1164957, 12670999, 'Humpty Dumpty', 'humpty dumpty', 'Humpty Dumpty', 'humpty dumpty', 'A favorite nursery rhyme gets a new, upbeat ending in this charismatic board book.\\nWhat if Humpty couldbe put together again? Salina Yoon takes the popular nursery rhyme and gives it a fresh twist, adorning the pages of this chunky board book with lively images of a lovable egg. Kids and adults alike will enjoy the updated, positive ending to this classic rhyme!', 35, 3.4, 18, 24, 1, 2012, '1442414111', '9781442414112', 'Little Simon', 'US', '', 'https://www.goodreads.com/book/show/12670999-humpty-dumpty', 'https://images.gr-assets.com/books/1347975221m/12670999.jpg', 'https://www.goodreads.com/book/show/12670999-humpty-dumpty'), (153, 16250764, 'Humpty Dumpty', 'humpty dumpty', 'Humpty Dumpty', 'humpty dumpty', \"Illustrator Charles Reasonor's charming version of the traditional nursery rhyme Humpty Dumpty. Word balloons add a touch of sweet humor to a familiar tale.\", 15, 3.39, 10, 1, 3, 2013, '1404881727', '9781404881723', 'Picture Window Books', 'US', '', 'https://www.goodreads.com/book/show/16250764-humpty-dumpty', 'https://images.gr-assets.com/books/1364776630m/16250764.jpg', 'https://www.goodreads.com/book/show/16250764-humpty-dumpty'), (1224028, 17969406, 'Humpty Dumpty', 'humpty dumpty', 'Humpty Dumpty', 'humpty dumpty', \"They thought it would be easy. Four boys from a nearby boarding school planned on attacking and killing a family - just for the fun of it. But they hadn't prepared themselves for the terror of what they would meet inside of the house in shape of a little girl with a very special gift.\\nHUMPTY, DUMPTY is a horror novella from Willow Rose, author of the International Bestselling horror-series starring the Danish reporter Rebekka Franck. It is not for the faint at heart.\\nHUMPTY, DUMPTY is also included in Willow Rose's short-story collection called Horror-stories from Denmark.\\nThis ebook also includes an excerpt from her novel One, Two ... He is coming for you the first book in her Rebekka Franck-series.\", 231, 3.69, 185, 5, 5, 2013, '', '', '', 'US', 'eng', 'https://www.goodreads.com/book/show/17969406-humpty-dumpty', 'https://images.gr-assets.com/books/1369181911m/17969406.jpg', 'https://www.goodreads.com/book/show/17969406-humpty-dumpty'), (355924, 18277527, 'Humpty Dumpty', 'humpty dumpty', 'Humpty Dumpty', 'humpty dumpty', 'With a vicious serial killer on the loose, distributing body parts all around the country, the FBI must turn to a disgraced agent and an untested rookie to capture the madman before anyone else is dismembered.', 109, 3.84, 462, 9, 8, 2013, '1490490809', '9781490490809', 'Off Our Meds MultiMedia', 'US', '', 'https://www.goodreads.com/book/show/18277527-humpty-dumpty', 'https://images.gr-assets.com/books/1375469777m/18277527.jpg', 'https://www.goodreads.com/book/show/18277527-humpty-dumpty'), (1429187, 2095019, 'Humpty Dumpty', 'humpty dumpty', 'Humpty Dumpty', 'humpty dumpty', \"Follow this beloved childhood nursery rhyme character through adventure after adventure as he tries, in vain, to keep himself together!\\nFans of Kin Eagle's previous extended nursery rhymes (It's Raining, It's Pouring, Rub a Dub Dub, and Hey, Diddle Diddle), will again delight in this fun-filled tale.\", 8, 3.35, 32, 1, 1, 1999, '1580890199', '9781580890199', 'Charlesbridge', 'US', '', 'https://www.goodreads.com/book/show/2095019.Humpty_Dumpty', 'https://images.gr-assets.com/books/1389598220m/2095019.jpg', 'https://www.goodreads.com/book/show/2095019.Humpty_Dumpty'), (523427, 3239872, 'Humpty Dumpty Egg-Splodes', 'humpty dumpty eggsplodes', 'Humpty Dumpty Egg-Splodes', 'humpty dumpty eggsplodes', \"Furious about being teased and taunted for his round, bald body and bad habit of falling off walls, Humpty Dumpty is wreaking havoc throughout Mother Goose Land. With hilarious illustrations and clever wordplays, Kevin O'Malley stands Mother Goose on her head, creating a world of nursery rhyme characters never seen before. IRA-CBC Children's Choices, 2002 Pennsylvania Young Reader's Choice Award, Masterlist, 2002-03 South Dakota Prairie Pasque Children's Book Award, Masterlist, 2002-03\", 57, 3.54, 32, 1, 1, 2002, '0802787576', '9780802787576', 'Walker Childrens', 'US', '', 'https://www.goodreads.com/book/show/3239872-humpty-dumpty-egg-splodes', 'https://images.gr-assets.com/books/1312040627m/3239872.jpg', 'https://www.goodreads.com/book/show/3239872-humpty-dumpty-egg-splodes'), (747750, 8012715, 'Indestructibles: Humpty Dumpty', 'indestructibles humpty dumpty', 'Indestructibles: Humpty Dumpty', 'indestructibles humpty dumpty', \"Here is a book babies can really sink their gums into. Built for the way babies read, Indestructibles are printed on an amazing paperlike material that can't be ripped, torn, or punctured. Indestructibles are 100 percent safe and nontoxic, and if they get too funky, just throw them in the washing machine or dishwasher. They're made for baby to hold, grab, chew, pull, and bend, and are designed to create an even more special bond between reader and baby. Printed without words, the parent gets to make up the story, or just cuddle with baby while they explore together.\\nHumpty Dumptyintroduces the work of Jonas Sickler, a children's illustrator whose paintings, full of detail and personality, have a fresh, whimsical sensibility, a pleasure for both baby and parents. The book gives a new spin on a traditional nursery rhyme, so parents can really have fun with the subject--Humpty Dumptyis about an egg named Humpty who's perched on the Great Wall of China. The text for the nursery rhyme is printed on the back cover.\", 36, 3.92, 12, 5, 8, 2010, '0761158618', '9780761158615', 'Workman Publishing Company', 'US', '', 'https://www.goodreads.com/book/show/8012715-indestructibles', 'https://images.gr-assets.com/books/1404581923m/8012715.jpg', 'https://www.goodreads.com/book/show/8012715-indestructibles'), (735452, 902971, 'Humpty Dumpty in Oakland', 'humpty dumpty in oakland', 'Humpty Dumpty in Oakland', 'humpty dumpty in oakland', \"Set in San Francisco in the late 1950s, Humpty Dumpty in Oaklandis a tragicomedy of misunderstandings among used car dealers and real-estate salesmen: the small-time, struggling individuals for whom Philip K.Dick always reserved his greatest sympathy.\\nJim Fergesson is an elderly garage owner with a heart condition, who is about to retire; Al Miller is a somewhat feckless mechanic who sublets part of Jim's lot and finds his livelihood threatened by the decision to sell; Chris Harman is a record-company owner who for years has relied on Fergesson to maintain his cars. When Harman hears of Fergesson's impending retirement he tips him off to what he says is a cast-iron business proposition: a development in nearby Marin County with an opening for a garage. Al Miller is convinced that Harman is a crook, out to fleece Fergesson of his life's savings. As much as he resents Fergesson he can't bear to see it happen and--denying to himself all the time what he is doing--he sets out to thwart Harman.\", 726, 3.32, 252, 2, 10, 2007, '0765316900', '9780765316905', 'Tor Books', 'US', 'en-US', 'https://www.goodreads.com/book/show/902971.Humpty_Dumpty_in_Oakland', 'https://images.gr-assets.com/books/1312049700m/902971.jpg', 'https://www.goodreads.com/book/show/902971.Humpty_Dumpty_in_Oakland'), (1299431, 1295210, 'Humpty Dumpty: An Oval', 'humpty dumpty an oval', 'Humpty Dumpty: An Oval', 'humpty dumpty an oval', 'When Wellington Stout is shot in the head in a restaurant in Milan, the bullet shatters not only his skull but the surface of reality itself. Suddenly Stout is falling through a world turned inside out, encountering extraterrestrial shoe salesmen, a mystical cabal of dentists, and an invading army from the planet Mongo. A New York Times Notable Book of 1996 in its first softcover edition.', 58, 3.12, 288, 15, 8, 1997, '0312863837', '9780312863838', 'Tor Books', 'US', '', 'https://www.goodreads.com/book/show/1295210.Humpty_Dumpty', 'https://images.gr-assets.com/books/1289677869m/1295210.jpg', 'https://www.goodreads.com/book/show/1295210.Humpty_Dumpty'), (805653, 23011697, 'Humpty Dumpty Flip-Side Rhymes', 'humpty dumpty flipside rhymes', 'Humpty Dumpty Flip-Side Rhymes', 'humpty dumpty flipside rhymes', 'Humpty Dumpty had a great fall, but what if the king\\'s men told the rhyme? In this novel approach to nursery rhymes, half the book holds the classic rhyme, while the flip-side holds a fractured version that starts from the back. Whimsical art adds to the flip-side fun.\\nFor ages 2-4.\\n*Common Core applications appropriate for very young children\\n*Unique flip-book approach teaches point-of-view and perspective\\nFrom the Flip-Side Nursery Rhymes series. Check out the flip-side of beloved nursery rhymes. One half of these books has the original rhyme. Flip over the book and start from the \"back\" for a fresh, new rhyme from another character\\'s point of view. Bold, whimsical illustrations complement the playful text.', 32, 3.74, 24, 2, 3, 2015, '1479560065', '9781479560066', 'Picture Window Books', 'US', 'eng', 'https://www.goodreads.com/book/show/23011697-humpty-dumpty-flip-side-rhymes', 'https://images.gr-assets.com/books/1408842700m/23011697.jpg', 'https://www.goodreads.com/book/show/23011697-humpty-dumpty-flip-side-rhymes'), (1181761, 4171735, 'Humpty Dumpty Was Pushed', 'humpty dumpty was pushed', 'Humpty Dumpty Was Pushed', 'humpty dumpty was pushed', 'On a manic ride from the mixing boards of hip-hop recording studios to mansions in the Hamptons and the projects of the urban ghetto, Detective Black Sallie Blue Eyes ventures behind-the-scenes of the record business in search of a street-side assassin. Casting a widely satirical net on all spectra and species of the Manhattan social scene--from tweaking downtown hipsters, wrestling fetishists, and rapper wannabes to real estate moguls and hip-hop impresarios--this satirical urban noir novel offers intrigue, insight, and an innovative brand of humor.', 48, 3.43, 275, 1, 3, 2009, '0980139414', '9780980139419', 'Schaffner Press, Inc.', 'US', '', 'https://www.goodreads.com/book/show/4171735-humpty-dumpty-was-pushed', 'https://images.gr-assets.com/books/1328763894m/4171735.jpg', 'https://www.goodreads.com/book/show/4171735-humpty-dumpty-was-pushed'), (1075088, 16109548, 'The Humpty Dumpty Tragedy', 'the humpty dumpty tragedy', 'The Humpty Dumpty Tragedy', 'the humpty dumpty tragedy', \"Now, for the first time, the true story behind Humpty Dumpty's fall. Was it an accident? Did the Nurseryland government try to cover it up? Nathaniel P. Osgood III, working as his own client, delves into the old tragedy and makes a startling discovery. A short story.\", 13, 4.0, 8, 18, 10, 2012, '1611874556', '9781611874556', 'Untreed Reads', 'US', 'eng', 'https://www.goodreads.com/book/show/16109548-the-humpty-dumpty-tragedy', 'https://images.gr-assets.com/books/1351211358m/16109548.jpg', 'https://www.goodreads.com/book/show/16109548-the-humpty-dumpty-tragedy'), (1435848, 12208950, \"Billy Majestic's Humpty Dumpty\", 'billy majestics humpty dumpty', \"Billy Majestic's Humpty Dumpty\", 'billy majestics humpty dumpty', 'Adapting the feature film! Two backwoods brothers ambush a landing party of extraterrestrial beings on their swampland, killing the males and taking the lone female captive. After months of torturous imprisonment and rape, she becomes impregnated by one of the sadistic brothers, and dies giving birth to a monstrous, half-alien, half-human, egg-shaped creature with extraterrestrial powers and bent on bloody revenge -- HUMPTY DUMPTY!\\nWritten by Billy Majestic with blood-curdling art by Jordan Joranov.', 13, 2.85, 88, 8, 11, 2011, '1613770685', '9781613770689', 'IDW Publishing', 'US', '', 'https://www.goodreads.com/book/show/12208950-billy-majestic-s-humpty-dumpty', 'https://s.gr-assets.com/assets/nophoto/book/111x148-bcc042a9c91a29c1d680899eff700a03.png', 'https://www.goodreads.com/book/show/12208950-billy-majestic-s-humpty-dumpty'), (1799084, 5042687, 'Humpty Dumpty in Oakland', 'humpty dumpty in oakland', 'Humpty Dumpty in Oakland', 'humpty dumpty in oakland', \"The first US paperback edition of this classic Philip K. Dick novel\\nSet in the San Francisco Bay area in the late 1950s, Humpty Dumpty in Oaklandis a tragicomedy of misunderstandings among used car dealers and real-estate salesmen: the small-time, struggling individuals for whom Philip K. Dick always reserved his greatest sympathy.\\nJim Fergesson, an elderly garage owner with a heart condition, is about to sell up and retire; Al Miller is a somewhat feckless mechanic who sublets part of Jim's lot and finds his livelihood threatened by the decision to sell; Chris Harman is a record company owner who for years has relied on Fergesson to maintain his cars. When Harman hears of Fergesson's impending retirement he tips him off to what he says is a cast-iron business proposition: a development in nearby Marin County with an opening for a garage. Al Miller, though, is convinced that Harman is a crook, out to fleece Fergesson of his life's savings. As much as he resents Fergesson he can't bear to see that happen and--denying to himself all the time what he is doing--he sets out to thwart Harman.\", 27, 3.32, 256, 30, 9, 2008, '0765316919', '9780765316912', 'Tor Books', 'US', '', 'https://www.goodreads.com/book/show/5042687-humpty-dumpty-in-oakland', 'https://images.gr-assets.com/books/1312021895m/5042687.jpg', 'https://www.goodreads.com/book/show/5042687-humpty-dumpty-in-oakland'), (1436660, 3467435, 'Humpty Dumpty Climbs Again', 'humpty dumpty climbs again', 'Humpty Dumpty Climbs Again', 'humpty dumpty climbs again', '', 213, 3.89, 0, 0, 0, 0, '0399247734', '9780399247736', \"G.P. Putnam's Sons\", 'US', '', 'https://www.goodreads.com/book/show/3467435-humpty-dumpty-climbs-again', 'https://images.gr-assets.com/books/1362667798m/3467435.jpg', 'https://www.goodreads.com/book/show/3467435-humpty-dumpty-climbs-again'), (1796973, 2095020, 'DK Baby Fun: Humpty Dumpty', 'dk baby fun humpty dumpty', 'DK Baby Fun: Humpty Dumpty', 'dk baby fun humpty dumpty', \"A favorite nursery rhyme brought up to date with stylish photography - the perfect way to have fun with your baby.\\nBaby Funbooks combine rhyming verses and simple pictures to entertain the newest minds. Familiar text and bright, fresh designs spark baby's intellectual development and make reading time an important bonding opportunity.\", 1, 1.0, 16, 19, 1, 2004, '0756602580', '9780756602581', 'DK Children', 'US', '', 'https://www.goodreads.com/book/show/2095020.DK_Baby_Fun', 'https://images.gr-assets.com/books/1309294999m/2095020.jpg', 'https://www.goodreads.com/book/show/2095020.DK_Baby_Fun'), (188149, 1138548, 'Humpty Dumpty: and Other Rhymes', 'humpty dumpty and other rhymes', 'Humpty Dumpty: and Other Rhymes', 'humpty dumpty and other rhymes', 'Inspired by our exciting new Gift Line.\\nResized and featuring new covers, these bright board books based on MY VERY FIRST MOTHER GOOSE, the award-winning modern day classic, bring timeless poems to the youngest children. Each of the four enchanting board books contains eight favorite rhymes collected in their most perfect form by folklorist Iona Opie. Every rhyme is accompanied by the incomparable art of Rosemary Wells, illustrations that THE NEW YORK TIMES BOOK REVIEW called \"irresistible.\" Large letters and sturdy board pages make these treasures indispensable for any nursery.', 39, 3.47, 16, 1, 10, 2001, '0763603538', '9780763603533', 'Candlewick', 'US', '', 'https://www.goodreads.com/book/show/1138548.Humpty_Dumpty', 'https://images.gr-assets.com/books/1320546026m/1138548.jpg', 'https://www.goodreads.com/book/show/1138548.Humpty_Dumpty'), (1192562, 19506160, 'Stroke, the Humpty Dumpty Syndrome', 'stroke the humpty dumpty syndrome', 'Stroke, the Humpty Dumpty Syndrome', 'stroke the humpty dumpty syndrome', 'Having suffered two major massive strokes and a dozen or so TIAs were blind side, life altering occurrences. The lack of assistance from the medical community was devastating to us. While it was uncomfortable reliving these episodes, I felt it was important to share our experiences with others who might be living in the same nightmare. There is no magic bullet to be used in a stroke recovery, but there is hope. Getting to where my family and I are now was a long, hard journey. Anger and frustration detracted from energy needed for more important recovery activities. There are methods that can help, activities which promote healing and medical professionals that can be found. You just have to know where to look.', 4, 4.67, 180, 5, 12, 2013, '0992396352', '9780992396350', 'Asj Publishing', 'US', 'eng', 'https://www.goodreads.com/book/show/19506160-stroke-the-humpty-dumpty-syndrome', 'https://s.gr-assets.com/assets/nophoto/book/111x148-bcc042a9c91a29c1d680899eff700a03.png', 'https://www.goodreads.com/book/show/19506160-stroke-the-humpty-dumpty-syndrome'), (1310206, 17207480, 'Jack and the bean-stalk. Humpty Dumpty', 'jack and the beanstalk humpty dumpty', 'Jack and the bean-stalk. Humpty Dumpty', 'jack and the beanstalk humpty dumpty', '\"Jack and the bean-stalk. Humpty Dumpty\" is a collection of the two most famous English folktales and fairy tales, retold and illustrated by W.W. Denslow in 1903.\\nThe \"Jack and the bean-stalk\" summary:\\n\"After climbing a vine sprouting from magic beans, Jack encounters an apparently fearsome giant who had stolen money from Jack\\'s late father; Jack calls the giant\\'s bluff and convinces him to become a side show in a circus, with Jack as his manager\"\"After climbing a vine sprouting from magic beans, Jack encounters an apparently fearsome giant who had stolen money from Jack\\'s late father; Jack calls the giant\\'s bluff and convinces him to become a side show in a circus, with Jack as his manager\"\\nThe \"Humpty Dumpty\" is written in prose:\\n\"Humpty-Dumpty was a smooth, round little chap, with a winning smile, and a great golden heart in his broad breast. Only one thing troubled Humpty, and that was, that he might fall and crack his thin, white skin; he wished to be hard, all the way through, for he felt his heart wabble when he walked, or ran about, so off he went to the Black Hen for advice,\"\\nalso includes the famous rhyme\\n\"Humpty Dumpty sat on a wall,\\nHumpty Dumpty had a great fall.\\nAll the king\\'s horses and all the king\\'s men\\nCouldn\\'t put Humpty together again.\"\\nThe \"Animedia Company\" e-book edition (2013) contains the original extraordinary colorful illustrations by William Wallace Denslow, which were carefully restored by a publisher. This edition is modified especially for the e-book format.', 24, 3.96, 0, 0, 1, 2013, '8087762165', '9788087762165', 'Animedia Company', 'US', 'eng', 'https://www.goodreads.com/book/show/17207480-jack-and-the-bean-stalk-humpty-dumpty', 'https://images.gr-assets.com/books/1357292302m/17207480.jpg', 'https://www.goodreads.com/book/show/17207480-jack-and-the-bean-stalk-humpty-dumpty'), (1903841, 17593026, 'The Adventures of Kid Humpty Dumpty', 'the adventures of kid humpty dumpty', 'The Adventures of Kid Humpty Dumpty', 'the adventures of kid humpty dumpty', 'Synopsis:\\nYoung Humpty Dumpty wants to make friends with Shellga, the new girl in town. But every time he works up the nerve to talk to her, Sunny Side Up and Sunny Side Down (the very \"anti-boy\" Sunny Side Twins) do their best to scramble his plans.\\nAfter his failed attempts to talk to Shellga and getting an \"F\" on his spelling paper, poor Humpty is starting to feel pretty rotten. But with the help of his grandpa Dumpty and best friend, Eggden, things may not be so hard-cooked for little Humpty after all!\\nFollow the adventures of a lovable little egg-boy before he took his famous fall from the wall in this original offshoot from a classic children\\'s tale.\\nAbout the Author:\\nBenjamin Boyd created the Kid Humpty Dumpty series as bedtime stories for his little sister, Ruby. He works as a house painter and is currently working on the next installment for his series. The Adventures of Kid Humpty Dumpty is his first published book. Benjamin lives in Walterboro, South Carolina.', 3, 3.67, 0, 5, 3, 2013, '1625165994', '9781625165992', 'Strategic Book Publishing & Rights Agency, LLC', 'US', '', 'https://www.goodreads.com/book/show/17593026-the-adventures-of-kid-humpty-dumpty', 'https://images.gr-assets.com/books/1386585442m/17593026.jpg', 'https://www.goodreads.com/book/show/17593026-the-adventures-of-kid-humpty-dumpty'), (265872, 147024, \"Lewis Carroll's Jabberwocky: With Annotations by Humpty Dumpty\", 'lewis carrolls jabberwocky with annotations by humpty dumpty', \"Lewis Carroll's Jabberwocky: With Annotations by Humpty Dumpty\", 'lewis carrolls jabberwocky with annotations by humpty dumpty', '', 6, 4.13, 32, 1, 8, 1992, '1563970805', '9781563970801', 'Boyds Mills Pr', 'US', '', 'https://www.goodreads.com/book/show/147024.Lewis_Carroll_s_Jabberwocky', 'https://s.gr-assets.com/assets/nophoto/book/111x148-bcc042a9c91a29c1d680899eff700a03.png', 'https://www.goodreads.com/book/show/147024.Lewis_Carroll_s_Jabberwocky'), (1951169, 6076649, 'Humpty Dumpty Was Pushed: And Other Cracked Tales', 'humpty dumpty was pushed and other cracked tales', 'Humpty Dumpty Was Pushed: And Other Cracked Tales', 'humpty dumpty was pushed and other cracked tales', 'What would you do if you suspect your best friend, who happens to be a giant egg, was killed but everyone else thinks it was an accident? \"Humpty Dumpty Was Pushed,\" a collection of twenty-two short fairy tale-like stories, tackles that question and many more. In this collection\\'s title story, Chicken Little is certain his friend did not fall from the ledge, and he intends to prove there is a conspiracy. Will he discover the truth before it\\'s too late? Filled with interesting and delightful characters, these short stories ask questions not raised before. Can a reverse vampire find true love? Can the World Nose Hair champion really make the world a better place? Is it ever wise to stick cheese noodles in your nose? Can one live their life squeezing other people\\'s ears in peace? If a whale and a tiger had a fight who would win?\\nIncorporating familiar characters in children\\'s literature and folklore, \"Humpty Dumpty Was Pushed\" tells a series of tales with surprises to keep you guessing. Each story asks a different question, and each story offers a different, strange answer.', 23, 3.55, 196, 14, 11, 2008, '0595715591', '9780595715596', 'iUniverse', 'US', '', 'https://www.goodreads.com/book/show/6076649-humpty-dumpty-was-pushed', 'https://s.gr-assets.com/assets/nophoto/book/111x148-bcc042a9c91a29c1d680899eff700a03.png', 'https://www.goodreads.com/book/show/6076649-humpty-dumpty-was-pushed'), (1780169, 13330672, 'Who Pushed Humpty Dumpty?: And Other Notorious Nursery Tale Mysteries', 'who pushed humpty dumpty and other notorious nursery tale mysteries', 'Who Pushed Humpty Dumpty?: And Other Notorious Nursery Tale Mysteries', 'who pushed humpty dumpty and other notorious nursery tale mysteries', \"Break-in at the Three Bears family home? It could only be one dame. Wicked witch gone missing from her candied cottage? Hansel and Gretel claim it was self-defense. Did Humpty Dumpty really just fall off that wall, or was he pushed? Here are five fairy-tale stories with a twist, all told from the point of view of a streetwise police officer called Binky, who just happens to be a toad in a suit and a fedora. When Snow White doesn't make it to the beauty pageant, Officer Binky is the first to find the apple core lying by her bed. When an awful giant mysteriously crashes to the ground, upsetting the whole town, Binky discovers exactly who is responsible. Author David Levinthal and illustrator John Nickle retell these classic stories in the style of a 1940s noir detective novel--for kids!\", 407, 3.79, 40, 25, 9, 2012, '0375841954', '9780375841958', 'Schwartz & Wade', 'US', '', 'https://www.goodreads.com/book/show/13330672-who-pushed-humpty-dumpty', 'https://images.gr-assets.com/books/1333577876m/13330672.jpg', 'https://www.goodreads.com/book/show/13330672-who-pushed-humpty-dumpty'), (1681739, 13330634, 'Who Pushed Humpty Dumpty?: And Other Notorious Nursery Tale Mysteries', 'who pushed humpty dumpty and other notorious nursery tale mysteries', 'Who Pushed Humpty Dumpty?: And Other Notorious Nursery Tale Mysteries', 'who pushed humpty dumpty and other notorious nursery tale mysteries', \"Break-in at the Three Bears family home? It could only be one dame. Wicked witch gone missing from her candied cottage? Hansel and Gretel claim it was self-defense. Did Humpty Dumpty really just fall off that wall, or was he pushed? Here are five fairy-tale stories with a twist, all told from the point of view of a streetwise police officer called Binky, who just happens to be a toad in a suit and a fedora. When Snow White doesn't make it to the beauty pageant, Officer Binky is the first to find the apple core lying by her bed. When an awful giant mysteriously crashes to the ground, upsetting the whole town, Binky discovers exactly who is responsible. Author David Levinthal and illustrator John Nickle retell these classic stories in the style of a 1940s noir detective novel--for kids!\", 12, 3.79, 40, 25, 9, 2012, '0375945954', '9780375945953', 'Schwartz & Wade', 'US', '', 'https://www.goodreads.com/book/show/13330634-who-pushed-humpty-dumpty', 'https://images.gr-assets.com/books/1333578070m/13330634.jpg', 'https://www.goodreads.com/book/show/13330634-who-pushed-humpty-dumpty'), (827442, 7831057, 'Humpty Dumpty and Friends: Nursery Rhymes for the Young at Heart', 'humpty dumpty and friends nursery rhymes for the young at heart', 'Humpty Dumpty and Friends: Nursery Rhymes for the Young at Heart', 'humpty dumpty and friends nursery rhymes for the young at heart', 'Meet old favorites like Tweedle-dum and Tweedle-dee and, of course, Humpty Dumpty. Then make new friends with some less-known rhymes like Robin the Bobbin, the Three Wise Men of Gotham, and the Lion and the Unicorn. Oleg Lipchenko has selected twenty traditional rhymes to illustrate with his enormously skillful and witty images. Perfect for gift-giving, this book demands to be shared. It is a book for both lovers of of art and of nursery rhymes.', 22, 2.95, 24, 14, 9, 2010, '1770492054', '9781770492059', 'Tundra Books', 'US', '', 'https://www.goodreads.com/book/show/7831057-humpty-dumpty-and-friends', 'https://images.gr-assets.com/books/1320537564m/7831057.jpg', 'https://www.goodreads.com/book/show/7831057-humpty-dumpty-and-friends'), (1486288, 23148389, 'I, Humpty', 'i humpty', 'I, Humpty', 'i humpty', 'I, Humpty is a collection of mock-tabloid satire marrying the reality of everyday life with popular elements from fairytales, folklore, and nursery rhymes. Rejoice with the Beast as Belle grants him permission to convert the den into a man-cave. Learn why the third little pig grows weary of his live-in brothers. Follow the courtroom drama of Rumpelstiltskin\\'s indictment in the Straw-To-Gold Scandal. I, Humpty covers all of these stories and more.\\nPraise for I, Humpty\\n\"I, Humpty is a smart, laugh-out-loud spin on fairy tales in a modern setting. Not since \\'Politically Correct Bedtime Stories\\' have I enjoyed fairytale satire so much. Definitely a collection I\\'ll be recommending and sharing with friends.\"\\n-Jess E. Owen, author of the Summer King Chronicles\\n\"The best collection of twisted fables around...\"\\n-Ned Hickson, syndicated humor columnist at Siuslaw News\\n\"Shocking, silly, and sometimes hitting closer to home than one would expect from stories begun in lands so far, far away, this is journalism that doesn\\'t flinch from the grimmer side of \\'once upon a time.\\'\"\\n-Danielle E. Shipley, author of The Wilderhark Tales\\n\"In I, Humpty, Wilder\\'s tenacious investigative reporting huffs, puffs, and blows the roof off the fairy tale world.\"\\n-Jocelyn Koehler, author of The Nine Kingdoms Series\\n\"Creative and quirky, Wilder presents an alternate universe that reminds us fairy tales never needed happy endings. His laugh-out-loud versions of the beloved stories we grew up on are irreverent in the best sense of the word and leave me pleading for a sequel.\"\\n-Robin L. Flanigan, journalist', 7, 4.14, 142, 0, 9, 2014, '1501092480', '9781501092480', 'Eric C Wilder', 'US', 'eng', 'https://www.goodreads.com/book/show/23148389-i-humpty', 'https://images.gr-assets.com/books/1409625095m/23148389.jpg', 'https://www.goodreads.com/book/show/23148389-i-humpty')]]\n"
     ]
    }
   ],
   "source": [
    "data  = book_alldetails_byindex(indices=indices,cs=cs)\n",
    "print(data)"
   ]
  },
  {
   "cell_type": "code",
   "execution_count": 6,
   "metadata": {},
   "outputs": [
    {
     "data": {
      "text/plain": [
       "30"
      ]
     },
     "execution_count": 6,
     "metadata": {},
     "output_type": "execute_result"
    }
   ],
   "source": [
    "len(data[0])"
   ]
  },
  {
   "cell_type": "code",
   "execution_count": 7,
   "metadata": {},
   "outputs": [
    {
     "name": "stdout",
     "output_type": "stream",
     "text": [
      "[\n",
      "    {\n",
      "        \"book_id\": 452654,\n",
      "        \"gr_book_id\": 11527094,\n",
      "        \"title_without_series\": \"Humpty Dumpty\",\n",
      "        \"mod_title\": \"humpty dumpty\",\n",
      "        \"title\": \"Humpty Dumpty\",\n",
      "        \"mod_title_without_series\": \"humpty dumpty\",\n",
      "        \"description\": \"\",\n",
      "        \"ratings_count\": 1,\n",
      "        \"average_rating\": 5.0,\n",
      "        \"num_pages\": 0,\n",
      "        \"publication_day\": 0,\n",
      "        \"publication_month\": 0,\n",
      "        \"publication_year\": 0,\n",
      "        \"isbn\": \"0914676377\",\n",
      "        \"isbn13\": \"9780914676379\",\n",
      "        \"publisher\": \"\",\n",
      "        \"country_code\": \"US\",\n",
      "        \"language_code\": \"\",\n",
      "        \"url\": \"https://www.goodreads.com/book/show/11527094-humpty-dumpty\",\n",
      "        \"image_url\": \"https://images.gr-assets.com/books/1449007599m/11527094.jpg\",\n",
      "        \"link\": \"https://www.goodreads.com/book/show/11527094-humpty-dumpty\"\n",
      "    },\n",
      "    {\n",
      "        \"book_id\": 451559,\n",
      "        \"gr_book_id\": 13107850,\n",
      "        \"title_without_series\": \"Humpty Dumpty\",\n",
      "        \"mod_title\": \"humpty dumpty\",\n",
      "        \"title\": \"Humpty Dumpty\",\n",
      "        \"mod_title_without_series\": \"humpty dumpty\",\n",
      "        \"description\": \"\",\n",
      "        \"ratings_count\": 3,\n",
      "        \"average_rating\": 3.33,\n",
      "        \"num_pages\": 0,\n",
      "        \"publication_day\": 0,\n",
      "        \"publication_month\": 0,\n",
      "        \"publication_year\": 2004,\n",
      "        \"isbn\": \"0785334270\",\n",
      "        \"isbn13\": \"9780785334279\",\n",
      "        \"publisher\": \"Publications International, Ltd.\",\n",
      "        \"country_code\": \"US\",\n",
      "        \"language_code\": \"\",\n",
      "        \"url\": \"https://www.goodreads.com/book/show/13107850-humpty-dumpty\",\n",
      "        \"image_url\": \"https://s.gr-assets.com/assets/nophoto/book/111x148-bcc042a9c91a29c1d680899eff700a03.png\",\n",
      "        \"link\": \"https://www.goodreads.com/book/show/13107850-humpty-dumpty\"\n",
      "    },\n",
      "    {\n",
      "        \"book_id\": 1822593,\n",
      "        \"gr_book_id\": 3569185,\n",
      "        \"title_without_series\": \"Humpty Dumpty\",\n",
      "        \"mod_title\": \"humpty dumpty\",\n",
      "        \"title\": \"Humpty Dumpty\",\n",
      "        \"mod_title_without_series\": \"humpty dumpty\",\n",
      "        \"description\": \"The story of Humpty Dumpty's son and how he avoids making the same mistakes his father made. Wonderfully illustrated fairy tale from William Wallace Denslow, illustrator of the Wizard of Oz.\",\n",
      "        \"ratings_count\": 20,\n",
      "        \"average_rating\": 3.0,\n",
      "        \"num_pages\": 16,\n",
      "        \"publication_day\": 15,\n",
      "        \"publication_month\": 10,\n",
      "        \"publication_year\": 2007,\n",
      "        \"isbn\": \"1557090777\",\n",
      "        \"isbn13\": \"9781557090775\",\n",
      "        \"publisher\": \"Applewood Books\",\n",
      "        \"country_code\": \"US\",\n",
      "        \"language_code\": \"eng\",\n",
      "        \"url\": \"https://www.goodreads.com/book/show/3569185-humpty-dumpty\",\n",
      "        \"image_url\": \"https://images.gr-assets.com/books/1328756706m/3569185.jpg\",\n",
      "        \"link\": \"https://www.goodreads.com/book/show/3569185-humpty-dumpty\"\n",
      "    }\n",
      "]\n"
     ]
    }
   ],
   "source": [
    "print(book_alldetails_tojson(data[0][:3]))"
   ]
  },
  {
   "cell_type": "markdown",
   "metadata": {},
   "source": [
    "**Getting only the titles from the database using the indices**"
   ]
  },
  {
   "cell_type": "code",
   "execution_count": 8,
   "metadata": {},
   "outputs": [
    {
     "name": "stdout",
     "output_type": "stream",
     "text": [
      "[[('humpty dumpty',), ('humpty dumpty eggsplodes',), ('indestructibles humpty dumpty',), ('humpty dumpty in oakland',), ('humpty dumpty an oval',), ('humpty dumpty flipside rhymes',), ('humpty dumpty was pushed',), ('the humpty dumpty tragedy',), ('billy majestics humpty dumpty',), ('humpty dumpty climbs again',), ('dk baby fun humpty dumpty',), ('humpty dumpty and other rhymes',), ('stroke the humpty dumpty syndrome',), ('jack and the beanstalk humpty dumpty',), ('the adventures of kid humpty dumpty',), ('lewis carrolls jabberwocky with annotations by humpty dumpty',), ('humpty dumpty was pushed and other cracked tales',), ('who pushed humpty dumpty and other notorious nursery tale mysteries',), ('humpty dumpty and friends nursery rhymes for the young at heart',), ('i humpty',)]]\n"
     ]
    }
   ],
   "source": [
    "titles  = book_onlytitles_byindex(indices=indices,cs=cs)\n",
    "print(titles)"
   ]
  },
  {
   "cell_type": "code",
   "execution_count": 9,
   "metadata": {},
   "outputs": [
    {
     "name": "stdout",
     "output_type": "stream",
     "text": [
      "[\n",
      "    {\n",
      "        \"id\": 0,\n",
      "        \"book_title_mod\": \"humpty dumpty\"\n",
      "    },\n",
      "    {\n",
      "        \"id\": 1,\n",
      "        \"book_title_mod\": \"humpty dumpty eggsplodes\"\n",
      "    },\n",
      "    {\n",
      "        \"id\": 2,\n",
      "        \"book_title_mod\": \"indestructibles humpty dumpty\"\n",
      "    },\n",
      "    {\n",
      "        \"id\": 3,\n",
      "        \"book_title_mod\": \"humpty dumpty in oakland\"\n",
      "    },\n",
      "    {\n",
      "        \"id\": 4,\n",
      "        \"book_title_mod\": \"humpty dumpty an oval\"\n",
      "    },\n",
      "    {\n",
      "        \"id\": 5,\n",
      "        \"book_title_mod\": \"humpty dumpty flipside rhymes\"\n",
      "    },\n",
      "    {\n",
      "        \"id\": 6,\n",
      "        \"book_title_mod\": \"humpty dumpty was pushed\"\n",
      "    },\n",
      "    {\n",
      "        \"id\": 7,\n",
      "        \"book_title_mod\": \"the humpty dumpty tragedy\"\n",
      "    },\n",
      "    {\n",
      "        \"id\": 8,\n",
      "        \"book_title_mod\": \"billy majestics humpty dumpty\"\n",
      "    },\n",
      "    {\n",
      "        \"id\": 9,\n",
      "        \"book_title_mod\": \"humpty dumpty climbs again\"\n",
      "    },\n",
      "    {\n",
      "        \"id\": 10,\n",
      "        \"book_title_mod\": \"dk baby fun humpty dumpty\"\n",
      "    },\n",
      "    {\n",
      "        \"id\": 11,\n",
      "        \"book_title_mod\": \"humpty dumpty and other rhymes\"\n",
      "    },\n",
      "    {\n",
      "        \"id\": 12,\n",
      "        \"book_title_mod\": \"stroke the humpty dumpty syndrome\"\n",
      "    },\n",
      "    {\n",
      "        \"id\": 13,\n",
      "        \"book_title_mod\": \"jack and the beanstalk humpty dumpty\"\n",
      "    },\n",
      "    {\n",
      "        \"id\": 14,\n",
      "        \"book_title_mod\": \"the adventures of kid humpty dumpty\"\n",
      "    },\n",
      "    {\n",
      "        \"id\": 15,\n",
      "        \"book_title_mod\": \"lewis carrolls jabberwocky with annotations by humpty dumpty\"\n",
      "    },\n",
      "    {\n",
      "        \"id\": 16,\n",
      "        \"book_title_mod\": \"humpty dumpty was pushed and other cracked tales\"\n",
      "    },\n",
      "    {\n",
      "        \"id\": 17,\n",
      "        \"book_title_mod\": \"who pushed humpty dumpty and other notorious nursery tale mysteries\"\n",
      "    },\n",
      "    {\n",
      "        \"id\": 18,\n",
      "        \"book_title_mod\": \"humpty dumpty and friends nursery rhymes for the young at heart\"\n",
      "    },\n",
      "    {\n",
      "        \"id\": 19,\n",
      "        \"book_title_mod\": \"i humpty\"\n",
      "    }\n",
      "]\n"
     ]
    }
   ],
   "source": [
    "print(book_onlytitles_tojson(titles[0]))"
   ]
  },
  {
   "cell_type": "markdown",
   "metadata": {},
   "source": [
    "**Getting details for search engine**"
   ]
  },
  {
   "cell_type": "code",
   "execution_count": 10,
   "metadata": {},
   "outputs": [],
   "source": [
    "search_result  = book_searchdetails_byindex(indices=indices,cs=cs)"
   ]
  },
  {
   "cell_type": "code",
   "execution_count": 11,
   "metadata": {},
   "outputs": [
    {
     "data": {
      "text/plain": [
       "20"
      ]
     },
     "execution_count": 11,
     "metadata": {},
     "output_type": "execute_result"
    }
   ],
   "source": [
    "len(search_result[0])"
   ]
  },
  {
   "cell_type": "code",
   "execution_count": 12,
   "metadata": {},
   "outputs": [
    {
     "data": {
      "text/plain": [
       "[[(\"Billy Majestic's Humpty Dumpty\",\n",
       "   'billy majestics humpty dumpty',\n",
       "   13,\n",
       "   2.85,\n",
       "   'https://s.gr-assets.com/assets/nophoto/book/111x148-bcc042a9c91a29c1d680899eff700a03.png',\n",
       "   1),\n",
       "  ('DK Baby Fun: Humpty Dumpty',\n",
       "   'dk baby fun humpty dumpty',\n",
       "   1,\n",
       "   1.0,\n",
       "   'https://images.gr-assets.com/books/1309294999m/2095020.jpg',\n",
       "   1),\n",
       "  ('Humpty Dumpty',\n",
       "   'humpty dumpty',\n",
       "   231,\n",
       "   3.69,\n",
       "   'https://images.gr-assets.com/books/1369181911m/17969406.jpg',\n",
       "   1),\n",
       "  ('Humpty Dumpty: An Oval',\n",
       "   'humpty dumpty an oval',\n",
       "   58,\n",
       "   3.12,\n",
       "   'https://images.gr-assets.com/books/1289677869m/1295210.jpg',\n",
       "   1),\n",
       "  ('Humpty Dumpty and Friends: Nursery Rhymes for the Young at Heart',\n",
       "   'humpty dumpty and friends nursery rhymes for the young at heart',\n",
       "   22,\n",
       "   2.95,\n",
       "   'https://images.gr-assets.com/books/1320537564m/7831057.jpg',\n",
       "   1),\n",
       "  ('Humpty Dumpty: and Other Rhymes',\n",
       "   'humpty dumpty and other rhymes',\n",
       "   39,\n",
       "   3.47,\n",
       "   'https://images.gr-assets.com/books/1320546026m/1138548.jpg',\n",
       "   1),\n",
       "  ('Humpty Dumpty Climbs Again',\n",
       "   'humpty dumpty climbs again',\n",
       "   213,\n",
       "   3.89,\n",
       "   'https://images.gr-assets.com/books/1362667798m/3467435.jpg',\n",
       "   1),\n",
       "  ('Humpty Dumpty Egg-Splodes',\n",
       "   'humpty dumpty eggsplodes',\n",
       "   57,\n",
       "   3.54,\n",
       "   'https://images.gr-assets.com/books/1312040627m/3239872.jpg',\n",
       "   1),\n",
       "  ('Humpty Dumpty Flip-Side Rhymes',\n",
       "   'humpty dumpty flipside rhymes',\n",
       "   32,\n",
       "   3.74,\n",
       "   'https://images.gr-assets.com/books/1408842700m/23011697.jpg',\n",
       "   1),\n",
       "  ('Humpty Dumpty in Oakland',\n",
       "   'humpty dumpty in oakland',\n",
       "   726,\n",
       "   3.32,\n",
       "   'https://images.gr-assets.com/books/1312049700m/902971.jpg',\n",
       "   1),\n",
       "  ('Humpty Dumpty Was Pushed',\n",
       "   'humpty dumpty was pushed',\n",
       "   48,\n",
       "   3.43,\n",
       "   'https://images.gr-assets.com/books/1328763894m/4171735.jpg',\n",
       "   1),\n",
       "  ('Humpty Dumpty Was Pushed: And Other Cracked Tales',\n",
       "   'humpty dumpty was pushed and other cracked tales',\n",
       "   23,\n",
       "   3.55,\n",
       "   'https://s.gr-assets.com/assets/nophoto/book/111x148-bcc042a9c91a29c1d680899eff700a03.png',\n",
       "   1),\n",
       "  ('I, Humpty',\n",
       "   'i humpty',\n",
       "   7,\n",
       "   4.14,\n",
       "   'https://images.gr-assets.com/books/1409625095m/23148389.jpg',\n",
       "   1),\n",
       "  ('Indestructibles: Humpty Dumpty',\n",
       "   'indestructibles humpty dumpty',\n",
       "   36,\n",
       "   3.92,\n",
       "   'https://images.gr-assets.com/books/1404581923m/8012715.jpg',\n",
       "   1),\n",
       "  ('Jack and the bean-stalk. Humpty Dumpty',\n",
       "   'jack and the beanstalk humpty dumpty',\n",
       "   24,\n",
       "   3.96,\n",
       "   'https://images.gr-assets.com/books/1357292302m/17207480.jpg',\n",
       "   1),\n",
       "  (\"Lewis Carroll's Jabberwocky: With Annotations by Humpty Dumpty\",\n",
       "   'lewis carrolls jabberwocky with annotations by humpty dumpty',\n",
       "   6,\n",
       "   4.13,\n",
       "   'https://s.gr-assets.com/assets/nophoto/book/111x148-bcc042a9c91a29c1d680899eff700a03.png',\n",
       "   1),\n",
       "  ('Stroke, the Humpty Dumpty Syndrome',\n",
       "   'stroke the humpty dumpty syndrome',\n",
       "   4,\n",
       "   4.67,\n",
       "   'https://s.gr-assets.com/assets/nophoto/book/111x148-bcc042a9c91a29c1d680899eff700a03.png',\n",
       "   1),\n",
       "  ('The Adventures of Kid Humpty Dumpty',\n",
       "   'the adventures of kid humpty dumpty',\n",
       "   3,\n",
       "   3.67,\n",
       "   'https://images.gr-assets.com/books/1386585442m/17593026.jpg',\n",
       "   1),\n",
       "  ('The Humpty Dumpty Tragedy',\n",
       "   'the humpty dumpty tragedy',\n",
       "   13,\n",
       "   4.0,\n",
       "   'https://images.gr-assets.com/books/1351211358m/16109548.jpg',\n",
       "   1),\n",
       "  ('Who Pushed Humpty Dumpty?: And Other Notorious Nursery Tale Mysteries',\n",
       "   'who pushed humpty dumpty and other notorious nursery tale mysteries',\n",
       "   407,\n",
       "   3.79,\n",
       "   'https://images.gr-assets.com/books/1333577876m/13330672.jpg',\n",
       "   1)]]"
      ]
     },
     "execution_count": 12,
     "metadata": {},
     "output_type": "execute_result"
    }
   ],
   "source": [
    "search_result"
   ]
  },
  {
   "cell_type": "code",
   "execution_count": 13,
   "metadata": {},
   "outputs": [
    {
     "name": "stdout",
     "output_type": "stream",
     "text": [
      "[\n",
      "    {\n",
      "        \"title\": \"Billy Majestic's Humpty Dumpty\",\n",
      "        \"description\": \"billy majestics humpty dumpty\",\n",
      "        \"image\": \"https://s.gr-assets.com/assets/nophoto/book/111x148-bcc042a9c91a29c1d680899eff700a03.png\",\n",
      "        \"price\": \"2.85\"\n",
      "    },\n",
      "    {\n",
      "        \"title\": \"DK Baby Fun: Humpty Dumpty\",\n",
      "        \"description\": \"dk baby fun humpty dumpty\",\n",
      "        \"image\": \"https://images.gr-assets.com/books/1309294999m/2095020.jpg\",\n",
      "        \"price\": \"1.0\"\n",
      "    },\n",
      "    {\n",
      "        \"title\": \"Humpty Dumpty\",\n",
      "        \"description\": \"humpty dumpty\",\n",
      "        \"image\": \"https://images.gr-assets.com/books/1369181911m/17969406.jpg\",\n",
      "        \"price\": \"3.69\"\n",
      "    },\n",
      "    {\n",
      "        \"title\": \"Humpty Dumpty: An Oval\",\n",
      "        \"description\": \"humpty dumpty an oval\",\n",
      "        \"image\": \"https://images.gr-assets.com/books/1289677869m/1295210.jpg\",\n",
      "        \"price\": \"3.12\"\n",
      "    },\n",
      "    {\n",
      "        \"title\": \"Humpty Dumpty and Friends: Nursery Rhymes for the Young at Heart\",\n",
      "        \"description\": \"humpty dumpty and friends nursery rhymes for the young at heart\",\n",
      "        \"image\": \"https://images.gr-assets.com/books/1320537564m/7831057.jpg\",\n",
      "        \"price\": \"2.95\"\n",
      "    },\n",
      "    {\n",
      "        \"title\": \"Humpty Dumpty: and Other Rhymes\",\n",
      "        \"description\": \"humpty dumpty and other rhymes\",\n",
      "        \"image\": \"https://images.gr-assets.com/books/1320546026m/1138548.jpg\",\n",
      "        \"price\": \"3.47\"\n",
      "    },\n",
      "    {\n",
      "        \"title\": \"Humpty Dumpty Climbs Again\",\n",
      "        \"description\": \"humpty dumpty climbs again\",\n",
      "        \"image\": \"https://images.gr-assets.com/books/1362667798m/3467435.jpg\",\n",
      "        \"price\": \"3.89\"\n",
      "    },\n",
      "    {\n",
      "        \"title\": \"Humpty Dumpty Egg-Splodes\",\n",
      "        \"description\": \"humpty dumpty eggsplodes\",\n",
      "        \"image\": \"https://images.gr-assets.com/books/1312040627m/3239872.jpg\",\n",
      "        \"price\": \"3.54\"\n",
      "    },\n",
      "    {\n",
      "        \"title\": \"Humpty Dumpty Flip-Side Rhymes\",\n",
      "        \"description\": \"humpty dumpty flipside rhymes\",\n",
      "        \"image\": \"https://images.gr-assets.com/books/1408842700m/23011697.jpg\",\n",
      "        \"price\": \"3.74\"\n",
      "    },\n",
      "    {\n",
      "        \"title\": \"Humpty Dumpty in Oakland\",\n",
      "        \"description\": \"humpty dumpty in oakland\",\n",
      "        \"image\": \"https://images.gr-assets.com/books/1312049700m/902971.jpg\",\n",
      "        \"price\": \"3.32\"\n",
      "    },\n",
      "    {\n",
      "        \"title\": \"Humpty Dumpty Was Pushed\",\n",
      "        \"description\": \"humpty dumpty was pushed\",\n",
      "        \"image\": \"https://images.gr-assets.com/books/1328763894m/4171735.jpg\",\n",
      "        \"price\": \"3.43\"\n",
      "    },\n",
      "    {\n",
      "        \"title\": \"Humpty Dumpty Was Pushed: And Other Cracked Tales\",\n",
      "        \"description\": \"humpty dumpty was pushed and other cracked tales\",\n",
      "        \"image\": \"https://s.gr-assets.com/assets/nophoto/book/111x148-bcc042a9c91a29c1d680899eff700a03.png\",\n",
      "        \"price\": \"3.55\"\n",
      "    },\n",
      "    {\n",
      "        \"title\": \"I, Humpty\",\n",
      "        \"description\": \"i humpty\",\n",
      "        \"image\": \"https://images.gr-assets.com/books/1409625095m/23148389.jpg\",\n",
      "        \"price\": \"4.14\"\n",
      "    },\n",
      "    {\n",
      "        \"title\": \"Indestructibles: Humpty Dumpty\",\n",
      "        \"description\": \"indestructibles humpty dumpty\",\n",
      "        \"image\": \"https://images.gr-assets.com/books/1404581923m/8012715.jpg\",\n",
      "        \"price\": \"3.92\"\n",
      "    },\n",
      "    {\n",
      "        \"title\": \"Jack and the bean-stalk. Humpty Dumpty\",\n",
      "        \"description\": \"jack and the beanstalk humpty dumpty\",\n",
      "        \"image\": \"https://images.gr-assets.com/books/1357292302m/17207480.jpg\",\n",
      "        \"price\": \"3.96\"\n",
      "    },\n",
      "    {\n",
      "        \"title\": \"Lewis Carroll's Jabberwocky: With Annotations by Humpty Dumpty\",\n",
      "        \"description\": \"lewis carrolls jabberwocky with annotations by humpty dumpty\",\n",
      "        \"image\": \"https://s.gr-assets.com/assets/nophoto/book/111x148-bcc042a9c91a29c1d680899eff700a03.png\",\n",
      "        \"price\": \"4.13\"\n",
      "    },\n",
      "    {\n",
      "        \"title\": \"Stroke, the Humpty Dumpty Syndrome\",\n",
      "        \"description\": \"stroke the humpty dumpty syndrome\",\n",
      "        \"image\": \"https://s.gr-assets.com/assets/nophoto/book/111x148-bcc042a9c91a29c1d680899eff700a03.png\",\n",
      "        \"price\": \"4.67\"\n",
      "    },\n",
      "    {\n",
      "        \"title\": \"The Adventures of Kid Humpty Dumpty\",\n",
      "        \"description\": \"the adventures of kid humpty dumpty\",\n",
      "        \"image\": \"https://images.gr-assets.com/books/1386585442m/17593026.jpg\",\n",
      "        \"price\": \"3.67\"\n",
      "    },\n",
      "    {\n",
      "        \"title\": \"The Humpty Dumpty Tragedy\",\n",
      "        \"description\": \"the humpty dumpty tragedy\",\n",
      "        \"image\": \"https://images.gr-assets.com/books/1351211358m/16109548.jpg\",\n",
      "        \"price\": \"4.0\"\n",
      "    },\n",
      "    {\n",
      "        \"title\": \"Who Pushed Humpty Dumpty?: And Other Notorious Nursery Tale Mysteries\",\n",
      "        \"description\": \"who pushed humpty dumpty and other notorious nursery tale mysteries\",\n",
      "        \"image\": \"https://images.gr-assets.com/books/1333577876m/13330672.jpg\",\n",
      "        \"price\": \"3.79\"\n",
      "    }\n",
      "]\n"
     ]
    }
   ],
   "source": [
    "print(book_searchdetails_tojson(data=search_result[0]))"
   ]
  }
 ],
 "metadata": {
  "kernelspec": {
   "display_name": "Python 3",
   "language": "python",
   "name": "python3"
  },
  "language_info": {
   "codemirror_mode": {
    "name": "ipython",
    "version": 3
   },
   "file_extension": ".py",
   "mimetype": "text/x-python",
   "name": "python",
   "nbconvert_exporter": "python",
   "pygments_lexer": "ipython3",
   "version": "3.10.11"
  }
 },
 "nbformat": 4,
 "nbformat_minor": 2
}
