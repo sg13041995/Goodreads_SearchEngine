{
 "cells": [
  {
   "cell_type": "markdown",
   "metadata": {},
   "source": [
    "**Modules**"
   ]
  },
  {
   "cell_type": "code",
   "execution_count": 1,
   "metadata": {},
   "outputs": [],
   "source": [
    "from semod import *"
   ]
  },
  {
   "cell_type": "markdown",
   "metadata": {},
   "source": [
    "**Connecting with the Database**"
   ]
  },
  {
   "cell_type": "code",
   "execution_count": 2,
   "metadata": {},
   "outputs": [
    {
     "name": "stdout",
     "output_type": "stream",
     "text": [
      "Connecting to MySQL database...\n",
      "Connection established\n"
     ]
    }
   ],
   "source": [
    "cn,cs=connect(creds=read(filename=\"config.ini\",section=\"mysql\"))"
   ]
  },
  {
   "cell_type": "markdown",
   "metadata": {},
   "source": [
    "**Importing trained models and other data**"
   ]
  },
  {
   "cell_type": "code",
   "execution_count": 3,
   "metadata": {},
   "outputs": [],
   "source": [
    "dictionary = joblib.load(\"./ModelMemory/title_without_series_dictionary.joblib\")\n",
    "bm25_index = joblib.load(\"./ModelMemory/title_without_series_matrix.joblib\")\n",
    "tfidf_model = joblib.load(\"./ModelMemory/title_without_series_tfidf_bnn.joblib\")"
   ]
  },
  {
   "cell_type": "markdown",
   "metadata": {},
   "source": [
    "**Getting best match indices against a query**"
   ]
  },
  {
   "cell_type": "code",
   "execution_count": 4,
   "metadata": {},
   "outputs": [
    {
     "name": "stdout",
     "output_type": "stream",
     "text": [
      "[1459882 1161519  598466 2089444 1256665 2070492  163444 1467087  996497\n",
      " 1121431  950099  304862  940011  946292 1180282 1550449  227601  257200\n",
      "  158627  823920  129649  548292 2018971 1451904  310458  286062 1547009\n",
      " 1628312 1916790 1511426]\n"
     ]
    }
   ],
   "source": [
    "query_str = \"harry potter\"\n",
    "\n",
    "indices = bm25_top_hits(query=query_str,\n",
    "                        tfidf_model=tfidf_model,\n",
    "                        bm25_index=bm25_index,\n",
    "                        dictionary=dictionary, \n",
    "                        n=30)\n",
    "print(indices)"
   ]
  },
  {
   "cell_type": "markdown",
   "metadata": {},
   "source": [
    "**Getting the records from the database using the indices**"
   ]
  },
  {
   "cell_type": "code",
   "execution_count": 5,
   "metadata": {},
   "outputs": [
    {
     "name": "stdout",
     "output_type": "stream",
     "text": [
      "[[(1459882, 10919834, 'Harry Potter Boxset (Harry Potter, #1-7)', 'harry potter boxset harry potter 17', 'Harry Potter Boxset (Harry Potter, #1-7)', 'harry potter boxset harry potter 17', 'Isi box: 7 buku serial Harry Potter 1-7 edisi hard cover: 1. Harry Potter #1: Harry Potter dan Batu Bertuah 2. Harry Potter #2: Harry Potter dan Kamar Rahasia 3. Harry Potter #3: Harry Potter dan Tawanan Azkaban 4. Harry Potter #4: Harry Potter dan Piala Api 5. Harry Potter #5: Harry Potter dan Orde Phoenix 6. Harry Potter #6: Harry Potter dan Pangeran Berdarah Campuran 7. Harry Potter #7: Harry Potter dan Relikui Kematian', 41, 4.74, 0, 0, 1, 2008, '9792234322', '9789792234329', 'Gramedia Pustaka Utama', 'US', 'ind', 'https://www.goodreads.com/book/show/10919834-harry-potter-boxset', 'https://s.gr-assets.com/assets/nophoto/book/111x148-bcc042a9c91a29c1d680899eff700a03.png', 'https://www.goodreads.com/book/show/10919834-harry-potter-boxset'), (1161519, 5668268, 'Harry Potter Boxset (Harry Potter, #1-7)', 'harry potter boxset harry potter 17', 'Harry Potter Boxset (Harry Potter, #1-7)', 'harry potter boxset harry potter 17', 'Seven stories about Harry Potter at Hogwarts Academy where he learns many things, makes friends, and has many adventures.', 308, 4.74, 4150, 0, 0, 2007, '0545045355', '9780545045353', 'Arthur A. Levine', 'US', 'eng', 'https://www.goodreads.com/book/show/5668268-harry-potter-boxset', 'https://images.gr-assets.com/books/1393386008m/5668268.jpg', 'https://www.goodreads.com/book/show/5668268-harry-potter-boxset'), (598466, 862041, 'Harry Potter Boxset (Harry Potter, #1-7)', 'harry potter boxset harry potter 17', 'Harry Potter Boxset (Harry Potter, #1-7)', 'harry potter boxset harry potter 17', \"The exciting tales of Harry Potter, the young wizard-in-training, have taken the world by storm, and fans just can't get enough of the magical world of Hogwarts and beyond. If you buy one of the Harry Potter books, we guarantee you'll want the next... and the next... and the next -- so why not have them all, right at your fingertips? With the Harry Potter Boxed Set (Years 1-7), Barnes & Noble.com offers simple one-stop shopping for your Harry Potter library! As easy as the wave of a magic wand, you can get all seven Harry Potter books delivered to your doorstep at once.\\nThe Harry Potter Boxed Set includes hardcover editions of Harry Potter and the Sorcerer's Stone, Harry Potter and the Chamber of Secrets, Harry Potter and the Prisoner of Azkaban, Harry Potter and the Goblet of Fire, Harry Potter and the Order of the Phoenix, Harry Potter and the Half-Blood Prince,and Harry Potter and the Deathly Hallows.The books come snugly packed in a decorative, trunk-like box with sturdy handles and a privacy lock -- and includes decorative stickers!\\nSo buy the set, and not even a pesky Locomotor Mortis spell cast by the evil Lord Voldem...(oooops, sorry -- He-Who-Must-Not-Be-Named) can get in the way of your enjoying all of the mystery, adventure, intrigue, and, of course, magic that Muggles around the world can't seem to get enough of. Hold on tight -- it's going to be a bumpy ride!\", 193057, 4.74, 4100, 1, 10, 2007, '0545044251', '9780545044257', 'Arthur A. Levine Books', 'US', 'eng', 'https://www.goodreads.com/book/show/862041.Harry_Potter_Boxset', 'https://images.gr-assets.com/books/1392579059m/862041.jpg', 'https://www.goodreads.com/book/show/862041.Harry_Potter_Boxset'), (2089444, 10, 'Harry Potter Collection (Harry Potter, #1-6)', 'harry potter collection harry potter 16', 'Harry Potter Collection (Harry Potter, #1-6)', 'harry potter collection harry potter 16', \"Six years of magic, adventure, and mystery make this luxurious boxed set the perfect gift for Harry Potter fans of all ages.\\nFollow Harry from his first days at Hogwarts School for Witchcraft and Wizardry, through his many adventures with Hermione and Ron, to his confrontations with rival Draco Malfoy and the dreaded Professor Snape. From the thrilling search for the Sorcerer's Stone to the Triwizard Tournament to the return of He-Who-Must-Not-Be-Named, each adventure is more riveting and exhilarating than its predecessor, and now all six books are available together for the first time in an elegant hardcover boxed set.\", 25245, 4.73, 3342, 12, 9, 2005, '0439827604', '9780439827607', 'Scholastic', 'US', 'eng', 'https://www.goodreads.com/book/show/10.Harry_Potter_Collection', 'https://images.gr-assets.com/books/1328867351m/10.jpg', 'https://www.goodreads.com/book/show/10.Harry_Potter_Collection'), (1256665, 6314759, 'Harry Potter Boxset (Harry Potter, #1-7)', 'harry potter boxset harry potter 17', 'Harry Potter Boxset (Harry Potter, #1-7)', 'harry potter boxset harry potter 17', 'Now for the first time ever, J.K. Rowling\\'s seven bestselling Harry Potter books are available in a stunning paperback boxed set! The Harry Potter series has been hailed as \"one for the ages\" by Stephen King and \"a spellbinding saga\\' by USA Today. And most recently, The New York Times called Harry Potter and the Deathly Hallows the \"fastest selling book in history.\" This is the ultimate Harry Potter collection for Harry Potter fans of all ages!', 3698, 4.74, 4167, 1, 7, 2009, '0545162076', '9780545162074', 'Arthur A. Levine Books', 'US', 'en-US', 'https://www.goodreads.com/book/show/6314759-harry-potter-boxset', 'https://images.gr-assets.com/books/1453361744m/6314759.jpg', 'https://www.goodreads.com/book/show/6314759-harry-potter-boxset'), (2070492, 8553632, 'Harry Potter og Halvblodsprinsen (Harry Potter # 6)', 'harry potter og halvblodsprinsen harry potter 6', 'Harry Potter og Halvblodsprinsen (Harry Potter # 6)', 'harry potter og halvblodsprinsen harry potter 6', \"It is the middle of the summer, but there is an unseasonal mist pressing against the windowpanes. Harry Potter is waiting nervously in his bedroom at the Dursleys' house in Privet Drive for a visit from Professor Dumbledore himself. One of the last times he saw the Headmaster was in a fierce one-to-one duel with Lord Voldemort, and Harry can't quite believe that Professor Dumbledore will actually appear at the Dursleys' of all places. Why is the Professor coming to visit him now? What is it that cannot wait until Harry returns to Hogwarts in a few weeks' time? Harry's sixth year at Hogwarts has already got off to an unusual start, as the worlds of Muggle and magic start to intertwine...\\nJ.K. Rowling charts Harry Potter's latest adventures in his sixth year at Hogwarts with consummate skill and in breathtaking fashion.\", 202, 4.54, 608, 0, 0, 2006, '8702048515', '9788702048513', 'Gyldendal', 'US', 'dan', 'https://www.goodreads.com/book/show/8553632-harry-potter-og-halvblodsprinsen', 'https://images.gr-assets.com/books/1367000758m/8553632.jpg', 'https://www.goodreads.com/book/show/8553632-harry-potter-og-halvblodsprinsen'), (163444, 24235658, 'Harry Potter og viskusteinninn  (Harry Potter, #1)', 'harry potter og viskusteinninn harry potter 1', 'Harry Potter og viskusteinninn  (Harry Potter, #1)', 'harry potter og viskusteinninn harry potter 1', 'Harry Potter thinks he is an ordinary boy - until he is rescued by an owl, taken to Hogwarts School of Witchcraft and Wizardry, learns to play Quidditch and does battle in a deadly duel. The Reason ... HARRY POTTER IS A WIZARD!', 7, 4.45, 263, 0, 0, 1999, '997986589X', '9789979865896', '', 'US', 'isl', 'https://www.goodreads.com/book/show/24235658-harry-potter-og-viskusteinninn', 'https://images.gr-assets.com/books/1420298435m/24235658.jpg', 'https://www.goodreads.com/book/show/24235658-harry-potter-og-viskusteinninn'), (1467087, 8933944, 'Harry Potter: The Prequel (Harry Potter, #0.5)', 'harry potter the prequel harry potter 05', 'Harry Potter: The Prequel (Harry Potter, #0.5)', 'harry potter the prequel harry potter 05', \"The Harry Potter Prequel is an 800-word story written by J. K. Rowling, and was published online on June 11th, 2008. Set three years before the birth of Harry Potter, the story recounts an adventure had by Sirius Black and James Potter.\\nJ.K. Rowling announced on May 28, 2008 that she was writing a prequel story for English PEN, the writers' association, and the Dyslexia Society. The story, handwritten on a card, would then be auctioned off alongside similar cards from other authors on June 11th, 2008, with the proceeds going to charity. A book of facsimiles was published in August 2008, allowing fans to own and read the story. As of 2009 the story is no longer officially available online.\\nThe story was one of three Harry Potter writing projects undertaken by Rowling after the publication of the final book, along with The Tales of Beedle the Bard and a yet-to-be-published Harry Potter Encyclopedia project.\", 13267, 4.22, 4, 11, 6, 2008, '1156923441', '9781156923443', '', 'US', 'eng', 'https://www.goodreads.com/book/show/8933944-harry-potter', 'https://images.gr-assets.com/books/1456894457m/8933944.jpg', 'https://www.goodreads.com/book/show/8933944-harry-potter'), (996497, 7, 'The Harry Potter Collection (Harry Potter, #1-6)', 'the harry potter collection harry potter 16', 'The Harry Potter Collection (Harry Potter, #1-6)', 'the harry potter collection harry potter 16', 'Six years of magic, adventure, and mystery make this paperback collection the perfect gift for Harry Potter fans of all ages.\\nFollow Harry from his first days at Hogwarts School for Witchcraft and Wizardry, through his many adventures with Hermione and Ron, to his confrontations with rival Draco Malfoy and the dreaded Professor Snape. From a dangerous descent into the Chamber of Secrets to the Triwizard Tournament to the return of He-Who-Must-Not-Be-Named, each adventure is more riveting and exhilarating than its predecessor, and now all six books are available together for the first time in a', 1512, 4.73, 0, 1, 9, 2006, '0439887453', '9780439887458', 'Scholastic', 'US', 'eng', 'https://www.goodreads.com/book/show/7.The_Harry_Potter_Collection', 'https://images.gr-assets.com/books/1328866031m/7.jpg', 'https://www.goodreads.com/book/show/7.The_Harry_Potter_Collection'), (1121431, 17404153, 'Harry Potter og Halvblodsprinsen (Harry Potter, #6)', 'harry potter og halvblodsprinsen harry potter 6', 'Harry Potter og Halvblodsprinsen (Harry Potter, #6)', 'harry potter og halvblodsprinsen harry potter 6', 'HARRY HAR tilbragt de forste uger af sommerferien hos familien Dursley med at ligge pa sin seng og stirre op i loftet. Han sorger over sin draebte gudfar Sirius, mens han genoplever det grufulde opgor med Dodsgardisterne i Ministeriet for Magi og den sindsoprivende duel mellem Dumbledore og Lord Voldemort. Nu sidder han ved vinduet og venter pa Dumbledore, der har meldt sin ankomst pr. uglepost. Harry glaeder sig til at slippe vaek fra Ligustervaenget. Maske fordi han ikke ved, hvad der venter ham.', 24, 4.54, 608, 0, 0, 2012, '8702114429', '9788702114423', 'Gyldendal', 'US', 'dan', 'https://www.goodreads.com/book/show/17404153-harry-potter-og-halvblodsprinsen', 'https://images.gr-assets.com/books/1361380453m/17404153.jpg', 'https://www.goodreads.com/book/show/17404153-harry-potter-og-halvblodsprinsen'), (950099, 2051678, 'Harry Potter och Fenixorden (Harry Potter, #5)', 'harry potter och fenixorden harry potter 5', 'Harry Potter och Fenixorden (Harry Potter, #5)', 'harry potter och fenixorden harry potter 5', 'Harry Potter har fatt nog. Sommarlovet hos Dursleys har varit varre an nagonsin. Hans basta vanner verkar inte bry sig om honom, han har inte fatt nagra nyheter fran trollkarlsvarlden pa hela sommaren och han riskerar dessutom att bli relegerad. Nar Harry val atervander till Hogwarts for sitt femte ar ar ingenting som det brukar vara, och den stora fragan ar: nar ska Lord Voldemort sla till igen?', 565, 4.47, 1008, 16, 3, 2004, '9188879046', '9789188879042', 'Tiden', 'US', 'swe', 'https://www.goodreads.com/book/show/2051678.Harry_Potter_och_Fenixorden', 'https://images.gr-assets.com/books/1477871344m/2051678.jpg', 'https://www.goodreads.com/book/show/2051678.Harry_Potter_och_Fenixorden'), (304862, 9885329, 'Harry Potter ja tulepeeker (Harry Potter #4)', 'harry potter ja tulepeeker harry potter 4', 'Harry Potter ja tulepeeker (Harry Potter #4)', 'harry potter ja tulepeeker harry potter 4', '\"Harry Potter ja tulepeeker\" on neljas osa seitsmeosalisest Harry Potteri raamatusarjast, jarg New York Times\\'i edetabeli esiromaanile \"Harry Potter ja Azkabani vang\".\\nHarry neljas oppeaasta ei kujune sugugi vahem seiklusrikkaks kui eelmised. Mustad joud tostavad taas pead. Esmakordselt ilmneb see lendluudpalli maailma karikavoistluste ajal. Harryl pole aga palju aega selle peale moelda, sest ka Sigatuuka koolis hakkavad toimuma ponevad sundmused.', 96, 4.53, 632, 0, 12, 2000, '998530425X', '9789985304259', 'Varrak', 'US', 'est', 'https://www.goodreads.com/book/show/9885329-harry-potter-ja-tulepeeker', 'https://images.gr-assets.com/books/1297187660m/9885329.jpg', 'https://www.goodreads.com/book/show/9885329-harry-potter-ja-tulepeeker'), (940011, 27422302, 'Harry Potter og Halvblodsprinsen (Harry Potter, #6)', 'harry potter og halvblodsprinsen harry potter 6', 'Harry Potter og Halvblodsprinsen (Harry Potter, #6)', 'harry potter og halvblodsprinsen harry potter 6', \"It is the middle of the summer, but there is an unseasonal mist pressing against the windowpanes. Harry Potter is waiting nervously in his bedroom at the Dursleys' house in Privet Drive for a visit from Professor Dumbledore himself. One of the last times he saw the Headmaster was in a fierce one-to-one duel with Lord Voldemort, and Harry can't quite believe that Professor Dumbledore will actually appear at the Dursleys' of all places. Why is the Professor coming to visit him now? What is it that cannot wait until Harry returns to Hogwarts in a few weeks' time? Harry's sixth year at Hogwarts has already got off to an unusual start, as the worlds of Muggle and magic start to intertwine...\\nJ.K. Rowling charts Harry Potter's latest adventures in his sixth year at Hogwarts with consummate skill and in breathtaking fashion.\", 2, 4.54, 20, 0, 0, 2008, '8202292026', '9788202292027', 'Cappelen Damm', 'US', 'nor', 'https://www.goodreads.com/book/show/27422302-harry-potter-og-halvblodsprinsen', 'https://images.gr-assets.com/books/1446585294m/27422302.jpg', 'https://www.goodreads.com/book/show/27422302-harry-potter-og-halvblodsprinsen'), (946292, 1345920, 'Harry Potter Box Set (Harry Potter, #1-4)', 'harry potter box set harry potter 14', 'Harry Potter Box Set (Harry Potter, #1-4)', 'harry potter box set harry potter 14', \"Young wizard-in-training Harry Potter has had his hands full during his first four years at Hogwarts School of Witchcraft and Wizardry. As if excelling on and off the Quidditch field isn't enough, Harry has heard evil voices in the walls, saved lives, and fended off convicts. Only time will tell how Harry will manage the certain dangers in store for him over the next few years. The first four titles of J.K. Rowling's magical, witty, exciting adventures are now available in a gift set, perfect for the legions of children whose big brothers and sisters (and parents) have made off with their copies.\\nIncludes Harry Potter and the Sorcerer's Stone, Harry Potter and the Chamber of Secrets, Harry Potter and the Prisoner of Azkaban, and Harry Potter and the Goblet of Fire.\", 48, 4.66, 0, 0, 0, 2000, '0747553629', '9780747553625', 'Bloomsbury Publishing', 'US', 'eng', 'https://www.goodreads.com/book/show/1345920.Harry_Potter_Box_Set', 'https://images.gr-assets.com/books/1327823623m/1345920.jpg', 'https://www.goodreads.com/book/show/1345920.Harry_Potter_Box_Set'), (1180282, 2337379, 'The Harry Potter trilogy (Harry Potter, #1-3)', 'the harry potter trilogy harry potter 13', 'The Harry Potter trilogy (Harry Potter, #1-3)', 'the harry potter trilogy harry potter 13', \"This box set collects hard cover editions Harry Potter and the Philosopher's Stone, Harry Potter and the Chamber of Secrets,and Harry Potter and the Prisoner of Azkabanin a slip case.\", 5081, 4.65, 900, 0, 0, 1999, '1856136639', '9781856136631', 'Ted Smart/Bloomsbury', 'US', 'en-GB', 'https://www.goodreads.com/book/show/2337379.The_Harry_Potter_trilogy', 'https://images.gr-assets.com/books/1330972392m/2337379.jpg', 'https://www.goodreads.com/book/show/2337379.The_Harry_Potter_trilogy'), (1550449, 29973209, 'Harry Potter: The Prequel (Harry Potter, #0.5)', 'harry potter the prequel harry potter 05', 'Harry Potter: The Prequel (Harry Potter, #0.5)', 'harry potter the prequel harry potter 05', \"The Harry Potter Prequel is an 800-word story written by J. K. Rowling, and was published online on June 11th, 2008. Set three years before the birth of Harry Potter, the story recounts an adventure had by Sirius Black and James Potter.\\nJ.K. Rowling announced on May 28, 2008 that she was writing a prequel story for English PEN, the writers' association, and the Dyslexia Society. The story, handwritten on a card, would then be auctioned off alongside similar cards from other authors on June 11th, 2008, with the proceeds going to charity. A book of facsimiles was published in August 2008, allowing fans to own and read the story. As of 2009 the story is no longer officially available online.\\nThe story was one of three Harry Potter writing projects undertaken by Rowling after the publication of the final book, along with The Tales of Beedle the Bard and a yet-to-be-published Harry Potter Encyclopedia project.\", 80, 4.22, 4, 11, 6, 2008, '', '', 'Books LLC', 'US', 'eng', 'https://www.goodreads.com/book/show/29973209-harry-potter', 'https://images.gr-assets.com/books/1461268668m/29973209.jpg', 'https://www.goodreads.com/book/show/29973209-harry-potter'), (227601, 30520371, 'Harry Potter och halvblodsprinsen (Harry Potter, #6)', 'harry potter och halvblodsprinsen harry potter 6', 'Harry Potter och halvblodsprinsen (Harry Potter, #6)', 'harry potter och halvblodsprinsen harry potter 6', 'I Harry Potter och halvblodsprinsen gar Harry Potter i sjatte arskursen pa Hogwarts skola for haxkonster och trolldom. Han kastas rakt in i kampen mellan det onda och det goda. Trollkarlsbefolkningen i England uppmanas vara pa sin vakt och Dumbledore varnar for att Lord Voldemort ar i fard med att varva anhangare for ett nytt forsok att gripa makten.\\nSka Harry an en gang tvingas duellera med Den-som-inte-far-namnas-vid-namn? Hela varlden vantar med spanning pa den sjatte boken om Harry Potter. Upplosningen narmar sig. Hur ska Harry klara kampen med Lord Voldemort, blir det som forfattaren redan aviserat, nagon som dor - i sa fall, vem?', 11, 4.54, 658, 12, 10, 2012, '9129687926', '9789129687927', 'Raben & Sjogren', 'US', 'swe', 'https://www.goodreads.com/book/show/30520371-harry-potter-och-halvblodsprinsen', 'https://images.gr-assets.com/books/1465645053m/30520371.jpg', 'https://www.goodreads.com/book/show/30520371-harry-potter-och-halvblodsprinsen'), (257200, 4947833, 'Harry Potter Boxed Set (Harry Potter, #1-7)', 'harry potter boxed set harry potter 17', 'Harry Potter Boxed Set (Harry Potter, #1-7)', 'harry potter boxed set harry potter 17', '', 66, 4.74, 3407, 0, 0, 0, '0747595852', '9780747595854', '', 'US', 'en-GB', 'https://www.goodreads.com/book/show/4947833-harry-potter-boxed-set', 'https://images.gr-assets.com/books/1327777130m/4947833.jpg', 'https://www.goodreads.com/book/show/4947833-harry-potter-boxed-set'), (158627, 1452427, 'Harry Potter og halvblodsprinsen (Harry Potter, #6)', 'harry potter og halvblodsprinsen harry potter 6', 'Harry Potter og halvblodsprinsen (Harry Potter, #6)', 'harry potter og halvblodsprinsen harry potter 6', 'En kald, hostlig take presser seg mot vinduene. Harry Potter sitter pa rommet sitt og venter. Han har fatt beskjed om at rektor Humlesnurr vil komme a hente ham. En av de siste gangene han sa ham, var han i kamp med Voldemort, og Harry kan ikke helt tro pa at Humlesnurr vil dukke opp hjemme hos Dumlingene. Hva er det som ikke kan vente til skolen begynner om fa uker? Harry Potters sjette ar pa Galtvort skole for hekseri og trolldom far en uvanlig og dramatisk start. Voldemort er tilbake, og skillet mellom gompeverdenen og magiverdenen er i ferd med a viskes ut. I Harry Potter og Halvblodsprinsen far Harry innblikk i den sammensatte bakgrunnen til gutten som ble Voldemort. Kanskje kan han pa denne maten finne ut hva som er hans svakhet ...', 76, 4.54, 585, 0, 0, 2008, '8204112173', '9788204112170', 'Damm', 'US', 'nor', 'https://www.goodreads.com/book/show/1452427.Harry_Potter_og_halvblodsprinsen', 'https://images.gr-assets.com/books/1363681719m/1452427.jpg', 'https://www.goodreads.com/book/show/1452427.Harry_Potter_og_halvblodsprinsen'), (823920, 1668766, 'Harry Potter Boxed Set (Harry Potter, #1-7)', 'harry potter boxed set harry potter 17', 'Harry Potter Boxed Set (Harry Potter, #1-7)', 'harry potter boxed set harry potter 17', \"A fabulous opportunity to own all seven Harry Potter titles - Harry Potter and the Philosopher's Stone, Harry Potter and the Chamber of Secrets, Harry Potter and the Prisoner of Azkaban, Harry Potter and the Goblet of Fire, Harry Potter and the Order of the Phoenix, Harry Potter and the Half-Blood Prince and Harry Potter and the Deathly Hallows - in a fantastic boxed set.\", 393, 4.74, 3412, 16, 10, 2007, '074759368X', '9780747593683', 'Bloomsbury', 'US', 'en-GB', 'https://www.goodreads.com/book/show/1668766.Harry_Potter_Boxed_Set', 'https://s.gr-assets.com/assets/nophoto/book/111x148-bcc042a9c91a29c1d680899eff700a03.png', 'https://www.goodreads.com/book/show/1668766.Harry_Potter_Boxed_Set'), (129649, 30520318, 'Harry Potter och Fenixorden (Harry Potter, #5)', 'harry potter och fenixorden harry potter 5', 'Harry Potter och Fenixorden (Harry Potter, #5)', 'harry potter och fenixorden harry potter 5', 'Harry Potter har fatt nog. Sommarlovet hos Dursleys har varit varre an nagonsin. Hans basta vanner verkar inte bry sig om honom, han har inte fatt nagra nyheter fran trollkarlsvarlden pa hela sommaren och han riskerar dessutom att bli relegerad. Nar Harry val atervander till Hogwarts for sitt femte ar ar ingenting som det brukar vara, och den stora fragan ar: nar ska Lord Voldemort sla till igen?', 13, 4.47, 1008, 26, 5, 2011, '9129680123', '9789129680126', 'Raben & Sjogren', 'US', 'swe', 'https://www.goodreads.com/book/show/30520318-harry-potter-och-fenixorden', 'https://images.gr-assets.com/books/1465644066m/30520318.jpg', 'https://www.goodreads.com/book/show/30520318-harry-potter-och-fenixorden'), (548292, 666456, 'Harry Potter Boxed Set (Harry Potter, #1-4)', 'harry potter boxed set harry potter 14', 'Harry Potter Boxed Set (Harry Potter, #1-4)', 'harry potter boxed set harry potter 14', 'Includes the first 4 books. Harry Potter and The Sorcerers Stone, Harry Potter and The Chamber of Secrets, Harry Potter and the Prisoner of Azkaban, and Harry Potter and the Goblet of Fire.', 128, 4.66, 0, 0, 0, 2001, '0747557012', '9780747557012', 'Bloomsbury', 'US', 'eng', 'https://www.goodreads.com/book/show/666456.Harry_Potter_Boxed_Set', 'https://images.gr-assets.com/books/1327924250m/666456.jpg', 'https://www.goodreads.com/book/show/666456.Harry_Potter_Boxed_Set'), (2018971, 16092232, 'Harry Potter og Halvblodsprinsen (Harry Potter, #6)', 'harry potter og halvblodsprinsen harry potter 6', 'Harry Potter og Halvblodsprinsen (Harry Potter, #6)', 'harry potter og halvblodsprinsen harry potter 6', 'Harry har tilbragt de forste uger af sommerferien hos familien Dursley med at ligge pa sin seng og stirre op i loftet. Han sorger over sin draebte gudfar Sirius, mens han genoplever det grufulde opgor med Dodsgardisterne i Ministeriet for Magi og den sindsoprivende duel mellem Dumbledore og Lord Voldemort.\\nNu sidder han ved vinduet og venter pa Dumbledore, der har meldt sin ankomst pr. uglepost. Harry glaeder sig til at slippe vaek fra Ligustervaenget. Maske fordi han ikke ved, hvad der venter ham.', 35, 4.54, 608, 0, 11, 2005, '8702041227', '9788702041224', 'Gyldendal', 'US', 'dan', 'https://www.goodreads.com/book/show/16092232-harry-potter-og-halvblodsprinsen', 'https://images.gr-assets.com/books/1350489278m/16092232.jpg', 'https://www.goodreads.com/book/show/16092232-harry-potter-og-halvblodsprinsen'), (1451904, 2132220, 'Harry Potter Audio Collection (Harry Potter, #1-7)', 'harry potter audio collection harry potter 17', 'Harry Potter Audio Collection (Harry Potter, #1-7)', 'harry potter audio collection harry potter 17', \"Enjoy the complete Harry Potter series performed by the Grammy Award-winning Jim Dale. This complete unabridged audiobook collection contains the following:\\nHarry Potter and the Sorcerer's Stone\\nHarry Potter and the Chamber of Secrets\\nHarry Potter and the Prisoner of Azkaban\\nHarry Potter and the Goblet of Fire\\nHarry Potter and the Order of the Phoenix\\nHarry Potter and the Half-Blood Prince\\nHarry Potter and the Deathly Hallows\", 245, 4.74, 17, 17, 10, 2007, '0739352245', '9780739352243', 'Listening Library (Audio)', 'US', 'eng', 'https://www.goodreads.com/book/show/2132220.Harry_Potter_Audio_Collection', 'https://s.gr-assets.com/assets/nophoto/book/111x148-bcc042a9c91a29c1d680899eff700a03.png', 'https://www.goodreads.com/book/show/2132220.Harry_Potter_Audio_Collection'), (310458, 2051700, 'Harry Potter och halvblodsprinsen (Harry Potter, #6)', 'harry potter och halvblodsprinsen harry potter 6', 'Harry Potter och halvblodsprinsen (Harry Potter, #6)', 'harry potter och halvblodsprinsen harry potter 6', 'I Harry Potter och halvblodsprinsen gar Harry Potter i sjatte arskursen pa Hogwarts skola for haxkonster och trolldom. Han kastas rakt in i kampen mellan det onda och det goda. Trollkarlsbefolkningen i England uppmanas vara pa sin vakt och Dumbledore varnar for att Lord Voldemort ar i fard med att varva anhangare for ett nytt forsok att gripa makten.\\nSka Harry an en gang tvingas duellera med Den-som-inte-far-namnas-vid-namn? Hela varlden vantar med spanning pa den sjatte boken om Harry Potter. Upplosningen narmar sig. Hur ska Harry klara kampen med Lord Voldemort, blir det som forfattaren redan aviserat, nagon som dor - i sa fall, vem?', 546, 4.54, 672, 24, 10, 2005, '9185243442', '9789185243440', 'Tiden', 'US', 'swe', 'https://www.goodreads.com/book/show/2051700.Harry_Potter_och_halvblodsprinsen', 'https://images.gr-assets.com/books/1465645031m/2051700.jpg', 'https://www.goodreads.com/book/show/2051700.Harry_Potter_och_halvblodsprinsen'), (286062, 864891, 'Harry Potter Box Set (Harry Potter, #1-6)', 'harry potter box set harry potter 16', 'Harry Potter Box Set (Harry Potter, #1-6)', 'harry potter box set harry potter 16', \"A boxed set of the first six titles in the Harry Potter series - Harry Potter and the Philosopher's Stone, Harry Potter and the Chamber of Secrets, Harry Potter and the Prisoner of Azkaban, Harry Potter and the Goblet of Fire, Harry Potter and the Order of the Phoenix, and Harry Potter and the Half-Blood Prince - in adult edition hardback format.\", 91, 4.73, 0, 0, 10, 2005, '0747581541', '9780747581543', 'Bloomsbury', 'US', 'eng', 'https://www.goodreads.com/book/show/864891.Harry_Potter_Box_Set', 'https://images.gr-assets.com/books/1327737563m/864891.jpg', 'https://www.goodreads.com/book/show/864891.Harry_Potter_Box_Set'), (1547009, 72191, 'Harry Potter Boxed Set (Harry Potter, #1-3)', 'harry potter boxed set harry potter 13', 'Harry Potter Boxed Set (Harry Potter, #1-3)', 'harry potter boxed set harry potter 13', 'Harry Potter and the Sorcerer s Stone\\nOrphaned as a baby, Harry Potter has spent 11 awful years living with his mean aunt, uncle, and cousin Dudley. But everything changes for Harry when an owl delivers a mysterious letter inviting him to attend a school for wizards. At this special school, Harry finds friends, aerial sports, and magic in everything from classes to meals, as well as a great destiny that\\'s been waiting for him...if Harry can survive the encounter. From an author who has been compared to C. S. Lewis and Roald Dahl, this enchanting, funny debut novel won England\\'s National Book Award and the prestigious Smarties Prize.\\nHarry Potter and the Chamber of Secrets\\nIn this sequel to Harry Potter and the Sorcerer\\'s Stone, Harry\\'s back for his second year at Hogwarts, where the infamous Chamber of Secrets has been opened for the first time in 50 years. The monster that is unleashed is literally petrifying Hogwarts students (turning them into stone, that is), and who is the primary suspect? Harry Potter himself. Add to this some enormous spiders, a Deathday Party, a ghost named Moaning Myrtle who haunts the girls\\' bathroom, and lots and lots of suspense, and you\\'ll soon find yourself engrossed in another terrific tale in which magic does exist and good eventually triumphs over evil.\\nHarry Potter and the Prisoner of Azkaban\\nKids of all ages -- even adults! -- have fallen under Harry Potter\\'s spell. And now, following the phenomenal success of Harry Potter and the Sorcerer\\'s Stoneand Harry Potter and the Chamber of Secrets, the young wizard-in-training has returned for his third year at the Hogwarts School of Witchcraft and Wizardry -- and more exciting, magical adventures. This time, a dangerous escaped convict is on the loose -- a reputed madman with a mysterious tie to Harry\\'s past. Harry\\'s life is in danger, and his sorcery skills are tested to the limit. Can he catch the criminal and discover the truth?\\nAbout the Author:\\n\"The idea that we could have a child who escapes from the confines of the adult world and goes somewhere where he has power, both literally and metaphorically, really appealed to me.\"\\nLike that of her own character, Harry Potter, J. K. Rowling\\'s life has the luster of a fairy tale. Divorced, living on public assistance in a tiny Edinburgh flat with her infant daughter, Rowling wrote Harry Potter and the Sorcerer\\'s Stoneat a table in a caf during her daughter\\'s naps. Now she\\'s got four bestsellers under her belt, and has the world begging for more. From public assistance to a publishing phenomenon, Rowling\\'s tale is truly magical.\\nWondering where the stories come from, and how they were written?\\n\\x01\\nCurious about the story of the author behind the famous books?\\n\\x01\\nJ. K Rowling spoke with us in the chat room, discussing two books from the series with readers around the world.\\n\\x01\\n\\x01\\nCurious about the story of the author behind the famous books?\\n\\x01\\nStill want to know more about the author?\\n\\x01', 62, 4.65, 1086, 0, 0, 0, '0439324661', '9780439324663', '', 'US', 'eng', 'https://www.goodreads.com/book/show/72191.Harry_Potter_Boxed_Set', 'https://s.gr-assets.com/assets/nophoto/book/111x148-bcc042a9c91a29c1d680899eff700a03.png', 'https://www.goodreads.com/book/show/72191.Harry_Potter_Boxed_Set'), (1628312, 435637, 'Re-Reading Harry Potter', 'rereading harry potter', 'Re-Reading Harry Potter', 'rereading harry potter', \"This is the first extended text-based analysis of the social and political implications of the Harry Potter phenomenon. Arguments are primarily based on close readings of the first four Harry Potter books and the first two films - in other words, a 'text-to-world' method is followed. This study does not assume that the phenomenon concerns children alone, or should be lightly dismissed as a matter of pure entertainment. The amount of money, media coverage, and ideological unease involved indicates otherwise. The first part provides a survey of responses (both of general readers and critics) to the Harry Potter books. Some of the methodological decisions underlying this study itself are also explained here. The second part examines the presentation of certain themes, including gender, race and desire, in the Harry Potter books, with a view to understanding how these may impinge on social and political concerns of our world.\", 166, 4.03, 185, 30, 5, 2003, '1403912653', '9781403912657', 'Palgrave MacMillan', 'US', '', 'https://www.goodreads.com/book/show/435637.Re_Reading_Harry_Potter', 'https://images.gr-assets.com/books/1312019229m/435637.jpg', 'https://www.goodreads.com/book/show/435637.Re_Reading_Harry_Potter'), (1916790, 6091862, 'Sains Harry Potter', 'sains harry potter', 'Sains Harry Potter', 'sains harry potter', '', 21, 3.95, 376, 0, 7, 2006, '9799100488', '', 'KPG', 'US', '', 'https://www.goodreads.com/book/show/6091862-sains-harry-potter', 'https://s.gr-assets.com/assets/nophoto/book/111x148-bcc042a9c91a29c1d680899eff700a03.png', 'https://www.goodreads.com/book/show/6091862-sains-harry-potter'), (1511426, 6937643, 'Harry Potter Power', 'harry potter power', 'Harry Potter Power', 'harry potter power', 'Young Adult Nonfiction. Self-Improvement. HARRY POTTER POWER uses motifs and situations from the popular Harry Potter series and links them to theories and strategies designed to help young people overcome anxiety, anger, depression, and grief. It combines a fun and innovative use of well-known Harry Potter icons with more serious advice, reflection material and activities to help young people apply this perspective. Practical, thought-provoking, and with strong relevance to real world issues, HARRY POTTER POWER is an ideal tool to help young people develop resilience and self-esteem.', 11, 3.91, 268, 1, 3, 2010, '1921479310', '9781921479311', 'Interactive Publications', 'US', '', 'https://www.goodreads.com/book/show/6937643-harry-potter-power', 'https://s.gr-assets.com/assets/nophoto/book/111x148-bcc042a9c91a29c1d680899eff700a03.png', 'https://www.goodreads.com/book/show/6937643-harry-potter-power')]]\n"
     ]
    }
   ],
   "source": [
    "data  = book_alldetails_byindex(indices=indices,cs=cs)\n",
    "print(data)"
   ]
  },
  {
   "cell_type": "code",
   "execution_count": 6,
   "metadata": {},
   "outputs": [
    {
     "data": {
      "text/plain": [
       "30"
      ]
     },
     "execution_count": 6,
     "metadata": {},
     "output_type": "execute_result"
    }
   ],
   "source": [
    "len(data[0])"
   ]
  },
  {
   "cell_type": "code",
   "execution_count": 7,
   "metadata": {},
   "outputs": [
    {
     "name": "stdout",
     "output_type": "stream",
     "text": [
      "[\n",
      "    {\n",
      "        \"book_id\": 1459882,\n",
      "        \"gr_book_id\": 10919834,\n",
      "        \"title_without_series\": \"Harry Potter Boxset (Harry Potter, #1-7)\",\n",
      "        \"mod_title\": \"harry potter boxset harry potter 17\",\n",
      "        \"title\": \"Harry Potter Boxset (Harry Potter, #1-7)\",\n",
      "        \"mod_title_without_series\": \"harry potter boxset harry potter 17\",\n",
      "        \"description\": \"Isi box: 7 buku serial Harry Potter 1-7 edisi hard cover: 1. Harry Potter #1: Harry Potter dan Batu Bertuah 2. Harry Potter #2: Harry Potter dan Kamar Rahasia 3. Harry Potter #3: Harry Potter dan Tawanan Azkaban 4. Harry Potter #4: Harry Potter dan Piala Api 5. Harry Potter #5: Harry Potter dan Orde Phoenix 6. Harry Potter #6: Harry Potter dan Pangeran Berdarah Campuran 7. Harry Potter #7: Harry Potter dan Relikui Kematian\",\n",
      "        \"ratings_count\": 41,\n",
      "        \"average_rating\": 4.74,\n",
      "        \"num_pages\": 0,\n",
      "        \"publication_day\": 0,\n",
      "        \"publication_month\": 1,\n",
      "        \"publication_year\": 2008,\n",
      "        \"isbn\": \"9792234322\",\n",
      "        \"isbn13\": \"9789792234329\",\n",
      "        \"publisher\": \"Gramedia Pustaka Utama\",\n",
      "        \"country_code\": \"US\",\n",
      "        \"language_code\": \"ind\",\n",
      "        \"url\": \"https://www.goodreads.com/book/show/10919834-harry-potter-boxset\",\n",
      "        \"image_url\": \"https://s.gr-assets.com/assets/nophoto/book/111x148-bcc042a9c91a29c1d680899eff700a03.png\",\n",
      "        \"link\": \"https://www.goodreads.com/book/show/10919834-harry-potter-boxset\"\n",
      "    },\n",
      "    {\n",
      "        \"book_id\": 1161519,\n",
      "        \"gr_book_id\": 5668268,\n",
      "        \"title_without_series\": \"Harry Potter Boxset (Harry Potter, #1-7)\",\n",
      "        \"mod_title\": \"harry potter boxset harry potter 17\",\n",
      "        \"title\": \"Harry Potter Boxset (Harry Potter, #1-7)\",\n",
      "        \"mod_title_without_series\": \"harry potter boxset harry potter 17\",\n",
      "        \"description\": \"Seven stories about Harry Potter at Hogwarts Academy where he learns many things, makes friends, and has many adventures.\",\n",
      "        \"ratings_count\": 308,\n",
      "        \"average_rating\": 4.74,\n",
      "        \"num_pages\": 4150,\n",
      "        \"publication_day\": 0,\n",
      "        \"publication_month\": 0,\n",
      "        \"publication_year\": 2007,\n",
      "        \"isbn\": \"0545045355\",\n",
      "        \"isbn13\": \"9780545045353\",\n",
      "        \"publisher\": \"Arthur A. Levine\",\n",
      "        \"country_code\": \"US\",\n",
      "        \"language_code\": \"eng\",\n",
      "        \"url\": \"https://www.goodreads.com/book/show/5668268-harry-potter-boxset\",\n",
      "        \"image_url\": \"https://images.gr-assets.com/books/1393386008m/5668268.jpg\",\n",
      "        \"link\": \"https://www.goodreads.com/book/show/5668268-harry-potter-boxset\"\n",
      "    },\n",
      "    {\n",
      "        \"book_id\": 598466,\n",
      "        \"gr_book_id\": 862041,\n",
      "        \"title_without_series\": \"Harry Potter Boxset (Harry Potter, #1-7)\",\n",
      "        \"mod_title\": \"harry potter boxset harry potter 17\",\n",
      "        \"title\": \"Harry Potter Boxset (Harry Potter, #1-7)\",\n",
      "        \"mod_title_without_series\": \"harry potter boxset harry potter 17\",\n",
      "        \"description\": \"The exciting tales of Harry Potter, the young wizard-in-training, have taken the world by storm, and fans just can't get enough of the magical world of Hogwarts and beyond. If you buy one of the Harry Potter books, we guarantee you'll want the next... and the next... and the next -- so why not have them all, right at your fingertips? With the Harry Potter Boxed Set (Years 1-7), Barnes & Noble.com offers simple one-stop shopping for your Harry Potter library! As easy as the wave of a magic wand, you can get all seven Harry Potter books delivered to your doorstep at once.\\nThe Harry Potter Boxed Set includes hardcover editions of Harry Potter and the Sorcerer's Stone, Harry Potter and the Chamber of Secrets, Harry Potter and the Prisoner of Azkaban, Harry Potter and the Goblet of Fire, Harry Potter and the Order of the Phoenix, Harry Potter and the Half-Blood Prince,and Harry Potter and the Deathly Hallows.The books come snugly packed in a decorative, trunk-like box with sturdy handles and a privacy lock -- and includes decorative stickers!\\nSo buy the set, and not even a pesky Locomotor Mortis spell cast by the evil Lord Voldem...(oooops, sorry -- He-Who-Must-Not-Be-Named) can get in the way of your enjoying all of the mystery, adventure, intrigue, and, of course, magic that Muggles around the world can't seem to get enough of. Hold on tight -- it's going to be a bumpy ride!\",\n",
      "        \"ratings_count\": 193057,\n",
      "        \"average_rating\": 4.74,\n",
      "        \"num_pages\": 4100,\n",
      "        \"publication_day\": 1,\n",
      "        \"publication_month\": 10,\n",
      "        \"publication_year\": 2007,\n",
      "        \"isbn\": \"0545044251\",\n",
      "        \"isbn13\": \"9780545044257\",\n",
      "        \"publisher\": \"Arthur A. Levine Books\",\n",
      "        \"country_code\": \"US\",\n",
      "        \"language_code\": \"eng\",\n",
      "        \"url\": \"https://www.goodreads.com/book/show/862041.Harry_Potter_Boxset\",\n",
      "        \"image_url\": \"https://images.gr-assets.com/books/1392579059m/862041.jpg\",\n",
      "        \"link\": \"https://www.goodreads.com/book/show/862041.Harry_Potter_Boxset\"\n",
      "    }\n",
      "]\n"
     ]
    }
   ],
   "source": [
    "print(book_alldetails_tojson(data[0][:3]))"
   ]
  },
  {
   "cell_type": "markdown",
   "metadata": {},
   "source": [
    "**Getting only the titles from the database using the indices**"
   ]
  },
  {
   "cell_type": "code",
   "execution_count": 8,
   "metadata": {},
   "outputs": [
    {
     "name": "stdout",
     "output_type": "stream",
     "text": [
      "[[('harry potter boxset harry potter 17',), ('harry potter collection harry potter 16',), ('harry potter og viskusteinninn harry potter 1',), ('harry potter the prequel harry potter 05',), ('the harry potter collection harry potter 16',), ('harry potter ja tulepeeker harry potter 4',), ('harry potter box set harry potter 14',), ('the harry potter trilogy harry potter 13',), ('harry potter och halvblodsprinsen harry potter 6',), ('harry potter boxed set harry potter 17',), ('harry potter og halvblodsprinsen harry potter 6',), ('harry potter och fenixorden harry potter 5',), ('harry potter boxed set harry potter 14',), ('harry potter audio collection harry potter 17',), ('harry potter box set harry potter 16',), ('harry potter boxed set harry potter 13',), ('rereading harry potter',), ('sains harry potter',), ('harry potter power',)]]\n"
     ]
    }
   ],
   "source": [
    "titles  = book_onlytitles_byindex(indices=indices,cs=cs)\n",
    "print(titles)"
   ]
  },
  {
   "cell_type": "code",
   "execution_count": 9,
   "metadata": {},
   "outputs": [
    {
     "name": "stdout",
     "output_type": "stream",
     "text": [
      "[\n",
      "    {\n",
      "        \"id\": 0,\n",
      "        \"book_title_mod\": \"harry potter boxset harry potter 17\"\n",
      "    },\n",
      "    {\n",
      "        \"id\": 1,\n",
      "        \"book_title_mod\": \"harry potter collection harry potter 16\"\n",
      "    },\n",
      "    {\n",
      "        \"id\": 2,\n",
      "        \"book_title_mod\": \"harry potter og viskusteinninn harry potter 1\"\n",
      "    },\n",
      "    {\n",
      "        \"id\": 3,\n",
      "        \"book_title_mod\": \"harry potter the prequel harry potter 05\"\n",
      "    },\n",
      "    {\n",
      "        \"id\": 4,\n",
      "        \"book_title_mod\": \"the harry potter collection harry potter 16\"\n",
      "    },\n",
      "    {\n",
      "        \"id\": 5,\n",
      "        \"book_title_mod\": \"harry potter ja tulepeeker harry potter 4\"\n",
      "    },\n",
      "    {\n",
      "        \"id\": 6,\n",
      "        \"book_title_mod\": \"harry potter box set harry potter 14\"\n",
      "    },\n",
      "    {\n",
      "        \"id\": 7,\n",
      "        \"book_title_mod\": \"the harry potter trilogy harry potter 13\"\n",
      "    },\n",
      "    {\n",
      "        \"id\": 8,\n",
      "        \"book_title_mod\": \"harry potter och halvblodsprinsen harry potter 6\"\n",
      "    },\n",
      "    {\n",
      "        \"id\": 9,\n",
      "        \"book_title_mod\": \"harry potter boxed set harry potter 17\"\n",
      "    },\n",
      "    {\n",
      "        \"id\": 10,\n",
      "        \"book_title_mod\": \"harry potter og halvblodsprinsen harry potter 6\"\n",
      "    },\n",
      "    {\n",
      "        \"id\": 11,\n",
      "        \"book_title_mod\": \"harry potter och fenixorden harry potter 5\"\n",
      "    },\n",
      "    {\n",
      "        \"id\": 12,\n",
      "        \"book_title_mod\": \"harry potter boxed set harry potter 14\"\n",
      "    },\n",
      "    {\n",
      "        \"id\": 13,\n",
      "        \"book_title_mod\": \"harry potter audio collection harry potter 17\"\n",
      "    },\n",
      "    {\n",
      "        \"id\": 14,\n",
      "        \"book_title_mod\": \"harry potter box set harry potter 16\"\n",
      "    },\n",
      "    {\n",
      "        \"id\": 15,\n",
      "        \"book_title_mod\": \"harry potter boxed set harry potter 13\"\n",
      "    },\n",
      "    {\n",
      "        \"id\": 16,\n",
      "        \"book_title_mod\": \"rereading harry potter\"\n",
      "    },\n",
      "    {\n",
      "        \"id\": 17,\n",
      "        \"book_title_mod\": \"sains harry potter\"\n",
      "    },\n",
      "    {\n",
      "        \"id\": 18,\n",
      "        \"book_title_mod\": \"harry potter power\"\n",
      "    }\n",
      "]\n"
     ]
    }
   ],
   "source": [
    "print(book_onlytitles_tojson(titles[0]))"
   ]
  },
  {
   "cell_type": "markdown",
   "metadata": {},
   "source": [
    "**Getting details for search engine**"
   ]
  },
  {
   "cell_type": "code",
   "execution_count": 10,
   "metadata": {},
   "outputs": [],
   "source": [
    "search_result  = book_searchdetails_byindex(indices=indices,cs=cs)"
   ]
  },
  {
   "cell_type": "code",
   "execution_count": 11,
   "metadata": {},
   "outputs": [
    {
     "data": {
      "text/plain": [
       "19"
      ]
     },
     "execution_count": 11,
     "metadata": {},
     "output_type": "execute_result"
    }
   ],
   "source": [
    "len(search_result[0])"
   ]
  },
  {
   "cell_type": "code",
   "execution_count": 12,
   "metadata": {},
   "outputs": [
    {
     "data": {
      "text/plain": [
       "[[('Harry Potter Boxset (Harry Potter, #1-7)',\n",
       "   'harry potter boxset harry potter 17',\n",
       "   193057,\n",
       "   4.74,\n",
       "   'https://images.gr-assets.com/books/1392579059m/862041.jpg',\n",
       "   1),\n",
       "  ('Harry Potter Collection (Harry Potter, #1-6)',\n",
       "   'harry potter collection harry potter 16',\n",
       "   25245,\n",
       "   4.73,\n",
       "   'https://images.gr-assets.com/books/1328867351m/10.jpg',\n",
       "   1),\n",
       "  ('Harry Potter og viskusteinninn  (Harry Potter, #1)',\n",
       "   'harry potter og viskusteinninn harry potter 1',\n",
       "   7,\n",
       "   4.45,\n",
       "   'https://images.gr-assets.com/books/1420298435m/24235658.jpg',\n",
       "   1),\n",
       "  ('Harry Potter: The Prequel (Harry Potter, #0.5)',\n",
       "   'harry potter the prequel harry potter 05',\n",
       "   13267,\n",
       "   4.22,\n",
       "   'https://images.gr-assets.com/books/1456894457m/8933944.jpg',\n",
       "   1),\n",
       "  ('The Harry Potter Collection (Harry Potter, #1-6)',\n",
       "   'the harry potter collection harry potter 16',\n",
       "   1512,\n",
       "   4.73,\n",
       "   'https://images.gr-assets.com/books/1328866031m/7.jpg',\n",
       "   1),\n",
       "  ('Harry Potter ja tulepeeker (Harry Potter #4)',\n",
       "   'harry potter ja tulepeeker harry potter 4',\n",
       "   96,\n",
       "   4.53,\n",
       "   'https://images.gr-assets.com/books/1297187660m/9885329.jpg',\n",
       "   1),\n",
       "  ('Harry Potter Box Set (Harry Potter, #1-4)',\n",
       "   'harry potter box set harry potter 14',\n",
       "   48,\n",
       "   4.66,\n",
       "   'https://images.gr-assets.com/books/1327823623m/1345920.jpg',\n",
       "   1),\n",
       "  ('The Harry Potter trilogy (Harry Potter, #1-3)',\n",
       "   'the harry potter trilogy harry potter 13',\n",
       "   5081,\n",
       "   4.65,\n",
       "   'https://images.gr-assets.com/books/1330972392m/2337379.jpg',\n",
       "   1),\n",
       "  ('Harry Potter och halvblodsprinsen (Harry Potter, #6)',\n",
       "   'harry potter och halvblodsprinsen harry potter 6',\n",
       "   546,\n",
       "   4.54,\n",
       "   'https://images.gr-assets.com/books/1465645031m/2051700.jpg',\n",
       "   1),\n",
       "  ('Harry Potter Boxed Set (Harry Potter, #1-7)',\n",
       "   'harry potter boxed set harry potter 17',\n",
       "   393,\n",
       "   4.74,\n",
       "   'https://s.gr-assets.com/assets/nophoto/book/111x148-bcc042a9c91a29c1d680899eff700a03.png',\n",
       "   1),\n",
       "  ('Harry Potter og Halvblodsprinsen (Harry Potter # 6)',\n",
       "   'harry potter og halvblodsprinsen harry potter 6',\n",
       "   202,\n",
       "   4.54,\n",
       "   'https://images.gr-assets.com/books/1367000758m/8553632.jpg',\n",
       "   1),\n",
       "  ('Harry Potter och Fenixorden (Harry Potter, #5)',\n",
       "   'harry potter och fenixorden harry potter 5',\n",
       "   565,\n",
       "   4.47,\n",
       "   'https://images.gr-assets.com/books/1477871344m/2051678.jpg',\n",
       "   1),\n",
       "  ('Harry Potter Boxed Set (Harry Potter, #1-4)',\n",
       "   'harry potter boxed set harry potter 14',\n",
       "   128,\n",
       "   4.66,\n",
       "   'https://images.gr-assets.com/books/1327924250m/666456.jpg',\n",
       "   1),\n",
       "  ('Harry Potter Audio Collection (Harry Potter, #1-7)',\n",
       "   'harry potter audio collection harry potter 17',\n",
       "   245,\n",
       "   4.74,\n",
       "   'https://s.gr-assets.com/assets/nophoto/book/111x148-bcc042a9c91a29c1d680899eff700a03.png',\n",
       "   1),\n",
       "  ('Harry Potter Box Set (Harry Potter, #1-6)',\n",
       "   'harry potter box set harry potter 16',\n",
       "   91,\n",
       "   4.73,\n",
       "   'https://images.gr-assets.com/books/1327737563m/864891.jpg',\n",
       "   1),\n",
       "  ('Harry Potter Boxed Set (Harry Potter, #1-3)',\n",
       "   'harry potter boxed set harry potter 13',\n",
       "   62,\n",
       "   4.65,\n",
       "   'https://s.gr-assets.com/assets/nophoto/book/111x148-bcc042a9c91a29c1d680899eff700a03.png',\n",
       "   1),\n",
       "  ('Re-Reading Harry Potter',\n",
       "   'rereading harry potter',\n",
       "   166,\n",
       "   4.03,\n",
       "   'https://images.gr-assets.com/books/1312019229m/435637.jpg',\n",
       "   1),\n",
       "  ('Sains Harry Potter',\n",
       "   'sains harry potter',\n",
       "   21,\n",
       "   3.95,\n",
       "   'https://s.gr-assets.com/assets/nophoto/book/111x148-bcc042a9c91a29c1d680899eff700a03.png',\n",
       "   1),\n",
       "  ('Harry Potter Power',\n",
       "   'harry potter power',\n",
       "   11,\n",
       "   3.91,\n",
       "   'https://s.gr-assets.com/assets/nophoto/book/111x148-bcc042a9c91a29c1d680899eff700a03.png',\n",
       "   1)]]"
      ]
     },
     "execution_count": 12,
     "metadata": {},
     "output_type": "execute_result"
    }
   ],
   "source": [
    "search_result"
   ]
  },
  {
   "cell_type": "code",
   "execution_count": 13,
   "metadata": {},
   "outputs": [
    {
     "name": "stdout",
     "output_type": "stream",
     "text": [
      "[\n",
      "    {\n",
      "        \"title\": \"Harry Potter Boxset (Harry Potter, #1-7)\",\n",
      "        \"description\": \"harry potter boxset harry potter 17\",\n",
      "        \"image\": \"https://images.gr-assets.com/books/1392579059m/862041.jpg\",\n",
      "        \"price\": \"4.74\"\n",
      "    },\n",
      "    {\n",
      "        \"title\": \"Harry Potter Collection (Harry Potter, #1-6)\",\n",
      "        \"description\": \"harry potter collection harry potter 16\",\n",
      "        \"image\": \"https://images.gr-assets.com/books/1328867351m/10.jpg\",\n",
      "        \"price\": \"4.73\"\n",
      "    },\n",
      "    {\n",
      "        \"title\": \"Harry Potter og viskusteinninn  (Harry Potter, #1)\",\n",
      "        \"description\": \"harry potter og viskusteinninn harry potter 1\",\n",
      "        \"image\": \"https://images.gr-assets.com/books/1420298435m/24235658.jpg\",\n",
      "        \"price\": \"4.45\"\n",
      "    },\n",
      "    {\n",
      "        \"title\": \"Harry Potter: The Prequel (Harry Potter, #0.5)\",\n",
      "        \"description\": \"harry potter the prequel harry potter 05\",\n",
      "        \"image\": \"https://images.gr-assets.com/books/1456894457m/8933944.jpg\",\n",
      "        \"price\": \"4.22\"\n",
      "    },\n",
      "    {\n",
      "        \"title\": \"The Harry Potter Collection (Harry Potter, #1-6)\",\n",
      "        \"description\": \"the harry potter collection harry potter 16\",\n",
      "        \"image\": \"https://images.gr-assets.com/books/1328866031m/7.jpg\",\n",
      "        \"price\": \"4.73\"\n",
      "    },\n",
      "    {\n",
      "        \"title\": \"Harry Potter ja tulepeeker (Harry Potter #4)\",\n",
      "        \"description\": \"harry potter ja tulepeeker harry potter 4\",\n",
      "        \"image\": \"https://images.gr-assets.com/books/1297187660m/9885329.jpg\",\n",
      "        \"price\": \"4.53\"\n",
      "    },\n",
      "    {\n",
      "        \"title\": \"Harry Potter Box Set (Harry Potter, #1-4)\",\n",
      "        \"description\": \"harry potter box set harry potter 14\",\n",
      "        \"image\": \"https://images.gr-assets.com/books/1327823623m/1345920.jpg\",\n",
      "        \"price\": \"4.66\"\n",
      "    },\n",
      "    {\n",
      "        \"title\": \"The Harry Potter trilogy (Harry Potter, #1-3)\",\n",
      "        \"description\": \"the harry potter trilogy harry potter 13\",\n",
      "        \"image\": \"https://images.gr-assets.com/books/1330972392m/2337379.jpg\",\n",
      "        \"price\": \"4.65\"\n",
      "    },\n",
      "    {\n",
      "        \"title\": \"Harry Potter och halvblodsprinsen (Harry Potter, #6)\",\n",
      "        \"description\": \"harry potter och halvblodsprinsen harry potter 6\",\n",
      "        \"image\": \"https://images.gr-assets.com/books/1465645031m/2051700.jpg\",\n",
      "        \"price\": \"4.54\"\n",
      "    },\n",
      "    {\n",
      "        \"title\": \"Harry Potter Boxed Set (Harry Potter, #1-7)\",\n",
      "        \"description\": \"harry potter boxed set harry potter 17\",\n",
      "        \"image\": \"https://s.gr-assets.com/assets/nophoto/book/111x148-bcc042a9c91a29c1d680899eff700a03.png\",\n",
      "        \"price\": \"4.74\"\n",
      "    },\n",
      "    {\n",
      "        \"title\": \"Harry Potter og Halvblodsprinsen (Harry Potter # 6)\",\n",
      "        \"description\": \"harry potter og halvblodsprinsen harry potter 6\",\n",
      "        \"image\": \"https://images.gr-assets.com/books/1367000758m/8553632.jpg\",\n",
      "        \"price\": \"4.54\"\n",
      "    },\n",
      "    {\n",
      "        \"title\": \"Harry Potter och Fenixorden (Harry Potter, #5)\",\n",
      "        \"description\": \"harry potter och fenixorden harry potter 5\",\n",
      "        \"image\": \"https://images.gr-assets.com/books/1477871344m/2051678.jpg\",\n",
      "        \"price\": \"4.47\"\n",
      "    },\n",
      "    {\n",
      "        \"title\": \"Harry Potter Boxed Set (Harry Potter, #1-4)\",\n",
      "        \"description\": \"harry potter boxed set harry potter 14\",\n",
      "        \"image\": \"https://images.gr-assets.com/books/1327924250m/666456.jpg\",\n",
      "        \"price\": \"4.66\"\n",
      "    },\n",
      "    {\n",
      "        \"title\": \"Harry Potter Audio Collection (Harry Potter, #1-7)\",\n",
      "        \"description\": \"harry potter audio collection harry potter 17\",\n",
      "        \"image\": \"https://s.gr-assets.com/assets/nophoto/book/111x148-bcc042a9c91a29c1d680899eff700a03.png\",\n",
      "        \"price\": \"4.74\"\n",
      "    },\n",
      "    {\n",
      "        \"title\": \"Harry Potter Box Set (Harry Potter, #1-6)\",\n",
      "        \"description\": \"harry potter box set harry potter 16\",\n",
      "        \"image\": \"https://images.gr-assets.com/books/1327737563m/864891.jpg\",\n",
      "        \"price\": \"4.73\"\n",
      "    },\n",
      "    {\n",
      "        \"title\": \"Harry Potter Boxed Set (Harry Potter, #1-3)\",\n",
      "        \"description\": \"harry potter boxed set harry potter 13\",\n",
      "        \"image\": \"https://s.gr-assets.com/assets/nophoto/book/111x148-bcc042a9c91a29c1d680899eff700a03.png\",\n",
      "        \"price\": \"4.65\"\n",
      "    },\n",
      "    {\n",
      "        \"title\": \"Re-Reading Harry Potter\",\n",
      "        \"description\": \"rereading harry potter\",\n",
      "        \"image\": \"https://images.gr-assets.com/books/1312019229m/435637.jpg\",\n",
      "        \"price\": \"4.03\"\n",
      "    },\n",
      "    {\n",
      "        \"title\": \"Sains Harry Potter\",\n",
      "        \"description\": \"sains harry potter\",\n",
      "        \"image\": \"https://s.gr-assets.com/assets/nophoto/book/111x148-bcc042a9c91a29c1d680899eff700a03.png\",\n",
      "        \"price\": \"3.95\"\n",
      "    },\n",
      "    {\n",
      "        \"title\": \"Harry Potter Power\",\n",
      "        \"description\": \"harry potter power\",\n",
      "        \"image\": \"https://s.gr-assets.com/assets/nophoto/book/111x148-bcc042a9c91a29c1d680899eff700a03.png\",\n",
      "        \"price\": \"3.91\"\n",
      "    }\n",
      "]\n"
     ]
    }
   ],
   "source": [
    "print(book_searchdetails_tojson(data=search_result[0]))"
   ]
  }
 ],
 "metadata": {
  "kernelspec": {
   "display_name": "Python 3",
   "language": "python",
   "name": "python3"
  },
  "language_info": {
   "codemirror_mode": {
    "name": "ipython",
    "version": 3
   },
   "file_extension": ".py",
   "mimetype": "text/x-python",
   "name": "python",
   "nbconvert_exporter": "python",
   "pygments_lexer": "ipython3",
   "version": "3.10.11"
  }
 },
 "nbformat": 4,
 "nbformat_minor": 2
}
