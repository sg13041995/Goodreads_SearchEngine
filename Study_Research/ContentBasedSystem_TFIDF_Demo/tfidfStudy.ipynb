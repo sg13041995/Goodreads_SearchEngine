{
 "cells": [
  {
   "cell_type": "markdown",
   "metadata": {},
   "source": [
    "### Step by step code - Genre based recommendation engine "
   ]
  },
  {
   "cell_type": "code",
   "execution_count": 243,
   "metadata": {},
   "outputs": [],
   "source": [
    "import pandas as pd\n",
    "from sklearn.feature_extraction.text import TfidfVectorizer\n",
    "from sklearn.metrics.pairwise import cosine_similarity"
   ]
  },
  {
   "cell_type": "code",
   "execution_count": 244,
   "metadata": {},
   "outputs": [],
   "source": [
    "# using only two columns from the dataset\n",
    "\n",
    "df = pd.read_csv('movies.csv', sep=',', encoding='latin-1', usecols=['title', 'genres'])"
   ]
  },
  {
   "cell_type": "code",
   "execution_count": 245,
   "metadata": {},
   "outputs": [],
   "source": [
    "# considering only 3 rows from the dataset\n",
    "\n",
    "movies = df.iloc[:3,:]"
   ]
  },
  {
   "cell_type": "code",
   "execution_count": 246,
   "metadata": {},
   "outputs": [
    {
     "data": {
      "text/html": [
       "<div>\n",
       "<style scoped>\n",
       "    .dataframe tbody tr th:only-of-type {\n",
       "        vertical-align: middle;\n",
       "    }\n",
       "\n",
       "    .dataframe tbody tr th {\n",
       "        vertical-align: top;\n",
       "    }\n",
       "\n",
       "    .dataframe thead th {\n",
       "        text-align: right;\n",
       "    }\n",
       "</style>\n",
       "<table border=\"1\" class=\"dataframe\">\n",
       "  <thead>\n",
       "    <tr style=\"text-align: right;\">\n",
       "      <th></th>\n",
       "      <th>title</th>\n",
       "      <th>genres</th>\n",
       "    </tr>\n",
       "  </thead>\n",
       "  <tbody>\n",
       "    <tr>\n",
       "      <th>0</th>\n",
       "      <td>Toy Story</td>\n",
       "      <td>Adventure|Animation|Children|Comedy|Fantasy</td>\n",
       "    </tr>\n",
       "    <tr>\n",
       "      <th>1</th>\n",
       "      <td>Jumanji</td>\n",
       "      <td>Adventure|Children|Fantasy</td>\n",
       "    </tr>\n",
       "    <tr>\n",
       "      <th>2</th>\n",
       "      <td>Grumpier Old Men</td>\n",
       "      <td>Comedy|Romance</td>\n",
       "    </tr>\n",
       "  </tbody>\n",
       "</table>\n",
       "</div>"
      ],
      "text/plain": [
       "               title                                       genres\n",
       "0         Toy Story   Adventure|Animation|Children|Comedy|Fantasy\n",
       "1           Jumanji                    Adventure|Children|Fantasy\n",
       "2  Grumpier Old Men                                Comedy|Romance"
      ]
     },
     "execution_count": 246,
     "metadata": {},
     "output_type": "execute_result"
    }
   ],
   "source": [
    "movies"
   ]
  },
  {
   "cell_type": "code",
   "execution_count": 247,
   "metadata": {},
   "outputs": [
    {
     "data": {
      "text/plain": [
       "'Adventure|Animation|Children|Comedy|Fantasy'"
      ]
     },
     "execution_count": 247,
     "metadata": {},
     "output_type": "execute_result"
    }
   ],
   "source": [
    "# genres column data\n",
    "\n",
    "movies[\"genres\"][0]"
   ]
  },
  {
   "cell_type": "code",
   "execution_count": 248,
   "metadata": {},
   "outputs": [
    {
     "name": "stderr",
     "output_type": "stream",
     "text": [
      "C:\\Users\\hp\\AppData\\Local\\Temp\\ipykernel_6684\\2106123323.py:1: SettingWithCopyWarning: \n",
      "A value is trying to be set on a copy of a slice from a DataFrame.\n",
      "Try using .loc[row_indexer,col_indexer] = value instead\n",
      "\n",
      "See the caveats in the documentation: https://pandas.pydata.org/pandas-docs/stable/user_guide/indexing.html#returning-a-view-versus-a-copy\n",
      "  movies['genres'] = movies['genres'].str.split('|')\n"
     ]
    }
   ],
   "source": [
    "movies['genres'] = movies['genres'].str.split('|')"
   ]
  },
  {
   "cell_type": "code",
   "execution_count": 249,
   "metadata": {},
   "outputs": [
    {
     "data": {
      "text/plain": [
       "['Adventure', 'Animation', 'Children', 'Comedy', 'Fantasy']"
      ]
     },
     "execution_count": 249,
     "metadata": {},
     "output_type": "execute_result"
    }
   ],
   "source": [
    "movies[\"genres\"][0]"
   ]
  },
  {
   "cell_type": "code",
   "execution_count": 250,
   "metadata": {},
   "outputs": [
    {
     "name": "stderr",
     "output_type": "stream",
     "text": [
      "C:\\Users\\hp\\AppData\\Local\\Temp\\ipykernel_6684\\2902415109.py:1: SettingWithCopyWarning: \n",
      "A value is trying to be set on a copy of a slice from a DataFrame.\n",
      "Try using .loc[row_indexer,col_indexer] = value instead\n",
      "\n",
      "See the caveats in the documentation: https://pandas.pydata.org/pandas-docs/stable/user_guide/indexing.html#returning-a-view-versus-a-copy\n",
      "  movies['genres'] = movies['genres'].fillna(\"\").astype('str')\n"
     ]
    }
   ],
   "source": [
    "movies['genres'] = movies['genres'].fillna(\"\").astype('str')"
   ]
  },
  {
   "cell_type": "code",
   "execution_count": 251,
   "metadata": {},
   "outputs": [
    {
     "data": {
      "text/plain": [
       "\"['Adventure', 'Animation', 'Children', 'Comedy', 'Fantasy']\""
      ]
     },
     "execution_count": 251,
     "metadata": {},
     "output_type": "execute_result"
    }
   ],
   "source": [
    "movies[\"genres\"][0]"
   ]
  },
  {
   "cell_type": "code",
   "execution_count": 252,
   "metadata": {},
   "outputs": [],
   "source": [
    "# initializing the tfidfvectorizer\n",
    "# ngram_range=(1, 2) => means unigrams and bigrams\n",
    "\n",
    "tf = TfidfVectorizer(analyzer='word', ngram_range=(1, 2),\n",
    "                     min_df=0, stop_words='english')"
   ]
  },
  {
   "cell_type": "code",
   "execution_count": 253,
   "metadata": {},
   "outputs": [],
   "source": [
    "# min_df => When building the vocabulary ignore terms that have a document frequency strictly lower than the given threshold. This value is also called cut-off in the literature.\n",
    "\n",
    "tfidf_matrix = tf.fit_transform(movies['genres'])"
   ]
  },
  {
   "cell_type": "code",
   "execution_count": 254,
   "metadata": {},
   "outputs": [
    {
     "data": {
      "text/plain": [
       "(3, 13)"
      ]
     },
     "execution_count": 254,
     "metadata": {},
     "output_type": "execute_result"
    }
   ],
   "source": [
    "# 3 documents or movies are there\n",
    "# 13 unique words are there\n",
    "\n",
    "tfidf_matrix.shape"
   ]
  },
  {
   "cell_type": "code",
   "execution_count": 255,
   "metadata": {},
   "outputs": [
    {
     "data": {
      "text/plain": [
       "array([[0.28122142, 0.36977238, 0.        , 0.36977238, 0.36977238,\n",
       "        0.28122142, 0.36977238, 0.        , 0.28122142, 0.36977238,\n",
       "        0.        , 0.28122142, 0.        ],\n",
       "       [0.3935112 , 0.        , 0.51741994, 0.        , 0.        ,\n",
       "        0.3935112 , 0.        , 0.51741994, 0.        , 0.        ,\n",
       "        0.        , 0.3935112 , 0.        ],\n",
       "       [0.        , 0.        , 0.        , 0.        , 0.        ,\n",
       "        0.        , 0.        , 0.        , 0.4736296 , 0.        ,\n",
       "        0.62276601, 0.        , 0.62276601]])"
      ]
     },
     "execution_count": 255,
     "metadata": {},
     "output_type": "execute_result"
    }
   ],
   "source": [
    "# toarray() => looking at the sparse matrix by converting into array\n",
    "\n",
    "tfidf_matrix.toarray()"
   ]
  },
  {
   "cell_type": "code",
   "execution_count": 256,
   "metadata": {},
   "outputs": [
    {
     "data": {
      "text/plain": [
       "matrix([[0.28122142, 0.36977238, 0.        , 0.36977238, 0.36977238,\n",
       "         0.28122142, 0.36977238, 0.        , 0.28122142, 0.36977238,\n",
       "         0.        , 0.28122142, 0.        ],\n",
       "        [0.3935112 , 0.        , 0.51741994, 0.        , 0.        ,\n",
       "         0.3935112 , 0.        , 0.51741994, 0.        , 0.        ,\n",
       "         0.        , 0.3935112 , 0.        ],\n",
       "        [0.        , 0.        , 0.        , 0.        , 0.        ,\n",
       "         0.        , 0.        , 0.        , 0.4736296 , 0.        ,\n",
       "         0.62276601, 0.        , 0.62276601]])"
      ]
     },
     "execution_count": 256,
     "metadata": {},
     "output_type": "execute_result"
    }
   ],
   "source": [
    "# todense() method also does the same\n",
    "\n",
    "tfidf_matrix.todense()"
   ]
  },
  {
   "cell_type": "code",
   "execution_count": 257,
   "metadata": {},
   "outputs": [
    {
     "data": {
      "text/plain": [
       "array([0.28122142, 0.36977238, 0.        , 0.36977238, 0.36977238,\n",
       "       0.28122142, 0.36977238, 0.        , 0.28122142, 0.36977238,\n",
       "       0.        , 0.28122142, 0.        ])"
      ]
     },
     "execution_count": 257,
     "metadata": {},
     "output_type": "execute_result"
    }
   ],
   "source": [
    "# looking at only the first document or row\n",
    "\n",
    "tfidf_matrix.toarray()[0,:]"
   ]
  },
  {
   "cell_type": "code",
   "execution_count": 258,
   "metadata": {},
   "outputs": [
    {
     "data": {
      "text/plain": [
       "array(['adventure', 'adventure animation', 'adventure children',\n",
       "       'animation', 'animation children', 'children', 'children comedy',\n",
       "       'children fantasy', 'comedy', 'comedy fantasy', 'comedy romance',\n",
       "       'fantasy', 'romance'], dtype=object)"
      ]
     },
     "execution_count": 258,
     "metadata": {},
     "output_type": "execute_result"
    }
   ],
   "source": [
    "# all the column names or feature names extracted from document corpus\n",
    "\n",
    "# document wise words\n",
    "# doc1 - Adventure|Animation|Children|Comedy|Fantasy\n",
    "# doc2 - Adventure|Children|Fantasy\n",
    "# doc3 - Comedy|Romance\n",
    "\n",
    "tf.get_feature_names_out()"
   ]
  },
  {
   "cell_type": "code",
   "execution_count": 259,
   "metadata": {},
   "outputs": [
    {
     "data": {
      "text/plain": [
       "(13,)"
      ]
     },
     "execution_count": 259,
     "metadata": {},
     "output_type": "execute_result"
    }
   ],
   "source": [
    "# 13 unique word combinations are there in the corpus\n",
    "\n",
    "tf.get_feature_names_out().shape"
   ]
  },
  {
   "cell_type": "code",
   "execution_count": 260,
   "metadata": {},
   "outputs": [
    {
     "data": {
      "text/html": [
       "<div>\n",
       "<style scoped>\n",
       "    .dataframe tbody tr th:only-of-type {\n",
       "        vertical-align: middle;\n",
       "    }\n",
       "\n",
       "    .dataframe tbody tr th {\n",
       "        vertical-align: top;\n",
       "    }\n",
       "\n",
       "    .dataframe thead th {\n",
       "        text-align: right;\n",
       "    }\n",
       "</style>\n",
       "<table border=\"1\" class=\"dataframe\">\n",
       "  <thead>\n",
       "    <tr style=\"text-align: right;\">\n",
       "      <th></th>\n",
       "      <th>tfidf</th>\n",
       "    </tr>\n",
       "  </thead>\n",
       "  <tbody>\n",
       "    <tr>\n",
       "      <th>adventure</th>\n",
       "      <td>0.281221</td>\n",
       "    </tr>\n",
       "    <tr>\n",
       "      <th>adventure animation</th>\n",
       "      <td>0.369772</td>\n",
       "    </tr>\n",
       "    <tr>\n",
       "      <th>adventure children</th>\n",
       "      <td>0.000000</td>\n",
       "    </tr>\n",
       "    <tr>\n",
       "      <th>animation</th>\n",
       "      <td>0.369772</td>\n",
       "    </tr>\n",
       "    <tr>\n",
       "      <th>animation children</th>\n",
       "      <td>0.369772</td>\n",
       "    </tr>\n",
       "    <tr>\n",
       "      <th>children</th>\n",
       "      <td>0.281221</td>\n",
       "    </tr>\n",
       "    <tr>\n",
       "      <th>children comedy</th>\n",
       "      <td>0.369772</td>\n",
       "    </tr>\n",
       "    <tr>\n",
       "      <th>children fantasy</th>\n",
       "      <td>0.000000</td>\n",
       "    </tr>\n",
       "    <tr>\n",
       "      <th>comedy</th>\n",
       "      <td>0.281221</td>\n",
       "    </tr>\n",
       "    <tr>\n",
       "      <th>comedy fantasy</th>\n",
       "      <td>0.369772</td>\n",
       "    </tr>\n",
       "    <tr>\n",
       "      <th>comedy romance</th>\n",
       "      <td>0.000000</td>\n",
       "    </tr>\n",
       "    <tr>\n",
       "      <th>fantasy</th>\n",
       "      <td>0.281221</td>\n",
       "    </tr>\n",
       "    <tr>\n",
       "      <th>romance</th>\n",
       "      <td>0.000000</td>\n",
       "    </tr>\n",
       "  </tbody>\n",
       "</table>\n",
       "</div>"
      ],
      "text/plain": [
       "                        tfidf\n",
       "adventure            0.281221\n",
       "adventure animation  0.369772\n",
       "adventure children   0.000000\n",
       "animation            0.369772\n",
       "animation children   0.369772\n",
       "children             0.281221\n",
       "children comedy      0.369772\n",
       "children fantasy     0.000000\n",
       "comedy               0.281221\n",
       "comedy fantasy       0.369772\n",
       "comedy romance       0.000000\n",
       "fantasy              0.281221\n",
       "romance              0.000000"
      ]
     },
     "execution_count": 260,
     "metadata": {},
     "output_type": "execute_result"
    }
   ],
   "source": [
    "# tfidf score for the first document\n",
    "\n",
    "pd.DataFrame(tfidf_matrix[0].T.todense(), index=tf.get_feature_names_out(), columns=[\"tfidf\"])"
   ]
  },
  {
   "cell_type": "code",
   "execution_count": 261,
   "metadata": {},
   "outputs": [
    {
     "data": {
      "text/html": [
       "<div>\n",
       "<style scoped>\n",
       "    .dataframe tbody tr th:only-of-type {\n",
       "        vertical-align: middle;\n",
       "    }\n",
       "\n",
       "    .dataframe tbody tr th {\n",
       "        vertical-align: top;\n",
       "    }\n",
       "\n",
       "    .dataframe thead th {\n",
       "        text-align: right;\n",
       "    }\n",
       "</style>\n",
       "<table border=\"1\" class=\"dataframe\">\n",
       "  <thead>\n",
       "    <tr style=\"text-align: right;\">\n",
       "      <th></th>\n",
       "      <th>adventure</th>\n",
       "      <th>adventure animation</th>\n",
       "      <th>adventure children</th>\n",
       "      <th>animation</th>\n",
       "      <th>animation children</th>\n",
       "      <th>children</th>\n",
       "      <th>children comedy</th>\n",
       "      <th>children fantasy</th>\n",
       "      <th>comedy</th>\n",
       "      <th>comedy fantasy</th>\n",
       "      <th>comedy romance</th>\n",
       "      <th>fantasy</th>\n",
       "      <th>romance</th>\n",
       "    </tr>\n",
       "    <tr>\n",
       "      <th>title</th>\n",
       "      <th></th>\n",
       "      <th></th>\n",
       "      <th></th>\n",
       "      <th></th>\n",
       "      <th></th>\n",
       "      <th></th>\n",
       "      <th></th>\n",
       "      <th></th>\n",
       "      <th></th>\n",
       "      <th></th>\n",
       "      <th></th>\n",
       "      <th></th>\n",
       "      <th></th>\n",
       "    </tr>\n",
       "  </thead>\n",
       "  <tbody>\n",
       "    <tr>\n",
       "      <th>Toy Story</th>\n",
       "      <td>0.281221</td>\n",
       "      <td>0.369772</td>\n",
       "      <td>0.00000</td>\n",
       "      <td>0.369772</td>\n",
       "      <td>0.369772</td>\n",
       "      <td>0.281221</td>\n",
       "      <td>0.369772</td>\n",
       "      <td>0.00000</td>\n",
       "      <td>0.281221</td>\n",
       "      <td>0.369772</td>\n",
       "      <td>0.000000</td>\n",
       "      <td>0.281221</td>\n",
       "      <td>0.000000</td>\n",
       "    </tr>\n",
       "    <tr>\n",
       "      <th>Jumanji</th>\n",
       "      <td>0.393511</td>\n",
       "      <td>0.000000</td>\n",
       "      <td>0.51742</td>\n",
       "      <td>0.000000</td>\n",
       "      <td>0.000000</td>\n",
       "      <td>0.393511</td>\n",
       "      <td>0.000000</td>\n",
       "      <td>0.51742</td>\n",
       "      <td>0.000000</td>\n",
       "      <td>0.000000</td>\n",
       "      <td>0.000000</td>\n",
       "      <td>0.393511</td>\n",
       "      <td>0.000000</td>\n",
       "    </tr>\n",
       "    <tr>\n",
       "      <th>Grumpier Old Men</th>\n",
       "      <td>0.000000</td>\n",
       "      <td>0.000000</td>\n",
       "      <td>0.00000</td>\n",
       "      <td>0.000000</td>\n",
       "      <td>0.000000</td>\n",
       "      <td>0.000000</td>\n",
       "      <td>0.000000</td>\n",
       "      <td>0.00000</td>\n",
       "      <td>0.473630</td>\n",
       "      <td>0.000000</td>\n",
       "      <td>0.622766</td>\n",
       "      <td>0.000000</td>\n",
       "      <td>0.622766</td>\n",
       "    </tr>\n",
       "  </tbody>\n",
       "</table>\n",
       "</div>"
      ],
      "text/plain": [
       "                   adventure  adventure animation  adventure children  \\\n",
       "title                                                                   \n",
       "Toy Story           0.281221             0.369772             0.00000   \n",
       "Jumanji             0.393511             0.000000             0.51742   \n",
       "Grumpier Old Men    0.000000             0.000000             0.00000   \n",
       "\n",
       "                   animation  animation children  children  children comedy  \\\n",
       "title                                                                         \n",
       "Toy Story           0.369772            0.369772  0.281221         0.369772   \n",
       "Jumanji             0.000000            0.000000  0.393511         0.000000   \n",
       "Grumpier Old Men    0.000000            0.000000  0.000000         0.000000   \n",
       "\n",
       "                   children fantasy    comedy  comedy fantasy  comedy romance  \\\n",
       "title                                                                           \n",
       "Toy Story                   0.00000  0.281221        0.369772        0.000000   \n",
       "Jumanji                     0.51742  0.000000        0.000000        0.000000   \n",
       "Grumpier Old Men            0.00000  0.473630        0.000000        0.622766   \n",
       "\n",
       "                    fantasy   romance  \n",
       "title                                  \n",
       "Toy Story          0.281221  0.000000  \n",
       "Jumanji            0.393511  0.000000  \n",
       "Grumpier Old Men   0.000000  0.622766  "
      ]
     },
     "execution_count": 261,
     "metadata": {},
     "output_type": "execute_result"
    }
   ],
   "source": [
    "# tfidf for all the documents - Toy Story, Jumanji, Grumpier Old Men\n",
    "\n",
    "pd.DataFrame(data = tfidf_matrix.toarray(),index = movies[\"title\"],columns = tf.get_feature_names_out())"
   ]
  },
  {
   "cell_type": "code",
   "execution_count": 262,
   "metadata": {},
   "outputs": [
    {
     "data": {
      "text/plain": [
       "array([[1.        , 0.33199134, 0.13319479],\n",
       "       [0.33199134, 1.        , 0.        ],\n",
       "       [0.13319479, 0.        , 1.        ]])"
      ]
     },
     "execution_count": 262,
     "metadata": {},
     "output_type": "execute_result"
    }
   ],
   "source": [
    "# cosine similarity\n",
    "# the first column represents the cosine similarity of the 'Toy Story' document with other documnets 'Toy Story', 'Jumanji', 'Grumpier Old Men'.\n",
    "# The r1c1 is 'Toy Story' similarity with 'Toy Story', so its 1.\n",
    "# then r2c1 => 'Toy Story' similarity with 'Jumanji'\n",
    "# then r3c1 => 'Toy Story' similarity with 'Grumpier Old Men'\n",
    "\n",
    "cosine_sim = cosine_similarity(tfidf_matrix, tfidf_matrix)\n",
    "cosine_sim"
   ]
  },
  {
   "cell_type": "code",
   "execution_count": 263,
   "metadata": {},
   "outputs": [
    {
     "data": {
      "text/html": [
       "<div>\n",
       "<style scoped>\n",
       "    .dataframe tbody tr th:only-of-type {\n",
       "        vertical-align: middle;\n",
       "    }\n",
       "\n",
       "    .dataframe tbody tr th {\n",
       "        vertical-align: top;\n",
       "    }\n",
       "\n",
       "    .dataframe thead th {\n",
       "        text-align: right;\n",
       "    }\n",
       "</style>\n",
       "<table border=\"1\" class=\"dataframe\">\n",
       "  <thead>\n",
       "    <tr style=\"text-align: right;\">\n",
       "      <th></th>\n",
       "      <th>Toy Story</th>\n",
       "      <th>Jumanji</th>\n",
       "      <th>Grumpier Old Men</th>\n",
       "    </tr>\n",
       "  </thead>\n",
       "  <tbody>\n",
       "    <tr>\n",
       "      <th>Toy Story</th>\n",
       "      <td>1.000000</td>\n",
       "      <td>0.331991</td>\n",
       "      <td>0.133195</td>\n",
       "    </tr>\n",
       "    <tr>\n",
       "      <th>Jumanji</th>\n",
       "      <td>0.331991</td>\n",
       "      <td>1.000000</td>\n",
       "      <td>0.000000</td>\n",
       "    </tr>\n",
       "    <tr>\n",
       "      <th>Grumpier Old Men</th>\n",
       "      <td>0.133195</td>\n",
       "      <td>0.000000</td>\n",
       "      <td>1.000000</td>\n",
       "    </tr>\n",
       "  </tbody>\n",
       "</table>\n",
       "</div>"
      ],
      "text/plain": [
       "                   Toy Story   Jumanji   Grumpier Old Men \n",
       "Toy Story            1.000000  0.331991           0.133195\n",
       "Jumanji              0.331991  1.000000           0.000000\n",
       "Grumpier Old Men     0.133195  0.000000           1.000000"
      ]
     },
     "execution_count": 263,
     "metadata": {},
     "output_type": "execute_result"
    }
   ],
   "source": [
    "# We can reset the index and column names with the movie names so that we can visusalize the similarities\n",
    "\n",
    "pd.DataFrame(cosine_sim, index=movies[\"title\"].values, columns=movies[\"title\"].values)"
   ]
  },
  {
   "cell_type": "code",
   "execution_count": 264,
   "metadata": {},
   "outputs": [
    {
     "data": {
      "text/html": [
       "<div>\n",
       "<style scoped>\n",
       "    .dataframe tbody tr th:only-of-type {\n",
       "        vertical-align: middle;\n",
       "    }\n",
       "\n",
       "    .dataframe tbody tr th {\n",
       "        vertical-align: top;\n",
       "    }\n",
       "\n",
       "    .dataframe thead th {\n",
       "        text-align: right;\n",
       "    }\n",
       "</style>\n",
       "<table border=\"1\" class=\"dataframe\">\n",
       "  <thead>\n",
       "    <tr style=\"text-align: right;\">\n",
       "      <th></th>\n",
       "      <th>title</th>\n",
       "      <th>genres</th>\n",
       "    </tr>\n",
       "  </thead>\n",
       "  <tbody>\n",
       "    <tr>\n",
       "      <th>0</th>\n",
       "      <td>Toy Story</td>\n",
       "      <td>['Adventure', 'Animation', 'Children', 'Comedy...</td>\n",
       "    </tr>\n",
       "    <tr>\n",
       "      <th>1</th>\n",
       "      <td>Jumanji</td>\n",
       "      <td>['Adventure', 'Children', 'Fantasy']</td>\n",
       "    </tr>\n",
       "    <tr>\n",
       "      <th>2</th>\n",
       "      <td>Grumpier Old Men</td>\n",
       "      <td>['Comedy', 'Romance']</td>\n",
       "    </tr>\n",
       "  </tbody>\n",
       "</table>\n",
       "</div>"
      ],
      "text/plain": [
       "               title                                             genres\n",
       "0         Toy Story   ['Adventure', 'Animation', 'Children', 'Comedy...\n",
       "1           Jumanji                ['Adventure', 'Children', 'Fantasy']\n",
       "2  Grumpier Old Men                               ['Comedy', 'Romance']"
      ]
     },
     "execution_count": 264,
     "metadata": {},
     "output_type": "execute_result"
    }
   ],
   "source": [
    "# this will be useful to implement the recommendation function\n",
    "\n",
    "titles_genres = movies[[\"title\",\"genres\"]]\n",
    "titles_genres"
   ]
  },
  {
   "cell_type": "code",
   "execution_count": 265,
   "metadata": {},
   "outputs": [
    {
     "data": {
      "text/plain": [
       "title\n",
       "Toy Story            0\n",
       "Jumanji              1\n",
       "Grumpier Old Men     2\n",
       "dtype: int64"
      ]
     },
     "execution_count": 265,
     "metadata": {},
     "output_type": "execute_result"
    }
   ],
   "source": [
    "# Building a pandas series with movie titles as index and values as movie index \n",
    "# Just opposite of the `titles` variable\n",
    "\n",
    "indices = pd.Series(movies.index, index=movies['title'])\n",
    "indices"
   ]
  },
  {
   "cell_type": "code",
   "execution_count": 266,
   "metadata": {},
   "outputs": [],
   "source": [
    "# Function that get movie recommendations based on the cosine similarity score of movie genres\n",
    "\n",
    "def genre_based_recommendations(title):\n",
    "    # getting index against against movie title\n",
    "    idx = indices[title]\n",
    "\n",
    "    # getting the similarity scores for that particular movie with other movies \n",
    "    sim_scores = list(enumerate(cosine_sim[idx]))\n",
    "    # [(0, 0.33199134146764564), (1, 1.0000000000000004), (2, 0.0)]\n",
    "    # print(sim_scores)\n",
    "\n",
    "    # arranging the scores in descending order\n",
    "    # we are using `key=lambda x: x[1]` becasue we have enumerated the scores and noew we have a tuple with an index and then the score\n",
    "    # the score is present in the second position of the tuple and based on those scores we want to perform the sorting\n",
    "    sim_scores = sorted(sim_scores, key=lambda x: x[1], reverse=True)\n",
    "    # [(1, 1.0000000000000004), (0, 0.33199134146764564), (2, 0.0)]\n",
    "    # print(sim_scores)\n",
    "\n",
    "    # taking top 5 scores or movies\n",
    "    sim_scores = sim_scores[1:5]\n",
    "    # [(0, 0.33199134146764564), (2, 0.0)]\n",
    "    # print(sim_scores)\n",
    "\n",
    "    # getting the indices only for the top 5 movies\n",
    "    # we are getting only those movies which has similarity score greater than 0\n",
    "    movie_indices = [i[0] for i in sim_scores if i[1] > 0]\n",
    "    # [0]\n",
    "    # print(movie_indices)\n",
    "\n",
    "    # returning the list of movies using the indices\n",
    "    return movies.iloc[movie_indices]"
   ]
  },
  {
   "cell_type": "code",
   "execution_count": 267,
   "metadata": {},
   "outputs": [
    {
     "data": {
      "text/html": [
       "<div>\n",
       "<style scoped>\n",
       "    .dataframe tbody tr th:only-of-type {\n",
       "        vertical-align: middle;\n",
       "    }\n",
       "\n",
       "    .dataframe tbody tr th {\n",
       "        vertical-align: top;\n",
       "    }\n",
       "\n",
       "    .dataframe thead th {\n",
       "        text-align: right;\n",
       "    }\n",
       "</style>\n",
       "<table border=\"1\" class=\"dataframe\">\n",
       "  <thead>\n",
       "    <tr style=\"text-align: right;\">\n",
       "      <th></th>\n",
       "      <th>title</th>\n",
       "      <th>genres</th>\n",
       "    </tr>\n",
       "  </thead>\n",
       "  <tbody>\n",
       "    <tr>\n",
       "      <th>0</th>\n",
       "      <td>Toy Story</td>\n",
       "      <td>['Adventure', 'Animation', 'Children', 'Comedy...</td>\n",
       "    </tr>\n",
       "  </tbody>\n",
       "</table>\n",
       "</div>"
      ],
      "text/plain": [
       "        title                                             genres\n",
       "0  Toy Story   ['Adventure', 'Animation', 'Children', 'Comedy..."
      ]
     },
     "execution_count": 267,
     "metadata": {},
     "output_type": "execute_result"
    }
   ],
   "source": [
    "genre_based_recommendations(\"Jumanji \")"
   ]
  },
  {
   "cell_type": "markdown",
   "metadata": {},
   "source": [
    "### Combined Code - Genre based recommendation engine "
   ]
  },
  {
   "cell_type": "code",
   "execution_count": 268,
   "metadata": {},
   "outputs": [],
   "source": [
    "movies = pd.read_csv('movies.csv', sep=',', encoding='latin-1', usecols=['title', 'genres'])"
   ]
  },
  {
   "cell_type": "code",
   "execution_count": 269,
   "metadata": {},
   "outputs": [],
   "source": [
    "movies['genres'] = movies['genres'].str.split('|')\n",
    "movies['genres'] = movies['genres'].fillna(\"\").astype('str')"
   ]
  },
  {
   "cell_type": "code",
   "execution_count": 270,
   "metadata": {},
   "outputs": [],
   "source": [
    "tf = TfidfVectorizer(analyzer='word', ngram_range=(1, 2),\n",
    "                     min_df=0, stop_words='english')\n",
    "\n",
    "tfidf_matrix_genre = tf.fit_transform(movies['genres'])\n",
    "\n",
    "cosine_sim_genre = cosine_similarity(tfidf_matrix_genre, tfidf_matrix_genre)"
   ]
  },
  {
   "cell_type": "code",
   "execution_count": 271,
   "metadata": {},
   "outputs": [],
   "source": [
    "indices = pd.Series(movies.index, index=movies['title'])\n",
    "\n",
    "def genre_based_recommendations(title):\n",
    "    idx = indices[title]\n",
    "    sim_scores = list(enumerate(cosine_sim_genre[idx]))\n",
    "    sim_scores = sorted(sim_scores, key=lambda x: x[1], reverse=True)\n",
    "    sim_scores = sim_scores[1:11]\n",
    "    movie_indices = [i[0] for i in sim_scores if i[1] > 0]\n",
    "    return movies.iloc[movie_indices]"
   ]
  },
  {
   "cell_type": "code",
   "execution_count": 272,
   "metadata": {},
   "outputs": [
    {
     "data": {
      "text/html": [
       "<div>\n",
       "<style scoped>\n",
       "    .dataframe tbody tr th:only-of-type {\n",
       "        vertical-align: middle;\n",
       "    }\n",
       "\n",
       "    .dataframe tbody tr th {\n",
       "        vertical-align: top;\n",
       "    }\n",
       "\n",
       "    .dataframe thead th {\n",
       "        text-align: right;\n",
       "    }\n",
       "</style>\n",
       "<table border=\"1\" class=\"dataframe\">\n",
       "  <thead>\n",
       "    <tr style=\"text-align: right;\">\n",
       "      <th></th>\n",
       "      <th>title</th>\n",
       "      <th>genres</th>\n",
       "    </tr>\n",
       "  </thead>\n",
       "  <tbody>\n",
       "    <tr>\n",
       "      <th>10</th>\n",
       "      <td>American President, The</td>\n",
       "      <td>['Comedy', 'Drama', 'Romance']</td>\n",
       "    </tr>\n",
       "    <tr>\n",
       "      <th>47</th>\n",
       "      <td>Mighty Aphrodite</td>\n",
       "      <td>['Comedy', 'Drama', 'Romance']</td>\n",
       "    </tr>\n",
       "    <tr>\n",
       "      <th>52</th>\n",
       "      <td>Postman, The (Postino, Il)</td>\n",
       "      <td>['Comedy', 'Drama', 'Romance']</td>\n",
       "    </tr>\n",
       "    <tr>\n",
       "      <th>83</th>\n",
       "      <td>Beautiful Girls</td>\n",
       "      <td>['Comedy', 'Drama', 'Romance']</td>\n",
       "    </tr>\n",
       "    <tr>\n",
       "      <th>165</th>\n",
       "      <td>Something to Talk About</td>\n",
       "      <td>['Comedy', 'Drama', 'Romance']</td>\n",
       "    </tr>\n",
       "    <tr>\n",
       "      <th>191</th>\n",
       "      <td>Don Juan DeMarco</td>\n",
       "      <td>['Comedy', 'Drama', 'Romance']</td>\n",
       "    </tr>\n",
       "    <tr>\n",
       "      <th>198</th>\n",
       "      <td>Eat Drink Man Woman (Yin shi nan nu)</td>\n",
       "      <td>['Comedy', 'Drama', 'Romance']</td>\n",
       "    </tr>\n",
       "    <tr>\n",
       "      <th>243</th>\n",
       "      <td>Nobody's Fool</td>\n",
       "      <td>['Comedy', 'Drama', 'Romance']</td>\n",
       "    </tr>\n",
       "    <tr>\n",
       "      <th>309</th>\n",
       "      <td>Corrina, Corrina</td>\n",
       "      <td>['Comedy', 'Drama', 'Romance']</td>\n",
       "    </tr>\n",
       "    <tr>\n",
       "      <th>317</th>\n",
       "      <td>I Like It Like That</td>\n",
       "      <td>['Comedy', 'Drama', 'Romance']</td>\n",
       "    </tr>\n",
       "  </tbody>\n",
       "</table>\n",
       "</div>"
      ],
      "text/plain": [
       "                                     title                          genres\n",
       "10                American President, The   ['Comedy', 'Drama', 'Romance']\n",
       "47                       Mighty Aphrodite   ['Comedy', 'Drama', 'Romance']\n",
       "52             Postman, The (Postino, Il)   ['Comedy', 'Drama', 'Romance']\n",
       "83                        Beautiful Girls   ['Comedy', 'Drama', 'Romance']\n",
       "165               Something to Talk About   ['Comedy', 'Drama', 'Romance']\n",
       "191                      Don Juan DeMarco   ['Comedy', 'Drama', 'Romance']\n",
       "198  Eat Drink Man Woman (Yin shi nan nu)   ['Comedy', 'Drama', 'Romance']\n",
       "243                         Nobody's Fool   ['Comedy', 'Drama', 'Romance']\n",
       "309                      Corrina, Corrina   ['Comedy', 'Drama', 'Romance']\n",
       "317                   I Like It Like That   ['Comedy', 'Drama', 'Romance']"
      ]
     },
     "execution_count": 272,
     "metadata": {},
     "output_type": "execute_result"
    }
   ],
   "source": [
    "genre_based_recommendations('Jersey Girl ')"
   ]
  },
  {
   "cell_type": "code",
   "execution_count": 273,
   "metadata": {},
   "outputs": [
    {
     "data": {
      "text/html": [
       "<div>\n",
       "<style scoped>\n",
       "    .dataframe tbody tr th:only-of-type {\n",
       "        vertical-align: middle;\n",
       "    }\n",
       "\n",
       "    .dataframe tbody tr th {\n",
       "        vertical-align: top;\n",
       "    }\n",
       "\n",
       "    .dataframe thead th {\n",
       "        text-align: right;\n",
       "    }\n",
       "</style>\n",
       "<table border=\"1\" class=\"dataframe\">\n",
       "  <thead>\n",
       "    <tr style=\"text-align: right;\">\n",
       "      <th></th>\n",
       "      <th>title</th>\n",
       "      <th>genres</th>\n",
       "    </tr>\n",
       "  </thead>\n",
       "  <tbody>\n",
       "    <tr>\n",
       "      <th>6376</th>\n",
       "      <td>Good German, The</td>\n",
       "      <td>['Drama', 'Mystery', 'Thriller']</td>\n",
       "    </tr>\n",
       "    <tr>\n",
       "      <th>4973</th>\n",
       "      <td>Oklahoma!</td>\n",
       "      <td>['Musical', 'Romance', 'Western']</td>\n",
       "    </tr>\n",
       "    <tr>\n",
       "      <th>2483</th>\n",
       "      <td>Flamingo Kid, The</td>\n",
       "      <td>['Comedy', 'Drama']</td>\n",
       "    </tr>\n",
       "    <tr>\n",
       "      <th>2375</th>\n",
       "      <td>Last Picture Show, The</td>\n",
       "      <td>['Drama']</td>\n",
       "    </tr>\n",
       "    <tr>\n",
       "      <th>6231</th>\n",
       "      <td>I Am a Sex Addict</td>\n",
       "      <td>['Comedy', 'Documentary', 'Romance']</td>\n",
       "    </tr>\n",
       "    <tr>\n",
       "      <th>2121</th>\n",
       "      <td>Iron Eagle IV</td>\n",
       "      <td>['Action', 'War']</td>\n",
       "    </tr>\n",
       "    <tr>\n",
       "      <th>9052</th>\n",
       "      <td>Steve Jobs: The Man in the Machine</td>\n",
       "      <td>['Documentary']</td>\n",
       "    </tr>\n",
       "    <tr>\n",
       "      <th>7136</th>\n",
       "      <td>Attack of the 50 Foot Woman</td>\n",
       "      <td>['Comedy', 'Sci-Fi']</td>\n",
       "    </tr>\n",
       "    <tr>\n",
       "      <th>897</th>\n",
       "      <td>Cheech and Chong's Up in Smoke</td>\n",
       "      <td>['Comedy']</td>\n",
       "    </tr>\n",
       "    <tr>\n",
       "      <th>8779</th>\n",
       "      <td>Johnny Express</td>\n",
       "      <td>['Animation', 'Comedy', 'Sci-Fi']</td>\n",
       "    </tr>\n",
       "  </tbody>\n",
       "</table>\n",
       "</div>"
      ],
      "text/plain": [
       "                                    title  \\\n",
       "6376                    Good German, The    \n",
       "4973                           Oklahoma!    \n",
       "2483                   Flamingo Kid, The    \n",
       "2375              Last Picture Show, The    \n",
       "6231                   I Am a Sex Addict    \n",
       "2121                       Iron Eagle IV    \n",
       "9052  Steve Jobs: The Man in the Machine    \n",
       "7136         Attack of the 50 Foot Woman    \n",
       "897       Cheech and Chong's Up in Smoke    \n",
       "8779                      Johnny Express    \n",
       "\n",
       "                                    genres  \n",
       "6376      ['Drama', 'Mystery', 'Thriller']  \n",
       "4973     ['Musical', 'Romance', 'Western']  \n",
       "2483                   ['Comedy', 'Drama']  \n",
       "2375                             ['Drama']  \n",
       "6231  ['Comedy', 'Documentary', 'Romance']  \n",
       "2121                     ['Action', 'War']  \n",
       "9052                       ['Documentary']  \n",
       "7136                  ['Comedy', 'Sci-Fi']  \n",
       "897                             ['Comedy']  \n",
       "8779     ['Animation', 'Comedy', 'Sci-Fi']  "
      ]
     },
     "execution_count": 273,
     "metadata": {},
     "output_type": "execute_result"
    }
   ],
   "source": [
    "movies.sample(10)"
   ]
  },
  {
   "cell_type": "markdown",
   "metadata": {},
   "source": [
    "### Title based recommendation engine"
   ]
  },
  {
   "cell_type": "code",
   "execution_count": 274,
   "metadata": {},
   "outputs": [],
   "source": [
    "movies = pd.read_csv('movies.csv', sep=',', encoding='latin-1', usecols=['title', 'genres'])\n",
    "\n",
    "movies['genres'] = movies['genres'].str.split('|')\n",
    "movies['genres'] = movies['genres'].fillna(\"\").astype('str')\n",
    "\n",
    "tf = TfidfVectorizer(analyzer='word', ngram_range=(1, 2),\n",
    "                     min_df=0, stop_words='english')\n",
    "\n",
    "tfidf_matrix_title = tf.fit_transform(movies['title'])\n",
    "\n",
    "cosine_sim_title = cosine_similarity(tfidf_matrix_title, tfidf_matrix_title)\n",
    "indices = pd.Series(movies.index, index=movies['title'])\n",
    "\n",
    "def title_based_recommendations(title):\n",
    "    idx = indices[title]\n",
    "    sim_scores = list(enumerate(cosine_sim_title[idx]))\n",
    "    sim_scores = sorted(sim_scores, key=lambda x: x[1], reverse=True)\n",
    "    sim_scores = sim_scores[1:11]\n",
    "    movie_indices = [i[0] for i in sim_scores if i[1] > 0]\n",
    "    return movies.iloc[movie_indices]"
   ]
  },
  {
   "cell_type": "code",
   "execution_count": 275,
   "metadata": {},
   "outputs": [
    {
     "data": {
      "text/html": [
       "<div>\n",
       "<style scoped>\n",
       "    .dataframe tbody tr th:only-of-type {\n",
       "        vertical-align: middle;\n",
       "    }\n",
       "\n",
       "    .dataframe tbody tr th {\n",
       "        vertical-align: top;\n",
       "    }\n",
       "\n",
       "    .dataframe thead th {\n",
       "        text-align: right;\n",
       "    }\n",
       "</style>\n",
       "<table border=\"1\" class=\"dataframe\">\n",
       "  <thead>\n",
       "    <tr style=\"text-align: right;\">\n",
       "      <th></th>\n",
       "      <th>title</th>\n",
       "      <th>genres</th>\n",
       "    </tr>\n",
       "  </thead>\n",
       "  <tbody>\n",
       "    <tr>\n",
       "      <th>542</th>\n",
       "      <td>Girl 6</td>\n",
       "      <td>['Comedy', 'Drama']</td>\n",
       "    </tr>\n",
       "    <tr>\n",
       "      <th>2531</th>\n",
       "      <td>Who's That Girl?</td>\n",
       "      <td>['Comedy']</td>\n",
       "    </tr>\n",
       "    <tr>\n",
       "      <th>4149</th>\n",
       "      <td>My Girl 2</td>\n",
       "      <td>['Comedy', 'Drama', 'Romance']</td>\n",
       "    </tr>\n",
       "    <tr>\n",
       "      <th>4150</th>\n",
       "      <td>My Girl</td>\n",
       "      <td>['Comedy', 'Drama', 'Romance']</td>\n",
       "    </tr>\n",
       "    <tr>\n",
       "      <th>8455</th>\n",
       "      <td>Jersey Boys</td>\n",
       "      <td>['Drama', 'Musical']</td>\n",
       "    </tr>\n",
       "    <tr>\n",
       "      <th>245</th>\n",
       "      <td>New Jersey Drive</td>\n",
       "      <td>['Crime', 'Drama']</td>\n",
       "    </tr>\n",
       "    <tr>\n",
       "      <th>3918</th>\n",
       "      <td>Good Girl, The</td>\n",
       "      <td>['Comedy', 'Drama']</td>\n",
       "    </tr>\n",
       "    <tr>\n",
       "      <th>158</th>\n",
       "      <td>Party Girl</td>\n",
       "      <td>['Comedy']</td>\n",
       "    </tr>\n",
       "    <tr>\n",
       "      <th>4901</th>\n",
       "      <td>Girl Next Door, The</td>\n",
       "      <td>['Comedy', 'Romance']</td>\n",
       "    </tr>\n",
       "    <tr>\n",
       "      <th>6753</th>\n",
       "      <td>Girl Next Door, The</td>\n",
       "      <td>['Crime', 'Drama', 'Horror', 'Thriller']</td>\n",
       "    </tr>\n",
       "  </tbody>\n",
       "</table>\n",
       "</div>"
      ],
      "text/plain": [
       "                     title                                    genres\n",
       "542                Girl 6                        ['Comedy', 'Drama']\n",
       "2531     Who's That Girl?                                 ['Comedy']\n",
       "4149            My Girl 2             ['Comedy', 'Drama', 'Romance']\n",
       "4150              My Girl             ['Comedy', 'Drama', 'Romance']\n",
       "8455          Jersey Boys                       ['Drama', 'Musical']\n",
       "245      New Jersey Drive                         ['Crime', 'Drama']\n",
       "3918       Good Girl, The                        ['Comedy', 'Drama']\n",
       "158            Party Girl                                 ['Comedy']\n",
       "4901  Girl Next Door, The                      ['Comedy', 'Romance']\n",
       "6753  Girl Next Door, The   ['Crime', 'Drama', 'Horror', 'Thriller']"
      ]
     },
     "execution_count": 275,
     "metadata": {},
     "output_type": "execute_result"
    }
   ],
   "source": [
    "title_based_recommendations('Jersey Girl ')"
   ]
  },
  {
   "cell_type": "markdown",
   "metadata": {},
   "source": [
    "### Comparing the results"
   ]
  },
  {
   "cell_type": "code",
   "execution_count": 279,
   "metadata": {},
   "outputs": [
    {
     "data": {
      "text/html": [
       "<div>\n",
       "<style scoped>\n",
       "    .dataframe tbody tr th:only-of-type {\n",
       "        vertical-align: middle;\n",
       "    }\n",
       "\n",
       "    .dataframe tbody tr th {\n",
       "        vertical-align: top;\n",
       "    }\n",
       "\n",
       "    .dataframe thead th {\n",
       "        text-align: right;\n",
       "    }\n",
       "</style>\n",
       "<table border=\"1\" class=\"dataframe\">\n",
       "  <thead>\n",
       "    <tr style=\"text-align: right;\">\n",
       "      <th></th>\n",
       "      <th>title</th>\n",
       "      <th>genres</th>\n",
       "    </tr>\n",
       "  </thead>\n",
       "  <tbody>\n",
       "    <tr>\n",
       "      <th>6963</th>\n",
       "      <td>Outlander</td>\n",
       "      <td>['Action', 'Adventure', 'Sci-Fi']</td>\n",
       "    </tr>\n",
       "    <tr>\n",
       "      <th>4224</th>\n",
       "      <td>Venom</td>\n",
       "      <td>['Horror', 'Thriller']</td>\n",
       "    </tr>\n",
       "    <tr>\n",
       "      <th>8769</th>\n",
       "      <td>Crimson Peak</td>\n",
       "      <td>['Horror']</td>\n",
       "    </tr>\n",
       "    <tr>\n",
       "      <th>5302</th>\n",
       "      <td>Garden State</td>\n",
       "      <td>['Comedy', 'Drama', 'Romance']</td>\n",
       "    </tr>\n",
       "    <tr>\n",
       "      <th>4108</th>\n",
       "      <td>Brother (Brat)</td>\n",
       "      <td>['Crime', 'Drama']</td>\n",
       "    </tr>\n",
       "    <tr>\n",
       "      <th>1225</th>\n",
       "      <td>Fire Down Below</td>\n",
       "      <td>['Action', 'Drama', 'Thriller']</td>\n",
       "    </tr>\n",
       "    <tr>\n",
       "      <th>1333</th>\n",
       "      <td>Wild Things</td>\n",
       "      <td>['Crime', 'Drama', 'Mystery', 'Thriller']</td>\n",
       "    </tr>\n",
       "    <tr>\n",
       "      <th>4952</th>\n",
       "      <td>Watch on the Rhine</td>\n",
       "      <td>['Drama']</td>\n",
       "    </tr>\n",
       "    <tr>\n",
       "      <th>4903</th>\n",
       "      <td>Spartan</td>\n",
       "      <td>['Thriller']</td>\n",
       "    </tr>\n",
       "    <tr>\n",
       "      <th>7730</th>\n",
       "      <td>Headhunters (Hodejegerne)</td>\n",
       "      <td>['Action', 'Crime', 'Thriller']</td>\n",
       "    </tr>\n",
       "  </tbody>\n",
       "</table>\n",
       "</div>"
      ],
      "text/plain": [
       "                           title                                     genres\n",
       "6963                  Outlander           ['Action', 'Adventure', 'Sci-Fi']\n",
       "4224                      Venom                      ['Horror', 'Thriller']\n",
       "8769               Crimson Peak                                  ['Horror']\n",
       "5302               Garden State              ['Comedy', 'Drama', 'Romance']\n",
       "4108             Brother (Brat)                          ['Crime', 'Drama']\n",
       "1225            Fire Down Below             ['Action', 'Drama', 'Thriller']\n",
       "1333                Wild Things   ['Crime', 'Drama', 'Mystery', 'Thriller']\n",
       "4952         Watch on the Rhine                                   ['Drama']\n",
       "4903                    Spartan                                ['Thriller']\n",
       "7730  Headhunters (Hodejegerne)             ['Action', 'Crime', 'Thriller']"
      ]
     },
     "execution_count": 279,
     "metadata": {},
     "output_type": "execute_result"
    }
   ],
   "source": [
    "movies.sample(10)"
   ]
  },
  {
   "cell_type": "code",
   "execution_count": 282,
   "metadata": {},
   "outputs": [
    {
     "data": {
      "text/html": [
       "<div>\n",
       "<style scoped>\n",
       "    .dataframe tbody tr th:only-of-type {\n",
       "        vertical-align: middle;\n",
       "    }\n",
       "\n",
       "    .dataframe tbody tr th {\n",
       "        vertical-align: top;\n",
       "    }\n",
       "\n",
       "    .dataframe thead th {\n",
       "        text-align: right;\n",
       "    }\n",
       "</style>\n",
       "<table border=\"1\" class=\"dataframe\">\n",
       "  <thead>\n",
       "    <tr style=\"text-align: right;\">\n",
       "      <th></th>\n",
       "      <th>title</th>\n",
       "      <th>genres</th>\n",
       "    </tr>\n",
       "  </thead>\n",
       "  <tbody>\n",
       "    <tr>\n",
       "      <th>10</th>\n",
       "      <td>American President, The</td>\n",
       "      <td>['Comedy', 'Drama', 'Romance']</td>\n",
       "    </tr>\n",
       "    <tr>\n",
       "      <th>47</th>\n",
       "      <td>Mighty Aphrodite</td>\n",
       "      <td>['Comedy', 'Drama', 'Romance']</td>\n",
       "    </tr>\n",
       "    <tr>\n",
       "      <th>52</th>\n",
       "      <td>Postman, The (Postino, Il)</td>\n",
       "      <td>['Comedy', 'Drama', 'Romance']</td>\n",
       "    </tr>\n",
       "    <tr>\n",
       "      <th>83</th>\n",
       "      <td>Beautiful Girls</td>\n",
       "      <td>['Comedy', 'Drama', 'Romance']</td>\n",
       "    </tr>\n",
       "    <tr>\n",
       "      <th>165</th>\n",
       "      <td>Something to Talk About</td>\n",
       "      <td>['Comedy', 'Drama', 'Romance']</td>\n",
       "    </tr>\n",
       "    <tr>\n",
       "      <th>191</th>\n",
       "      <td>Don Juan DeMarco</td>\n",
       "      <td>['Comedy', 'Drama', 'Romance']</td>\n",
       "    </tr>\n",
       "    <tr>\n",
       "      <th>198</th>\n",
       "      <td>Eat Drink Man Woman (Yin shi nan nu)</td>\n",
       "      <td>['Comedy', 'Drama', 'Romance']</td>\n",
       "    </tr>\n",
       "    <tr>\n",
       "      <th>243</th>\n",
       "      <td>Nobody's Fool</td>\n",
       "      <td>['Comedy', 'Drama', 'Romance']</td>\n",
       "    </tr>\n",
       "    <tr>\n",
       "      <th>309</th>\n",
       "      <td>Corrina, Corrina</td>\n",
       "      <td>['Comedy', 'Drama', 'Romance']</td>\n",
       "    </tr>\n",
       "    <tr>\n",
       "      <th>317</th>\n",
       "      <td>I Like It Like That</td>\n",
       "      <td>['Comedy', 'Drama', 'Romance']</td>\n",
       "    </tr>\n",
       "  </tbody>\n",
       "</table>\n",
       "</div>"
      ],
      "text/plain": [
       "                                     title                          genres\n",
       "10                American President, The   ['Comedy', 'Drama', 'Romance']\n",
       "47                       Mighty Aphrodite   ['Comedy', 'Drama', 'Romance']\n",
       "52             Postman, The (Postino, Il)   ['Comedy', 'Drama', 'Romance']\n",
       "83                        Beautiful Girls   ['Comedy', 'Drama', 'Romance']\n",
       "165               Something to Talk About   ['Comedy', 'Drama', 'Romance']\n",
       "191                      Don Juan DeMarco   ['Comedy', 'Drama', 'Romance']\n",
       "198  Eat Drink Man Woman (Yin shi nan nu)   ['Comedy', 'Drama', 'Romance']\n",
       "243                         Nobody's Fool   ['Comedy', 'Drama', 'Romance']\n",
       "309                      Corrina, Corrina   ['Comedy', 'Drama', 'Romance']\n",
       "317                   I Like It Like That   ['Comedy', 'Drama', 'Romance']"
      ]
     },
     "execution_count": 282,
     "metadata": {},
     "output_type": "execute_result"
    }
   ],
   "source": [
    "genre_based_recommendations('Garden State ')"
   ]
  },
  {
   "cell_type": "code",
   "execution_count": 283,
   "metadata": {},
   "outputs": [
    {
     "data": {
      "text/html": [
       "<div>\n",
       "<style scoped>\n",
       "    .dataframe tbody tr th:only-of-type {\n",
       "        vertical-align: middle;\n",
       "    }\n",
       "\n",
       "    .dataframe tbody tr th {\n",
       "        vertical-align: top;\n",
       "    }\n",
       "\n",
       "    .dataframe thead th {\n",
       "        text-align: right;\n",
       "    }\n",
       "</style>\n",
       "<table border=\"1\" class=\"dataframe\">\n",
       "  <thead>\n",
       "    <tr style=\"text-align: right;\">\n",
       "      <th></th>\n",
       "      <th>title</th>\n",
       "      <th>genres</th>\n",
       "    </tr>\n",
       "  </thead>\n",
       "  <tbody>\n",
       "    <tr>\n",
       "      <th>464</th>\n",
       "      <td>Secret Garden, The</td>\n",
       "      <td>['Children', 'Drama']</td>\n",
       "    </tr>\n",
       "    <tr>\n",
       "      <th>9387</th>\n",
       "      <td>Over the Garden Wall</td>\n",
       "      <td>['Adventure', 'Animation', 'Drama']</td>\n",
       "    </tr>\n",
       "    <tr>\n",
       "      <th>7683</th>\n",
       "      <td>Red State</td>\n",
       "      <td>['Action', 'Crime', 'Horror', 'Thriller']</td>\n",
       "    </tr>\n",
       "    <tr>\n",
       "      <th>1104</th>\n",
       "      <td>Cement Garden, The</td>\n",
       "      <td>['Drama']</td>\n",
       "    </tr>\n",
       "    <tr>\n",
       "      <th>7011</th>\n",
       "      <td>State of Play</td>\n",
       "      <td>['Crime', 'Drama', 'Thriller']</td>\n",
       "    </tr>\n",
       "    <tr>\n",
       "      <th>1755</th>\n",
       "      <td>Enemy of the State</td>\n",
       "      <td>['Action', 'Thriller']</td>\n",
       "    </tr>\n",
       "    <tr>\n",
       "      <th>4287</th>\n",
       "      <td>Head of State</td>\n",
       "      <td>['Comedy']</td>\n",
       "    </tr>\n",
       "    <tr>\n",
       "      <th>5557</th>\n",
       "      <td>State of Grace</td>\n",
       "      <td>['Crime', 'Drama', 'Thriller']</td>\n",
       "    </tr>\n",
       "    <tr>\n",
       "      <th>3875</th>\n",
       "      <td>Sunshine State</td>\n",
       "      <td>['Drama']</td>\n",
       "    </tr>\n",
       "    <tr>\n",
       "      <th>3011</th>\n",
       "      <td>State and Main</td>\n",
       "      <td>['Comedy', 'Drama']</td>\n",
       "    </tr>\n",
       "  </tbody>\n",
       "</table>\n",
       "</div>"
      ],
      "text/plain": [
       "                      title                                     genres\n",
       "464     Secret Garden, The                       ['Children', 'Drama']\n",
       "9387  Over the Garden Wall         ['Adventure', 'Animation', 'Drama']\n",
       "7683             Red State   ['Action', 'Crime', 'Horror', 'Thriller']\n",
       "1104    Cement Garden, The                                   ['Drama']\n",
       "7011         State of Play              ['Crime', 'Drama', 'Thriller']\n",
       "1755    Enemy of the State                      ['Action', 'Thriller']\n",
       "4287         Head of State                                  ['Comedy']\n",
       "5557        State of Grace              ['Crime', 'Drama', 'Thriller']\n",
       "3875        Sunshine State                                   ['Drama']\n",
       "3011        State and Main                         ['Comedy', 'Drama']"
      ]
     },
     "execution_count": 283,
     "metadata": {},
     "output_type": "execute_result"
    }
   ],
   "source": [
    "title_based_recommendations('Garden State ')"
   ]
  }
 ],
 "metadata": {
  "kernelspec": {
   "display_name": "Python 3",
   "language": "python",
   "name": "python3"
  },
  "language_info": {
   "codemirror_mode": {
    "name": "ipython",
    "version": 3
   },
   "file_extension": ".py",
   "mimetype": "text/x-python",
   "name": "python",
   "nbconvert_exporter": "python",
   "pygments_lexer": "ipython3",
   "version": "3.10.11"
  }
 },
 "nbformat": 4,
 "nbformat_minor": 2
}
